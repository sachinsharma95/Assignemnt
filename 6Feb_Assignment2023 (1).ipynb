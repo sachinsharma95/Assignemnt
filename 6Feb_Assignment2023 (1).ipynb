{
 "cells": [
  {
   "cell_type": "code",
   "execution_count": null,
   "id": "da41ba19-4a86-4edd-878e-e30753a2538f",
   "metadata": {},
   "outputs": [],
   "source": [
    "\"\"\"Q1. Create a function which will take a list as an argument and return the product of all the numbers\n",
    "after creating a flat list.\n",
    "Use the below-given list as an argument for your function.\n",
    "list1 = [1,2,3,4, [44,55,66, True], False, (34,56,78,89,34), {1,2,3,3,2,1}, {1:34, \"key2\": [55, 67, 78, 89], 4: (45,\n",
    "22, 61, 34)}, [56, 'data science'], 'Machine Learning']\n",
    "Note: you must extract numeric keys and values of the dictionary also. \"\"\"\n"
   ]
  },
  {
   "cell_type": "code",
   "execution_count": 6,
   "id": "74e2f244-beef-466a-b818-15e76139f78c",
   "metadata": {},
   "outputs": [
    {
     "name": "stdout",
     "output_type": "stream",
     "text": [
      "[1, 2, 3, 4, 44, 55, 66, 34, 56, 78, 89, 34, 1, 2, 3, 1, 34, 55, 67, 78, 89, 4, 45, 22, 61, 34, 56]\n",
      "\n",
      "4134711838987085478833841242112000\n"
     ]
    }
   ],
   "source": [
    "# Ans1\n",
    "\"\"\" we can do this Question by two way: \n",
    "    1 is Recursion based \n",
    "    2 is iterarion Based \"\"\"\n",
    "\n",
    "# By the help of iteration method \n",
    "\n",
    "#function to find numeric flat_list \n",
    "\n",
    "def numeric_list(l1):\n",
    "    flat_lst = []\n",
    "    for i in l1:\n",
    "        if(type(i)== int or type(i)== float):\n",
    "            flat_lst.append(i)\n",
    "\n",
    "        elif type(i)==list or type(i)==tuple or type(i)==set:  \n",
    "            for j in i:\n",
    "                if type(j)==int or type(j)==float:\n",
    "                    flat_lst.append(j)\n",
    "\n",
    "        elif type(i)==dict:\n",
    "            for key , value in i.items():\n",
    "                if(type(key)==int or type(key)==float):\n",
    "                    flat_lst.append(key)\n",
    "                if type(value) == int or type(value)==float:\n",
    "                    flat_lst.append(value)\n",
    "                elif type(value) == tuple or type(value) == list or type(value) == set:\n",
    "                    flat_lst.extend(numeric_list(value))\n",
    "    return flat_lst\n",
    "\n",
    "list1 = [1,2,3,4, [44,55,66, True], False, (34,56,78,89,34), {1,2,3,3,2,1}, {1:34, \"key2\": [55, 67, 78, 89], 4: (45,\n",
    "22, 61, 34)}, [56, 'data science'], 'Machine Learning']\n",
    "                    \n",
    "ans=numeric_list(list1)\n",
    "print(ans )\n",
    "print(\"\\r\")\n",
    "\n",
    "\"\"\"\n",
    "product of All numbers after creating flat_list \n",
    "\n",
    "\"\"\" \n",
    "#first we create a function for finding the product of the flat_list \n",
    "\n",
    "def product(ans):\n",
    "    prod =1\n",
    "    for i in ans:\n",
    "        prod = prod*i\n",
    "    return prod\n",
    "# result after prodcut of the flat_list\n",
    "\n",
    "print(product(ans))"
   ]
  },
  {
   "cell_type": "code",
   "execution_count": 19,
   "id": "84afa7c8-0335-437a-a107-c56421af5544",
   "metadata": {},
   "outputs": [
    {
     "name": "stdout",
     "output_type": "stream",
     "text": [
      "4134711838987085478833841242112000\n"
     ]
    }
   ],
   "source": [
    "# Ans1\n",
    "# By the help of the Recursion Method \n",
    "\n",
    "def numeric_list(l1):\n",
    "    flat_lst = []\n",
    "    for i in l1:\n",
    "        if(type(i)== int or type(i)== float):\n",
    "            flat_lst.append(i)\n",
    "\n",
    "        elif type(i)==list or type(i)==tuple or type(i)==set: \n",
    "            #recursion call \n",
    "            flat_lst.extend(numeric_list(i))\n",
    "            \n",
    "        elif type(i)==dict:\n",
    "            \n",
    "            # recursion call\n",
    "            flat_lst.extend(numeric_list(i.keys()))\n",
    "            flat_lst.extend(numeric_list(i.values()))\n",
    "               \n",
    "    return flat_lst\n",
    "\n",
    "list1 = [1,2,3,4, [44,55,66, True], False, (34,56,78,89,34), {1,2,3,3,2,1}, {1:34, \"key2\": [55, 67, 78, 89], 4: (45,\n",
    "22, 61, 34)}, [56, 'data science'], 'Machine Learning']\n",
    "                    \n",
    "ans=numeric_list(list1)\n",
    "\n",
    "#  prodcut of the flat list\n",
    "def product(ans):\n",
    "    prod =1\n",
    "    for i in ans:\n",
    "        prod = prod*i\n",
    "    return prod\n",
    "# result after prodcut of the flat_list\n",
    "\n",
    "print(product(ans))\n",
    "        \n"
   ]
  },
  {
   "cell_type": "code",
   "execution_count": null,
   "id": "fbca7e29-5dc6-4985-844f-e09beaec5f80",
   "metadata": {},
   "outputs": [],
   "source": [
    "# Q2 \n",
    "\"\"\" Write a python program for encrypting a message sent to you by your friend. The logic of encryption\n",
    "should be such that, for a the output should be z. For b, the output should be y. For c, the output should\n",
    "be x respectively. Also, the whitespace should be replaced with a dollar sign. Keep the punctuation\n",
    "marks unchanged.\n",
    "Input Sentence: I want to become a Data Scientist.\n",
    "Encrypt the above input sentence using the program you just created.\n",
    "Note: Convert the given input sentence into lowercase before encrypting. The final output should be\n",
    "lowercase.\"\"\""
   ]
  },
  {
   "cell_type": "code",
   "execution_count": 35,
   "id": "40a00c19-270a-419f-a0bd-c0a05f87d9c4",
   "metadata": {},
   "outputs": [
    {
     "name": "stdout",
     "output_type": "stream",
     "text": [
      "r$dzmg$gl$yvxlnv$z$wzgz$hxrvmgrhg.\n"
     ]
    }
   ],
   "source": [
    "# Answer2  Using Dictionary \n",
    "\n",
    "def encrypt_password(word):\n",
    "    #by the help of the key value pair\n",
    "    \n",
    "    dict1  = {'a': 'z', 'b': 'y', 'c': 'x', 'd': 'w', 'e': 'v', 'f': 'u', 'g': 't', 'h': 's', 'i': 'r', 'j': 'q','k': 'p', 'l': 'o', 'm': 'n', 'n': 'm', 'o': 'l', 'p': 'k', 'q': 'j', 'r': 'i', 's': 'h', 't': 'g','u': 'f', 'v': 'e', 'w': 'd', 'x': 'c', 'y': 'b', 'z': 'a', ' ': '$'}\n",
    "    \n",
    "    # take an empty string \n",
    "    \n",
    "    encry = \"\"\n",
    "    for i in word:\n",
    "        if i == \" \":\n",
    "            encry = encry+'$'\n",
    "        elif i in dict1:\n",
    "            encry = encry+dict1[i]\n",
    "        else:\n",
    "            encry = encry+i\n",
    "    return encry\n",
    "          \n",
    "    \n",
    " #pass input    \n",
    "\n",
    "word = \"I want to become a Data Scientist.\"\n",
    "# convert string into the lower case \n",
    "y =word.lower()\n",
    "\n",
    "# print the final output \n",
    "\n",
    "print(encrypt_password(y))\n"
   ]
  },
  {
   "cell_type": "code",
   "execution_count": 34,
   "id": "d422dbf9-71d5-4989-a41a-27e460073106",
   "metadata": {},
   "outputs": [
    {
     "name": "stdout",
     "output_type": "stream",
     "text": [
      "I$dzmg$gl$yvxlnv$z$Dzgz$Sxrvmgrhg.\n"
     ]
    }
   ],
   "source": [
    "# Ans2 Using the ASCII value of the character \n",
    "\"\"\" using ord() and chr() function \"\"\"\n",
    "\n",
    "def Encrypt(word):\n",
    "    #empty sttring to store the ouput\n",
    "    encryption = ''\n",
    "    for i in word:\n",
    "        #check space \n",
    "        if(i==' '):\n",
    "            encryption+= '$'\n",
    "            \n",
    "        elif(ord(i)>122 or ord(i)<97):\n",
    "            encryption+= i\n",
    "        elif(ord(i)<122):\n",
    "            encryption+= chr(219-ord(i))\n",
    "        \n",
    "    return encryption\n",
    "\n",
    "string = \"I want to become a Data Scientist.\"\n",
    "print(Encrypt(string))"
   ]
  },
  {
   "cell_type": "code",
   "execution_count": null,
   "id": "df203825-a11c-407a-9fef-0291dd356204",
   "metadata": {},
   "outputs": [],
   "source": []
  }
 ],
 "metadata": {
  "kernelspec": {
   "display_name": "Python 3 (ipykernel)",
   "language": "python",
   "name": "python3"
  },
  "language_info": {
   "codemirror_mode": {
    "name": "ipython",
    "version": 3
   },
   "file_extension": ".py",
   "mimetype": "text/x-python",
   "name": "python",
   "nbconvert_exporter": "python",
   "pygments_lexer": "ipython3",
   "version": "3.10.8"
  }
 },
 "nbformat": 4,
 "nbformat_minor": 5
}
