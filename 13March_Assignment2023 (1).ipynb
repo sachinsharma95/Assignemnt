{
 "cells": [
  {
   "cell_type": "markdown",
   "id": "cf48a10f-c36b-43f1-b2e7-b63cbb86175e",
   "metadata": {},
   "source": [
    "# STAT 13 MARCH ASSIGNMENT ABOUT THE ANOVA "
   ]
  },
  {
   "cell_type": "code",
   "execution_count": 5,
   "id": "c52b3762-e2d7-4189-8b36-adda4c11ef59",
   "metadata": {},
   "outputs": [],
   "source": [
    "import logging\n",
    "logging.basicConfig(filename=\"13Marchinfo.log\", level=logging.INFO, format=\"%(asctime)s %(name)s %(message)s\")"
   ]
  },
  {
   "cell_type": "markdown",
   "id": "456156f1-fc27-4e45-9126-641651398821",
   "metadata": {},
   "source": [
    "# Answer1\n",
    "### ANOVA \n",
    "\n",
    "Analysis of Variance (ANOVA) is a statistical technique used to test for differences between two or more groups by comparing the means of the groups.\n",
    "\n",
    "\n",
    "## ANOVA relies on certain assumptions to be met to ensure the validity of the results. \n",
    "\n",
    "##### 1 Normality assumption: The data within each group should follow a normal distribution.\n",
    "\n",
    "##### 2 Homogeneity of variance assumption: The variance of the data in each group should be equal.\n",
    "\n",
    "##### 3 Absence of Outlier :outlying score need to be removed from the dataset.\n",
    "\n",
    "##### 4 Independence assumption: Observations in each group should be independent of one another.\n",
    "\n",
    "### If any of these assumptions are violated, the results of ANOVA may not be reliable\n",
    "\n",
    "\n",
    " ## Some examples of violations that could impact the validity of the results are:\n",
    "    \n",
    "\n",
    " \n",
    "### 1 Violation of the normality assumption:\n",
    "\n",
    "    If the data in any of the groups are not normally distributed, the ANOVA results may not be accurate. \n",
    "    For example, if the data are skewed or have outliers, the normality assumption may not be met. In this case, a transformation of the data may be necessary, \n",
    "    or a non-parametric test may be more appropriate\n",
    "    \n",
    "    \n",
    "### 2 Violation of the homogeneity of variance assumption: \n",
    "\n",
    "  If the variance of the data in any of the groups is not equal, the ANOVA results may be affected. \n",
    "  For example, if the variances of the groups are very different, the F-test used in ANOVA may not accurately reflect the differences between the groups. \n",
    "  In this case, a Welch's ANOVA may be more appropriate.\n",
    "    \n",
    "    \n",
    "### 3 Violation of the independence assumption: \n",
    " If the observations in any of the groups are not independent, the ANOVA results may be unreliable. \n",
    " For example, if repeated measures are taken on the same individuals or if there is clustering of observations, the independence assumption may not be met. \n",
    " In this case, a repeated measures ANOVA or a mixed-effects model may be more appropriate.\n",
    "\n"
   ]
  },
  {
   "cell_type": "markdown",
   "id": "0c66daad-32c3-4ccb-a3d5-563676878e17",
   "metadata": {},
   "source": [
    "# Answer2\n",
    " ## three types of ANOVA.\n",
    "\n",
    "   #### 1 ONE-WAY ANOVA: \n",
    "    one factor with at least two level , but there level are independent.\n",
    "    \n",
    "   #### 2 TWO- WAY ANNOVA( REPEATED ANNOVA):\n",
    "     one  factor with at least two level , but there level are dependent \n",
    "    \n",
    "   #### 3 MANOVA (Multivariate ANOVA)/ FACTORIAL ANOVA:\n",
    "      Two or more factor, each which with at least two level , level can either be dependent and indepenedent.\n",
    "\n",
    "## situations would each be used \n",
    "\n",
    " - ONE-WAY is used when levels are independent.\n",
    " - TWO-WAY is used when level are dependent \n",
    " - FACTORIAL ANNOVA: is used when level can either be dependent and indepenedent.\n",
    "\n"
   ]
  },
  {
   "cell_type": "code",
   "execution_count": 1,
   "id": "32ef740e-47af-4c1e-b441-c622a5abc592",
   "metadata": {},
   "outputs": [
    {
     "data": {
      "text/plain": [
       "'\\nBetween-group variation: This represents the variation in the means of different groups or treatments being compared. If this value is large relative to the within-group variation, it suggests that the groups or treatments are significantly different from each other.\\n\\nWithin-group variation: This represents the variation within each group or treatment being compared. If this value is small relative to the between-group variation, it suggests that the groups or treatments are homogeneous.\\n\\nError variation: This represents the random variation that cannot be explained by the model. It includes measurement error, natural variation, and any other unexplained sources of variation.\\n'"
      ]
     },
     "execution_count": 1,
     "metadata": {},
     "output_type": "execute_result"
    }
   ],
   "source": [
    "# Answer3 \n",
    "# The partitioning of variance in ANOVA.\n",
    "\"\"\"\n",
    "In Analysis of Variance (ANOVA), partitioning of variance refers to the decomposition of the total variation observed in a response variable into different components that can be attributed to different sources of variation.\n",
    "\n",
    "\"\"\"\n",
    "\n",
    "# The total variation in the data is decomposed into three components:\n",
    "\n",
    "\"\"\"\n",
    "Between-group variation: This represents the variation in the means of different groups or treatments being compared. If this value is large relative to the within-group variation, it suggests that the groups or treatments are significantly different from each other.\n",
    "\n",
    "Within-group variation: This represents the variation within each group or treatment being compared. If this value is small relative to the between-group variation, it suggests that the groups or treatments are homogeneous.\n",
    "\n",
    "Error variation: This represents the random variation that cannot be explained by the model. It includes measurement error, natural variation, and any other unexplained sources of variation.\n",
    "\"\"\""
   ]
  },
  {
   "cell_type": "code",
   "execution_count": 6,
   "id": "11ee0006-05e8-443a-b3b8-2b0152bc5ea0",
   "metadata": {},
   "outputs": [
    {
     "name": "stdout",
     "output_type": "stream",
     "text": [
      "SST: 465.7854599036257\n",
      "SSE: 10298.511188194465\n",
      "SSR: -9832.72572829084\n"
     ]
    }
   ],
   "source": [
    "# Answer4 \n",
    "\n",
    "# SST SSE SSR\n",
    "import numpy as np\n",
    "import pandas as pd\n",
    "import statsmodels.api as sm\n",
    "from statsmodels.formula.api import ols\n",
    "\n",
    "np.random.seed(123)\n",
    "\n",
    "data = pd.DataFrame({\n",
    "    'School': ['A', 'B', 'C']*20,\n",
    "    'Score': np.concatenate([np.random.normal(70, 10, 20),\n",
    "                              np.random.normal(75, 8, 20),\n",
    "                              np.random.normal(80, 12, 20)])})\n",
    "\n",
    "\n",
    "\n",
    "# Fit the one-way ANOVA model\n",
    "model = ols('Score ~ School', data=data).fit()\n",
    "\n",
    "# Calculate SST\n",
    "sst = sm.stats.anova_lm(model, typ=1)['sum_sq'][0]\n",
    "\n",
    "# Calculate SSE\n",
    "sse = sm.stats.anova_lm(model, typ=1)['sum_sq'][1]\n",
    "\n",
    "# Calculate SSR\n",
    "ssr = sst - sse\n",
    "\n",
    "print(\"SST:\", sst)\n",
    "print(\"SSE:\", sse)\n",
    "print(\"SSR:\", ssr)\n",
    "\n"
   ]
  },
  {
   "cell_type": "code",
   "execution_count": null,
   "id": "7b7ea1d5-9af3-4c57-9884-61b2c14a7477",
   "metadata": {},
   "outputs": [],
   "source": [
    "# Answer5 \n",
    "\n",
    "import pandas as pd\n",
    "import statsmodels.api as sm\n",
    "from statsmodels.formula.api import ols\n",
    "\n",
    "# Load data into a pandas dataframe\n",
    "data = pd.read_csv('data.csv')\n",
    "\n",
    "# Fit the ANOVA model using the formula interface\n",
    "model = ols('y ~ A + B + A:B', data).fit()\n",
    "\n",
    "# Calculate the ANOVA table\n",
    "table = sm.stats.anova_lm(model, typ=2)\n",
    "\n",
    "# Extract the main effects and interaction effects from the table\n",
    "main_effects = table.iloc[:-1, :-1]\n",
    "interaction = table.iloc[-1, :-1]\n",
    "\n",
    "# Print the main effects and interaction effects\n",
    "print(\"Main effects:\")\n",
    "print(main_effects)\n",
    "print(\"Interaction effect:\")\n",
    "print(interaction)\n"
   ]
  },
  {
   "cell_type": "markdown",
   "id": "0e4d63fb-d3d2-4f06-9421-43efce12a774",
   "metadata": {},
   "source": [
    "## Answer6 \n",
    "\n",
    "### If you conducted a one-way ANOVA and obtained an F-statistic of 5.23 and a p-value of 0.02, it means that there is a significant difference between the groups on the dependent variable\n",
    "\n",
    "### Explanation:\n",
    "##### As according to the given data in the question  we observed that \n",
    "##### P-Value is less than the significance value (0.05) so we can say that \n",
    "\n",
    "### There is a significant effect of the independent variable on the dependent variable."
   ]
  },
  {
   "cell_type": "code",
   "execution_count": null,
   "id": "7df3ef9d-0e7f-4ec7-b22e-61525c2b9b33",
   "metadata": {},
   "outputs": [],
   "source": []
  },
  {
   "cell_type": "markdown",
   "id": "aed2d180-e73f-4380-950a-2ce66e62f73c",
   "metadata": {
    "tags": []
   },
   "source": [
    "# Answer 7 \n",
    "\n",
    "### Handling missing data in a repeated measures ANOVA can be challenging because each participant has multiple measurements on the dependent variable over time\n",
    "\n",
    "## Here are a few common methods for handling missing data in a repeated measures ANOVA and their potential consequences:\n",
    "\n",
    " - __Complete Case Analysis:__  \n",
    " This method involves only including participants with complete data in the analysis. The main advantage of this method is that it is easy to implement, and it does not require making any assumptions about the missing data\n",
    " \n",
    " - __Pairwise Deletion:__\n",
    " This method involves including all participants with at least one measurement on the dependent variable. The main advantage of this method is that it uses all available data and does not reduce the sample size. \n",
    "\n",
    "- __Imputation:__ \n",
    "This method involves estimating the missing data based on the available data and using these estimates in the analysis. There are various methods for imputation, such as mean imputation, regression imputation, and multiple imputation. \n"
   ]
  },
  {
   "cell_type": "code",
   "execution_count": null,
   "id": "f5372e98-5190-4e82-91fe-8f0cf34d74b1",
   "metadata": {},
   "outputs": [],
   "source": []
  },
  {
   "cell_type": "markdown",
   "id": "89f74c3b-a5de-4124-b12a-fe88d2d22b29",
   "metadata": {},
   "source": [
    "# Answer8\n",
    "\n",
    "## post-hoc test:\n",
    "##### Post-hoc tests are used after ANOVA to determine which groups differ significantly from each other\n",
    "\n",
    "## you would use each one:\n",
    "\n",
    "- __Tukey's HSD (Honestly Significant Difference):__\n",
    "  This test compares all pairs of means and controls for the overall Type I error rate.\n",
    "  \n",
    "   It is appropriate when you have small number of the group.\n",
    "\n",
    "- __Bonferroni correction:__\n",
    "\n",
    "   This test adjusts the significance level (alpha) for each individual comparison to control for the overall Type I error rate.  \n",
    "   \n",
    "   It is appropriate when you have a large number of comparisons and want to reduce the chance of a Type I error (false positive\n",
    "\n",
    "- __Scheffe's test:__\n",
    "  This test is a conservative method that controls for the family-wise error rate (the   probability of making at least one Type I error in a set of comparisons). \n",
    "  \n",
    "  It is appropriate when you have a small sample size or unequal variances between groups.\n",
    "  \n",
    "- __Games-Howell test:__\n",
    "  This test is a non-parametric method that adjusts for unequal variances between groups.\n",
    "  \n",
    "  It is appropriate when you have a small sample size or unequal variances between groups and cannot assume that the data are normally distributed\n",
    "\n",
    "\n"
   ]
  },
  {
   "cell_type": "code",
   "execution_count": 7,
   "id": "2e58e767-33f6-44d9-9285-fda78edd03c0",
   "metadata": {},
   "outputs": [
    {
     "name": "stdout",
     "output_type": "stream",
     "text": [
      "F-statistic: 40.29141845442496\n",
      "p-value: 1.1170441959957356e-14\n",
      "Reject the Null Hypothesis: there are any significant differences between the mean weight loss of the three diets.\n"
     ]
    }
   ],
   "source": [
    "# ANswer 9\n",
    "# We assume test  then apply one_way anova  test \"\n",
    "\"\"\"\n",
    "1 NULl hypothesis:\n",
    "there are not any significant differences between the mean weight loss of the three diets.\n",
    "\n",
    "2 Alternative Hypothesis:\n",
    "\n",
    "there are any significant differences between the mean weight loss of the three diets.\n",
    "\"\"\"\n",
    "\n",
    "\n",
    "\n",
    "logging.info(\"we are using the f_test buil-in function  f_oneway \")\n",
    "import numpy as np\n",
    "from scipy.stats import f_oneway\n",
    "\n",
    "# Generate random weight loss data for each diet (in pounds)\n",
    "diet_a = np.random.normal(10, 2, 50)\n",
    "diet_b = np.random.normal(8, 2, 50)\n",
    "diet_c = np.random.normal(6, 2, 50)\n",
    "\n",
    "alpha = 0.05 # default \n",
    "# Conduct one-way ANOVA on the weight loss data\n",
    "f_statistic, p_value = f_oneway(diet_a, diet_b, diet_c)\n",
    "\n",
    "# Print the results\n",
    "print(\"F-statistic:\", f_statistic)\n",
    "print(\"p-value:\", p_value)\n",
    "\n",
    "if(p_value <alpha):\n",
    "    print(\"Reject the Null Hypothesis: there are any significant differences between the mean weight loss of the three diets.\")\n",
    "\n",
    "else:\n",
    "    print(\"we Fail to Accept the NULL hypothesis\")"
   ]
  },
  {
   "cell_type": "code",
   "execution_count": 22,
   "id": "a5ac3796-43ce-4e20-b595-285f63632a31",
   "metadata": {},
   "outputs": [
    {
     "name": "stdout",
     "output_type": "stream",
     "text": [
      "F-statistic: 0.6890997864579507\n",
      "p-value: 0.6364496835319241\n",
      "[program  experience \n",
      "A        experienced    [10.677178101999603, 11.957472011874692, 7.411...\n",
      "         novice         [10.005691831793621, 10.059366460606661, 11.78...\n",
      "B        experienced    [8.600245530804166, 10.567254647614583, 9.9763...\n",
      "         novice         [6.544661011758786, 11.147611724810115, 10.825...\n",
      "C        experienced    [9.652728634419569, 11.37644542220457, 8.24092...\n",
      "         novice         [6.456933790980306, 11.854924863517166, 8.3892...\n",
      "Name: time, dtype: object]\n"
     ]
    }
   ],
   "source": [
    "# Answer10\n",
    "import numpy as np\n",
    "import pandas as pd\n",
    "from scipy.stats import f_oneway\n",
    "\n",
    "# Generate random data\n",
    "np.random.seed(123)\n",
    "n = 30\n",
    "programs = ['A', 'B', 'C']\n",
    "experience = ['novice', 'experienced']\n",
    "data = pd.DataFrame({\n",
    "    'program': np.random.choice(programs, n),\n",
    "    'experience': np.random.choice(experience, n),\n",
    "    'time': np.random.normal(10, 2, n)\n",
    "})\n",
    "\n",
    "# Conduct two-way ANOVA\n",
    "anova = data.groupby(['program', 'experience'])['time'].apply(list)\n",
    "f_stat, p_val = f_oneway(*anova)\n",
    "\n",
    "# Print results\n",
    "print('F-statistic:', f_stat)\n",
    "print('p-value:', p_val)\n",
    "print([anova])\n",
    "\n",
    "\n"
   ]
  },
  {
   "cell_type": "code",
   "execution_count": 7,
   "id": "0a5b7305-55df-4680-81bc-f5f3df768aaf",
   "metadata": {},
   "outputs": [
    {
     "name": "stdout",
     "output_type": "stream",
     "text": [
      "t-statistic: -0.8896923721665605\n",
      "p-value: 0.3758115643297868\n",
      "   Multiple Comparison of Means - Tukey HSD, FWER=0.05    \n",
      "==========================================================\n",
      " group1    group2    meandiff p-adj   lower  upper  reject\n",
      "----------------------------------------------------------\n",
      "Control Experimental     1.14 0.3758 -1.4028 3.6828  False\n",
      "----------------------------------------------------------\n"
     ]
    }
   ],
   "source": [
    "# answer11 \n",
    "import pandas as pd\n",
    "import scipy.stats as stats\n",
    "\n",
    "# create a sample data frame\n",
    "data = {'Group': ['Control']*50 + ['Experimental']*50,\n",
    "        'Test Score': [65, 70, 71, 75, 72, 78, 81, 83, 84, 88,\n",
    "                       70, 73, 75, 77, 79, 81, 83, 85, 88, 90,\n",
    "                       62, 66, 69, 70, 71, 74, 76, 77, 80, 81,\n",
    "                       70, 71, 73, 74, 75, 76, 77, 79, 81, 85,\n",
    "                       64, 68, 70, 71, 73, 75, 76, 79, 82, 84,\n",
    "                       73, 75, 77, 79, 80, 82, 83, 85, 86, 88,\n",
    "                       68, 70, 72, 74, 76, 78, 80, 82, 84, 86,\n",
    "                       71, 74, 77, 79, 80, 82, 83, 84, 86, 88,\n",
    "                       63, 65, 68, 70, 71, 74, 76, 77, 78, 80,\n",
    "                       66, 68, 70, 72, 74, 76, 78, 80, 82, 84]}\n",
    "\n",
    "\n",
    "df = pd.DataFrame(data)\n",
    "\n",
    "# conduct a two-sample t-test\n",
    "control = df[df['Group'] == 'Control']['Test Score']\n",
    "experimental = df[df['Group'] == 'Experimental']['Test Score']\n",
    "\n",
    "t, p = stats.ttest_ind(control, experimental, equal_var=False)\n",
    "print('t-statistic:', t)\n",
    "print('p-value:', p)\n",
    "\n",
    "# conduct a post-hoc test\n",
    "from statsmodels.stats.multicomp import pairwise_tukeyhsd\n",
    "tukey = pairwise_tukeyhsd(df['Test Score'], df['Group'])\n",
    "print(tukey)\n"
   ]
  },
  {
   "cell_type": "code",
   "execution_count": null,
   "id": "fe6b786f-a93e-4b3f-98cc-78ec249fdad9",
   "metadata": {},
   "outputs": [],
   "source": []
  },
  {
   "cell_type": "code",
   "execution_count": 19,
   "id": "f07daf27-9e50-4698-8b8e-b44bf20b2fce",
   "metadata": {},
   "outputs": [
    {
     "name": "stdout",
     "output_type": "stream",
     "text": [
      "F-statistic: 3.326928926290175\n",
      "p-value: 0.04052478918981419\n",
      "there is a significant difference in daily sales between at least one pair of stores\n",
      "\n",
      "\n",
      "  Multiple Comparison of Means - Tukey HSD, FWER=0.05  \n",
      "=======================================================\n",
      " group1  group2 meandiff p-adj   lower    upper  reject\n",
      "-------------------------------------------------------\n",
      "Store A Store B     -6.5 0.1654 -14.9629  1.9629  False\n",
      "Store A Store C  -8.8333 0.0387 -17.2962 -0.3705   True\n",
      "Store B Store C  -2.3333 0.7887 -10.7962  6.1295  False\n",
      "-------------------------------------------------------\n"
     ]
    }
   ],
   "source": [
    "# answer12 \n",
    "\n",
    "import scipy.stats as stats\n",
    "import pandas as pd\n",
    "import statsmodels.stats.multicomp as mc\n",
    "\n",
    "# create a dataframe with sales data for each store\n",
    "sales = {'Store A': [100, 120, 90, 80, 110, 115, 95, 105, 125, 100, 120, 90, 80, 110, 115, 95, 105, 125, 100, 120, 90, 80, 110, 115, 95, 105, 125, 100, 120, 90],\n",
    "         'Store B': [85, 95, 100, 110, 90, 120, 105, 100, 80, 85, 95, 100, 110, 90, 120, 105, 100, 80, 85, 95, 100, 110, 90, 120, 105, 100, 80, 85, 95, 100],\n",
    "         'Store C': [75, 80, 85, 90, 100, 120, 110, 115, 100, 75, 80, 85, 90, 100, 120, 110, 115, 100, 75, 80, 85, 90, 100, 120, 110, 115, 100, 75, 80, 85]}\n",
    "df = pd.DataFrame(sales)\n",
    "\n",
    "# conduct one-way ANOVA\n",
    "f_stat, p_value = stats.f_oneway(df['Store A'], df['Store B'], df['Store C'])\n",
    "print(\"F-statistic:\", f_stat)\n",
    "print(\"p-value:\", p_value)\n",
    "alpha = 0.05\n",
    "\n",
    "if(p_value<alpha):\n",
    "    print(\"there is a significant difference in daily sales between at least one pair of stores\")\n",
    "else:\n",
    "    print(\"there is not  significant difference in daily sales between at least one pair of stores\")\n",
    "    \n",
    "    \n",
    "# One common post-hoc test is the Tukey HSD test, which can be performed using the pairwise_tukeyhsd function from the statsmodels library.\n",
    "print(\"\\n\")\n",
    "\n",
    "\n",
    "# perform Tukey HSD post-hoc test\n",
    "tukey_result = mc.pairwise_tukeyhsd(df.stack().values, df.stack().index.get_level_values(1))\n",
    "print(tukey_result)\n"
   ]
  },
  {
   "cell_type": "code",
   "execution_count": null,
   "id": "5f1c1df4-6493-4bc8-85be-ac6786a0ee38",
   "metadata": {},
   "outputs": [],
   "source": []
  },
  {
   "cell_type": "code",
   "execution_count": null,
   "id": "96e791fb-0e26-49df-8e9d-632d7ddadab9",
   "metadata": {},
   "outputs": [],
   "source": []
  },
  {
   "cell_type": "code",
   "execution_count": null,
   "id": "df786d68-539f-4ac6-8fcc-2d1331cd89df",
   "metadata": {},
   "outputs": [],
   "source": []
  },
  {
   "cell_type": "code",
   "execution_count": null,
   "id": "c41ab277-cefa-49fd-9b86-93c12f23deb8",
   "metadata": {},
   "outputs": [],
   "source": []
  },
  {
   "cell_type": "code",
   "execution_count": null,
   "id": "2e3f9526-c01b-4064-afe9-71de281dcade",
   "metadata": {},
   "outputs": [],
   "source": []
  },
  {
   "cell_type": "code",
   "execution_count": null,
   "id": "6d526cf0-1ce7-4b12-8ebe-46929cd3def3",
   "metadata": {},
   "outputs": [],
   "source": []
  },
  {
   "cell_type": "code",
   "execution_count": null,
   "id": "62e1cda5-d31f-4f9a-ac40-6d933cda3674",
   "metadata": {},
   "outputs": [],
   "source": []
  }
 ],
 "metadata": {
  "kernelspec": {
   "display_name": "Python 3 (ipykernel)",
   "language": "python",
   "name": "python3"
  },
  "language_info": {
   "codemirror_mode": {
    "name": "ipython",
    "version": 3
   },
   "file_extension": ".py",
   "mimetype": "text/x-python",
   "name": "python",
   "nbconvert_exporter": "python",
   "pygments_lexer": "ipython3",
   "version": "3.10.8"
  }
 },
 "nbformat": 4,
 "nbformat_minor": 5
}
