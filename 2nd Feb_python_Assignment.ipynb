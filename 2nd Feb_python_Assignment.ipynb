{
 "cells": [
  {
   "cell_type": "code",
   "execution_count": 1,
   "id": "c2d2964f-78e9-4482-95d2-2bc0588d5ae8",
   "metadata": {},
   "outputs": [
    {
     "name": "stdout",
     "output_type": "stream",
     "text": [
      "1\n",
      "2\n",
      "3\n",
      "4\n",
      "5\n",
      "6\n",
      "7\n",
      "8\n",
      "9\n",
      "10\n",
      "\n",
      "1\n",
      "2\n",
      "3\n",
      "4\n",
      "5\n",
      "6\n",
      "7\n",
      "8\n",
      "9\n",
      "10\n"
     ]
    }
   ],
   "source": [
    "# Q1 Explain with an example each when to use a for loop and a while loop.\n",
    "\n",
    "\n",
    "# Answer1 \n",
    "\n",
    "''' A for loop is used to repeat a block of code a specified number of times and for(list , tuple, string  etc) . \n",
    "For example, consider the following code to print numbers from 1 to 10:'''\n",
    "    \n",
    "# for Example\n",
    "\n",
    "for i in range(1, 11):\n",
    "  print(i)\n",
    "\n",
    "print(\"\\r\")\n",
    "\n",
    "# While loop\n",
    "'''While loop is generally used when the condition is boolean type for example True or False . if Condition is True then while loop will execute .'''\n",
    "\n",
    "# for example\n",
    " \n",
    "count = 1\n",
    "while count <= 10:\n",
    "    print(count)\n",
    "    count += 1\n"
   ]
  },
  {
   "cell_type": "code",
   "execution_count": 2,
   "id": "ba706bc1-89eb-42b3-9bc4-3a54bf556652",
   "metadata": {},
   "outputs": [
    {
     "name": "stdout",
     "output_type": "stream",
     "text": [
      "Sum of First 10 Natural Number using for loop are : 55\n",
      "Sum of First 10 Natural Number using while loop are : 55\n"
     ]
    }
   ],
   "source": [
    "# Q2. Write a python program to print the sum and product of the first 10 natural numbers using for\n",
    "# and while loop.\n",
    "\n",
    "# Answer2 \n",
    "\n",
    "# Using for loop \n",
    "\n",
    "sum =0\n",
    "for i in range(1 , 11):\n",
    "    # add sum = sum+i\n",
    "    sum = sum+i\n",
    "print(\"Sum of First 10 Natural Number using for loop are :\", sum)\n",
    "\n",
    "\n",
    "# Using While loop\n",
    "\n",
    "\n",
    "num = 10 \n",
    "sum=0\n",
    "while num>=0:\n",
    "    sum = sum+num\n",
    "    num = num-1;\n",
    "    \n",
    "print(\"Sum of First 10 Natural Number using while loop are :\", sum)\n",
    "\n"
   ]
  },
  {
   "cell_type": "code",
   "execution_count": 6,
   "id": "7cea2812-acdc-4562-abcf-74c2393697ef",
   "metadata": {},
   "outputs": [],
   "source": [
    "# Q3. Create a python program to compute the electricity bill for a household.\n",
    "\n",
    "# The per-unit charges in rupees are as follows: For the first 100 units, the user will be charged Rs. 4.5 per\n",
    "# unit, for the next 100 units, the user will be charged Rs. 6 per unit, and for the next 100 units, the user will\n",
    "# be charged Rs. 10 per unit, After 300 units and above the user will be charged Rs. 20 per unit.\n",
    "# You are required to take the units of electricity consumed in a month from the user as input.\n",
    "# Your program must pass this test case: when the unit of electricity consumed by the user in a month is\n",
    "# 310, the total electricity bill should be 2250.\n",
    "\n",
    "\n",
    "\n",
    "\n",
    "# Answer 3\n",
    "\n",
    "units = int(input(\"Enter the number of Units consumed in months \"))\n",
    "\n",
    "if(units<=100):\n",
    "    # for first 100\n",
    "    cost = units*4.5 \n",
    "    \n",
    "elif(units>100 and units<=200):\n",
    "    # for next 100\n",
    "    cost = (100*4.5 + (units -100)*6)\n",
    "    \n",
    "elif(units>200 and units<=300):\n",
    "    # and For another 100\n",
    "    cost = (100*4.5 + 100*6 + (units-200)*10)\n",
    "    \n",
    "else : \n",
    "    # Remaining means after 300\n",
    "    remain = units-300\n",
    "    cost = (100*4.5 + 100*6 + 100*10 +(remain*20))\n",
    "    \n",
    "print(\"The total bills are :\", cost)  \n",
    "    \n",
    "\n",
    "\n"
   ]
  },
  {
   "cell_type": "code",
   "execution_count": 4,
   "id": "6ce7ae2d-8f7e-447f-9c94-e30980f49b71",
   "metadata": {},
   "outputs": [
    {
     "name": "stdout",
     "output_type": "stream",
     "text": [
      "[8, 64, 125, 216, 512, 1000, 1728, 2744, 3375, 4096, 5832, 8000, 10648, 13824, 15625, 17576, 21952, 27000, 32768, 39304, 42875, 46656, 54872, 64000, 74088, 85184, 91125, 97336, 110592, 125000, 140608, 157464, 166375, 175616, 195112, 216000, 238328, 262144, 274625, 287496, 314432, 343000, 373248, 405224, 421875, 438976, 474552, 512000, 551368, 592704, 614125, 636056, 681472, 729000, 778688, 830584, 857375, 884736, 941192]\n"
     ]
    }
   ],
   "source": [
    "# Q4 Q4. Create a list of numbers from 1 to 100. Use for loop and while loop to calculate the cube of each\n",
    "# number and if the cube of that number is divisible by 4 or 5 then append that number in a list and print\n",
    "# that list.\n",
    "\n",
    "# Solution 4 \n",
    "\n",
    "\n",
    "cube = 0;\n",
    "l=[]\n",
    "for i in range(1,100):\n",
    "    \n",
    "    # calculate cube between 1 and 100\n",
    "    cube = (i**3)\n",
    "    \n",
    "    #test condition \n",
    "    if(cube%4==0 or cube%5==0):\n",
    "        # now append in list\n",
    "        l.append(cube)\n",
    "print(l)\n",
    "   "
   ]
  },
  {
   "cell_type": "code",
   "execution_count": 5,
   "id": "b807a251-4b70-4d71-8041-d7592aeed665",
   "metadata": {},
   "outputs": [
    {
     "name": "stdout",
     "output_type": "stream",
     "text": [
      "Number of Vowels are : 12\n"
     ]
    }
   ],
   "source": [
    "# Q5. Write a program to filter count vowels in the below-given string.\n",
    "# string = \"I want to become a data scientist\"\n",
    "\n",
    "# Solution 5 \n",
    "\n",
    "string = \"I want to become a data scientist\"\n",
    "count =0\n",
    "\n",
    "\n",
    "for i in string:\n",
    "     if(i=='a' or i=='e' or i=='i' or i=='o' or i=='u' or i=='A' or i=='E' or i=='I' or i=='O' or i=='U' or i=='I'):\n",
    "            count = count+1\n",
    "print(\"Number of Vowels are :\", count)\n",
    "    "
   ]
  },
  {
   "cell_type": "code",
   "execution_count": null,
   "id": "bfd4920d-87f5-4eaf-8c9e-89d4c1ffc1dd",
   "metadata": {},
   "outputs": [],
   "source": []
  }
 ],
 "metadata": {
  "kernelspec": {
   "display_name": "Python 3",
   "language": "python",
   "name": "python3"
  },
  "language_info": {
   "codemirror_mode": {
    "name": "ipython",
    "version": 3
   },
   "file_extension": ".py",
   "mimetype": "text/x-python",
   "name": "python",
   "nbconvert_exporter": "python",
   "pygments_lexer": "ipython3",
   "version": "3.10.8 (tags/v3.10.8:aaaf517, Oct 11 2022, 16:50:30) [MSC v.1933 64 bit (AMD64)]"
  },
  "vscode": {
   "interpreter": {
    "hash": "d741473c151447be2f465f27c1636144d3b75b5b131ab7468db0f349770134ec"
   }
  }
 },
 "nbformat": 4,
 "nbformat_minor": 5
}
