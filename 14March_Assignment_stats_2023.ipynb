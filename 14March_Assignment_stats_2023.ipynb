{
 "cells": [
  {
   "cell_type": "code",
   "execution_count": null,
   "id": "7fda3077-07b3-4bfb-b116-31dd7ca42178",
   "metadata": {},
   "outputs": [],
   "source": [
    "import logging\n",
    "logging.basicConfig(filename=\"12Marchinfo.log\", level=logging.INFO, format=\"%(asctime)s %(name)s %(message)s\")"
   ]
  },
  {
   "cell_type": "code",
   "execution_count": 32,
   "id": "cc2b6ecc-d71c-4b55-9b48-c45fe572b1a1",
   "metadata": {},
   "outputs": [
    {
     "name": "stdout",
     "output_type": "stream",
     "text": [
      "The f_test is : 22.798490566037724\n",
      "The p - Value is:  0.005148525813260085\n"
     ]
    }
   ],
   "source": [
    "# Answer1 \n",
    "# python function for f-test and taking two inpiut array data \n",
    "\n",
    "import numpy as np\n",
    "import scipy.stats\n",
    "\n",
    "\n",
    "# python function for f-test and taking two inpiut array data \n",
    "\n",
    "def f_test(group1, group2):\n",
    "\tf = np.var(group1, ddof=1)/np.var(group2, ddof=1)\n",
    "\tnun = x.size-1\n",
    "\tdun = y.size-1\n",
    "\tp_value = 1-scipy.stats.f.cdf(f, nun, dun)\n",
    "    \n",
    "\treturn f, p_value\n",
    "\n",
    "# takig the data as in form of array \n",
    "\n",
    "x = np.array([0.29, 0.4, 0.276, 0.228, 0.5])\n",
    "y = np.array([0.2, 0.23, 0.26, 0.21, 0.23])\n",
    "\n",
    "\n",
    "# perform F-test\n",
    "\n",
    "result  = f_test(x, y)\n",
    "print(\"The f_test is :\", result[0])\n",
    "print(\"The p - Value is: \", result[1])\n",
    "\n"
   ]
  },
  {
   "cell_type": "code",
   "execution_count": 31,
   "id": "000e5c27-e05d-4fbe-8e6a-11600f0ace28",
   "metadata": {},
   "outputs": [
    {
     "name": "stdout",
     "output_type": "stream",
     "text": [
      "The F_crtical value at 0.05 significance level  for the  4 dfN and 6 dfD Num 0.16225515762640028\n"
     ]
    }
   ],
   "source": [
    "# answer2\n",
    "# python function that return the Critical -F value for a two tailed test  \n",
    "\n",
    "\"\"\"\n",
    "    this function takes the degree of freedom for numaretor(dofn) and denonator (dofd)\n",
    "    return type:   the F-crtical valu e \n",
    "    alpha = 0.05 \n",
    "\"\"\"\n",
    "    \n",
    "\n",
    "import scipy.stats as stat\n",
    "\n",
    "def F_critical(dofn , dofd):\n",
    "    \n",
    "    critical_val = stat.f.ppf(q = 0.05, dfn = dofn, dfd = dofd)\n",
    "    return critical_val\n",
    "\n",
    "\n",
    "\n",
    "# data \n",
    "deg_f_numerator = 4\n",
    "deg_f_denomirator = 6\n",
    "\n",
    "\n",
    "# call the function and passing the argumnets \n",
    "result = F_critical(deg_f_numerator,deg_f_denomirator)\n",
    "print(f\"The F_crtical value at 0.05 significance level  for the  {deg_f_numerator} dfN and {deg_f_denomirator} dfD Num\", result)\n",
    "        \n",
    "        \n",
    "\n"
   ]
  },
  {
   "cell_type": "code",
   "execution_count": 26,
   "id": "b090a3ee-308d-429e-b02e-85672a26c9a8",
   "metadata": {},
   "outputs": [
    {
     "name": "stdout",
     "output_type": "stream",
     "text": [
      "The f_test: 1.0540940020409295\n",
      "deg_freedom_Numerator: 19\n",
      "deg_freedom_Denomirator: 19\n",
      "The p_value is : 0.4548922658358091\n"
     ]
    }
   ],
   "source": [
    "# answer3 \n",
    "\"\"\"Python program that generates random samples from two normal distributions and \n",
    "    return then f-test P_value, degree of freedom\n",
    "\"\"\"\n",
    "\n",
    "\n",
    "# numpy and scipy.stats we using \n",
    "import numpy as np \n",
    "import scipy.stats as stat\n",
    "\n",
    "# Generating the random sample \n",
    "np.random.seed(125)\n",
    "sample1 = np.random.normal(loc = 0,scale = 1,size = 20)\n",
    "sample2 = np.random.normal(loc = 0,scale = 1,size = 20)\n",
    "\n",
    "# calculating the F_stats, degree of freedom, and p_value\n",
    "f_stats = np.var(sample1, ddof=1)/np.var(sample2,ddof =1)\n",
    "\n",
    "# degree of freedom = \n",
    "deg_freedom_Numerator = len(sample1)-1\n",
    "deg_freedom_Denomirator = len(sample2)-1\n",
    "\n",
    "# p_value calculating \n",
    "p_val = 1-stat.f.cdf(f_stats, deg_freedom_Numerator,deg_freedom_Denomirator)\n",
    "\n",
    "# printing the ouput \n",
    "print(\"The f_test:\", f_stats)\n",
    "print(\"deg_freedom_Numerator:\",deg_freedom_Numerator)\n",
    "print(\"deg_freedom_Denomirator:\", deg_freedom_Denomirator)\n",
    "print(\"The p_value is :\", p_val)\n",
    "\n"
   ]
  },
  {
   "cell_type": "code",
   "execution_count": 31,
   "id": "cd74af1c-357c-494f-954a-049582f439c1",
   "metadata": {},
   "outputs": [
    {
     "name": "stdout",
     "output_type": "stream",
     "text": [
      "the f_test is : 0.6666666666666666\n",
      "the P_value isn: 0.7438051006321003\n",
      "We fail to Reject the Null hypothesis: the variances are Equal\n"
     ]
    }
   ],
   "source": [
    "# answer4 \n",
    "\"\"\"\n",
    "Null hypothesis:\n",
    "variances are equal \n",
    "\n",
    "alternate :\n",
    "variances are significantly different\n",
    "\"\"\"\n",
    "\n",
    "import scipy.stats as stat\n",
    "\n",
    "# data gievn  \n",
    "var_sample1  = 10\n",
    "size_sample1 = 12\n",
    "\n",
    "var_sample2 = 15\n",
    "size_sample2 = 12\n",
    "\n",
    "# significance value is \n",
    "alpha= 0.05     # 5% significance level\n",
    "\n",
    "\n",
    "# determinig the f_test \n",
    "\n",
    "f_test = var_sample1/var_sample2\n",
    "print(\"the f_test is :\",f_test)\n",
    "\n",
    "\n",
    "# p_value calculating \n",
    "p_val = 1-stat.f.cdf(f_test, df_s1,df_s2)\n",
    "print(\"the P_value isn:\", p_val)\n",
    "\n",
    "# result interpretation\n",
    "if(p_val<alpha):\n",
    "    print(\"Reject the Null hypothesis: the variances are significantly  different. \")\n",
    "else:\n",
    "    print(\"We fail to Reject the Null hypothesis: the variances are Equal\")"
   ]
  },
  {
   "cell_type": "markdown",
   "id": "14d2c417-1ce8-4ea0-a5db-747cde75ab8c",
   "metadata": {},
   "source": [
    "## Q5. A manufacturer claims that the variance of the diameter of a certain product is 0.005. A sample of 25 products is taken, and the sample variance is found to be 0.006. Conduct an F-test at the 1% significancelevel to determine the claim is justified."
   ]
  },
  {
   "cell_type": "code",
   "execution_count": 33,
   "id": "9bfe2bab-4bd1-48e5-8e50-6d2aaf66e1f3",
   "metadata": {},
   "outputs": [
    {
     "name": "stdout",
     "output_type": "stream",
     "text": [
      "the f_test os : 0.8333333333333334\n",
      "the P_value isn: 0.6161412413994043\n",
      "We fail to Reject the Null hypothesis: claim is justified \n"
     ]
    }
   ],
   "source": [
    "# answeerr5\n",
    "\"\"\"\n",
    "Null hypothesis:\n",
    "claim is not justified \n",
    "\n",
    "alternate :\n",
    "claim is justified \n",
    "\"\"\"\n",
    "\n",
    "import scipy.stats as stat\n",
    "\n",
    "# data gievn  \n",
    "var_sample1  = 0.005\n",
    "size_sample1 = 25\n",
    "\n",
    "var_sample2 = 0.006\n",
    "size_sample2 = 12\n",
    "\n",
    "# significance value is \n",
    "alpha= 0.01    # 1% significance level\n",
    "\n",
    "\n",
    "# determinig the f_test \n",
    "\n",
    "f_test = var_sample1/var_sample2\n",
    "print(\"the f_test os :\",f_test)\n",
    "\n",
    "\n",
    "# p_value calculating \n",
    "p_val = 1-stat.f.cdf(f_test, df_s1,df_s2)\n",
    "print(\"the P_value isn:\", p_val)\n",
    "\n",
    "# result interpretation\n",
    "if(p_val<alpha):\n",
    "    print(\"Reject the Null hypothesis: claim is not  justified  \")\n",
    "else:\n",
    "    print(\"We fail to Reject the Null hypothesis: claim is justified \")"
   ]
  },
  {
   "cell_type": "code",
   "execution_count": 51,
   "id": "bf80aadc-527a-426a-a1e6-437f993c2f7d",
   "metadata": {},
   "outputs": [
    {
     "data": {
      "text/plain": [
       "(1.5, 4.5)"
      ]
     },
     "execution_count": 51,
     "metadata": {},
     "output_type": "execute_result"
    }
   ],
   "source": [
    "# answerr 6\n",
    "\n",
    "def f_distribution_mean_and_variance(dfn, dfd):\n",
    "    \"\"\"\n",
    "    Calculates the mean and variance of an F-distribution with given degrees of freedom.\n",
    "\n",
    "    Args:\n",
    "        dfn (int): Degrees of freedom for the numerator.\n",
    "        dfd (int): Degrees of freedom for the denominator.\n",
    "\n",
    "    Returns:\n",
    "        tuple: Mean and variance of the F-distribution.\n",
    "    \"\"\"\n",
    "    if dfn <= 0 or dfd <= 0:\n",
    "        raise ValueError(\"Degrees of freedom must be positive integers.\")\n",
    "    if dfn % 2 != 0:\n",
    "        raise ValueError(\"Degrees of freedom for the numerator must be even.\")\n",
    "    \n",
    "    mean = dfd / (dfd - 2)\n",
    "    variance = (2 * dfd ** 2 * (dfn + dfd - 2)) / (dfn * (dfd - 2) ** 2 * (dfd - 4))\n",
    "\n",
    "    return mean, variance\n",
    "\n",
    "\n",
    "f_distribution_mean_and_variance(4,6)"
   ]
  },
  {
   "cell_type": "code",
   "execution_count": 25,
   "id": "d215687e-3635-4377-9dbd-5fa08cc73531",
   "metadata": {},
   "outputs": [
    {
     "name": "stdout",
     "output_type": "stream",
     "text": [
      "the f_test os : 1.25\n",
      "the degree of freedom of sample 1 : 9\n",
      "the degree of freedom of sample 2 : 14\n",
      "the P_value isn: 0.3416097191292977\n",
      "We fail to Reject the Null hypothesis: the variances are significantly  not different.\n"
     ]
    }
   ],
   "source": [
    "# answer7 \n",
    "\n",
    "\"\"\"\n",
    "Null hypothesis:\n",
    "the variances are significantly not different. \n",
    "\n",
    "alternate hypothesis:\n",
    " the variances are significantly different.\n",
    "\"\"\"\n",
    "\n",
    "import scipy.stats as stat\n",
    "\n",
    "# data gievn  \n",
    "var_sample1  = 25\n",
    "size_sample1 = 10\n",
    "\n",
    "var_sample2 = 20\n",
    "size_sample2 = 15\n",
    "\n",
    "# significance value is \n",
    "alpha= 0.1\n",
    "\n",
    "\n",
    "# determinig the f_test \n",
    "\n",
    "f_test = var_sample1/var_sample2\n",
    "print(\"the f_test os :\",f_test)\n",
    "\n",
    "# degree of freedom \n",
    "\n",
    "df_s1 = size_sample1-1\n",
    "df_s2 = size_sample2 -1\n",
    "print(\"the degree of freedom of sample 1 :\",df_s1)\n",
    "print(\"the degree of freedom of sample 2 :\",df_s2)\n",
    "\n",
    "# p_value calculating \n",
    "p_val = 1-stat.f.cdf(f_test, df_s1,df_s2)\n",
    "print(\"the P_value isn:\", p_val)\n",
    "\n",
    "# result interpretation\n",
    "if(p_val<alpha):\n",
    "    print(\"Reject the Null hypothesis: the variances are significantly  different. \")\n",
    "else:\n",
    "    print(\"We fail to Reject the Null hypothesis: the variances are significantly  not different.\")\n"
   ]
  },
  {
   "cell_type": "code",
   "execution_count": 24,
   "id": "c0d2bc56-87e4-4c28-9a49-4eec51ea4c61",
   "metadata": {},
   "outputs": [
    {
     "name": "stdout",
     "output_type": "stream",
     "text": [
      "the f_test is  : 1.496767651159843\n",
      "the degree of freedom of sample 1 : 6\n",
      "the degree of freedom of sample 2 : 5\n",
      "the P_value isn: 0.3374133569640825\n",
      "We fail to Reject the Null hypothesis: the variances of two population are equal\n"
     ]
    }
   ],
   "source": [
    "# answer 8\n",
    "\n",
    "\"\"\"\n",
    "Null hypothesis:\n",
    "the variances are significantly not different.  means variance are equal \n",
    "\n",
    "alternate hypothesis:\n",
    " the variances are significantly different. \n",
    "\"\"\"\n",
    "\n",
    "import scipy.stats as stat\n",
    "import numpy as np\n",
    "\n",
    "\n",
    "# data gievn \n",
    "RestaurantA = [24,25,28,23,22,20,27]\n",
    "RestaurantB = [31,33,35,30,32,36]\n",
    "\n",
    "# calculating the variance witht help of numpy \n",
    "var_sample1  = np.var(RestaurantA)\n",
    "var_sample2 = np.var(RestaurantB)\n",
    "\n",
    "# data size \n",
    "size_sample1 = len(RestaurantA)\n",
    "size_sample2 = len(RestaurantB)\n",
    "\n",
    "# significance value is \n",
    "alpha= 0.05  # 5% significance level \n",
    "\n",
    "\n",
    "# determinig the f_test \n",
    "\n",
    "f_test = var_sample1/var_sample2\n",
    "print(\"the f_test is  :\",f_test)\n",
    "\n",
    "# degree of freedom \n",
    "\n",
    "df_s1 = size_sample1-1\n",
    "df_s2 = size_sample2 -1\n",
    "print(\"the degree of freedom of sample 1 :\",df_s1)\n",
    "print(\"the degree of freedom of sample 2 :\",df_s2)\n",
    "\n",
    "# p_value calculating \n",
    "\n",
    "p_val = 1-stat.f.cdf(f_test, df_s1,df_s2)\n",
    "print(\"the P_value isn:\", p_val)\n",
    "\n",
    "# result interpretation\n",
    "if(p_val<alpha):\n",
    "    print(\"Reject the Null hypothesis: the variances are significantly  different. \")\n",
    "else:\n",
    "    print(\"We fail to Reject the Null hypothesis: the variances of two population are equal\")"
   ]
  },
  {
   "cell_type": "code",
   "execution_count": 23,
   "id": "6a6754da-9af3-4b02-b6bd-b56f26766221",
   "metadata": {},
   "outputs": [
    {
     "name": "stdout",
     "output_type": "stream",
     "text": [
      "the f_test is  : 1.9442622950819677\n",
      "the degree of freedom of sample 1 : 5\n",
      "the degree of freedom of sample 2 : 5\n",
      "the P_value isn: 0.2415521774535344\n",
      "We fail to Reject the Null hypothesis: the variances are Equal \n"
     ]
    }
   ],
   "source": [
    "# answer 9\n",
    "\n",
    "\"\"\"\n",
    "Null hypothesis:\n",
    "the variances are significantly not different. \n",
    "\n",
    "alternate hypothesis:\n",
    " the variances are significantly different.\n",
    "\"\"\"\n",
    "\n",
    "import scipy.stats as stat\n",
    "import numpy as np\n",
    "\n",
    "\n",
    "# data gievn \n",
    "RestaurantA = [80, 85, 90, 92, 87, 83]\n",
    "RestaurantB = [ 75, 78, 82, 79, 81, 84]\n",
    "\n",
    "# calculating the variance witht help of numpy \n",
    "var_sample1  = np.var(RestaurantA)\n",
    "var_sample2 = np.var(RestaurantB)\n",
    "\n",
    "# data size \n",
    "size_sample1 = len(RestaurantA)\n",
    "size_sample2 = len(RestaurantB)\n",
    "\n",
    "# significance value is \n",
    "alpha= 0.01 # 5% significance level \n",
    "\n",
    "\n",
    "# determinig the f_test \n",
    "\n",
    "f_test = var_sample1/var_sample2\n",
    "print(\"the f_test is  :\",f_test)\n",
    "\n",
    "# degree of freedom \n",
    "\n",
    "df_s1 = size_sample1-1\n",
    "df_s2 = size_sample2 -1\n",
    "print(\"the degree of freedom of sample 1 :\",df_s1)\n",
    "print(\"the degree of freedom of sample 2 :\",df_s2)\n",
    "\n",
    "# p_value calculating \n",
    "\n",
    "p_val = 1-stat.f.cdf(f_test, df_s1,df_s2)\n",
    "print(\"the P_value isn:\", p_val)\n",
    "\n",
    "# result interpretation\n",
    "if(p_val<alpha):\n",
    "    print(\"Reject the Null hypothesis: the variances are significantly  different. \")\n",
    "else:\n",
    "    print(\"We fail to Reject the Null hypothesis: the variances are Equal \")"
   ]
  },
  {
   "cell_type": "code",
   "execution_count": null,
   "id": "059d4645-7dcc-43f5-b0d8-4c9d9fd1da13",
   "metadata": {},
   "outputs": [],
   "source": []
  }
 ],
 "metadata": {
  "kernelspec": {
   "display_name": "Python 3 (ipykernel)",
   "language": "python",
   "name": "python3"
  },
  "language_info": {
   "codemirror_mode": {
    "name": "ipython",
    "version": 3
   },
   "file_extension": ".py",
   "mimetype": "text/x-python",
   "name": "python",
   "nbconvert_exporter": "python",
   "pygments_lexer": "ipython3",
   "version": "3.10.8"
  }
 },
 "nbformat": 4,
 "nbformat_minor": 5
}
