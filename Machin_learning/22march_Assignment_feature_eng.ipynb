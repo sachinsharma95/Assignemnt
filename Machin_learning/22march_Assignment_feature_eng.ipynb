{
 "cells": [
  {
   "cell_type": "markdown",
   "id": "830ba1d9-5eec-4c4e-9e78-6942ff75debc",
   "metadata": {},
   "source": [
    "   ### <center>Correlation Assignment "
   ]
  },
  {
   "cell_type": "code",
   "execution_count": 26,
   "id": "a4c608ce-75ce-4e5e-bbad-25bf56952dff",
   "metadata": {},
   "outputs": [],
   "source": [
    "import logging\n",
    "logging.basicConfig(filename=\"22Marchinfo.log\", level=logging.INFO, format=\"%(asctime)s %(name)s %(message)s\")"
   ]
  },
  {
   "cell_type": "code",
   "execution_count": 27,
   "id": "dcafe893-48dc-4772-b214-47eccc4d6084",
   "metadata": {},
   "outputs": [
    {
     "name": "stdout",
     "output_type": "stream",
     "text": [
      "           time     score\n",
      "time   1.000000  0.686754\n",
      "score  0.686754  1.000000\n",
      "\n",
      "\n",
      "\n"
     ]
    },
    {
     "data": {
      "text/plain": [
       "'\\nIn the case of the amount of time students spend studying for an exam and their final exam scores, a positive correlation would be expected, since students who study more are likely to do better on the exam. \\nIf the Pearson correlation coefficient is positive and close to 1, \\nthis would indicate a strong positive correlation, suggesting that there is a strong relationship between the two variables. \\n'"
      ]
     },
     "execution_count": 27,
     "metadata": {},
     "output_type": "execute_result"
    }
   ],
   "source": [
    "# Answr 1\n",
    "logging.info(\" Pearson correlation\")\n",
    "import pandas as pd\n",
    "import numpy as np\n",
    "\n",
    "\n",
    "logging.info(\"dummy data generate \")\n",
    "\n",
    "data = { 'time' :[6,7,8,1,5,4,9,3,11,9],\n",
    "        'score' : [50,56,89,40,30,15,35,19,76,80]\n",
    "        \n",
    "        \n",
    "       }\n",
    "\n",
    "# Creating the DataFrame\n",
    "\n",
    "df = pd.DataFrame(data)\n",
    "\n",
    "# calculating the person correlation between the time and the Score \n",
    "\n",
    "print(df.corr(method = 'pearson'))\n",
    "\n",
    "print(\"\\n\\n\")\n",
    "\n",
    "# Interpretation \n",
    "\"\"\"\n",
    "In the case of the amount of time students spend studying for an exam and their final exam scores, a positive correlation would be expected, since students who study more are likely to do better on the exam. \n",
    "If the Pearson correlation coefficient is positive and close to 1, \n",
    "this would indicate a strong positive correlation, suggesting that there is a strong relationship between the two variables. \n",
    "\"\"\""
   ]
  },
  {
   "cell_type": "code",
   "execution_count": 17,
   "id": "949fb72d-1b26-4505-8c50-a2fd31d901f3",
   "metadata": {},
   "outputs": [
    {
     "name": "stdout",
     "output_type": "stream",
     "text": [
      "Spearman's rank correlation coefficient: 0.5278180032096245\n",
      "P-value: 0.116859705292219\n"
     ]
    }
   ],
   "source": [
    "\n",
    "# Answer 2\n",
    "\n",
    "import pandas as pd\n",
    "import numpy as np\n",
    "from scipy.stats import spearmanr\n",
    "\n",
    "# dummy data generate \n",
    "\n",
    "data = { 'sleep' :[6,7,8,1,5,4,9,3,11,9],\n",
    "        'satisfaction' :[6, 8, 4, 3, 6, 7, 9, 5, 6, 8]\n",
    "        \n",
    "        \n",
    "       }\n",
    "\n",
    "# Creating the DataFrame\n",
    "\n",
    "df = pd.DataFrame(data)\n",
    "\n",
    "# calculate the Spearman's rank correlation coefficient\n",
    "corr, p_value = spearmanr(df['sleep'], df['satisfaction'])\n",
    "\n",
    "# print the correlation coefficient and p-value\n",
    "print(f\"Spearman's rank correlation coefficient: {corr}\")\n",
    "print(f\"P-value: {p_value}\")"
   ]
  },
  {
   "cell_type": "markdown",
   "id": "c12e1d53-a908-4e07-b55d-bf1f987ad49a",
   "metadata": {},
   "source": [
    "##  insights from above Spearman' s Correlation \n",
    "\n",
    "- The Spearman's rank correlation coefficient ranges from -1 to 1, with values closer to -1 or 1 indicating a stronger monotonic relationship between the two variables. A value of 0 indicates no monotonic relationship.\n",
    "\n",
    "- The p-value is a measure of the statistical significance of the correlation coefficient. In this case, the p-value is greater than 0.05, which suggests that the observed correlation coefficient is not statistically significant, and that we cannot reject the null hypothesis of no correlation between the two variables.\n"
   ]
  },
  {
   "cell_type": "code",
   "execution_count": 29,
   "id": "eeb4f97c-4de6-476d-a370-db0b86e5c016",
   "metadata": {},
   "outputs": [
    {
     "name": "stdout",
     "output_type": "stream",
     "text": [
      "Pearson correlation coefficient: -0.6177421627412221\n",
      "p-value for Pearson correlation: 1.3707222878596069e-06\n",
      "Spearman's rank correlation coefficient: -0.6038153114069936\n",
      "p-value for Spearman's rank correlation: 2.7208937014682584e-06\n"
     ]
    }
   ],
   "source": [
    "# Answerr 3\n",
    "logging.info(\"Calculate the Pearson correlation coefficient\")\n",
    "\n",
    "from scipy.stats import pearsonr, spearmanr\n",
    "import numpy as np\n",
    "\n",
    "# Define the data\n",
    "exercise_hours = [3, 4, 5, 3, 2, 6, 1, 2, 5, 4, 3, 2, 6, 7, 5, 4, 2, 1, 3, 4, 5, 6, 7, 4, 3, 2, 1, 5, 6, 4, 3, 2, 1, 6, 5, 4, 3, 2, 5, 4, 3, 2, 1, 7, 6, 5, 4, 3, 2, 1, 5]\n",
    "bmi = [25.3, 24.1, 28.4, 27.8, 29.7, 26.2, 31.1, 30.5, 27.2, 24.9, 26.6, 29.1, 25.7, 23.8, 26.9, 30.3, 31.8, 28.1, 29.6, 27.5, 24.7, 22.5, 26.4, 27.3, 28.7, 30.2, 31.9, 29.4, 27.1, 28.5, 26.8, 29.2, 31.7, 25.8, 24.6, 26.3, 28.8, 30.4, 31.3, 29.9, 27.7, 28.2, 26.5, 23.7, 25.1, 29.8, 30.6, 27.4, 29.3, 28.6, 26.1]\n",
    "\n",
    "# Calculate the Pearson correlation coefficient\n",
    "corr_pearson, pval_pearson = pearsonr(exercise_hours, bmi)\n",
    "\n",
    "# Calculate the Spearman's rank correlation coefficient\n",
    "corr_spearman, pval_spearman = spearmanr(exercise_hours, bmi)\n",
    "\n",
    "print(\"Pearson correlation coefficient:\", corr_pearson)\n",
    "print(\"p-value for Pearson correlation:\", pval_pearson)\n",
    "print(\"Spearman's rank correlation coefficient:\", corr_spearman)\n",
    "print(\"p-value for Spearman's rank correlation:\", pval_spearman)\n"
   ]
  },
  {
   "cell_type": "markdown",
   "id": "3a746774-c2de-4401-b9bf-2b21e5ad4654",
   "metadata": {},
   "source": [
    "## Interpreting the resukt form the above the code \n",
    "\n",
    "- Both the Pearson correlation coefficient and the Spearman's rank correlation coefficient are negative, which suggests a weak negative correlation between the number of hours of exercise per week and BMI.\n",
    "\n",
    "- The Pearson correlation coefficient is very close to 0, indicating a very weak linear relationship between the two variables. \n",
    "\n",
    "- The Spearman's rank correlation coefficient is slightly larger than the Pearson correlation coefficient, but still close\n",
    "\n",
    "----------"
   ]
  },
  {
   "cell_type": "code",
   "execution_count": 26,
   "id": "90d66cb3-78f5-4b09-b221-e41836247200",
   "metadata": {},
   "outputs": [
    {
     "name": "stdout",
     "output_type": "stream",
     "text": [
      "Pearson correlation coefficient: 0.1713673880219611\n",
      "p-value: 0.2340745036672442\n"
     ]
    }
   ],
   "source": [
    "# Answr 4\n",
    "\n",
    "from scipy.stats import pearsonr\n",
    "import numpy as np\n",
    "\n",
    "# Define the data\n",
    "tv_hours = [2, 1, 3, 4, 2, 5, 6, 3, 2, 1, 4, 5, 2, 1, 3, 4, 5, 6, 2, 3, 1, 2, 5, 4, 3, 6, 5, 4, 3, 2, 1, 4, 3, 2, 5, 6, 1, 2, 4, 3, 5, 6, 4, 2, 3, 1, 5, 6, 4, 3]\n",
    "physical_activity = [3, 5, 4, 2, 3, 6, 7, 4, 2, 5, 4, 2, 3, 5, 4, 2, 3, 6, 4, 5, 3, 2, 6, 5, 4, 6, 7, 5, 4, 2, 3, 5, 6, 4, 2, 3, 5, 6, 4, 3, 5, 2, 4, 6, 5, 2, 3, 4, 6, 5]\n",
    "\n",
    "# Calculate the Pearson correlation coefficient\n",
    "corr, pval = pearsonr(tv_hours, physical_activity)\n",
    "\n",
    "print(\"Pearson correlation coefficient:\", corr)\n",
    "print(\"p-value:\", pval)\n",
    "\n",
    "\n"
   ]
  },
  {
   "cell_type": "markdown",
   "id": "0ecb135c-be65-4d5b-a9fb-4c95adf9c62d",
   "metadata": {},
   "source": [
    "# Insights \n",
    "\n",
    "- There coerr coeff is positive which mean that there is a postive relation between tv_hiurs and the physical activity "
   ]
  },
  {
   "cell_type": "code",
   "execution_count": 30,
   "id": "3377694a-8238-48c9-9132-18673960c3c1",
   "metadata": {},
   "outputs": [
    {
     "data": {
      "text/html": [
       "<div>\n",
       "<style scoped>\n",
       "    .dataframe tbody tr th:only-of-type {\n",
       "        vertical-align: middle;\n",
       "    }\n",
       "\n",
       "    .dataframe tbody tr th {\n",
       "        vertical-align: top;\n",
       "    }\n",
       "\n",
       "    .dataframe thead th {\n",
       "        text-align: right;\n",
       "    }\n",
       "</style>\n",
       "<table border=\"1\" class=\"dataframe\">\n",
       "  <thead>\n",
       "    <tr style=\"text-align: right;\">\n",
       "      <th></th>\n",
       "      <th>Age</th>\n",
       "      <th>Soft drink Preference_ Pepsi</th>\n",
       "      <th>Soft drink Preference_Coke</th>\n",
       "      <th>Soft drink Preference_Mountain dew</th>\n",
       "      <th>Soft drink Preference_Pepsi</th>\n",
       "    </tr>\n",
       "  </thead>\n",
       "  <tbody>\n",
       "    <tr>\n",
       "      <th>Age</th>\n",
       "      <td>1.000000</td>\n",
       "      <td>0.689730</td>\n",
       "      <td>-0.837240</td>\n",
       "      <td>0.394132</td>\n",
       "      <td>0.039413</td>\n",
       "    </tr>\n",
       "    <tr>\n",
       "      <th>Soft drink Preference_ Pepsi</th>\n",
       "      <td>0.689730</td>\n",
       "      <td>1.000000</td>\n",
       "      <td>-0.447214</td>\n",
       "      <td>-0.200000</td>\n",
       "      <td>-0.200000</td>\n",
       "    </tr>\n",
       "    <tr>\n",
       "      <th>Soft drink Preference_Coke</th>\n",
       "      <td>-0.837240</td>\n",
       "      <td>-0.447214</td>\n",
       "      <td>1.000000</td>\n",
       "      <td>-0.447214</td>\n",
       "      <td>-0.447214</td>\n",
       "    </tr>\n",
       "    <tr>\n",
       "      <th>Soft drink Preference_Mountain dew</th>\n",
       "      <td>0.394132</td>\n",
       "      <td>-0.200000</td>\n",
       "      <td>-0.447214</td>\n",
       "      <td>1.000000</td>\n",
       "      <td>-0.200000</td>\n",
       "    </tr>\n",
       "    <tr>\n",
       "      <th>Soft drink Preference_Pepsi</th>\n",
       "      <td>0.039413</td>\n",
       "      <td>-0.200000</td>\n",
       "      <td>-0.447214</td>\n",
       "      <td>-0.200000</td>\n",
       "      <td>1.000000</td>\n",
       "    </tr>\n",
       "  </tbody>\n",
       "</table>\n",
       "</div>"
      ],
      "text/plain": [
       "                                         Age  Soft drink Preference_ Pepsi  \\\n",
       "Age                                 1.000000                      0.689730   \n",
       "Soft drink Preference_ Pepsi        0.689730                      1.000000   \n",
       "Soft drink Preference_Coke         -0.837240                     -0.447214   \n",
       "Soft drink Preference_Mountain dew  0.394132                     -0.200000   \n",
       "Soft drink Preference_Pepsi         0.039413                     -0.200000   \n",
       "\n",
       "                                    Soft drink Preference_Coke  \\\n",
       "Age                                                  -0.837240   \n",
       "Soft drink Preference_ Pepsi                         -0.447214   \n",
       "Soft drink Preference_Coke                            1.000000   \n",
       "Soft drink Preference_Mountain dew                   -0.447214   \n",
       "Soft drink Preference_Pepsi                          -0.447214   \n",
       "\n",
       "                                    Soft drink Preference_Mountain dew  \\\n",
       "Age                                                           0.394132   \n",
       "Soft drink Preference_ Pepsi                                 -0.200000   \n",
       "Soft drink Preference_Coke                                   -0.447214   \n",
       "Soft drink Preference_Mountain dew                            1.000000   \n",
       "Soft drink Preference_Pepsi                                  -0.200000   \n",
       "\n",
       "                                    Soft drink Preference_Pepsi  \n",
       "Age                                                    0.039413  \n",
       "Soft drink Preference_ Pepsi                          -0.200000  \n",
       "Soft drink Preference_Coke                            -0.447214  \n",
       "Soft drink Preference_Mountain dew                    -0.200000  \n",
       "Soft drink Preference_Pepsi                            1.000000  "
      ]
     },
     "execution_count": 30,
     "metadata": {},
     "output_type": "execute_result"
    }
   ],
   "source": [
    "# Answer 5\n",
    "\n",
    "import pandas as pd\n",
    "import numpy as np\n",
    "from sklearn.preprocessing import OneHotEncoder\n",
    "\n",
    "\n",
    "# data \n",
    "data = {\n",
    "    'Age': [ 25, 42,37, 19, 31,28],\n",
    "    'Soft drink Preference':['Coke',' Pepsi', 'Mountain dew','Coke','Pepsi','Coke']\n",
    "    \n",
    "}\n",
    "\n",
    "# creating the DataFrame\n",
    "\n",
    "df =pd.DataFrame(data)\n",
    "\n",
    "logging.info(\"we are using the One hot  encoding to covert categoricakdataset to the numerical datset\")\n",
    "\n",
    "enc = OneHotEncoder()\n",
    "\n",
    "\n",
    "encd = enc.fit_transform(df[['Soft drink Preference']])\n",
    "\n",
    "df_tp = pd.DataFrame(encd.toarray(), columns = enc.get_feature_names_out())\n",
    "\n",
    "# concat after chainging\n",
    "\n",
    "df = pd.concat([df, df_tp], axis =1)\n",
    "df.drop(['Soft drink Preference'], axis  =1 , inplace  =True)\n",
    "\n",
    "# calculating the corrrelation\n",
    "\n",
    "df.corr()"
   ]
  },
  {
   "cell_type": "code",
   "execution_count": 33,
   "id": "7ad51668-3462-4403-b89a-491069971437",
   "metadata": {},
   "outputs": [
    {
     "name": "stdout",
     "output_type": "stream",
     "text": [
      "Pearson correlation coefficient: 0.30867608364576166\n",
      "p-value: 0.09698300344186202\n"
     ]
    }
   ],
   "source": [
    "# Answrr 6\n",
    "logging.info(\"Calculate the Pearson correlation coefficient b/w sales_wekk and seale_call\")\n",
    "from scipy.stats import pearsonr\n",
    "import numpy as np\n",
    "\n",
    "# generating the data for sales per call ans week \n",
    "\n",
    "sales_call = np.random.randint(20,60,30)\n",
    "sales_per_week = np.random.randint(50, 80,30)\n",
    "\n",
    "\n",
    "# Calculate the Pearson correlation coefficient\n",
    "corr, pval = pearsonr(sales_call, sales_per_week)\n",
    "\n",
    "print(\"Pearson correlation coefficient:\", corr)\n",
    "print(\"p-value:\", pval)\n"
   ]
  }
 ],
 "metadata": {
  "kernelspec": {
   "display_name": "Python 3 (ipykernel)",
   "language": "python",
   "name": "python3"
  },
  "language_info": {
   "codemirror_mode": {
    "name": "ipython",
    "version": 3
   },
   "file_extension": ".py",
   "mimetype": "text/x-python",
   "name": "python",
   "nbconvert_exporter": "python",
   "pygments_lexer": "ipython3",
   "version": "3.10.8"
  }
 },
 "nbformat": 4,
 "nbformat_minor": 5
}
