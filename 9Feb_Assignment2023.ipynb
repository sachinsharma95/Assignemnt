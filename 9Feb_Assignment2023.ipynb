{
 "cells": [
  {
   "cell_type": "code",
   "execution_count": null,
   "id": "3914202f-40d8-4837-9fb0-a6b92a44e553",
   "metadata": {},
   "outputs": [],
   "source": [
    "# Q1, Create a vehicle class with an init method having instance variables as name_of_vehicle, max_speed\n",
    "# and average_of_vehicle."
   ]
  },
  {
   "cell_type": "code",
   "execution_count": 55,
   "id": "eaef6738-2a12-424b-9f02-36513b274a1a",
   "metadata": {},
   "outputs": [
    {
     "name": "stdout",
     "output_type": "stream",
     "text": [
      "Motor_cycle\n",
      "1200\n",
      "145km/hr\n"
     ]
    }
   ],
   "source": [
    "# Ans1\n",
    "\n",
    "class vehicle:\n",
    "    \n",
    "    # ___in__it() method \n",
    "     def __init__(self,name_of_vehicle, max_speed, average_of_vehicle):\n",
    "            \n",
    "            self.name_of_vehicle = name_of_vehicle\n",
    "            self.max_speed = max_speed\n",
    "            self.average_of_vehicle = average_of_vehicle\n",
    "        \n",
    "           \n",
    "        \n",
    "        \n",
    "# instance of the Vehicle\n",
    "\n",
    "obj = vehicle(\"Motor_cycle\",1200,\"145km/hr\")\n",
    "        \n",
    "# Accesing the return method by the help of instances  \n",
    "  \n",
    "print(obj.name_of_vehicle)\n",
    "print(obj.max_speed)\n",
    "print(obj.average_of_vehicle)"
   ]
  },
  {
   "cell_type": "code",
   "execution_count": 35,
   "id": "60bd49eb-c84b-486e-8bfe-6f9100c54037",
   "metadata": {},
   "outputs": [],
   "source": [
    "# Q2. Create a child class car from the vehicle class created in Que 1, which will inherit the vehicle class.\n",
    "# Create a method named seating_capacity which takes capacity as an argument and returns the name of\n",
    "#  the vehicle and its seating capacity."
   ]
  },
  {
   "cell_type": "code",
   "execution_count": 56,
   "id": "01c4ca1e-b373-4e79-829b-0630c151da71",
   "metadata": {},
   "outputs": [
    {
     "data": {
      "text/plain": [
       "'124 is the the seating capacty & Motor_cycle is the name of the vehicle'"
      ]
     },
     "execution_count": 56,
     "metadata": {},
     "output_type": "execute_result"
    }
   ],
   "source": [
    "# Ans2 inheritence \n",
    "\n",
    "# inherit the property of vehicle class \n",
    "\n",
    "# vehicle is the class which is created in Q1 \n",
    "\n",
    "class car(vehicle):\n",
    "    \n",
    "    # method having the name seating capacity \n",
    "    \n",
    "    def seating_capacity(self,capacity):\n",
    "        # passing argument as capacity \n",
    "        self.capacity=capacity\n",
    "        #returning the capacity and name of the vehicle\n",
    "        return \"{} is the the seating capacty & {} is the name of the vehicle\".format(self.capacity,self.name_of_vehicle)\n",
    "        \n",
    "\n",
    "# instances of the car \n",
    "\n",
    "obj1 = car(\"Motor_cycle\", 1200,\"320km/hr\")\n",
    "\n",
    "# passing the capacity \n",
    "obj1.seating_capacity(124)"
   ]
  },
  {
   "cell_type": "code",
   "execution_count": 67,
   "id": "a4f7de8b-8c8d-44ce-97b0-0d1fef08d130",
   "metadata": {},
   "outputs": [
    {
     "name": "stdout",
     "output_type": "stream",
     "text": [
      "Hello this is the Base class \n",
      "Hey Good luck! I am persuning the Data science Master course\n"
     ]
    }
   ],
   "source": [
    "# Ans3\n",
    "# Multiple Inheritence: (when a class derive from more than one class )\n",
    "\"\"\"\n",
    "When a class is derived from more than one base class it is called multiple Inheritance.\n",
    "The derived class inherits all the features of the base case.\"\"\"\n",
    "\n",
    "# For Example\n",
    "\n",
    "# class1\n",
    "\n",
    "class class1:\n",
    "    #method of class1\n",
    "    def message(self):\n",
    "        print(\"Hello this is the Base class \")\n",
    "        \n",
    "        \n",
    "#class2 \n",
    "class class2:\n",
    "    #method of class2 \n",
    "    def wish_message(self):\n",
    "        \n",
    "        print(\"Hey Good luck! I am persuning the Data science Master course\")\n",
    "        \n",
    "        \n",
    "        \n",
    "# Derived Class from class1 and  class2 that derived class called as multiple inheritence\n",
    "         \n",
    "class Derived_class(class1,class2):\n",
    "    pass \n",
    "\n",
    "# instances of the class\n",
    "\n",
    "obj_derived_class = Derived_class()\n",
    "\n",
    "# Accesing the methods of class1  and class2 using the instance of the Derived class\n",
    "\n",
    "obj_derived_class.message()\n",
    "obj_derived_class.wish_message()\n"
   ]
  },
  {
   "cell_type": "code",
   "execution_count": 94,
   "id": "e1f4217a-c6a8-4017-8499-f4e64ddeab9a",
   "metadata": {},
   "outputs": [
    {
     "name": "stdout",
     "output_type": "stream",
     "text": [
      "('ARJUN NAGAR', 56)\n"
     ]
    }
   ],
   "source": [
    "# Ans4  Getter and Setter in python\n",
    "\"\"\"\n",
    "Getter and setter methods are used in object-oriented programming to define \n",
    "how an object's attributes can be accessed and modified.\n",
    "They are commonly used in Python to control the access to an object's attributes and to ensure that the attributes are in a valid state. \"\"\"\n",
    "\n",
    "# Gatter:\n",
    "\"\"\" A getter method is a method that is used to retrieve the value of an object's attribute.\"\"\"\n",
    "# Setter:\n",
    "\"\"\"A setter method is a method that is used to set the value of an object's attribute.\"\"\"\n",
    "\n",
    "# For Example:\n",
    "class Employee:\n",
    "    def __init__(self, name,age):\n",
    "        self._name = name\n",
    "        self._age =age\n",
    "\n",
    "    # Getter method\n",
    "    def get_name(self):\n",
    "        return self._name ,self._age\n",
    "        \n",
    "    \n",
    "\n",
    "    # Setter method\n",
    "    def set_name(self, name ,age):\n",
    "        self._name = name\n",
    "        self._age =age\n",
    "\n",
    "    # Property decorator to access the getter method as an attribute\n",
    "    @property\n",
    "    def name(self):\n",
    "        return self.get_name()\n",
    "\n",
    "    # Property decorator to access the setter method as an attribute\n",
    "    @name.setter\n",
    "    def name(self, name,age):\n",
    "        self.set_name(name)\n",
    "        self.set_name(age)\n",
    "\n",
    "empl = Employee(\"ARJUN NAGAR\" ,56)\n",
    "print(empl.name) \n",
    "\n",
    "   \n",
    "\n"
   ]
  },
  {
   "cell_type": "code",
   "execution_count": 99,
   "id": "24cdec64-b8c6-4df9-9243-1ce12cdb5bca",
   "metadata": {},
   "outputs": [
    {
     "name": "stdout",
     "output_type": "stream",
     "text": [
      "Welcome Data Scientist\n"
     ]
    }
   ],
   "source": [
    "# Ans5\n",
    "# Method Overriding\n",
    "\"\"\"\n",
    "Method Overriding in Python is an OOPs concept closely related to inheritance.\n",
    "When a child class method overrides(or, provides it's own implementation) the parent class method of the same name, parameters and return type, it is known as method overriding.\n",
    "\"\"\"\n",
    "\n",
    "# For example:\n",
    "class shape:\n",
    "    # method having name sum\n",
    "    \n",
    "    def message(self):\n",
    "        print(\"Hi Python Developer\")\n",
    "    \n",
    "class shape1(shape):\n",
    "    \n",
    "    # method having same name but it tkaes 3 arguments \n",
    "    def message(self):\n",
    "        print(\"Welcome Data Scientist\")\n",
    "        \n",
    "# instances of the class shape\n",
    "obj =shape1()\n",
    "obj.message()\n",
    "\n",
    "        \n",
    "\n"
   ]
  },
  {
   "cell_type": "code",
   "execution_count": null,
   "id": "b50a1349-3feb-49c7-af69-e30b5f4c98d0",
   "metadata": {},
   "outputs": [],
   "source": []
  }
 ],
 "metadata": {
  "kernelspec": {
   "display_name": "Python 3 (ipykernel)",
   "language": "python",
   "name": "python3"
  },
  "language_info": {
   "codemirror_mode": {
    "name": "ipython",
    "version": 3
   },
   "file_extension": ".py",
   "mimetype": "text/x-python",
   "name": "python",
   "nbconvert_exporter": "python",
   "pygments_lexer": "ipython3",
   "version": "3.10.8"
  }
 },
 "nbformat": 4,
 "nbformat_minor": 5
}
