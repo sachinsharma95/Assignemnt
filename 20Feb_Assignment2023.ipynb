{
 "cells": [
  {
   "cell_type": "code",
   "execution_count": 3,
   "id": "bac0d8a8-51c8-413a-80b4-bb1ed3663dca",
   "metadata": {},
   "outputs": [],
   "source": [
    "import logging\n",
    "logging.basicConfig(filename=\"20FebInfo.log\", level=logging.INFO, format=\"%(asctime)s %(name)s %(message)s\")\n"
   ]
  },
  {
   "cell_type": "code",
   "execution_count": 4,
   "id": "315b0308-0ec1-4871-8129-0b32627ed16d",
   "metadata": {},
   "outputs": [
    {
     "name": "stdout",
     "output_type": "stream",
     "text": [
      "Collecting flask\n",
      "  Downloading Flask-2.2.3-py3-none-any.whl (101 kB)\n",
      "\u001b[2K     \u001b[90m━━━━━━━━━━━━━━━━━━━━━━━━━━━━━━━━━━━━━━━\u001b[0m \u001b[32m101.8/101.8 kB\u001b[0m \u001b[31m2.3 MB/s\u001b[0m eta \u001b[36m0:00:00\u001b[0ma \u001b[36m0:00:01\u001b[0m\n",
      "\u001b[?25hCollecting Werkzeug>=2.2.2\n",
      "  Downloading Werkzeug-2.2.3-py3-none-any.whl (233 kB)\n",
      "\u001b[2K     \u001b[90m━━━━━━━━━━━━━━━━━━━━━━━━━━━━━━━━━━━━━━━\u001b[0m \u001b[32m233.6/233.6 kB\u001b[0m \u001b[31m7.2 MB/s\u001b[0m eta \u001b[36m0:00:00\u001b[0m\n",
      "\u001b[?25hCollecting itsdangerous>=2.0\n",
      "  Downloading itsdangerous-2.1.2-py3-none-any.whl (15 kB)\n",
      "Requirement already satisfied: Jinja2>=3.0 in /opt/conda/lib/python3.10/site-packages (from flask) (3.1.2)\n",
      "Requirement already satisfied: click>=8.0 in /opt/conda/lib/python3.10/site-packages (from flask) (8.1.3)\n",
      "Requirement already satisfied: MarkupSafe>=2.0 in /opt/conda/lib/python3.10/site-packages (from Jinja2>=3.0->flask) (2.1.1)\n",
      "Installing collected packages: Werkzeug, itsdangerous, flask\n",
      "Successfully installed Werkzeug-2.2.3 flask-2.2.3 itsdangerous-2.1.2\n",
      "Note: you may need to restart the kernel to use updated packages.\n"
     ]
    }
   ],
   "source": [
    "pip install flask\n"
   ]
  },
  {
   "cell_type": "code",
   "execution_count": null,
   "id": "1734eca8-e073-4bab-85e4-b4eece541baf",
   "metadata": {},
   "outputs": [],
   "source": [
    "# Ans1\n",
    "# GET Method:\n",
    "\n",
    "\"\"\"\n",
    "GET is a HTTP method used to retrieve information from a server.\n",
    "When a GET request is made, the data is sent as part of the URL in the form of query parameters.\n",
    "GET requests should not be used to submit sensitive information such as passwords or credit card numbers as the data is visible in the URL\n",
    "\"\"\"\n",
    "# POST MEthod\n",
    "\"\"\"\n",
    "POST is a HTTP method used to send data to a server to create or update a resource.\n",
    "POST requests are commonly used in forms to submit data to a server for processing. \n",
    "Unlike GET requests, data sent through a POST request is not visible in the URL. \n",
    "It send the Data through the body so it considered to be the secure as compared to the GET Method.\n",
    "\n",
    "\"\"\"\n",
    "\n"
   ]
  },
  {
   "cell_type": "code",
   "execution_count": null,
   "id": "3f0591ac-08fb-4d28-9183-4ea7577dc2db",
   "metadata": {},
   "outputs": [],
   "source": [
    "# Ans2\n",
    "\n",
    "\"\"\"\n",
    "In Flask, request is a built-in module that allows the user to access incoming request data from a client in the context of a Flask application. It is used to handle HTTP requests from a client and retrieve data submitted by the client in the form of form data, URL parameters, or JSON data. \n",
    "\n",
    "\"\"\"\n",
    "# Reasons to use request in flask\n",
    "\"\"\"\n",
    "Retrieving data from client requests:\n",
    "The request module in Flask is used to retrieve data submitted by the client in the form of form data, URL parameters, or JSON data. This data can be used to create a dynamic response from the Flask application.\n",
    "\n",
    "Parsing incoming data:\n",
    "request module is used to parse and extract data from incoming HTTP requests. It provides methods to access form data, URL parameters, headers, cookies, and other information associated with the incoming request.\n",
    "\n",
    "\n",
    "Authentication and Authorization: \n",
    "request module is used to handle authentication and authorization in Flask applications. It allows the Flask application to retrieve user credentials from the incoming request and use them to authenticate and authorize the user.\n",
    "\n",
    "Building APIs:\n",
    "request module is an essential tool for building APIs in Flask. It allows the Flask application to handle incoming requests, retrieve data, and return appropriate responses to the client in a structured format such as JSON or XML.\n",
    "\"\"\"\n",
    "\n",
    "\"\"\"\n",
    "Overall, the request object is a fundamental component of Flask and is essential for handling incoming HTTP requests to the server.\n",
    "\"\"\"\n",
    "\n",
    "\n",
    "\n"
   ]
  },
  {
   "cell_type": "code",
   "execution_count": null,
   "id": "5176d096-9a38-4714-af00-2f34824c51c7",
   "metadata": {},
   "outputs": [],
   "source": [
    "# Ans3\n",
    "\n",
    "# Redirect()\n",
    "\"\"\"\n",
    "Redirect() is used in Flask to redirect the user to a different URL. \n",
    "This can be useful in many situations, such as after the user submits a form, logs in, or when a page is not found\n",
    "\"\"\"\n",
    "# Example\n",
    "\n",
    "from flask import Flask, redirect, url_for\n",
    "# import the redirect and url_for \n",
    "\n",
    "app = Flask(__name__)\n",
    "\n",
    "@app.route('/')\n",
    "\n",
    "def index():\n",
    "    \n",
    "logging.info(\"index routing\")  #logging \n",
    "    # Redirect to the message() view function\n",
    "    \n",
    "    return redirect(url_for('message'))\n",
    "\n",
    "@app.route('/message')\n",
    "def message():\n",
    "    return 'Welcome ! You are using the redirect '\n",
    "\n",
    "if __name__ == '__main__':\n",
    "    app.run()\n",
    "\n",
    "\n"
   ]
  },
  {
   "cell_type": "code",
   "execution_count": null,
   "id": "bbe58f14-a3d5-4049-babc-0ab6114cd9f9",
   "metadata": {},
   "outputs": [
    {
     "name": "stdout",
     "output_type": "stream",
     "text": [
      " * Serving Flask app '__main__'\n",
      " * Debug mode: off\n"
     ]
    }
   ],
   "source": [
    "# Ans4\n",
    "# Template\n",
    "\n",
    "\"\"\"\n",
    "Templates are files that contain static data as well as placeholders for dynamic data.\n",
    "A template is rendered with specific data to produce a final document. \n",
    "Flask uses the Jinja template library to render templates.\n",
    "\"\"\"\n",
    "\n",
    "# render_template() is used beacuse\n",
    "\"\"\"\n",
    "render_template is a Flask function from the flask. templating package. \n",
    "render_template is used to generate output from a template file based on the Jinja2 engine that is found in the application's templates folder\n",
    "\n",
    "\"\"\"\n",
    "\n",
    "\n",
    "# Example for the render template template name index.html\n",
    "\n",
    "from flask import Flask, render_template\n",
    "#import the render template library\n",
    "\n",
    "app = Flask(__name__)\n",
    "\n",
    "logging.info(\"rendering the template \")\n",
    "\n",
    "@app.route('/')\n",
    "def home():\n",
    "    return render_template('index.html')\n",
    "\n",
    "if __name__==\"__main__\":\n",
    "    app.run(host=\"0.0.0.0\")\n"
   ]
  },
  {
   "cell_type": "code",
   "execution_count": null,
   "id": "c1e8dca7-7f6b-49be-9c83-b614abd1533a",
   "metadata": {},
   "outputs": [],
   "source": [
    "# Ans5\n",
    "\n",
    "#import the flask as well as jsonify for json data\n",
    "\n",
    "from flask import Flask,request,jsonify\n",
    "\n",
    "\n",
    "app = Flask(__name__)\n",
    "\n",
    "@app.route(\"/\",methods = ['GET'])\n",
    "def get_data():\n",
    "    dt = {\"name\":\"Sachin_Sharma\",\"email\":\"xyz@gmail.com\"}  #json data \n",
    "    return jsonify(dt)\n",
    "\n",
    "logging.info(\"postman Api testing\")\n",
    "\n",
    "@app.route(\"/Api\", methods = ['POST'])\n",
    "def post_data():\n",
    "    dt = request.get_json()\n",
    "    pst = dt[\"message\"]\n",
    "    return jsonify(pst)  \n",
    "    \n",
    "\n",
    "if __name__==\"__main__\":\n",
    "    app.run(host=\"0.0.0.0\")\n",
    "    "
   ]
  },
  {
   "cell_type": "markdown",
   "id": "001d3205-348c-46f5-a880-37732ae36f4d",
   "metadata": {},
   "source": [
    "<img src= \"get.jpg\">\n",
    "<img src= \"post.jpg\">\n",
    "\n"
   ]
  },
  {
   "cell_type": "code",
   "execution_count": null,
   "id": "8b0eaa71-9072-47eb-b643-bddaffab877f",
   "metadata": {},
   "outputs": [],
   "source": []
  }
 ],
 "metadata": {
  "kernelspec": {
   "display_name": "Python 3 (ipykernel)",
   "language": "python",
   "name": "python3"
  },
  "language_info": {
   "codemirror_mode": {
    "name": "ipython",
    "version": 3
   },
   "file_extension": ".py",
   "mimetype": "text/x-python",
   "name": "python",
   "nbconvert_exporter": "python",
   "pygments_lexer": "ipython3",
   "version": "3.10.8"
  }
 },
 "nbformat": 4,
 "nbformat_minor": 5
}
