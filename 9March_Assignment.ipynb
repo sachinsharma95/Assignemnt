{
  "nbformat": 4,
  "nbformat_minor": 0,
  "metadata": {
    "colab": {
      "provenance": []
    },
    "kernelspec": {
      "name": "python3",
      "display_name": "Python 3"
    },
    "language_info": {
      "name": "python"
    }
  },
  "cells": [
    {
      "cell_type": "code",
      "source": [
        "import logging\n",
        "logging.basicConfig(filename=\"9MarchInfo.log\", level=logging.INFO, format=\"%(asctime)s %(name)s %(message)s\")"
      ],
      "metadata": {
        "id": "Uak_IzoJUlb7"
      },
      "execution_count": null,
      "outputs": []
    },
    {
      "cell_type": "code",
      "source": [
        "# Answer1\n",
        "\n",
        "# the Probability Mass Function (PMF) and Probability Density Function (PDF)\n",
        "\n",
        "\"\"\"\n",
        "Probability Mass Function (PMF) and Probability Density Function (PDF) are two concepts used to describe the probability distribution of a random variable.\n",
        "\"\"\"\n",
        "# 1 probability mass function with example:\n",
        "\"\"\"\n",
        "1 Probability Mass Function (PMF) is used to describe the probability distribution of a discrete random variable\n",
        "2 The PMF gives the probability that a discrete random variable takes on a specific value. It maps each value of the random variable to its probability of occurrence. \n",
        "\n",
        "\n",
        " The PMF is defined as:\n",
        " P(X = x) = f(x)\n",
        "\n",
        "where X is the random variable, x is the value taken by the random variable, \n",
        "and f(x) is the probability of X taking the value x.\n",
        "\n",
        "\n",
        "\"\"\"\n",
        "# Example of the pmf\n",
        "\"\"\"\n",
        "An example of a probability mass function is the PMF for a fair six-sided die roll. \n",
        "values that the random variable X can take are 1, 2, 3, 4, 5, and 6, and each of these values has an equal probability of 1/6.\n",
        " Therefore, the PMF of X is:\n",
        "\n",
        "P(X = 1) = 1/6\n",
        "P(X = 2) = 1/6\n",
        "P(X = 3) = 1/6\n",
        "P(X = 4) = 1/6\n",
        "P(X = 5) = 1/6\n",
        "P(X = 6) = 1/6\n",
        "\n",
        "\"\"\"\n",
        "# probabilty density function:\n",
        "\"\"\"\n",
        "\n",
        "1 Probability Density Function (PDF) is used to describe the probability distribution of a continuous random variable.\n",
        "2  The PDF gives the probability density of a continuous random variable at a particular point. It maps each point on the real line to its probability density.\n",
        "\n",
        "\n",
        "The PDF is defined as:\n",
        "\n",
        "f(x) = dF(x)/dx\n",
        "\n",
        "where X is the continuous random variable, x is the point on the real line,\n",
        " F(x) is the cumulative distribution function of X, and dF(x)/dx is the derivative of the cumulative distribution function.\n",
        "\n",
        "\n",
        "\"\"\"\n",
        "\n",
        "# Example of the pdf:\n",
        "\"\"\"\n",
        "\n",
        "An example of a probability density function is the PDF of a standard normal distribution, which is given by the formula\n",
        "\n",
        "\n",
        "f(x) = (1/√(2π)) * e^(-x^2/2)\n",
        "\n",
        "\n",
        "\n",
        "where x is any point on the real line. T\n",
        "his PDF is a bell-shaped curve centered at 0, with a standard deviation of 1. \n",
        "The area under the curve between any two points on the real line represents the probability of the random variable taking on values within that range.\n",
        "\n",
        "\n",
        "\"\"\"\n",
        "\n",
        "\n",
        "\n",
        "\n"
      ],
      "metadata": {
        "id": "63W6cG6pUnqX"
      },
      "execution_count": null,
      "outputs": []
    },
    {
      "cell_type": "code",
      "source": [
        "# ANswer2\n",
        "\n",
        "# Cumulative Density function:\n",
        "\"\"\"\n",
        "Cumulative Density Function (CDF) is a function used to describe the probability distribution of a random variable, both discrete and continuous. \n",
        "The CDF gives the probability that a random variable takes a value less than or equal to a specified value.\n",
        "It provides a complete description of the probability distribution of a random variable by giving the cumulative probability of all possible values of the random variable.\n",
        "\n",
        "\n",
        "\n",
        "For a discrete random variable X, the CDF is defined as:\n",
        "\n",
        "F(x) = P(X ≤ x)\n",
        "\n",
        "where x is any value of the random variable X.\n",
        "\n",
        "For a continuous random variable X, the CDF is defined as:\n",
        "\n",
        "F(x) = ∫f(t)dt from -∞ to x\n",
        "\n",
        "where f(x) is the probability density function of X.\n",
        "\n",
        "\n",
        "\"\"\"\n",
        "# Example\n",
        "\"\"\"\n",
        "An example of a CDF is the CDF of a standard normal distribution. \n",
        "The CDF of a standard normal distribution is a function that gives the probability that a standard normal random variable takes on a value less than or equal to a given value. The CDF of a standard normal distribution is denoted by Φ(x) and is given by the formula:\n",
        "\n",
        "Φ(x) = ∫(-∞ to x) [1/√(2π)] * e^(-t^2/2)dt\n",
        "\n",
        "\n",
        "where x is any value of the standard normal random variable.\n",
        "\n",
        "The CDF is used because it provides a complete description of the probability distribution of a random variable. \n",
        "It enables us to calculate the probabilities of random variables taking on specific values or falling within certain ranges. Additionally, the CDF can be used to calculate percentiles and quantiles, which are important measures of central tendency and variability.\n",
        "\n",
        "\"\"\"\n",
        "\n",
        "\n"
      ],
      "metadata": {
        "colab": {
          "base_uri": "https://localhost:8080/",
          "height": 164
        },
        "id": "12JlMLKLdRew",
        "outputId": "91d4ec59-39da-49e4-e86c-d6beb86abf6e"
      },
      "execution_count": 3,
      "outputs": [
        {
          "output_type": "execute_result",
          "data": {
            "text/plain": [
              "'\\nAn example of a CDF is the CDF of a standard normal distribution. \\nThe CDF of a standard normal distribution is a function that gives the probability that a standard normal random variable takes on a value less than or equal to a given value. The CDF of a standard normal distribution is denoted by Φ(x) and is given by the formula:\\n\\nΦ(x) = ∫(-∞ to x) [1/√(2π)] * e^(-t^2/2)dt\\n\\n\\nwhere x is any value of the standard normal random variable.\\n\\nThe CDF is used because it provides a complete description of the probability distribution of a random variable. \\nIt enables us to calculate the probabilities of random variables taking on specific values or falling within certain ranges. Additionally, the CDF can be used to calculate percentiles and quantiles, which are important measures of central tendency and variability.\\n\\n'"
            ],
            "application/vnd.google.colaboratory.intrinsic+json": {
              "type": "string"
            }
          },
          "metadata": {},
          "execution_count": 3
        }
      ]
    },
    {
      "cell_type": "code",
      "source": [
        "# Answer3\n",
        "\"\"\"\n",
        "The normal distribution is a statistical model that is widely used in various fields of research, especially in the social and natural sciences, finance, and engineering.\n",
        "\n",
        "Some Example where Normal distribution is used as a model.\n",
        "\n",
        "Height and weight measurements of a population\n",
        "IQ scores of a population\n",
        "Blood pressure readings of a population\n",
        "Error rates in manufacturing processes\n",
        "Stock market returns\n",
        "\n",
        "\n",
        "\n",
        "\"\"\"\n",
        "# The parameters of the normal distribution relate to the shape of the distribution.\n",
        "\n",
        "\"\"\"\n",
        " the mean and standard deviation are important parameters that help to characterize the shape of the normal distribution and provide .\n",
        "\n",
        "\n",
        "1 The normal distribution is characterized by two parameters: the mean (µ) and the standard deviation (σ).\n",
        "2 The mean represents the center of the distribution and is also the location of the peak of the distribution.\n",
        "3 The standard deviation represents the spread or dispersion of the distribution.\n",
        "4 The value of σ determines how much the data is spread out around the mean. A smaller σ value indicates that the data is tightly clustered around the mean, whereas a larger σ value indicates that the data is more spread out.\n",
        "5 A larger standard deviation results in a wider distribution, while a smaller standard deviation results in a narrower distribution.\n",
        "6 The normal distribution is symmetrical around the mean, meaning that the probability of a data point being above the mean is the same as the probability of a data point being below the mean.\n",
        "\n",
        "\"\"\""
      ],
      "metadata": {
        "id": "aes9GZ8H2Gty"
      },
      "execution_count": null,
      "outputs": []
    },
    {
      "cell_type": "code",
      "source": [
        "# Answer4\n",
        "# the importance of Normal Distribution.\n",
        "\"\"\"\n",
        "The importance of the normal distribution is due to the following reasons:\n",
        "\n",
        "1 It is a simple mathematical model that can accurately represent many real-world phenomena\n",
        "2 It is the basis for many statistical tests and procedures, such as hypothesis testing and confidence intervals.\n",
        "3 It allows for precise calculations of probabilities and confidence intervals, which can be useful in decision making.\n",
        "4 It has well-defined and easily interpretable parameters, such as mean and standard deviation, which can help understand the central tendency and variability of the data.\n",
        "\"\"\"\n",
        "\n",
        "# Some real-life examples of normal distribution include:\n",
        "\"\"\"\n",
        "Height and weight measurements of a population\n",
        "IQ scores of a population\n",
        "Blood pressure readings of a population\n",
        "Test scores of a large group of students\n",
        "Errors in manufacturing processes\n",
        "Delivery times of a courier service.\n",
        "\"\"\"\n",
        "\n"
      ],
      "metadata": {
        "id": "N3rlrz7hNYwb"
      },
      "execution_count": null,
      "outputs": []
    },
    {
      "cell_type": "code",
      "source": [
        "# Answer5\n",
        "\n",
        "# Bernaulli Distribution\n",
        "\"\"\"\n",
        "The Bernoulli distribution is a discrete probability distribution that models the outcomes of a single binary (two-valued) experiment. \n",
        "The experiment can result in success (with probability p) or failure (with probability 1-p).\n",
        "\n",
        "\n",
        "# for Example:\n",
        "\n",
        "consider flipping a coin where \"heads\" is defined as success and \"tails\" as failure. \n",
        "The Bernoulli distribution can model the probability of getting a \"heads\" or \"tails\" outcome.\n",
        "\n",
        "\"\"\"\n",
        "\n",
        "#  Some key differences between the Bernoulli and binomial distributions:\n",
        "\n",
        "\"\"\"\n",
        "The Bernoulli distribution models a single binary trial.\n",
        "while the binomial distribution models the number of successes in a fixed number of independent binary trials.\n",
        "\n",
        "\n",
        "The Bernoulli distribution has a single parameter, p, which represents the probability of success in a single trial.\n",
        "The binomial distribution has two parameters, n and p, where n represents the number of trials and p represents the probability of success in a single trial.\n",
        "\n",
        "\n",
        "The Bernoulli distribution has only two possible outcomes (success or failure).\n",
        "while the binomial distribution can have multiple outcomes (e.g., number of successes).\n",
        "\n",
        "\n",
        "The probability mass function of the Bernoulli distribution is given by P(X=x) = p^x(1-p)^(1-x).\n",
        "while the probability mass function of the binomial distribution is given by P(X=k) = (n choose k) p^k(1-p)^(n-k).\n",
        "\n",
        "\n",
        "The mean and variance of the Bernoulli distribution are both equal to p.\n",
        " while the mean of the binomial distribution is equal to np and the variance is equal to np(1-p).\n",
        "\n",
        " \"\"\"\n",
        "\n"
      ],
      "metadata": {
        "colab": {
          "base_uri": "https://localhost:8080/",
          "height": 182
        },
        "id": "Qh768Q00NY82",
        "outputId": "5e573bc8-1be5-4639-92cb-930b56312af8"
      },
      "execution_count": 2,
      "outputs": [
        {
          "output_type": "execute_result",
          "data": {
            "text/plain": [
              "'\\nThe Bernoulli distribution models a single binary trial.\\nwhile the binomial distribution models the number of successes in a fixed number of independent binary trials.\\n\\n\\nThe Bernoulli distribution has a single parameter, p, which represents the probability of success in a single trial.\\nThe binomial distribution has two parameters, n and p, where n represents the number of trials and p represents the probability of success in a single trial.\\n\\n\\nThe Bernoulli distribution has only two possible outcomes (success or failure).\\nwhile the binomial distribution can have multiple outcomes (e.g., number of successes).\\n\\n\\nThe probability mass function of the Bernoulli distribution is given by P(X=x) = p^x(1-p)^(1-x).\\nwhile the probability mass function of the binomial distribution is given by P(X=k) = (n choose k) p^k(1-p)^(n-k).\\n\\n\\nThe mean and variance of the Bernoulli distribution are both equal to p.\\n while the mean of the binomial distribution is equal to np and the variance is equal to np(1-p).\\n\\n '"
            ],
            "application/vnd.google.colaboratory.intrinsic+json": {
              "type": "string"
            }
          },
          "metadata": {},
          "execution_count": 2
        }
      ]
    },
    {
      "cell_type": "code",
      "source": [
        "# Ansswer6\n",
        "\"\"\"\n",
        "Given: \n",
        "x =60\n",
        "μ = 50\n",
        "σ = 10 \n",
        "\n",
        "\"\"\"\n",
        "\n",
        "# Calculation\n",
        "\n",
        "\"\"\"\n",
        "The formula for standardizing a normal variable is:\n",
        "\n",
        "z = (x - μ) / σ\n",
        "\n",
        "\n",
        "where z is the standardized score, x is the observed value.\n",
        " μ is the mean, and σ is the standard deviation.\n",
        "\n",
        "In this case\"\n",
        "z = (60 - 50) / 10\n",
        "z = 1\n",
        "\n",
        "using the z-table\n",
        "\n",
        "1-(value at z_number)\n",
        "\n",
        "\n",
        "This probability is approximately 0.1587.\n",
        " \"\"\"\n",
        "\n",
        "#  Final Answer\n",
        "\"\"\"\n",
        "Therefore, the probability that a randomly selected observation from this dataset will be greater than 60 is approximately 0.1587 or 15.87%.\n",
        "\"\"\"\n",
        "\n",
        "\n"
      ],
      "metadata": {
        "id": "Mebzx1pCNY_y"
      },
      "execution_count": null,
      "outputs": []
    },
    {
      "cell_type": "code",
      "source": [
        "# Answer7\n",
        "# Uniform Distribution with an example.\n",
        "\n",
        "\"\"\"\n",
        "The uniform distribution is a probability distribution where all outcomes within a given range are equally likely.\n",
        "It is often used to model situations where the probability of an event occurring is the same for all possible outcomes in a given interval or range.\n",
        "\n",
        "\"\"\"\n",
        "# Example:\n",
        "\n",
        "\"\"\"\n",
        "A situation that can be modeled using a uniform distribution is the daily temperature range in a particular location.\n",
        "Assume that the temperature range in a certain area is between 70 and 90 degrees Fahrenheit. If we assume that the temperature is equally likely to be any value within this range, we can model this situation using a uniform distribution.\n",
        "\n",
        "\n",
        "The probability density function (fx) of a uniform distribution is given by:\n",
        "\n",
        "f(x) = 1/(b - a), a ≤ x ≤ b\n",
        "\n",
        "f(x) = 1/(90 - 70) = 1/20, 70 ≤ x ≤ 90\n",
        "\n",
        "\"\"\"\n",
        "\n",
        "\n",
        "\n"
      ],
      "metadata": {
        "id": "I3MivcnVNZFa"
      },
      "execution_count": null,
      "outputs": []
    },
    {
      "cell_type": "code",
      "source": [
        "# ANSwer8\n",
        "\n",
        "# Z-Score\n",
        "\"\"\"\n",
        "A z-score, also known as a standard score.\n",
        "It is a measure of how many standard deviations a data point is from the mean of a distribution.\n",
        "It is calculated by subtracting the mean from the data point and then dividing by the standard deviation:\n",
        "\n",
        "z = (x - μ) / σ\n",
        "\n",
        "\n",
        "Where x is the data point, μ is the mean, and σ is the standard deviation.\n",
        "\"\"\"\n",
        "# Importance of Z-score\n",
        "\n",
        "\"\"\"\n",
        "The importance of the z-score lies in its ability to standardize different datasets so they can be compared and analyzed together\n",
        "Z-scores are particularly useful in statistical analysis because they allow us to compare data from different distributions or datasets on the same scale. \n",
        "\n",
        "\n",
        "Some specific applications of the z-score include:\n",
        "\n",
        "identifying and analyzing outliers in a dataset\n",
        "determining the likelihood of a particular observation occurring within a given distribution\n",
        "comparing data from different datasets with different means and standard deviations\n",
        "\n",
        "\"\"\"\n"
      ],
      "metadata": {
        "id": "ixwoBoA-V1NU"
      },
      "execution_count": null,
      "outputs": []
    },
    {
      "cell_type": "code",
      "source": [
        "# Answer9\n",
        "# Cental Limit theorem\n",
        "\"\"\"\n",
        "The Central Limit Theorem (CLT) is a fundamental concept in statistics that describes the behavior of the sample means from a population. \n",
        " It states that the distribution of the sample means approaches a normal distribution as the sample size increases, regardless of the shape of the population distribution.\n",
        " \"\"\"\n",
        "# Significance of Cental Limit Theorem\n",
        "\"\"\"\n",
        "1 It allows us to make inferences about a population based on a sample. \n",
        "2 It enables us to estimate the population mean, even if the population distribution is not known or is not normally distributed.\n",
        "\n",
        "\"\"\"\n"
      ],
      "metadata": {
        "id": "PG5u756ONZIk"
      },
      "execution_count": null,
      "outputs": []
    },
    {
      "cell_type": "code",
      "source": [
        "# Answer10\n",
        "# Assumption of Central Limit theorem CLt\n",
        "\n",
        "\"\"\"\n",
        "1 Random Sampling: \n",
        "The sample must be chosen randomly from the population.\n",
        "\n",
        "2 Independence:\n",
        " The observations within the sample must be independent of each other. This means that the value of one observation does not influence the value of another.\n",
        "\n",
        "\n",
        "3 Sample size: \n",
        "The sample size should be large enough. Although there is no exact number, a rule of thumb is that the sample size should be greater than or equal to 30. However, for some non-normal populations, a larger sample size may be required.\n",
        "\n",
        "4 Finite variance: \n",
        "The population from which the sample is drawn should have a finite variance. If the variance of the population is infinite or unknown, the CLT may not hold.\n",
        "\n",
        "\n",
        "5 No extreme values: \n",
        "The population should not have any extreme values or outliers that would significantly affect the mean or standard deviation.\n",
        "\n",
        "\"\"\""
      ],
      "metadata": {
        "id": "_DxniAATNZKq"
      },
      "execution_count": null,
      "outputs": []
    }
  ]
}