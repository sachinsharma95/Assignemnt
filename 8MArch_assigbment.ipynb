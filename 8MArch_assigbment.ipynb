{
  "nbformat": 4,
  "nbformat_minor": 0,
  "metadata": {
    "colab": {
      "provenance": []
    },
    "kernelspec": {
      "name": "python3",
      "display_name": "Python 3"
    },
    "language_info": {
      "name": "python"
    }
  },
  "cells": [
    {
      "cell_type": "markdown",
      "source": [
        "probability density function, cdf, Distribution of the Data"
      ],
      "metadata": {
        "id": "zSUkKDPMR1Gx"
      }
    },
    {
      "cell_type": "code",
      "execution_count": 2,
      "metadata": {
        "id": "Wr3IlKkmyghH"
      },
      "outputs": [],
      "source": [
        "import logging\n",
        "logging.basicConfig(filename=\"8MarchInfo.log\", level=logging.INFO, format=\"%(asctime)s %(name)s %(message)s\")"
      ]
    },
    {
      "cell_type": "code",
      "source": [
        "# ANswer1\n",
        "# probability density function(pdf)\n",
        "\"\"\"\n",
        "1 The Probability Density Function (PDF) is a mathematical function that describes the probability distribution of a continuous random variable.\n",
        "2 It provides the probability of a random variable taking a value within a particular range, as opposed to taking on a specific value, which is the case with discrete random variables.\n",
        "\n",
        "\"\"\"\n",
        "# FOrmula of (pdf)\n",
        "\"\"\"\n",
        "The formula for the Probability Density Function (PDF) of a continuous random variable X is:\n",
        "\n",
        "f(x) = dF(x)/dx\n",
        "\n",
        "\n",
        "where f(x) represents the probability density at a specific value of X, and F(x) represents the cumulative distribution function of X. The derivative of F(x) with respect to x gives the PDF f(x).\n",
        "\"\"\"\n"
      ],
      "metadata": {
        "id": "V8Y_u1c1zIi0"
      },
      "execution_count": null,
      "outputs": []
    },
    {
      "cell_type": "code",
      "source": [
        "# Answer2\n",
        "# Types of probability distributions.\n",
        "\n",
        "\"\"\"\n",
        "1 Discrete probability distributions:\n",
        "\n",
        "Discrete probability distributions are used to model random variables that take on a finite or countably infinite set of values. \n",
        "Examples of discrete probability distributions include the binomial distribution, Poisson distribution, and geometric distribution.\n",
        "\n",
        "\"\"\"\n",
        "\n",
        "\"\"\"\n",
        "2  Continuous probability distributions:\n",
        "Continuous probability distributions are used to model random variables that can take on any value within a specified range. \n",
        "Examples of continuous probability distributions include the normal distribution, uniform distribution, and exponential distribution.\n",
        "\n",
        "\n",
        "\"\"\"\n",
        "# Discrete Probability Distributions:\n",
        "\"\"\"\n",
        "Bernoulli Distribution\n",
        "Binomial Distribution\n",
        "Poisson Distribution\n",
        "Geometric Distribution\n",
        "Negative Binomial Distribution\n",
        "Hypergeometric Distribution\n",
        "\"\"\"\n",
        "# Continuous Probability Distributions:\n",
        "\"\"\"\n",
        "Normal Distribution\n",
        "Uniform Distribution\n",
        "Exponential Distribution\n",
        "Gamma Distribution\n",
        "Beta Distribution\n",
        "Weibull Distribution\n",
        "Log-Normal Distribution\n",
        "Chi-Square Distribution\n",
        "Student's t-Distribution\n",
        "\"\"\"\n",
        "\n"
      ],
      "metadata": {
        "colab": {
          "base_uri": "https://localhost:8080/",
          "height": 54
        },
        "id": "Ic7SDZMk0ETE",
        "outputId": "355d143f-5b3c-47a4-ac2d-ac555b6fb937"
      },
      "execution_count": null,
      "outputs": [
        {
          "output_type": "execute_result",
          "data": {
            "text/plain": [
              "'\\n1 Normal/ Gaussian distribution\\n2 Bernaulli dsitrubution\\n3 uniform  dsitrubution\\n4 poission  dsitrubution\\n5 Log normal  dsitrubution\\n6 Binomial distribution\\n\\n'"
            ],
            "application/vnd.google.colaboratory.intrinsic+json": {
              "type": "string"
            }
          },
          "metadata": {},
          "execution_count": 2
        }
      ]
    },
    {
      "cell_type": "code",
      "source": [
        "# ANswer3\n",
        "\n",
        "# function to calcule the pdf \n",
        "\n",
        "\n",
        "import math\n",
        "import numpy as np\n",
        "\n",
        "logging.info(\"calculating the pdf with help of mean and std\")\n",
        "def normal_pdf(x, mean, std_dev):\n",
        "\n",
        "    \"\"\"\n",
        "    Calculates the probability density function of a normal distribution at a given point.\n",
        "    \n",
        "    Parameters:\n",
        "    x (float): the value at which to calculate the PDF\n",
        "    mean (float): the mean of the normal distribution\n",
        "    std_dev (float): the standard deviation of the normal distribution\n",
        "    \n",
        "    Returns:\n",
        "    float: the probability density at the given point\n",
        "    \"\"\"\n",
        "    #actual calculation\n",
        "    \n",
        "    exponent = -1/2 * ((x - mean) / std_dev) ** 2\n",
        "    coefficient = 1 / (std_dev * math.sqrt(2 * math.pi))\n",
        "    pdf = coefficient * math.exp(exponent)\n",
        "    \n",
        "    return pdf\n",
        "\n",
        "\n",
        "    #callig the function\n",
        "\n",
        "pdf = normal_pdf(2.5, 3, 0.5)\n",
        "print(\"probability density is :\",pdf)\n",
        "\n"
      ],
      "metadata": {
        "colab": {
          "base_uri": "https://localhost:8080/"
        },
        "id": "yXRtIwlm1ctX",
        "outputId": "cfd3b1f2-527c-4a22-8b9f-2e76b1359748"
      },
      "execution_count": 3,
      "outputs": [
        {
          "output_type": "stream",
          "name": "stdout",
          "text": [
            "probability density is : 0.48394144903828673\n"
          ]
        }
      ]
    },
    {
      "cell_type": "code",
      "source": [
        "# ANswer4\n",
        "\n",
        "#properties of the Binomial distribution\n",
        "\"\"\"\n",
        "The trials are independent of each other.\n",
        "Each trial has only two possible outcomes: success or failure.\n",
        "The probability of success is constant for each trial.\n",
        "The number of trials is fixed.\n",
        "The random variable of interest is the number of successes.\n",
        "\"\"\"\n",
        "\n",
        "# Examples of events where the binomial distribution can be applied include:\n",
        "\"\"\"\"\n",
        "1 Flipping a coin:\n",
        "A coin flip is a simple example of a binomial experiment, where the outcome of each trial is either heads or tails, and the probability of getting heads is 0.5. \n",
        "The binomial distribution can be used to calculate the probability of getting a certain number of heads or tails in a fixed number of coin flips.\n",
        "\n",
        "\n",
        "2 Quality control:\n",
        "A manufacturing process produces items that are either defective or non-defective. A quality control inspector randomly selects a fixed number of items and inspects them for defects. \n",
        "The binomial distribution can be used to calculate the probability of finding a certain number of defective items in the sample, given the probability of a defective item in the population.\n",
        "\n",
        "\"\"\"\n"
      ],
      "metadata": {
        "id": "DG2sdP8n0A2f"
      },
      "execution_count": null,
      "outputs": []
    },
    {
      "cell_type": "code",
      "source": [
        "# Answer5\n",
        "\"\"\"\n",
        "To generate a random sample of size 1000 from a binomial distribution with probability of success 0.4, we can use the numpy library in Python. \n",
        "\"\"\"\n",
        "logging.info(\"generate a random sample of size 1000 from a binomial distribution by the hepp of the Numpy\")\n",
        "import numpy as np\n",
        "import matplotlib.pyplot as plt\n",
        "\n",
        "logging.info(\"Set the parameters of the binomial distribution\")\n",
        "\n",
        "n = 1000 # number of trials\n",
        "p = 0.4 # probability of success\n",
        "\n",
        "# Generate the random sample\n",
        "sample = np.random.binomial(n, p, size=1000)\n",
        "\n",
        "# Plot a histogram of the sample\n",
        "\n",
        "plt.hist(sample, bins=20)\n",
        "plt.xlabel('Number of successes')\n",
        "plt.ylabel('Frequency')\n",
        "plt.title('Binomial Distribution with n=1000, p=0.4')\n",
        "plt.show()\n",
        "\n"
      ],
      "metadata": {
        "id": "hHjYNKHB6AEJ",
        "colab": {
          "base_uri": "https://localhost:8080/",
          "height": 295
        },
        "outputId": "0e6caffa-ca81-4ba3-a9ed-b657baea984a"
      },
      "execution_count": 4,
      "outputs": [
        {
          "output_type": "display_data",
          "data": {
            "text/plain": [
              "<Figure size 432x288 with 1 Axes>"
            ],
            "image/png": "[encoded data removed]"
          },
          "metadata": {
            "needs_background": "light"
          }
        }
      ]
    },
    {
      "cell_type": "code",
      "source": [
        "# Answer6\n",
        "logging.info(\"Calculate the cumulative distribution function (CDF) of a Poisson distribution\")\n",
        "\n",
        "from scipy.stats import poisson\n",
        "\n",
        "def poisson_cdf(mean, point):\n",
        "\n",
        "      #using poisson.cdf() function\n",
        "    cdf = poisson.cdf(point, mean)\n",
        "    return cdf\n",
        "\n",
        "#calling the function\n",
        "\n",
        "mean = 7.5\n",
        "point = 8\n",
        "cdf = poisson_cdf(mean, point)\n",
        "print(\"The CDF of a Poisson distribution with mean\", mean, \"at point\", point, \"is\", cdf)\n",
        "\n",
        "\n"
      ],
      "metadata": {
        "colab": {
          "base_uri": "https://localhost:8080/"
        },
        "id": "uxf-B616Jol2",
        "outputId": "3d5d254a-f20d-4b35-88c2-31cb2726b832"
      },
      "execution_count": 6,
      "outputs": [
        {
          "output_type": "stream",
          "name": "stdout",
          "text": [
            "The CDF of a Poisson distribution with mean 7.5 at point 8 is 0.6619671191414831\n"
          ]
        }
      ]
    },
    {
      "cell_type": "code",
      "source": [
        "# Answer7\n",
        "# difference between Binomial and Poisson:\n",
        "\n",
        "\"\"\"\n",
        "Binomial distribution and Poisson distribution are two types of probability distributions that are used to model the occurrence of events with certain probabilities. \n",
        "However, they differ in several ways:\n",
        "\n",
        "1 Number of trials: \n",
        "The binomial distribution is used to model the number of successes in a fixed number of independent trials, \n",
        "whereas the Poisson distribution is used to model the number of occurrences of an event in a fixed interval of time or space.\n",
        "\n",
        "\n",
        "2 Probability of success: \n",
        "In the binomial distribution, the probability of success is constant across all trials.\n",
        "whereas in the Poisson distribution, the probability of occurrence is constant across the interval of time or space.\n",
        "\n",
        "\n",
        "3 Independence of trials: \n",
        "In the binomial distribution, the trials are assumed to be independent, meaning the outcome of one trial does not affect the outcome of the other trials. \n",
        "In the Poisson distribution, the occurrences are assumed to be independent, meaning the occurrence of one event does not affect the occurrence of other events.\n",
        "\n",
        "\n",
        "4 Mean and variance: \n",
        "The mean and variance of a binomial distribution are both calculated as np, where n is the number of trials and p is the probability of success. \n",
        "In a Poisson distribution, the mean and variance are both equal to lambda, which is the average number of occurrences in the given interval.\n",
        "\n",
        "\n",
        "5 Application: \n",
        "The binomial distribution is commonly used to model situations where there are two possible outcomes (success or failure) and the number of trials is known in advance. \n",
        "The Poisson distribution is commonly used to model situations where the number of occurrences of an event is rare, but the total number of opportunities for occurrence is large and constant.\n",
        "\n",
        "\n",
        "\"\"\""
      ],
      "metadata": {
        "colab": {
          "base_uri": "https://localhost:8080/",
          "height": 182
        },
        "id": "08rZxT_MKk_u",
        "outputId": "c0b96131-bff1-41ae-a463-cdedd819babc"
      },
      "execution_count": 8,
      "outputs": [
        {
          "output_type": "execute_result",
          "data": {
            "text/plain": [
              "'\\nBinomial distribution and Poisson distribution are two types of probability distributions that are used to model the occurrence of events with certain probabilities. \\nHowever, they differ in several ways:\\n\\n1 Number of trials: \\nThe binomial distribution is used to model the number of successes in a fixed number of independent trials, \\nwhereas the Poisson distribution is used to model the number of occurrences of an event in a fixed interval of time or space.\\n\\n\\n2 Probability of success: \\nIn the binomial distribution, the probability of success is constant across all trials.\\nwhereas in the Poisson distribution, the probability of occurrence is constant across the interval of time or space.\\n\\n\\n3 Independence of trials: \\nIn the binomial distribution, the trials are assumed to be independent, meaning the outcome of one trial does not affect the outcome of the other trials. \\nIn the Poisson distribution, the occurrences are assumed to be independent, meaning the occurrence of one event does not affect the occurrence of other events.\\n\\n\\n4 Mean and variance: \\nThe mean and variance of a binomial distribution are both calculated as np, where n is the number of trials and p is the probability of success. \\nIn a Poisson distribution, the mean and variance are both equal to lambda, which is the average number of occurrences in the given interval.\\n\\n\\n5 Application: \\nThe binomial distribution is commonly used to model situations where there are two possible outcomes (success or failure) and the number of trials is known in advance. \\nThe Poisson distribution is commonly used to model situations where the number of occurrences of an event is rare, but the total number of opportunities for occurrence is large and constant.\\n\\n\\n'"
            ],
            "application/vnd.google.colaboratory.intrinsic+json": {
              "type": "string"
            }
          },
          "metadata": {},
          "execution_count": 8
        }
      ]
    },
    {
      "cell_type": "code",
      "source": [
        "\n",
        "# ANswer8\n",
        "logging.info(\"Generating the Random sample from the poission distribution with mean 5\")\n",
        "\n",
        "import numpy as np\n",
        "\n",
        "logging.info(\"set the parameter that is given in the question\")\n",
        "\n",
        "size =1000\n",
        "mean = 5\n",
        "\n",
        "#generating the sample of size 1000 with mean = 5\n",
        "\n",
        "sample = np.random.poisson(mean,size=1000)\n",
        "\n",
        "#calculating the sample mean and variance\n",
        "sample_mean = np.mean(sample)\n",
        "sample_variance = np.var(sample)\n",
        "\n",
        "#printing the output\n",
        "print(\"Sample mean:\", sample_mean)\n",
        "print(\"Sample variance:\", sample_variance)\n",
        "\n",
        "\n"
      ],
      "metadata": {
        "colab": {
          "base_uri": "https://localhost:8080/"
        },
        "id": "-CBlczWtJ1CK",
        "outputId": "2fa0785c-627b-47a3-f9eb-2fceb34a84dd"
      },
      "execution_count": 9,
      "outputs": [
        {
          "output_type": "stream",
          "name": "stdout",
          "text": [
            "Sample mean: 5.028\n",
            "Sample variance: 5.149216\n"
          ]
        }
      ]
    },
    {
      "cell_type": "code",
      "source": [
        "# Answer9\n",
        "\n",
        "# relation between mean and variance of  binomial and Poisson distribution\n",
        "\"\"\"\n",
        "1 In binomial :\n",
        "\n",
        "In the binomial distribution, the mean and variance are both calculated as np, where n is the number of trials and p is the probability of success in each trial.\n",
        "Thus, the mean and variance are directly proportional to the number of trials and the probability of success. As the number of trials or the probability of success increases, so does the mean and variance.\n",
        "\n",
        "while in \n",
        "\n",
        "In poisson\n",
        " the mean and variance are both equal to lambda, which is the average number of occurrences in the given interval. The variance is also equal to the mean\n",
        " Therefore, the mean and variance are directly proportional to the average number of occurrences in the interval. As the average number of occurrences increases, so does the mean and variance.\n",
        "\n",
        "\"\"\"\n",
        "\n",
        "\n"
      ],
      "metadata": {
        "id": "5gJEN_EQPGtn"
      },
      "execution_count": 10,
      "outputs": []
    },
    {
      "cell_type": "code",
      "source": [
        "# ANswer10\n",
        "# In normal distribution with respect to mean position, the least frequent data appear \n",
        "\n",
        "# explanation\n",
        "\"\"\"\n",
        "In a normal distribution, also known as a Gaussian distribution, the least frequent data points appear in the tails of the distribution, farthest away from the mean. \n",
        "The normal distribution is a bell-shaped curve that is symmetrical around the mean, with the majority of the data clustered around the center.\n",
        "\n",
        "The tails of the distribution represent the extreme values, which occur with decreasing frequency as they move away from the mean.\n",
        "The tails of the distribution also represent the outliers or extreme values that are much larger or smaller than the rest of the data\n",
        "The area under the curve in the tails of the distribution represents the probability of observing extreme values, which is relatively low.\n",
        "\n",
        "\n",
        "The location of the least frequent data points in a normal distribution depends on the standard deviation of the distribution\n",
        "The larger the standard deviation, the wider the distribution and the more spread out the data points are from the mean\n",
        "This means that the tails of the distribution will be farther away from the mean, and the least frequent data points will appear even farther out in the tails.\n",
        "\n",
        "\n",
        "\"\"\"\n",
        "\n",
        "\n"
      ],
      "metadata": {
        "id": "dY6mOkjdQH2Q"
      },
      "execution_count": null,
      "outputs": []
    },
    {
      "cell_type": "code",
      "source": [],
      "metadata": {
        "id": "YXi7Wn23POfv"
      },
      "execution_count": null,
      "outputs": []
    }
  ]
}