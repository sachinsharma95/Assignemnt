{
 "cells": [
  {
   "cell_type": "code",
   "execution_count": 4,
   "id": "c2d0b3bb-687c-4edd-bae4-4a83ac672d8b",
   "metadata": {},
   "outputs": [
    {
     "name": "stdout",
     "output_type": "stream",
     "text": [
      "[1, 3, 5, 7, 9, 11, 13, 15, 17, 19, 21, 23, 25]\n"
     ]
    }
   ],
   "source": [
    "# Q1. Which keyword is used to create a function? Create a function to return a list of odd numbers in the\n",
    "# range of 1 to 25.\n",
    "\n",
    "# Answer1  \n",
    "\n",
    "''' def keyword is used to crea a function in python \n",
    "\n",
    "syntax-->\n",
    "def functionName():\n",
    "   // body of the fuction  '''\n",
    "\n",
    "\n",
    "def odd():\n",
    "    \n",
    "    l = []\n",
    "    for i in range(1,26):\n",
    "        if(i%2!=0):\n",
    "            l.append(i)\n",
    "    return l\n",
    "print(odd())\n",
    "    \n",
    "\n",
    "   "
   ]
  },
  {
   "cell_type": "code",
   "execution_count": 7,
   "id": "9d4dfb3d-cd6e-47cb-81a5-47b196f5a1db",
   "metadata": {},
   "outputs": [
    {
     "data": {
      "text/plain": [
       "{'name': ['sachin', 'Akash', 'Maurya', 'rudra'],\n",
       " 'email': 'Ss@gmaiil.com',\n",
       " 'phone': 568}"
      ]
     },
     "execution_count": 7,
     "metadata": {},
     "output_type": "execute_result"
    }
   ],
   "source": [
    "\"\"\" Q2. Why *args and **kwargs is used in some functions? Create a function each for *args and **kwargs\n",
    "to demonstrate their use. \"\"\"\n",
    "\n",
    "# solution 2 \n",
    "\n",
    "\n",
    "'''*args and **kwargs are special syntax in Python used to pass a variable number of arguments to a function.\n",
    "\n",
    "*args is used to send a non-keyworded variable length argument list to the function. It allows you to pass any number of arguments to the function, which are then stored as a tuple.\n",
    "\n",
    "**kwargs is used to pass keyworded variable length of arguments to a function. It allows you to pass any number of keyword arguments to the function, which are then stored as a dictionary.\n",
    "\n",
    "Here's an example function that uses *args:  '''\n",
    "\n",
    "# For example --->\n",
    "\n",
    "def fun(*args):\n",
    "    \n",
    "    # takes single arugemnt as \n",
    "    return \"sachin\"\n",
    "\n",
    "fun()\n",
    "\n",
    "\n",
    "def fun1(**kwargs):\n",
    "    \n",
    "    # return the dictionary \n",
    "    \n",
    "    return kwargs\n",
    "\n",
    "fun1(name = [\"sachin\",\"Akash\",\"Maurya\",\"rudra\"], email = \"Ss@gmaiil.com\",phone = 568)\n",
    "    "
   ]
  },
  {
   "cell_type": "code",
   "execution_count": 1,
   "id": "a5e74168-96a7-4e2e-899d-e6c47e46ea54",
   "metadata": {},
   "outputs": [
    {
     "name": "stdout",
     "output_type": "stream",
     "text": [
      "2\n",
      "4\n",
      "6\n",
      "8\n",
      "10\n"
     ]
    }
   ],
   "source": [
    "# Q3.  What is an iterator in python? Name the method used to initialise the iterator object and the method\n",
    "# used for iteration. Use these methods to print the first five elements of the given list [2, 4, 6, 8, 10, 12, 14,\n",
    "# 16, 18, 20].\n",
    "\n",
    "\n",
    "#Answer3 \n",
    "# Iterator\n",
    "'''An iterator in Python is an object that can be iterated (looped) upon. It implements the iterator protocol, \n",
    "which consists of two methods: __iter__() and __next__().\n",
    "\n",
    "__iter__() method is used to initialize the iterator object.\n",
    "__next__() method is used to get the next value from the iterator.\n",
    "'''\n",
    "\n",
    "\n",
    "# first five elements of the given list are using next and iterator method \n",
    "\n",
    "numbers = [2, 4, 6, 8, 10, 12, 14, 16, 18, 20]\n",
    "numbers_iter = iter(numbers)\n",
    "\n",
    "count = 0\n",
    "while count < 5:\n",
    "    print(next(numbers_iter))\n",
    "    count += 1\n",
    "\n",
    "\n"
   ]
  },
  {
   "cell_type": "code",
   "execution_count": 2,
   "id": "240da8a9-e384-4a10-b1ad-acc71930b5e8",
   "metadata": {},
   "outputs": [
    {
     "name": "stdout",
     "output_type": "stream",
     "text": [
      "0\n",
      "1\n",
      "1\n",
      "2\n",
      "3\n",
      "5\n",
      "8\n",
      "13\n",
      "21\n",
      "34\n",
      "55\n",
      "89\n"
     ]
    }
   ],
   "source": [
    "# Q4. What is a generator function in python? Why yield keyword is used? Give an example of a generator\n",
    "# function.\n",
    "\n",
    "\n",
    "# Answer4\n",
    "\n",
    "'''A generator function in Python is a special type of function that uses the yield keyword to return a generator iterator. A generator function generates values one at a time, instead of returning a list of values all at once like a normal function.\n",
    "\n",
    "The yield keyword is used to generate a value and return it to the caller, but also remembers the state of the function, so the next time the function is called, it continues from where it left off. This allows the generator function to produce a sequence of values over time, rather than all at once.'''\n",
    "\n",
    "\n",
    "\n",
    "# for example \n",
    "def fibonacci(l):\n",
    "    a, b = 0, 1\n",
    "    while a < l:\n",
    "        #using yeild \n",
    "        yield a\n",
    "        a, b = b, a + b\n",
    "\n",
    "for number in fibonacci(100):\n",
    "    print(number)\n",
    "\n"
   ]
  },
  {
   "cell_type": "code",
   "execution_count": 2,
   "id": "ca402f6b-bf2c-49f1-aa0f-20d179c46ce6",
   "metadata": {},
   "outputs": [
    {
     "name": "stdout",
     "output_type": "stream",
     "text": [
      "2\n",
      "3\n",
      "5\n",
      "7\n",
      "11\n",
      "13\n",
      "17\n",
      "19\n",
      "23\n",
      "29\n",
      "31\n",
      "37\n",
      "41\n",
      "43\n",
      "47\n",
      "53\n",
      "59\n",
      "61\n",
      "67\n",
      "71\n"
     ]
    }
   ],
   "source": [
    "# Q5. Create a generator function for prime numbers less than 1000. Use the next() method to print the\n",
    "# first 20 prime numbers.\n",
    "\n",
    "\n",
    "\n",
    "def prime_numbers():\n",
    "    yield 2\n",
    "    primes = [2]\n",
    "    number = 3\n",
    "    while number < 1000:\n",
    "        is_prime = True\n",
    "        for prime in primes:\n",
    "            if number % prime == 0:\n",
    "                is_prime = False\n",
    "                break\n",
    "        if is_prime:\n",
    "            primes.append(number)\n",
    "            yield number\n",
    "        number += 2\n",
    "\n",
    "# Get a generator iterator\n",
    "\n",
    "primes = prime_numbers()\n",
    "\n",
    "# Use the next method to get the next value\n",
    "# In this example, the prime_numbers function generates prime numbers \n",
    "\n",
    "for i in range(20):\n",
    "    print(next(primes))\n",
    "    \n",
    "    \n"
   ]
  },
  {
   "cell_type": "code",
   "execution_count": 8,
   "id": "c4664394-ba7f-4cd5-ae74-fc2a23304b4b",
   "metadata": {},
   "outputs": [
    {
     "name": "stdout",
     "output_type": "stream",
     "text": [
      "0\n",
      "1\n",
      "1\n",
      "2\n",
      "3\n",
      "5\n",
      "8\n",
      "13\n",
      "21\n",
      "34\n"
     ]
    }
   ],
   "source": [
    "# Q6. Write a python program to print the first 10 Fibonacci numbers using a while loop.\n",
    "\n",
    " # Ans6 program to print  first 10 number of fibonacci serires \n",
    "    \n",
    "\n",
    "    \n",
    "# for example \n",
    "\n",
    "def fibonacci(l):\n",
    "    a, b = 0, 1\n",
    "    # using while loop\n",
    "    \n",
    "    while a < l:\n",
    "        #using yeild \n",
    "        yield a\n",
    "        a, b = b, a + b\n",
    "\n",
    "for number in fibonacci(35):\n",
    "    print(number)"
   ]
  },
  {
   "cell_type": "markdown",
   "id": "933adabf-7481-46b4-b53c-9fffc12ee90b",
   "metadata": {},
   "source": [
    "##### "
   ]
  },
  {
   "cell_type": "code",
   "execution_count": 11,
   "id": "0c110df0-7033-4f08-ad51-752990d10fd1",
   "metadata": {},
   "outputs": [
    {
     "data": {
      "text/plain": [
       "['p', 'w', 's', 'k', 'i', 'l', 'l', 's']"
      ]
     },
     "execution_count": 11,
     "metadata": {},
     "output_type": "execute_result"
    }
   ],
   "source": [
    "# Q7. Write a List Comprehension to iterate through the given string: ‘pwskills’.\n",
    "# Expected output: ['p', 'w', 's', 'k', 'i', 'l', 'l', 's']\n",
    "\n",
    "\n",
    "# Ans7 :\n",
    "\n",
    " # using comprehension \n",
    "\n",
    "[i for i in 'pwskills' ]\n"
   ]
  },
  {
   "cell_type": "code",
   "execution_count": 13,
   "id": "a84cd645-7f44-42c2-abd7-57e6a73e5d63",
   "metadata": {},
   "outputs": [
    {
     "name": "stdin",
     "output_type": "stream",
     "text": [
      "Enter a number:  56\n"
     ]
    },
    {
     "name": "stdout",
     "output_type": "stream",
     "text": [
      "56 is not a palindrome\n"
     ]
    }
   ],
   "source": [
    "# Q8. Write a python program to check whether a given number is Palindrome or not using a while loop.\n",
    "\n",
    "# Answer8\n",
    "\n",
    "def is_palindrome(num):\n",
    "    temp = num\n",
    "    rev = 0\n",
    "    \n",
    "    #using the while loop \n",
    "    while temp > 0:\n",
    "        digit = temp % 10\n",
    "        rev = rev * 10 + digit\n",
    "        temp //= 10\n",
    "    return num == rev\n",
    "\n",
    "num = int(input(\"Enter a number: \"))\n",
    "if is_palindrome(num):\n",
    "    print(num, \"is a palindrome\")\n",
    "else:\n",
    "    print(num, \"is not a palindrome\")\n"
   ]
  },
  {
   "cell_type": "code",
   "execution_count": 13,
   "id": "2ce981de-d1bd-433f-89bb-706a39513967",
   "metadata": {},
   "outputs": [
    {
     "name": "stdout",
     "output_type": "stream",
     "text": [
      "[1, 3, 5, 7, 9, 11, 13, 15, 17, 19, 21, 23, 25, 27, 29, 31, 33, 35, 37, 39, 41, 43, 45, 47, 49, 51, 53, 55, 57, 59, 61, 63, 65, 67, 69, 71, 73, 75, 77, 79, 81, 83, 85, 87, 89, 91, 93, 95, 97, 99]\n"
     ]
    }
   ],
   "source": [
    "# Q9. Write a code to print odd numbers from 1 to 100 using list comprehension.\n",
    "\n",
    "# Ans9 \n",
    "\n",
    "# using list comprehension\n",
    "\n",
    "l = [i  for i in range(1,100) ] \n",
    "\n",
    "# now we are accesing odd list\n",
    "\n",
    "print ([i for i in l   if i%2!=0  ] )\n"
   ]
  },
  {
   "cell_type": "code",
   "execution_count": null,
   "id": "348069ac-dd36-42c4-b999-651d04f5cd0e",
   "metadata": {},
   "outputs": [],
   "source": []
  }
 ],
 "metadata": {
  "kernelspec": {
   "display_name": "Python 3 (ipykernel)",
   "language": "python",
   "name": "python3"
  },
  "language_info": {
   "codemirror_mode": {
    "name": "ipython",
    "version": 3
   },
   "file_extension": ".py",
   "mimetype": "text/x-python",
   "name": "python",
   "nbconvert_exporter": "python",
   "pygments_lexer": "ipython3",
   "version": "3.10.8"
  }
 },
 "nbformat": 4,
 "nbformat_minor": 5
}
