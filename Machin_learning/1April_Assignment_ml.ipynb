{
  "nbformat": 4,
  "nbformat_minor": 0,
  "metadata": {
    "colab": {
      "provenance": []
    },
    "kernelspec": {
      "name": "python3",
      "display_name": "Python 3"
    },
    "language_info": {
      "name": "python"
    }
  },
  "cells": [
    {
      "cell_type": "code",
      "execution_count": null,
      "metadata": {
        "id": "PzJj1drvIwyz"
      },
      "outputs": [],
      "source": []
    },
    {
      "cell_type": "markdown",
      "source": [
        "# <center> Logistic  Regression 💻\n",
        "------"
      ],
      "metadata": {
        "id": "frbyGmRXJHN2"
      }
    },
    {
      "cell_type": "markdown",
      "source": [
        "# Answer 1 \n",
        "## Difference between Linear and Logistic Regression with example\n",
        "\n",
        "- **Linear regression** is a supervised learning algorithm used for predicting continuous numerical values based on a set of input variables. It establishes a linear relationship between the input and output variables, and the goal is to minimize the difference between the predicted and actual output values.\n",
        "\n",
        "- **Logistic regression,** on the other hand, is also a supervised learning algorithm but is used for predicting a binary or categorical output based on a set of input variables. It establishes a non-linear \n",
        "\n",
        "- **Linear regression** produces a continuous output, while **logistic regression** produces a binary output.\n",
        "\n",
        "- Linear regression assumes a linear relationship between the input and output variables, while logistic regression assumes a non-linear relationship between the input and output variables.\n",
        "\n",
        "- **Linear regression** is used for regression problems, while\n",
        "- **logistic regression** is used for classification problems.\n",
        "\n",
        "\n",
        "# Scenario where Logistic Regression is more appropriate:\n",
        "\n",
        "### 1 Binary Classification:\n",
        "Logistic regression is commonly used in binary classification problems, where the goal is to predict whether an observation belongs to one of two classes. For example, it can be used to predict whether a customer will buy a product or not based on their demographic and transactional data.\n",
        "\n",
        "### 2 Multi - class classfication : \n",
        "\n",
        "  Logistic regression can also be used for multi-class classification problems, where the goal is to predict which of several classes an observation belongs to. For example, it can be used to predict the type of flower based on its petal and sepal dimensions.\n",
        "\n",
        "### 3 Logistic regression\n",
        "Logistic regression is a popular algorithm in healthcare, where it is used to predict the likelihood of a patient having a disease based on their medical history, symptoms, and test results.\n",
        "\n",
        "# <center> Conclusion\n",
        "In summary, logistic regression is more appropriate when dealing with classification problems that involve predicting a binary or categorical outcome.\n",
        "\n",
        "-----------\n"
      ],
      "metadata": {
        "id": "sdgJrij_Qez5"
      }
    },
    {
      "cell_type": "markdown",
      "source": [
        "# Answer2 \n",
        "## <center>  cost function used in logistic regression, and way of   optimized it .\n",
        "\n",
        "## Cost Function:\n",
        "The cost function used in logistic regression is called the logistic loss or binary cross-entropy loss function. \n",
        "\n",
        "It measures the difference between the predicted probability of an observation belonging to a certain class and the actual class label. \n",
        "\n",
        "### Formula:\n",
        "# <center> J(θ) = (-1/m) * Σ [y*log(hθ(x)) + (1-y)*log(1-hθ(x))]</center>\n",
        "\n",
        "\n",
        "where:\n",
        "\n",
        "- J(θ) is the cost function that we want to minimize\n",
        "- θ is the vector of parameters that we want to learn\n",
        "- m is the number of training examples\n",
        "- y is the true class label (0 or 1)\n",
        "- hθ(x) is the predicted probability of the positive class (i.e., the class we are interested in predicting)\n",
        "\n",
        "The goal of logistic regression is to find the values of the parameters θ that minimize the cost function J(θ).\n",
        "\n",
        "\n",
        "\n",
        "## optimization \n",
        "## Using the Gradient descent we can optimize \n",
        "\n",
        "This is typically done using an optimization algorithm such as gradient descent, which iteratively updates the parameters in the direction of the negative gradient of the cost function until convergence.\n",
        "\n",
        "- The gradient of the cost function with respect to the parameters can be computed as follows:\n",
        "# <center> ∂J(θ)/∂θj = (1/m) * Σ[(hθ(x) - y)xj] </center>\n",
        "\n",
        "\n",
        "where:\n",
        "\n",
        "- j is the index of the parameter we want to update\n",
        "- xj is the j-th feature of the input vector x\n",
        "- We can use this gradient to update the parameters in each iteration of the gradient descent algorithm as follows:\n",
        "\n",
        "- θj := θj - α * ∂J(θ)/∂θj\n",
        "\n",
        "where:\n",
        "\n",
        "- α is the learning rate, which determines the step size of each update\n",
        "\n",
        "\n",
        "--------------------"
      ],
      "metadata": {
        "id": "wrlfqcGnQe2P"
      }
    },
    {
      "cell_type": "markdown",
      "source": [
        "# Answer 3 \n",
        "# Cocnept of Regularization \n",
        "- Regularization is a technique used in logistic regression to prevent overfitting and improve the generalization performance of the model. \n",
        "\n",
        "- In logistic regression, regularization is achieved by adding a penalty term to the cost function that discourages the model from assigning too much weight to any single feature\n",
        "- The amount of regularization applied to the model is controlled by a hyperparameter **λ**\n",
        "\n",
        "## There are two common types of regularization used in logistic regression:\n",
        "### 1 L1 regularization (also known as Lasso regularization): \n",
        " This adds a penalty term proportional to the absolute value of the weights to the cost function. The effect of L1 regularization is to drive some of the weights to zero, effectively performing feature selection and reducing the number of features used by the model.\n",
        "\n",
        "### L2 regularization (also known as Ridge regularization): \n",
        "  This adds a penalty term proportional to the square of the weights to the cost function. The effect of L2 regularization is to shrink the weights towards zero, without necessarily driving any of them to zero completely. This can help to reduce the impact of noisy features and improve the overall stability of the model.\n",
        "\n",
        "\n",
        "-  ###  By Adding Penalty to the cost function \n",
        " Regularization helps prevent overfitting in logistic regression by reducing the complexity of the model and preventing it from fitting the noise in the training data. By adding a penalty term to the cost function, regularization encourages the model to use only the most informative features and to avoid overemphasizing any single feature. This can improve the generalization performance of the model and make it more robust to new data.\n",
        "\n",
        "\n",
        "\n",
        "\n"
      ],
      "metadata": {
        "id": "m7xiTPalQe41"
      }
    },
    {
      "cell_type": "markdown",
      "source": [
        "# Answer 4\n",
        "\n",
        "#  ROC Curve :\n",
        "  The ROC (Receiver Operating Characteristic) curve is a graphical representation of the performance of a binary classifier, such as a logistic regression model. The ROC curve plots the true positive rate (TPR) against the false positive rate (FPR) for different threshold values of the classifier.\n",
        "\n",
        "## Here are the main points on how the ROC curve is used to evaluate the performance of a logistic regression model:\n",
        "\n",
        "1 The ROC curve is created by plotting the TPR (also called sensitivity or recall) on the y-axis against the FPR (1-specificity) on the x-axis, for different threshold values of the classifier.\n",
        "\n",
        "\n",
        "2 The TPR is the proportion of true positive (TP) predictions out of all actual positive cases (TP+FN), while the FPR is the proportion of false positive (FP) predictions out of all actual negative cases (FP+TN).\n",
        "\n",
        "\n",
        "3 A perfect classifier would have a TPR of 1 and an FPR of 0, which would correspond to the top-left corner of the ROC curve. A random classifier would have a diagonal ROC curve, with an AUC (Area Under the Curve) of 0.5.\n",
        "\n",
        "\n",
        "4 The AUC of the ROC curve is a measure of the overall performance of the classifier, with a value between 0 and 1. A higher AUC indicates a better performance, with a perfect classifier having an AUC of 1.\n",
        "\n",
        "\n",
        "5 The ROC curve can help us choose an optimal threshold value for the classifier, depending on the specific trade-off between the TPR and FPR that we want to achieve. For example, if we want to minimize false positives, we can choose a threshold value that corresponds to a specific FPR.\n",
        "\n",
        "\n",
        "6 The ROC curve can also help us compare the performance of different models or configurations of the same model. A model with a higher AUC is generally considered to have better discrimination power and \n",
        "\n",
        "\n",
        "## Conclusion \n",
        "In summary, the ROC curve is a powerful tool for evaluating the performance of a binary classifier, such as a logistic regression model. It provides a visual representation of the trade-off between the TPR and FPR for different threshold values, and can help us choose an optimal \n",
        "\n",
        "\n",
        "--------"
      ],
      "metadata": {
        "id": "vaZreRmDQe8X"
      }
    },
    {
      "cell_type": "markdown",
      "source": [
        "## Example of the ROC curve "
      ],
      "metadata": {
        "id": "ww9g9xZ3b_CX"
      }
    },
    {
      "cell_type": "code",
      "source": [
        "from sklearn.datasets import make_classification\n",
        "from sklearn.model_selection import train_test_split\n",
        "from sklearn.linear_model import LogisticRegression\n",
        "from sklearn.metrics import roc_curve, roc_auc_score\n",
        "import matplotlib.pyplot as plt\n",
        "\n",
        "# Generate some synthetic data\n",
        "X, y = make_classification(n_samples=1000, n_classes=2, random_state=42)\n",
        "\n",
        "# Split the data into training and test sets\n",
        "X_train, X_test, y_train, y_test = train_test_split(X, y, test_size=0.2, random_state=42)\n",
        "\n",
        "# Train a logistic regression model on the training data\n",
        "model = LogisticRegression(random_state=42)\n",
        "model.fit(X_train, y_train)\n",
        "\n",
        "# Predict the probabilities of the positive class for the test data\n",
        "y_pred_proba = model.predict_proba(X_test)[:, 1]\n",
        "\n",
        "# Compute the false positive rate (FPR) and true positive rate (TPR) for different threshold values\n",
        "fpr, tpr, thresholds = roc_curve(y_test, y_pred_proba)\n",
        "\n",
        "# Compute the area under the ROC curve (AUC)\n",
        "auc = roc_auc_score(y_test, y_pred_proba)\n",
        "\n",
        "# Plot the ROC curve\n",
        "plt.plot(fpr, tpr, label=f'AUC = {auc:.2f}')\n",
        "plt.plot([0, 1], [0, 1], 'k--')\n",
        "plt.xlabel('False Positive Rate')\n",
        "plt.ylabel('True Positive Rate')\n",
        "plt.title('ROC Curve')\n",
        "plt.legend()\n",
        "plt.show()\n"
      ],
      "metadata": {
        "colab": {
          "base_uri": "https://localhost:8080/",
          "height": 472
        },
        "id": "vr3415wmb6p7",
        "outputId": "5229b538-9fe7-449b-ffe0-83e600848c38"
      },
      "execution_count": 1,
      "outputs": [
        {
          "output_type": "display_data",
          "data": {
            "text/plain": [
              "<Figure size 640x480 with 1 Axes>"
            ],
            "image/png": "[encoded data removed]"
          },
          "metadata": {}
        }
      ]
    },
    {
      "cell_type": "markdown",
      "source": [
        "--------------"
      ],
      "metadata": {
        "id": "PvWIuo_kQe9_"
      }
    },
    {
      "cell_type": "markdown",
      "source": [
        "# Answer 5 \n",
        "## <center> There are several common techniques for feature selection in logistic regression:\n",
        "\n",
        "## 1 Forward selection: \n",
        "   Start with an empty model and add one feature at a time, selecting the feature that improves the model's performance the most, until a stopping criterion is met.\n",
        "\n",
        "## 2 Backward elimination: \n",
        "   Start with a full model and remove one feature at a time, selecting the feature whose removal results in the smallest decrease in the model's performance, until a stopping criterion is met.\n",
        "\n",
        "## 3 Recursive feature elimination (RFE): \n",
        "   Start with a full model and iteratively remove the feature with the lowest absolute coefficient value until a desired number of features is reached.\n",
        "\n",
        "## 4 Lasso regression: \n",
        "   Adds an L1 penalty term to the cost function, resulting in some coefficients being exactly zero, effectively performing feature selection.\n",
        "\n",
        "## 5 Tree-based methods: \n",
        "Use decision trees or random forests to identify the most important features.\n",
        "\n",
        "-----\n",
        "\n",
        "- These techniques help improve the model's performance by reducing the number of irrelevant or redundant features, which can lead to overfitting and poor generalization to new data\n",
        "\n",
        "-  By selecting only the most informative features, the model becomes simpler and more interpretable, and can be trained more efficiently. Additionally, feature selection can help reduce the risk of multicollinearity, which can occur when features are highly correlated with each other and can cause instability in the estimated coefficients.\n"
      ],
      "metadata": {
        "id": "pE1lM_-BQfA8"
      }
    },
    {
      "cell_type": "markdown",
      "source": [
        "------------"
      ],
      "metadata": {
        "id": "jz9R2cZPQfDT"
      }
    },
    {
      "cell_type": "markdown",
      "source": [
        "# Answer 6 \n",
        "# <center> Handling Imbalance Dataset \n",
        "Handling imbalanced datasets in logistic regression is important because the model can be biased towards the majority class, leading to poor performance on the minority class\n",
        "\n",
        "\n",
        "## there are some startegies:\n",
        "## 1 Undersampling:\n",
        "  Randomly remove examples from the majority class to balance the number of examples in each class. This can be problematic because it may discard useful information.\n",
        "\n",
        "## 2 Oversampling:\n",
        "   Randomly replicate examples from the minority class to balance the number of examples in each class. This can be problematic because it may result in overfitting and poor generalization to new data.\n",
        "\n",
        "## 3 Synthetic minority oversampling technique (SMOTE): \n",
        "  Generate synthetic examples by interpolating between examples from the minority class, in order to increase the number of minority class examples. This can be effective in reducing the bias towards the majority class.\n",
        "## 4 Class weighting: \n",
        "   Assign higher weights to the minority class during training to give it more importance in the cost function. This can help the model pay more attention to the minority class.\n",
        "\n",
        "## 5 Ensemble methods: \n",
        "   Use ensemble methods such as bagging, boosting, or stacking to combine multiple models trained on different subsets of the data or with different parameters, in order to improve the overall performance on both the majority and minority classes."
      ],
      "metadata": {
        "id": "aHS9Qs9yQfF7"
      }
    },
    {
      "cell_type": "markdown",
      "source": [
        "-------"
      ],
      "metadata": {
        "id": "fV9CiIKEQfLT"
      }
    },
    {
      "cell_type": "markdown",
      "source": [
        "# <center>  Some common issues and challenges that may arise when implementing logistic regression  and way of addressing them \n",
        "\n",
        "Logistic regression has some common issues and challenges that can arise during implementation.\n",
        "\n",
        "-----\n",
        "\n",
        "# 1 Multicollinearity among independent variables:\n",
        " - Multicollinearity occurs when two or more independent variables in a logistic regression model are highly correlated with each other\n",
        "\n",
        " - This can lead to unreliable coefficient estimates, making it difficult to interpret the results of the model.\n",
        "\n",
        "## Way of Addressing Multi collinearity \n",
        "\n",
        "#### (i) Variable Selection : \n",
        "  To address multicollinearity, one possible solution is to use a technique called \"variable selection\" to identify the most important independent variables for the model. \n",
        "#### (ii)  regularization methods:\n",
        "   Another solution is to use regularization methods, such as L1 or L2 regularization, which can help reduce the impact of multicollinearity by penalizing the model for using too many correlated variables.\n",
        "\n",
        "  -------\n",
        "\n",
        "# 2 Overfitting:\n",
        "  Overfitting occurs when a logistic regression model is too complex, causing it to fit the training data too closely and thus making it less effective at predicting new data.\n",
        "\n",
        "## Way of Addressing Overfitting :\n",
        "\n",
        "#### (i) Cross-validation Technique:\n",
        " To address overfitting, one possible solution is to use a technique called \"cross-validation\" to evaluate the performance of the model on new data. \n",
        "\n",
        "#### (ii) Use regularization:\n",
        "  \n",
        "Another solution is to use regularization methods, such as L1 or L2 regularization, which can help reduce the complexity of the model and improve its ability to generalize to new data. \n",
        "\n",
        "--------\n",
        "\n",
        "# 3 Missing Value:\n",
        "  \n",
        "Missing data can be a problem in logistic regression because it can lead to biased estimates and reduced statistical power.\n",
        "\n",
        "## Way of Addressing Missing Values \n",
        " ### (i) Imputation Technique \n",
        "   To address missing data, one possible solution is to use a technique called \"imputation\" to estimate missing values based on the available data. \n",
        "\n",
        "### (ii) Weighted logistic regression:\n",
        " Another solution is to use a technique called \"weighted logistic regression\" to account for missing data by giving more weight to the observations with complete data.\n",
        "\n",
        "-------\n",
        "\n",
        "# 4 Nonlinear relationships:\n",
        "Logistic regression assumes a linear relationship between the independent variables and the log-odds of the dependent variable. However, in some cases, the relationship may be nonlinear.\n",
        "\n",
        "## Way of Addressing Nonlinear relationship\n",
        "\n",
        "### (i)  Transform the independent variables: \n",
        " To address nonlinear relationships, one possible solution is to transform the independent variables, such as using polynomial or logarithmic functions.\n",
        "\n",
        "### (ii) splines Techniques:\n",
        "  Another solution is to use a technique called \"splines\" to model nonlinear relationships using piecewise linear functions.\n",
        "\n",
        "\n",
        "-----------\n",
        "\n",
        "# 5 Class imbalance: \n",
        "Class imbalance occurs when the proportion of observations in one class is much larger than the other class, leading to biased estimates and reduced statistical power.\n",
        "\n",
        "## Way of Addressing Class Imbalance:\n",
        "### (i) oversampling Techniques \n",
        "To address class imbalance, one possible solution is to use a technique called \"oversampling\" to increase the number of observations in the minority class.\n",
        "\n",
        "## (ii) undersampling Technique:\n",
        "\n",
        " Another solution is to use a technique called \"undersampling\" to reduce the number of observations in the majority class\n",
        "\n",
        "\n",
        "\n",
        "\n",
        "\n"
      ],
      "metadata": {
        "id": "3ZE4U7e3QfO9"
      }
    }
  ]
}