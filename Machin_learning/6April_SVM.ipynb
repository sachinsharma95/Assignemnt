{
 "cells": [
  {
   "attachments": {},
   "cell_type": "markdown",
   "metadata": {},
   "source": [
    "# <center> Support Vector Machine SVM"
   ]
  },
  {
   "attachments": {},
   "cell_type": "markdown",
   "metadata": {},
   "source": [
    "---------------"
   ]
  },
  {
   "attachments": {},
   "cell_type": "markdown",
   "metadata": {},
   "source": [
    "## Answer 1\n",
    "\n",
    "## Mathematical formula for a linear SVM :\n",
    "\n",
    "Given a set of training data with input vectors X1, X2, ..., Xn, and corresponding binary labels y1, y2, ..., yn where yi ∈ {-1, 1}, we want to find a hyperplane that separates the positive and negative classes with the largest margin.\n",
    "\n",
    "\n",
    "### The hyperplane can be defined by the equation:\n",
    "\n",
    "## w^T * x + b = 0\n",
    "\n",
    "where w is the weight vector perpendicular to the hyperplane, x is an input vector, b is a bias term, and the superscript T denotes the transpose of the vector.\n",
    "\n",
    "### The distance between a point x_i and the hyperplane can be calculated as:\n",
    "\n",
    "### d_i = |w^T * x_i + b| / ||w||\n",
    "\n",
    "where ||w|| is the Euclidean norm of the weight vector w.\n",
    "\n",
    "The goal of the SVM is to maximize the margin between the hyperplane and the closest data points from each class. This can be expressed as an optimization problem of finding the optimal values of w and b that satisfy the following constraints:\n",
    "\n",
    "y_i(w^T * x_i + b) ≥ 1, for all i = 1, 2, ..., n\n",
    "\n",
    "The objective function to be minimized is:\n",
    "\n",
    "(1/2) * ||w||^2\n",
    "\n",
    "where ||w||^2 is the squared Euclidean norm of the weight vector w.\n",
    "\n",
    "The above optimization problem can be solved using quadratic programming techniques to obtain the optimal values of w and b that define the hyperplane with the maximum margin.\n"
   ]
  },
  {
   "attachments": {},
   "cell_type": "markdown",
   "metadata": {},
   "source": [
    "----------"
   ]
  },
  {
   "attachments": {},
   "cell_type": "markdown",
   "metadata": {},
   "source": [
    "\n",
    "## Answer 2\n",
    "\n",
    "# <center> The  objective function of a linear SVM \n",
    "\n",
    "- The objective function of a linear Support Vector Machine (SVM) is to find the hyperplane that separates the positive and negative classes with the largest margin.\n",
    "\n",
    "- The optimization problem of finding the optimal hyperplane can be expressed as minimizing the following objective function:\n",
    "\n",
    "### (1/2) * ||w||^2\n",
    "\n",
    "where ||w|| is the Euclidean norm of the weight vector w.\n",
    "\n",
    "\n",
    "The objective function can be thought of as a regularization term that controls the complexity of the model. The smaller the value of ||w||, the simpler the model, which helps to avoid overfitting.\n",
    "\n",
    "\n",
    "The objective function is subject to the constraints that the hyperplane correctly separates the positive and negative classes. These constraints can be expressed as:\n",
    "\n",
    "y_i(w^T * x_i + b) ≥ 1, for all i = 1, 2, ..., n\n",
    "\n",
    "where y_i is the binary class label (+1 or -1) of the i-th training example, x_i is the input feature vector, and b is the bias term.\n"
   ]
  },
  {
   "attachments": {},
   "cell_type": "markdown",
   "metadata": {},
   "source": [
    "----------"
   ]
  },
  {
   "attachments": {},
   "cell_type": "markdown",
   "metadata": {},
   "source": [
    "### Answer 3\n",
    "# <Center>Kernel trick in SVM \n",
    "\n"
   ]
  },
  {
   "attachments": {},
   "cell_type": "markdown",
   "metadata": {},
   "source": [
    "\n",
    "- The kernel trick in Support Vector Machines (SVM) is a technique that allows nonlinear classification by implicitly mapping the input data into a higher-dimensional feature space.\n",
    "\n",
    "- It is based on the observation that many problems that are not linearly separable in the original input space may become linearly separable in a higher-dimensional feature space.\n",
    "\n",
    "- The kernel trick avoids the explicit computation of the high-dimensional feature space by defining a kernel function that measures the similarity between two input vectors in the original input space\n",
    "\n",
    "### There are several types of kernel functions that can be used in SVM, including:\n",
    "\n",
    "- Linear kernel: K(x, y) = x^T y\n",
    "\n",
    "- Polynomial kernel: K(x, y) = (α x^T y + c)^d, where d is the degree of the - - polynomial and α and c are constants.\n",
    "\n",
    "- Radial basis function (RBF) kernel: K(x, y) = exp(-γ ||x - y||^2), where γ is a parameter that controls the smoothness of the decision boundary."
   ]
  },
  {
   "attachments": {},
   "cell_type": "markdown",
   "metadata": {},
   "source": [
    "---------"
   ]
  },
  {
   "attachments": {},
   "cell_type": "markdown",
   "metadata": {},
   "source": [
    "## Answer 4\n",
    "\n",
    "# <center> Role of support vectors in SVM.\n",
    "\n",
    "\n",
    "### Support vectors play a crucial role in Support Vector Machines (SVM) as they determine the location of the decision boundary, also known as the hyperplane, and the margin of the classifier.\n",
    "\n",
    "- In SVM, the goal is to find the hyperplane that separates the positive and negative classes with the largest margin. The hyperplane is defined by a set of weights, w, and a bias term, b, such that the decision boundary is given by w^T x + b = 0, where x is an input vector. \n",
    "\n",
    "- The margin of the classifier is defined as the distance between the decision boundary and the closest data point from either class.\n",
    "\n",
    "\n",
    "----------------------------------------------------------------\n",
    "During training, the SVM algorithm identifies the subset of training examples that lie on or close to the margin, known as support vectors. These support vectors are the ones that have the most influence on the location of the decision boundary and the width of the margin. The remaining training examples that are further away from the decision boundary do not have any influence on the location of the boundary.\n",
    "\n",
    "\n",
    "--------"
   ]
  },
  {
   "attachments": {},
   "cell_type": "markdown",
   "metadata": {},
   "source": [
    "## Answer 5\n",
    "# <center> Hyperplane, Marginal plane, Soft margin and Hard margin in SVM with Example \n",
    "\n",
    "## Hyperplane:\n",
    "A hyperplane is a decision boundary that separates the input data into different classes. In a two-dimensional space, a hyperplane is a line that separates the data into two classes, and in a three-dimensional space, it is a plane that separates the data into two classes. \n",
    "- In an n-dimensional space, a hyperplane is an (n-1)-dimensional plane that separates the data into two classes.\n",
    "\n",
    "### Example:\n",
    "\n",
    "Let's consider a two-dimensional space with two classes of data, labeled as blue and red. The hyperplane is a line that separates the blue and red data points. The equation of the line can be written as y = mx + b, where m is the slope and b is the y-intercept. The hyperplane can be adjusted by changing the slope and the y-intercept.\n",
    "\n",
    "## Marginal plane:\n",
    "In SVM, the distance between the hyperplane and the closest data points is called the margin. The marginal plane is the boundary between the hyperplane and the closest data points.\n",
    "- The margin is maximized by finding the hyperplane that is farthest from the closest data points. The points that lie on the marginal plane are called support vectors.\n",
    "\n",
    "### Example:\n",
    "\n",
    "Let's consider a two-dimensional space with two classes of data, labeled as blue and red. The marginal plane is the boundary between the hyperplane and the closest data points. The margin is maximized by finding the hyperplane that is farthest from the closest data points. The points that lie on the marginal plane are called support vectors.\n",
    "\n",
    "## Soft margin:\n",
    "In some cases, the data points may not be linearly separable, and it may not be possible to find a hyperplane that separates the data perfectly. In such cases, a soft margin SVM can be used. \n",
    "- In a soft margin SVM, the margin is allowed to be violated by a certain amount, and a penalty is imposed on the margin violation.\n",
    "\n",
    "### Example:\n",
    "\n",
    "Let's consider a two-dimensional space with two classes of data, labeled as blue and red. The data points are not linearly separable, and it is not possible to find a hyperplane that separates the data perfectly. In such cases, a soft margin SVM can be used, where the margin is allowed to be violated by a certain amount.\n",
    "\n",
    "\n",
    "## Hard margin:\n",
    "In some cases, the data points may be linearly separable, and it is possible to find a hyperplane that separates the data perfectly. In such cases, a hard margin SVM can be used.\n",
    "-  In a hard margin SVM, the margin is not allowed to be violated, and the hyperplane is chosen to maximize the margin.\n",
    "\n",
    "### Example:\n",
    "\n",
    "Let's consider a two-dimensional space with two classes of data, labeled as blue and red. The data points are linearly separable, and it is possible to find a hyperplane that separates the data perfectly. In such cases, a hard margin SVM can be used, where the margin is not allowed to be violated.\n",
    "\n",
    "\n",
    "\n",
    "\n"
   ]
  },
  {
   "cell_type": "code",
   "execution_count": 71,
   "metadata": {},
   "outputs": [],
   "source": [
    "# import plotly.express as px\n",
    "# from sklearn.datasets import load_iris\n",
    "\n",
    "# # Load Iris dataset\n",
    "# data = load_iris()\n",
    "# X = data.data\n",
    "# y = data.target\n",
    "\n",
    "# # Create 3D scatter plot\n",
    "# fig = px.scatter_3d(x=X[:, 0], y=X[:, 1], z=X[:, 2], color=y, opacity=0.8)\n",
    "\n",
    "# # Show the plot\n",
    "# fig.show()\n"
   ]
  },
  {
   "attachments": {},
   "cell_type": "markdown",
   "metadata": {},
   "source": [
    "---------------"
   ]
  },
  {
   "attachments": {},
   "cell_type": "markdown",
   "metadata": {},
   "source": [
    "# <center> SVM Implementation through Iris dataset."
   ]
  },
  {
   "cell_type": "code",
   "execution_count": 72,
   "metadata": {},
   "outputs": [],
   "source": [
    "import pandas as pd\n",
    "import numpy as np \n",
    "import matplotlib.pyplot as plt\n",
    "%matplotlib inline\n",
    "import seaborn as sns \n",
    "\n",
    "\n",
    "import warnings as warns\n",
    "warns.filterwarnings(\"ignore\")\n"
   ]
  },
  {
   "attachments": {},
   "cell_type": "markdown",
   "metadata": {},
   "source": [
    "### Loading the dataset from scikit-learn library"
   ]
  },
  {
   "cell_type": "code",
   "execution_count": 73,
   "metadata": {},
   "outputs": [
    {
     "data": {
      "text/html": [
       "<div>\n",
       "<style scoped>\n",
       "    .dataframe tbody tr th:only-of-type {\n",
       "        vertical-align: middle;\n",
       "    }\n",
       "\n",
       "    .dataframe tbody tr th {\n",
       "        vertical-align: top;\n",
       "    }\n",
       "\n",
       "    .dataframe thead th {\n",
       "        text-align: right;\n",
       "    }\n",
       "</style>\n",
       "<table border=\"1\" class=\"dataframe\">\n",
       "  <thead>\n",
       "    <tr style=\"text-align: right;\">\n",
       "      <th></th>\n",
       "      <th>sepal length (cm)</th>\n",
       "      <th>sepal width (cm)</th>\n",
       "      <th>petal length (cm)</th>\n",
       "      <th>petal width (cm)</th>\n",
       "    </tr>\n",
       "  </thead>\n",
       "  <tbody>\n",
       "    <tr>\n",
       "      <th>0</th>\n",
       "      <td>5.1</td>\n",
       "      <td>3.5</td>\n",
       "      <td>1.4</td>\n",
       "      <td>0.2</td>\n",
       "    </tr>\n",
       "    <tr>\n",
       "      <th>1</th>\n",
       "      <td>4.9</td>\n",
       "      <td>3.0</td>\n",
       "      <td>1.4</td>\n",
       "      <td>0.2</td>\n",
       "    </tr>\n",
       "    <tr>\n",
       "      <th>2</th>\n",
       "      <td>4.7</td>\n",
       "      <td>3.2</td>\n",
       "      <td>1.3</td>\n",
       "      <td>0.2</td>\n",
       "    </tr>\n",
       "    <tr>\n",
       "      <th>3</th>\n",
       "      <td>4.6</td>\n",
       "      <td>3.1</td>\n",
       "      <td>1.5</td>\n",
       "      <td>0.2</td>\n",
       "    </tr>\n",
       "    <tr>\n",
       "      <th>4</th>\n",
       "      <td>5.0</td>\n",
       "      <td>3.6</td>\n",
       "      <td>1.4</td>\n",
       "      <td>0.2</td>\n",
       "    </tr>\n",
       "    <tr>\n",
       "      <th>...</th>\n",
       "      <td>...</td>\n",
       "      <td>...</td>\n",
       "      <td>...</td>\n",
       "      <td>...</td>\n",
       "    </tr>\n",
       "    <tr>\n",
       "      <th>145</th>\n",
       "      <td>6.7</td>\n",
       "      <td>3.0</td>\n",
       "      <td>5.2</td>\n",
       "      <td>2.3</td>\n",
       "    </tr>\n",
       "    <tr>\n",
       "      <th>146</th>\n",
       "      <td>6.3</td>\n",
       "      <td>2.5</td>\n",
       "      <td>5.0</td>\n",
       "      <td>1.9</td>\n",
       "    </tr>\n",
       "    <tr>\n",
       "      <th>147</th>\n",
       "      <td>6.5</td>\n",
       "      <td>3.0</td>\n",
       "      <td>5.2</td>\n",
       "      <td>2.0</td>\n",
       "    </tr>\n",
       "    <tr>\n",
       "      <th>148</th>\n",
       "      <td>6.2</td>\n",
       "      <td>3.4</td>\n",
       "      <td>5.4</td>\n",
       "      <td>2.3</td>\n",
       "    </tr>\n",
       "    <tr>\n",
       "      <th>149</th>\n",
       "      <td>5.9</td>\n",
       "      <td>3.0</td>\n",
       "      <td>5.1</td>\n",
       "      <td>1.8</td>\n",
       "    </tr>\n",
       "  </tbody>\n",
       "</table>\n",
       "<p>150 rows × 4 columns</p>\n",
       "</div>"
      ],
      "text/plain": [
       "     sepal length (cm)  sepal width (cm)  petal length (cm)  petal width (cm)\n",
       "0                  5.1               3.5                1.4               0.2\n",
       "1                  4.9               3.0                1.4               0.2\n",
       "2                  4.7               3.2                1.3               0.2\n",
       "3                  4.6               3.1                1.5               0.2\n",
       "4                  5.0               3.6                1.4               0.2\n",
       "..                 ...               ...                ...               ...\n",
       "145                6.7               3.0                5.2               2.3\n",
       "146                6.3               2.5                5.0               1.9\n",
       "147                6.5               3.0                5.2               2.0\n",
       "148                6.2               3.4                5.4               2.3\n",
       "149                5.9               3.0                5.1               1.8\n",
       "\n",
       "[150 rows x 4 columns]"
      ]
     },
     "execution_count": 73,
     "metadata": {},
     "output_type": "execute_result"
    }
   ],
   "source": [
    "from sklearn import  datasets\n",
    "from sklearn.model_selection import train_test_split\n",
    "\n",
    "# load the dataset \n",
    "iris = datasets.load_iris()\n",
    "\n",
    "# convert into feature datafreme\n",
    "\n",
    "df = pd.DataFrame(iris.data , columns = iris.feature_names)\n",
    "df"
   ]
  },
  {
   "cell_type": "code",
   "execution_count": 74,
   "metadata": {},
   "outputs": [],
   "source": [
    "# Split the dataset into a training set and a testing set\n",
    "X_train, X_test, y_train, y_test = train_test_split(iris.data, iris.target, test_size=0.2, random_state=42)"
   ]
  },
  {
   "cell_type": "code",
   "execution_count": 75,
   "metadata": {},
   "outputs": [
    {
     "data": {
      "text/plain": [
       "((120, 4), (120,))"
      ]
     },
     "execution_count": 75,
     "metadata": {},
     "output_type": "execute_result"
    }
   ],
   "source": [
    "X_train.shape ,y_train.shape\n"
   ]
  },
  {
   "cell_type": "code",
   "execution_count": 76,
   "metadata": {},
   "outputs": [
    {
     "data": {
      "text/plain": [
       "((30, 4), (30,))"
      ]
     },
     "execution_count": 76,
     "metadata": {},
     "output_type": "execute_result"
    }
   ],
   "source": [
    "X_test.shape, y_test.shape"
   ]
  },
  {
   "attachments": {},
   "cell_type": "markdown",
   "metadata": {},
   "source": [
    "##  <center> Train a linear SVM classifier on the training set and  predicting the labels for the testing set"
   ]
  },
  {
   "cell_type": "code",
   "execution_count": 77,
   "metadata": {},
   "outputs": [
    {
     "data": {
      "text/html": [
       "<style>#sk-container-id-6 {color: black;background-color: white;}#sk-container-id-6 pre{padding: 0;}#sk-container-id-6 div.sk-toggleable {background-color: white;}#sk-container-id-6 label.sk-toggleable__label {cursor: pointer;display: block;width: 100%;margin-bottom: 0;padding: 0.3em;box-sizing: border-box;text-align: center;}#sk-container-id-6 label.sk-toggleable__label-arrow:before {content: \"▸\";float: left;margin-right: 0.25em;color: #696969;}#sk-container-id-6 label.sk-toggleable__label-arrow:hover:before {color: black;}#sk-container-id-6 div.sk-estimator:hover label.sk-toggleable__label-arrow:before {color: black;}#sk-container-id-6 div.sk-toggleable__content {max-height: 0;max-width: 0;overflow: hidden;text-align: left;background-color: #f0f8ff;}#sk-container-id-6 div.sk-toggleable__content pre {margin: 0.2em;color: black;border-radius: 0.25em;background-color: #f0f8ff;}#sk-container-id-6 input.sk-toggleable__control:checked~div.sk-toggleable__content {max-height: 200px;max-width: 100%;overflow: auto;}#sk-container-id-6 input.sk-toggleable__control:checked~label.sk-toggleable__label-arrow:before {content: \"▾\";}#sk-container-id-6 div.sk-estimator input.sk-toggleable__control:checked~label.sk-toggleable__label {background-color: #d4ebff;}#sk-container-id-6 div.sk-label input.sk-toggleable__control:checked~label.sk-toggleable__label {background-color: #d4ebff;}#sk-container-id-6 input.sk-hidden--visually {border: 0;clip: rect(1px 1px 1px 1px);clip: rect(1px, 1px, 1px, 1px);height: 1px;margin: -1px;overflow: hidden;padding: 0;position: absolute;width: 1px;}#sk-container-id-6 div.sk-estimator {font-family: monospace;background-color: #f0f8ff;border: 1px dotted black;border-radius: 0.25em;box-sizing: border-box;margin-bottom: 0.5em;}#sk-container-id-6 div.sk-estimator:hover {background-color: #d4ebff;}#sk-container-id-6 div.sk-parallel-item::after {content: \"\";width: 100%;border-bottom: 1px solid gray;flex-grow: 1;}#sk-container-id-6 div.sk-label:hover label.sk-toggleable__label {background-color: #d4ebff;}#sk-container-id-6 div.sk-serial::before {content: \"\";position: absolute;border-left: 1px solid gray;box-sizing: border-box;top: 0;bottom: 0;left: 50%;z-index: 0;}#sk-container-id-6 div.sk-serial {display: flex;flex-direction: column;align-items: center;background-color: white;padding-right: 0.2em;padding-left: 0.2em;position: relative;}#sk-container-id-6 div.sk-item {position: relative;z-index: 1;}#sk-container-id-6 div.sk-parallel {display: flex;align-items: stretch;justify-content: center;background-color: white;position: relative;}#sk-container-id-6 div.sk-item::before, #sk-container-id-6 div.sk-parallel-item::before {content: \"\";position: absolute;border-left: 1px solid gray;box-sizing: border-box;top: 0;bottom: 0;left: 50%;z-index: -1;}#sk-container-id-6 div.sk-parallel-item {display: flex;flex-direction: column;z-index: 1;position: relative;background-color: white;}#sk-container-id-6 div.sk-parallel-item:first-child::after {align-self: flex-end;width: 50%;}#sk-container-id-6 div.sk-parallel-item:last-child::after {align-self: flex-start;width: 50%;}#sk-container-id-6 div.sk-parallel-item:only-child::after {width: 0;}#sk-container-id-6 div.sk-dashed-wrapped {border: 1px dashed gray;margin: 0 0.4em 0.5em 0.4em;box-sizing: border-box;padding-bottom: 0.4em;background-color: white;}#sk-container-id-6 div.sk-label label {font-family: monospace;font-weight: bold;display: inline-block;line-height: 1.2em;}#sk-container-id-6 div.sk-label-container {text-align: center;}#sk-container-id-6 div.sk-container {/* jupyter's `normalize.less` sets `[hidden] { display: none; }` but bootstrap.min.css set `[hidden] { display: none !important; }` so we also need the `!important` here to be able to override the default hidden behavior on the sphinx rendered scikit-learn.org. See: https://github.com/scikit-learn/scikit-learn/issues/21755 */display: inline-block !important;position: relative;}#sk-container-id-6 div.sk-text-repr-fallback {display: none;}</style><div id=\"sk-container-id-6\" class=\"sk-top-container\"><div class=\"sk-text-repr-fallback\"><pre>LinearSVC()</pre><b>In a Jupyter environment, please rerun this cell to show the HTML representation or trust the notebook. <br />On GitHub, the HTML representation is unable to render, please try loading this page with nbviewer.org.</b></div><div class=\"sk-container\" hidden><div class=\"sk-item\"><div class=\"sk-estimator sk-toggleable\"><input class=\"sk-toggleable__control sk-hidden--visually\" id=\"sk-estimator-id-6\" type=\"checkbox\" checked><label for=\"sk-estimator-id-6\" class=\"sk-toggleable__label sk-toggleable__label-arrow\">LinearSVC</label><div class=\"sk-toggleable__content\"><pre>LinearSVC()</pre></div></div></div></div></div>"
      ],
      "text/plain": [
       "LinearSVC()"
      ]
     },
     "execution_count": 77,
     "metadata": {},
     "output_type": "execute_result"
    }
   ],
   "source": [
    "from sklearn.svm import LinearSVC\n",
    "from sklearn.metrics import accuracy_score\n",
    "\n",
    "\n",
    "svm_clf = LinearSVC()\n",
    "\n",
    "# train the linear SVM\n",
    "\n",
    "trained_model = svm_clf.fit(X_train ,y_train)\n",
    "\n",
    "trained_model"
   ]
  },
  {
   "cell_type": "code",
   "execution_count": 78,
   "metadata": {},
   "outputs": [
    {
     "data": {
      "text/plain": [
       "array([1, 0, 2, 1, 1, 0, 1, 2, 1, 1, 2, 0, 0, 0, 0, 1, 2, 1, 1, 2, 0, 2,\n",
       "       0, 2, 2, 2, 2, 2, 0, 0])"
      ]
     },
     "execution_count": 78,
     "metadata": {},
     "output_type": "execute_result"
    }
   ],
   "source": [
    "# predict the labels for the testing data\n",
    "\n",
    "y_pred = trained_model.predict(X_test)\n",
    "y_pred"
   ]
  },
  {
   "attachments": {},
   "cell_type": "markdown",
   "metadata": {},
   "source": [
    "## <center > Accuracy of model on  testing set \n"
   ]
  },
  {
   "cell_type": "code",
   "execution_count": 79,
   "metadata": {},
   "outputs": [
    {
     "name": "stdout",
     "output_type": "stream",
     "text": [
      "Accuracy: 100.000%\n"
     ]
    }
   ],
   "source": [
    "accuracy  = accuracy_score(y_test, y_pred)\n",
    "print(\"Accuracy: {0:.3f}%\".format(accuracy*100))"
   ]
  },
  {
   "attachments": {},
   "cell_type": "markdown",
   "metadata": {},
   "source": [
    "## <center>Plot the decision boundaries of the trained model using two of the featuresl"
   ]
  },
  {
   "cell_type": "code",
   "execution_count": 80,
   "metadata": {},
   "outputs": [
    {
     "data": {
      "image/png": "[encoded data removed]",
      "text/plain": [
       "<Figure size 640x480 with 1 Axes>"
      ]
     },
     "metadata": {},
     "output_type": "display_data"
    }
   ],
   "source": [
    "from sklearn.svm import SVC\n",
    "\n",
    "# Train an SVM model with an RBF kernel\n",
    "svm = SVC(kernel='rbf', gamma=1.0, C=1.0)\n",
    "\n",
    "iris = datasets.load_iris()\n",
    "X = iris.data[:, :2]\n",
    "y = iris.target\n",
    "\n",
    "# Create a binary classification dataset by keeping only the first two classes\n",
    "\n",
    "X = X[y != 2]\n",
    "y = y[y != 2]\n",
    "\n",
    "\n",
    "\n",
    "svm.fit(X, y)\n",
    "\n",
    "# Visualize the decision boundary and the support vectors\n",
    "plt.scatter(X[:, 0], X[:, 1], c=y, cmap='viridis')\n",
    "\n",
    "# Plot the decision boundary\n",
    "ax = plt.gca()\n",
    "xlim = ax.get_xlim()\n",
    "ylim = ax.get_ylim()\n",
    "\n",
    "# Create a grid of points to evaluate the model\n",
    "xx, yy = np.meshgrid(np.linspace(xlim[0], xlim[1], 100),\n",
    "                     np.linspace(ylim[0], ylim[1], 100))\n",
    "Z = svm.decision_function(np.c_[xx.ravel(), yy.ravel()])\n",
    "Z = Z.reshape(xx.shape)\n",
    "\n",
    "# Plot the decision boundary and the margins\n",
    "ax.contour(xx, yy, Z, levels=[-1, 0, 1], linestyles=['--', '-', '--'], alpha=0.5)\n",
    "ax.scatter(svm.support_vectors_[:, 0], svm.support_vectors_[:, 1], s=100, linewidth=1, facecolors='none', edgecolors='k')\n",
    "\n",
    "plt.xlabel('Feature 1')\n",
    "plt.ylabel('Feature 2')\n",
    "plt.show()\n"
   ]
  },
  {
   "attachments": {},
   "cell_type": "markdown",
   "metadata": {},
   "source": [
    "##  <center> Accuracy at diferenct value of C \n"
   ]
  },
  {
   "cell_type": "code",
   "execution_count": 81,
   "metadata": {},
   "outputs": [
    {
     "name": "stdout",
     "output_type": "stream",
     "text": [
      "Accuracy with C = 0.001 : 0.7\n",
      "Accuracy with C = 0.01 : 0.8333333333333334\n",
      "Accuracy with C = 0.1 : 1.0\n",
      "Accuracy with C = 1 : 1.0\n",
      "Accuracy with C = 10 : 1.0\n",
      "Accuracy with C = 100 : 1.0\n"
     ]
    },
    {
     "data": {
      "image/png": "[encoded data removed]",
      "text/plain": [
       "<Figure size 640x480 with 1 Axes>"
      ]
     },
     "metadata": {},
     "output_type": "display_data"
    }
   ],
   "source": [
    "# Try different values of C and record the accuracy for each value\n",
    "\n",
    "C_values = [0.001, 0.01, 0.1, 1, 10, 100]\n",
    "accuracies = []\n",
    "for C in C_values:\n",
    "    svm_clf = LinearSVC(C=C)\n",
    "    svm_clf.fit(X_train, y_train)\n",
    "    y_pred = svm_clf.predict(X_test)\n",
    "    accuracies.append(accuracy_score(y_test, y_pred))\n",
    "    print(\"Accuracy with C =\", C, \":\", accuracies[-1])\n",
    "\n",
    "# Plot the accuracy vs. C values\n",
    "plt.plot(C_values, accuracies, '-o')\n",
    "plt.xscale('log')\n",
    "plt.xlabel('C')\n",
    "plt.ylabel('Accuracy')\n",
    "plt.title('Accuracy vs. C values')\n",
    "plt.show()\n",
    "\n",
    "\n",
    "\n",
    "\n",
    "\n"
   ]
  },
  {
   "attachments": {},
   "cell_type": "markdown",
   "metadata": {},
   "source": [
    "-------------------------------"
   ]
  },
  {
   "attachments": {},
   "cell_type": "markdown",
   "metadata": {},
   "source": [
    "\n",
    "\n",
    "# <center> Bonus Task"
   ]
  },
  {
   "attachments": {},
   "cell_type": "markdown",
   "metadata": {},
   "source": [
    "- Implement a linear SVM classifier from scratch using Python and compare its performance with the scikit-learn implementation."
   ]
  },
  {
   "attachments": {},
   "cell_type": "markdown",
   "metadata": {},
   "source": []
  },
  {
   "attachments": {},
   "cell_type": "markdown",
   "metadata": {},
   "source": [
    "# Linear SVM classifier Using the Scikit-learn"
   ]
  },
  {
   "cell_type": "code",
   "execution_count": 82,
   "metadata": {},
   "outputs": [
    {
     "name": "stdout",
     "output_type": "stream",
     "text": [
      "Scikit-learn accuracy: 1.0\n",
      "Custom implementation accuracy: 0.3\n"
     ]
    }
   ],
   "source": [
    "from sklearn.datasets import load_iris\n",
    "from sklearn.model_selection import train_test_split\n",
    "from sklearn.svm import LinearSVC\n",
    "from sklearn.metrics import accuracy_score\n",
    "\n",
    "# Load Iris dataset\n",
    "iris = load_iris()\n",
    "X, y = iris.data, iris.target\n",
    "\n",
    "# Split into training and testing sets\n",
    "X_train, X_test, y_train, y_test = train_test_split(X, y, test_size=0.2, random_state=42)\n",
    "\n",
    "# Train and test scikit-learn implementation\n",
    "clf = LinearSVC(random_state=42)\n",
    "clf.fit(X_train, y_train)\n",
    "y_pred = clf.predict(X_test)\n",
    "print(\"Scikit-learn accuracy:\", accuracy_score(y_test, y_pred))\n",
    "\n",
    "# Train and test custom implementation\n",
    "svm = SVM()\n",
    "svm.fit(X_train, y_train)\n",
    "y_pred = svm.predict(X_test)\n",
    "print(\"Custom implementation accuracy:\", accuracy_score(y_test, y_pred))\n"
   ]
  },
  {
   "attachments": {},
   "cell_type": "markdown",
   "metadata": {},
   "source": [
    "###  1 linear SVM classifier from scratch using Python "
   ]
  },
  {
   "cell_type": "code",
   "execution_count": 84,
   "metadata": {},
   "outputs": [
    {
     "name": "stdout",
     "output_type": "stream",
     "text": [
      "Custom implementation accuracy: 0.3\n"
     ]
    }
   ],
   "source": [
    "import numpy as np\n",
    "\n",
    "class SVM:\n",
    "    def __init__(self, learning_rate=0.001, lambda_param=0.01, n_iters=1000):\n",
    "        self.lr = learning_rate\n",
    "        self.lambda_param = lambda_param\n",
    "        self.n_iters = n_iters\n",
    "        self.w = None\n",
    "        self.b = None\n",
    "        \n",
    "    def fit(self, X, y):\n",
    "        n_samples, n_features = X.shape\n",
    "        \n",
    "        # Initialize parameters\n",
    "        self.w = np.zeros(n_features)\n",
    "        self.b = 0\n",
    "        \n",
    "        # Gradient descent\n",
    "        for _ in range(self.n_iters):\n",
    "            for idx, x_i in enumerate(X):\n",
    "                condition = y[idx] * (np.dot(x_i, self.w) - self.b) >= 1\n",
    "                if condition:\n",
    "                    self.w -= self.lr * (2 * self.lambda_param * self.w)\n",
    "                else:\n",
    "                    self.w -= self.lr * (2 * self.lambda_param * self.w - np.dot(x_i, y[idx]))\n",
    "                    self.b -= self.lr * y[idx]\n",
    "                    \n",
    "    def predict(self, X):\n",
    "        linear_output = np.dot(X, self.w) - self.b\n",
    "        return np.sign(linear_output)\n",
    "    \n",
    "y_pred = svm.predict(X_test)\n",
    "print(\"Custom implementation accuracy:\", accuracy_score(y_test, y_pred))\n"
   ]
  },
  {
   "attachments": {},
   "cell_type": "markdown",
   "metadata": {},
   "source": [
    "#### Insights after Comaprison \n",
    "\n",
    "-  Accuracy of the model by Scikit-learn is 100% \n",
    "-  Accuracy of the model by Custom using Python is 30 % "
   ]
  },
  {
   "cell_type": "code",
   "execution_count": null,
   "metadata": {},
   "outputs": [],
   "source": []
  }
 ],
 "metadata": {
  "kernelspec": {
   "display_name": "Python 3",
   "language": "python",
   "name": "python3"
  },
  "language_info": {
   "codemirror_mode": {
    "name": "ipython",
    "version": 3
   },
   "file_extension": ".py",
   "mimetype": "text/x-python",
   "name": "python",
   "nbconvert_exporter": "python",
   "pygments_lexer": "ipython3",
   "version": "3.10.8"
  },
  "orig_nbformat": 4
 },
 "nbformat": 4,
 "nbformat_minor": 2
}
