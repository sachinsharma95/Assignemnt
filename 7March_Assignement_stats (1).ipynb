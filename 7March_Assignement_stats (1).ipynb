{
  "nbformat": 4,
  "nbformat_minor": 0,
  "metadata": {
    "colab": {
      "provenance": []
    },
    "kernelspec": {
      "name": "python3",
      "display_name": "Python 3"
    },
    "language_info": {
      "name": "python"
    }
  },
  "cells": [
    {
      "cell_type": "markdown",
      "source": [
        "MEASUREMENT OF CENTRAL TENDENCY & Brief Intro About Van Diagram and Skewness , Correlation and covariance -etc"
      ],
      "metadata": {
        "id": "xVvjDS92Xtzs"
      }
    },
    {
      "cell_type": "code",
      "source": [
        "import logging\n",
        "logging.basicConfig(filename=\"7MarchInfo.log\", level=logging.INFO, format=\"%(asctime)s %(name)s %(message)s\")"
      ],
      "metadata": {
        "id": "oBEjXfPOIV-C"
      },
      "execution_count": 1,
      "outputs": []
    },
    {
      "cell_type": "code",
      "source": [
        "# Answer1\n",
        "# The three measures of central tendency are:\n",
        "\n",
        "# 1 Mean:\n",
        "\"\"\"\n",
        "The mean is the average of all the values in a dataset. \n",
        "It is calculated by adding up all the values and dividing the sum by the total number of values.\n",
        "\n",
        "\"\"\"\n",
        "# 2 Meadian:\n",
        "\"\"\"\n",
        " The median is the middle value in a dataset when the values are arranged in order. \n",
        " If there is an even number of values, the median is the average of the two middle values.\n",
        "\"\"\"\n",
        "# 3 Mode:\n",
        "\"\"\"\n",
        "The mode is the value that occurs most frequently in a dataset.\n",
        " A dataset can have one mode (unimodal), two modes (bimodal), or more than two modes (multimodal).\n",
        "\n",
        "\"\"\"\n"
      ],
      "metadata": {
        "colab": {
          "base_uri": "https://localhost:8080/",
          "height": 36
        },
        "id": "pYWiIOg_DCXU",
        "outputId": "ada403f4-9129-4587-e70f-8bcdcdb1284c"
      },
      "execution_count": 2,
      "outputs": [
        {
          "output_type": "execute_result",
          "data": {
            "text/plain": [
              "'\\nThe mode is the value that occurs most frequently in a dataset.\\n A dataset can have one mode (unimodal), two modes (bimodal), or more than two modes (multimodal).\\n\\n'"
            ],
            "application/vnd.google.colaboratory.intrinsic+json": {
              "type": "string"
            }
          },
          "metadata": {},
          "execution_count": 2
        }
      ]
    },
    {
      "cell_type": "markdown",
      "source": [
        "\n",
        "Difference between mean , median ,mode"
      ],
      "metadata": {
        "id": "zRcn4hVvHEe8"
      }
    },
    {
      "cell_type": "code",
      "source": [
        "# Answer2\n",
        "\n",
        "# The mean, median, and mode are all measures of central tendency \n",
        "# 1 mean:\n",
        "\"\"\"\n",
        "The mean is the average value of a dataset, calculated by adding up all the values and dividing by the total number of values. It is sensitive to outliers or extreme values and can be skewed by them.\n",
        "\"\"\"\n",
        "\n",
        "# Median:\n",
        "\"\"\"\n",
        "The median is the middle value in a dataset when the values are arranged in order. \n",
        "It is not affected by outliers and is often used in datasets with extreme values.\n",
        "\"\"\"\n",
        "# Mode:\n",
        "\"\"\"\n",
        "The mode is the value that occurs most frequently in a dataset. It is useful in datasets where one value is more common than others and can be used to identify peaks or modes in a distribution\n",
        "\"\"\"\n",
        "\n",
        "# Example (how they are used ) in python\n",
        "\n",
        "import numpy as np\n",
        "import statistics as stat\n",
        "\n",
        "data = [1, 2, 3, 4,3 ,3,5]\n",
        "\n",
        "logging.info(\"we are calculation the mean\")\n",
        "mean = np.mean(data)\n",
        "\n",
        "print(\"The mean is \",mean)\n",
        "\n",
        "#mode \n",
        "\n",
        "mode= stat.mode(data)\n",
        "print(\"THe mode is \",mode)\n",
        "\n",
        "#median\n",
        "med = np.median(data)\n",
        "print(\"The Median is \",med)\n",
        "\n",
        "\n"
      ],
      "metadata": {
        "colab": {
          "base_uri": "https://localhost:8080/"
        },
        "id": "OWulKxuvDhNa",
        "outputId": "e225f965-fa23-483e-a753-ef19f0d0c3f8"
      },
      "execution_count": 10,
      "outputs": [
        {
          "output_type": "stream",
          "name": "stdout",
          "text": [
            "The mean is  3.0\n",
            "THe mode is  3\n",
            "The Median is  3.0\n"
          ]
        }
      ]
    },
    {
      "cell_type": "code",
      "source": [
        "# Answer3\n",
        "# [178,177,176,177,178.2,178,175,179,180,175,178.9,176.2,177,172.5,178,176.5]\n",
        "\n",
        "logging.info(\"the three measures of central tendency for the given height data:given below\")\n",
        "\n",
        "\n",
        "import numpy as np\n",
        "import statistics as stat\n",
        "\n",
        "data = [178,177,176,177,178.2,178,175,179,180,175,178.9,176.2,177,172.5,178,176.5]\n",
        "\n",
        "logging.info(\"we are calculation the mean, median ,  mode\")\n",
        "# 1 mean \n",
        "\n",
        "mean = np.mean(data)\n",
        "print(\"The mean is \",mean)\n",
        "\n",
        "#2 mode\n",
        "\n",
        "mode= stat.mode(data)\n",
        "print(\"THe mode is \",mode)\n",
        "\n",
        "#3 median\n",
        "med = np.median(data)\n",
        "print(\"The Median is \",med)\n",
        "\n"
      ],
      "metadata": {
        "colab": {
          "base_uri": "https://localhost:8080/"
        },
        "id": "XshoYLcnJPC1",
        "outputId": "c6e2b555-0a22-4fa1-d32d-967808a6bd14"
      },
      "execution_count": 19,
      "outputs": [
        {
          "output_type": "stream",
          "name": "stdout",
          "text": [
            "The mean is  177.01875\n",
            "THe mode is  178\n",
            "The Median is  177.0\n"
          ]
        }
      ]
    },
    {
      "cell_type": "code",
      "source": [
        "# ANswer4\n",
        "# Standard deviation:\n",
        "\n",
        "logging.info(\"Std using the .std() of  the numpy libraray\")\n",
        "import numpy as np\n",
        "\n",
        "data = [178,177,176,177,178.2,178,175,179,180,175,178.9,176.2,177,172.5,178,176.5]\n",
        "std = np.std(data)\n",
        "print(\"The standard deviation of the given data is :\", std)\n",
        "\n",
        "\n"
      ],
      "metadata": {
        "colab": {
          "base_uri": "https://localhost:8080/"
        },
        "id": "atiwKLNiKf-v",
        "outputId": "aec4962e-1189-42d1-da83-931b6275657c"
      },
      "execution_count": 21,
      "outputs": [
        {
          "output_type": "stream",
          "name": "stdout",
          "text": [
            "The standard deviation of the given data is : 1.7885814036548633\n"
          ]
        }
      ]
    },
    {
      "cell_type": "code",
      "source": [
        "# ANswer6\n",
        "\n",
        "# Measures of dispersion such as range, variance, and standard deviation are used to describe how spread out or how concentrated the values are in a dataset.\n",
        "\n",
        "# 1 Range:\n",
        "\"\"\"\n",
        "The range is the difference between the maximum and minimum values in a dataset.\n",
        " It provides a rough estimate of the spread of the data. \n",
        "\n",
        "For example, if a dataset contains the values [1, 3, 4, 5, 8], the range would be 8 - 1 = 7.\\\n",
        "\n",
        " \"\"\"\n",
        "\n",
        "# 2 Variance:\n",
        "\"\"\"\n",
        "The variance measures the average distance of each value in the dataset from the mean.\n",
        "It is calculated by taking the sum of the squared differences between each value and the mean, divided by the total number of values.\n",
        "A higher variance indicates a greater spread of the data.\n",
        "\n",
        "For Example:\n",
        "mean = (1+3+4+5+8)/5 = 4.2\n",
        "variance = ((1-4.2)^2 + (3-4.2)^2 + (4-4.2)^2 + (5-4.2)^2 + (8-4.2)^2)/5\n",
        "         = 7.04\n",
        "\"\"\"\n",
        "# 3 Standard deviation:\n",
        "\"\"\"\n",
        "The standard deviation is the square root of the variance and provides a measure of how tightly the values are clustered around the mean. \n",
        "A higher standard deviation indicates a greater spread of the data.\n",
        "\n",
        "std = squrt(variance)\n",
        "\n",
        "Example:\n",
        "std = sqrt(variance)\n",
        "    = sqrt(7.04)\n",
        "    = 2.654\n",
        "\n",
        "\"\"\"\n",
        "\n"
      ],
      "metadata": {
        "id": "EStQpCrjLmmQ"
      },
      "execution_count": null,
      "outputs": []
    },
    {
      "cell_type": "code",
      "source": [
        "# Answer6\n",
        "# Venn Diagram:\n",
        "\"\"\"\n",
        "A Venn diagram is a graphical representation of the relationships between sets or groups of data. \n",
        "Venn diagrams are often used in mathematics, statistics, and logic to visually represent the relationships between sets, including intersections, unions, and complements.\n",
        "Each circle or shape in a Venn diagram represents a set or group of data, and the overlap between the shapes represents the shared elements between the sets.\n",
        "\n",
        "\"\"\"\n"
      ],
      "metadata": {
        "id": "gLL88rmMMHlO"
      },
      "execution_count": null,
      "outputs": []
    },
    {
      "cell_type": "code",
      "source": [
        "# Answer7\n",
        "logging.info(\"Intersection and Union of th two datset\")\n",
        "import numpy as np\n",
        "\n",
        "A = (2,3,4,5,6,7)\n",
        "B = (0,2,6,8,10)\n",
        "#intersection\n",
        "intersection  = np.intersect1d(A,B)\n",
        "print(\"The Intersection of A And B is :\", intersection)\n",
        "\n",
        "#union\n",
        "union = np.union1d(A,B)\n",
        "print(\"The Union of the A and OB is :\", union)\n"
      ],
      "metadata": {
        "colab": {
          "base_uri": "https://localhost:8080/"
        },
        "id": "abQ5QbJuP9Ep",
        "outputId": "ddfad147-492d-4a1b-c576-40f1bb6ad432"
      },
      "execution_count": 23,
      "outputs": [
        {
          "output_type": "stream",
          "name": "stdout",
          "text": [
            "The Intersection of A And B is : [2 6]\n",
            "The Union of the A and OB is : [ 0  2  3  4  5  6  7  8 10]\n"
          ]
        }
      ]
    },
    {
      "cell_type": "code",
      "source": [
        "# ANswer8\n",
        "# Skewness:\n",
        "\n",
        "\"\"\"\n",
        "Skewness in data refers to the degree of asymmetry or lack of symmetry in a distribution of values.\n",
        "A symmetric distribution is one where the values are evenly distributed around the mean, whereas a skewed distribution is one where the values are not evenly distributed around the mean, and there is a tail on one side of the distribution that is longer than the other.\n",
        "Skewness is typically measured using a statistical measure known as skewness coefficient.\n",
        "\n",
        "\n",
        "A positive skewness coefficient indicates a distribution that is skewed to the right, with a long tail on the right-hand side of the distribution,\n",
        "whereas a negative skewness coefficient indicates a distribution that is skewed to the left, with a long tail on the left-hand side of the distribution.\n",
        "\n",
        "\"\"\"\n",
        "\n"
      ],
      "metadata": {
        "id": "hGH7-AZZRz_M"
      },
      "execution_count": null,
      "outputs": []
    },
    {
      "cell_type": "code",
      "source": [
        "# Answer9\n",
        "\"\"\"\n",
        "If a data set is right-skewed, the mean will be greater than the median. \n",
        "This is because the presence of outliers or extremely large values in the right tail of the distribution can pull the mean towards the right, resulting in a higher value than the median.\n",
        "\n",
        "\n",
        "\n",
        "For example, consider the following dataset of salaries:\n",
        "\n",
        "[10,000, 20,000, 30,000, 40,000, 50,000, 60,000, 100,000]\n",
        "\n",
        "The median of this dataset is 40,000, which represents the midpoint of the distribution. \n",
        "However, the mean is higher than the median, as the presence of the high-value salary of 100,000 pulls the mean towards the right, resulting in a mean salary of approximately 42,857.\n",
        "\n",
        "\"\"\""
      ],
      "metadata": {
        "id": "UpjoHczfSk7e"
      },
      "execution_count": null,
      "outputs": []
    },
    {
      "cell_type": "code",
      "source": [
        "# Answer10\n",
        "\"\"\"\n",
        "Covariance and correlation are two statistical measures that are commonly used to describe the relationship between two variables.\n",
        "\"\"\"\n",
        "# covariance:\n",
        "\"\"\"\n",
        "Covariance measures how two variables change together.\n",
        "It is a measure of the joint variability of two random variables, and it indicates the direction of the linear relationship between them. \n",
        "Covariance can be positive, negative, or zero. A positive covariance means that when one variable increases, the other variable tends to increase as well. A negative covariance means that when one variable increases, the other variable tends to decrease. A covariance of zero means that there is no linear relationship between the two variables.\n",
        "\n",
        "\"\"\"\n",
        "# correlation\n",
        "\"\"\"\n",
        "Correlation, on the other hand, is a standardized measure of the strength and direction of the linear relationship between two variables. \n",
        "Unlike covariance, correlation always takes values between -1 and 1. \n",
        "A correlation of 1 means that there is a perfect positive linear relationship between the two variables, while a correlation of -1 means that there is a perfect negative linear relationship between the two variables.\n",
        "A correlation of 0 means that there is no linear relationship between the two variables.\n",
        "\n",
        "\"\"\"\n",
        "\n",
        "# In statical Analysis\n",
        "\"\"\"\n",
        "Both covariance and correlation are used in statistical analysis to investigate the relationship between two variables. \n",
        "However, correlation is preferred over covariance because it is a standardized measure that is independent of the scale of measurement of the variables. Correlation is also useful for comparing the relationships between different pairs of variables, as it takes values between -1 and 1, which allows for meaningful comparisons between different correlations.\n",
        "\n",
        "\"\"\"\n"
      ],
      "metadata": {
        "id": "oK-h4fiXPqSP"
      },
      "execution_count": null,
      "outputs": []
    },
    {
      "cell_type": "code",
      "source": [
        "# Answer11\n",
        "# The formula for calculating the sample mean is:\n",
        "\n",
        "\"\"\"\n",
        "Sample mean = (sum of all values in the sample) / (number of values in the sample)\n",
        "\"\"\"\n",
        "\"\"\"\n",
        "\n",
        "For example, let's say we have a sample of 5 test scores: 70, 75, 80, 85, and 90. To calculate the sample mean, we add up all the values in the sample and divide by the total number of values:\n",
        "\n",
        "Sample mean = (70 + 75 + 80 + 85 + 90) / 5\n",
        "\n",
        "Sample mean = 400 / 5\n",
        "\n",
        "Sample mean = 80\n",
        "\n",
        "Therefore, the sample mean of the test scores is 80.\n",
        "\n",
        "\n",
        "\"\"\"\n",
        "# In python \n",
        "\n",
        "import numpy as np\n",
        "data  = [ 70, 75, 80, 85, 90]\n",
        "sample_mean = np.mean(data)\n",
        "print(\"The Sample is : \", sample_mean)\n",
        "\n",
        "\n"
      ],
      "metadata": {
        "colab": {
          "base_uri": "https://localhost:8080/"
        },
        "id": "N9IhrkFsUR9R",
        "outputId": "96df158d-e4b6-42eb-dc1f-46d6bd56ecc0"
      },
      "execution_count": 24,
      "outputs": [
        {
          "output_type": "stream",
          "name": "stdout",
          "text": [
            "The Sample is :  80.0\n"
          ]
        }
      ]
    },
    {
      "cell_type": "code",
      "source": [
        "# ANswer12\n",
        "\n",
        "# For a normal distribution, the mean, median, and mode are all equa\n",
        "\n",
        "# Explanation:\n",
        "\"\"\"\"\n",
        "For a normal distribution, the mean, median, and mode are all equal.\n",
        "This is because the normal distribution is symmetric, meaning that the data is evenly distributed around the mean.\n",
        "\n",
        "\n",
        "In a normal distribution, the mean is the arithmetic average of all the data points, the median is the middle value of the dataset when the values are arranged in order,\n",
        "and the mode is the most common value in the dataset. Since the normal distribution is symmetric, the mean, median, and mode are all located at the center of the distribution\n",
        "and they all have the same value.\n",
        "\n",
        "\"\"\"\n"
      ],
      "metadata": {
        "id": "jgXxxyveTXEF"
      },
      "execution_count": null,
      "outputs": []
    },
    {
      "cell_type": "code",
      "source": [
        "# Answwer13\n",
        "\"\"\"\n",
        "Covariance and correlation are two statistical measures that are used to describe the relationship between two variables, but they have some important differences:\n",
        "\n",
        "\n",
        "\n",
        "Definition:\n",
        " Covariance is a measure of how two variables change together.\n",
        "It measures the direction of the linear relationship between two variables, indicating whether they move in the same direction or opposite directions.\n",
        "\n",
        " Correlation, on the other hand, is a standardized measure of the strength and direction of the linear relationship between two variables.\n",
        "\n",
        "\n",
        "\n",
        "Range of values: \n",
        "Covariance can take on any value, positive, negative, or zero, depending on the relationship between the two variables. \n",
        "Correlation, on the other hand, is always between -1 and 1, where -1 represents a perfect negative correlation, 0 represents no correlation, and 1 represents a perfect positive correlation.\n",
        "\n",
        "\n",
        "Units of measurement: \n",
        "Covariance is measured in the units of the two variables,\n",
        " while correlation is unitless, meaning that it is independent of the units of the variables.\n",
        "\n",
        "\n",
        "\n",
        "Interpretation: \n",
        "Because covariance is measured in the units of the variables, its interpretation can be difficult. \n",
        "A large covariance can indicate either a strong positive or a strong negative relationship between two variables, depending on the signs of the variables.\n",
        "Correlation, on the other hand, is standardized and easy to interpret. A correlation of 0 indicates no relationship,\n",
        "while a correlation of 1 indicates a perfect positive relationship, and a correlation of -1 indicates a perfect negative relationship.\n",
        "\n",
        "\n",
        "\"\"\""
      ],
      "metadata": {
        "id": "sXwZPZvkV1dm"
      },
      "execution_count": null,
      "outputs": []
    },
    {
      "cell_type": "code",
      "source": [
        "# Answer14\n",
        "\"\"\"\n",
        "Outliers are data points that are significantly different from the other data points in a dataset. \n",
        "Outliers can affect measures of central tendency and dispersion as follows:\n",
        "\n",
        "Mean: \n",
        "    Outliers can have a significant effect on the mean because it is sensitive to extreme values.\n",
        "A single outlier can pull the mean in the direction of the outlier, making it an inaccurate representation\n",
        "of the central tendency of the dataset.\n",
        "\n",
        "Median:\n",
        "     Outliers have little or no effect on the median because it is not affected by extreme values.\n",
        "The median is the middle value of the dataset when the values are arranged in ascending or descending order. \n",
        "An outlier that is significantly larger or smaller than the other values in the dataset will have no effect \n",
        "on the position of the median.\n",
        "\n",
        "Mode:\n",
        "    Outliers have little or no effect on the mode because it is determined by the value that appears most\n",
        "frequently in the dataset. An outlier that occurs only once or twice in the dataset will have no effect\n",
        "on the mode.\n",
        "\n",
        "Dispersion:\n",
        "         Outliers can have a significant effect on measures of dispersion such as range, variance, \n",
        "and standard deviation. Outliers can increase the range, variance, and standard deviation, making them \n",
        "inaccurate measures of the spread of the dataset.\n",
        "\n",
        "For example, consider the following dataset: [10, 20, 30, 40, 50, 200]. The mean of this dataset is \n",
        "(10+20+30+40+50+200)/6 = 50, which is significantly larger than the other values in the dataset due\n",
        "to the outlier 200. The median of this dataset is 35, which is not affected by the outlier.\n",
        "The mode of this dataset is not well defined because no value occurs more than once. The range of\n",
        "this dataset is 200-10=190, which is significantly larger than the range of the dataset without the outlier\n",
        "(50-10=40). The variance and standard deviation of this dataset will also be higher due to the presence of\n",
        "the outlier.\n",
        "\n",
        "\"\"\"\n"
      ],
      "metadata": {
        "id": "W9SeNly2Wpjl"
      },
      "execution_count": null,
      "outputs": []
    }
  ]
}