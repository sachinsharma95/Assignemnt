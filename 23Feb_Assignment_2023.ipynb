{
 "cells": [
  {
   "cell_type": "code",
   "execution_count": 1,
   "id": "6020c52b-1c66-4bdc-96a8-a38759e19dd2",
   "metadata": {},
   "outputs": [],
   "source": [
    "#logging \n",
    "import logging\n",
    "logging.basicConfig(filename=\"23FebInfo.log\", level=logging.INFO, format=\"%(asctime)s %(name)s %(message)s\")\n",
    "logging.info(\"Pandas Working Started \") "
   ]
  },
  {
   "cell_type": "code",
   "execution_count": 5,
   "id": "14b96fa9-b1f0-4c28-8b16-b1f9496c07a4",
   "metadata": {},
   "outputs": [
    {
     "name": "stdout",
     "output_type": "stream",
     "text": [
      "0     4\n",
      "1     8\n",
      "2    15\n",
      "3    16\n",
      "4    23\n",
      "5    42\n",
      "dtype: int64\n"
     ]
    }
   ],
   "source": [
    "# Answer1\n",
    "\n",
    "import pandas as pd\n",
    "logging.info(\"import pandas\") \n",
    "series1 = pd.Series([4,8,15,16,23,42])\n",
    "print(series1)"
   ]
  },
  {
   "cell_type": "code",
   "execution_count": null,
   "id": "a6936e26-cf58-4c34-b9b3-b683ffba2998",
   "metadata": {},
   "outputs": [],
   "source": [
    "# Q2. Create a variable of list type containing 10 elements in it, and apply pandas.Series function on the\n",
    "# variable print it."
   ]
  },
  {
   "cell_type": "code",
   "execution_count": 7,
   "id": "9c2578b3-4323-4b33-ac05-4feef49614af",
   "metadata": {},
   "outputs": [
    {
     "name": "stdout",
     "output_type": "stream",
     "text": [
      "0        sachin\n",
      "1         Akash\n",
      "2         Vinod\n",
      "3      mirzapur\n",
      "4        kalin \n",
      "5        Bhaiya\n",
      "6          Raju\n",
      "7    web_series\n",
      "8       season2\n",
      "9       season1\n",
      "dtype: object\n"
     ]
    }
   ],
   "source": [
    "# Answer2\n",
    "import pandas as pd\n",
    "#creating a variable lst having the type list and conatins 10 elements\n",
    "lst = [\"sachin\",\"Akash\",\"Vinod\",\"mirzapur\",\"kalin \",\"Bhaiya\",\"Raju\",\"web_series\",\"season2\",\"season1\"]\n",
    "logging.info(\"Creating the series of list\")\n",
    "series2 = pd.Series(lst)\n",
    "print(series2) #printing the series\n"
   ]
  },
  {
   "cell_type": "code",
   "execution_count": 23,
   "id": "c9bc6ddf-b609-4786-9460-e491a7a5d210",
   "metadata": {},
   "outputs": [
    {
     "name": "stdout",
     "output_type": "stream",
     "text": [
      "     Name  Age  Gender\n",
      "0   Alice   25  Female\n",
      "1     Bob   30    Male\n",
      "2  claire   27  Female\n"
     ]
    }
   ],
   "source": [
    "# Answer3\n",
    "import pandas as pd\n",
    "logging.info(\"create input in the form of dict than pass to the DataFrame\")\n",
    "dict1 = {\"Name\":[\"Alice\",\"Bob\",\"claire\"] ,\n",
    "         \"Age\":[25,30,27],\n",
    "         \"Gender\":[\"Female\",\"Male\",\"Female\"]}\n",
    "\n",
    "dtf = pd.DataFrame(dict1, index= None)\n",
    "\n",
    "print(dtf)\n",
    "    \n",
    "\n",
    "    "
   ]
  },
  {
   "cell_type": "code",
   "execution_count": 27,
   "id": "294b22c2-5f9b-4aa5-8c0b-da82570f81e1",
   "metadata": {},
   "outputs": [
    {
     "name": "stdout",
     "output_type": "stream",
     "text": [
      "     Name  Age  Gender\n",
      "0   Alice   25  Female\n",
      "1     Bob   30    Male\n",
      "2  claire   27  Female\n",
      "\n",
      "\n",
      "\n",
      "0       Web\n",
      "1    Series\n",
      "2      Raju\n",
      "dtype: object\n"
     ]
    }
   ],
   "source": [
    "# Answer4\n",
    "# DataFrame\n",
    "\"\"\"\n",
    "DataFrame is a 2-dimensional labeled data structure with columns of potentially different types. \n",
    "It can be thought of as a table or spreadsheet.\n",
    "It is 2-d heterogenious Datastructure in pandas \n",
    "\"\"\"\n",
    "# some key differences between DataFrame and Series:\n",
    "\n",
    "\"\"\"\n",
    "DataFrame has two dimensions (rows and columns), \n",
    "whereas Series has only one dimension (rows).\n",
    "\n",
    "Both DataFrame and Series have labels for both the rows and columns, \n",
    "but in Series, the column label is always None or the name of the single column of data.\n",
    "\n",
    "\n",
    "DataFrame can contain multiple columns and rows of data, \n",
    "whereas Series can only contain a single column of data.\n",
    "\"\"\"\n",
    "# Example of DataFrame\n",
    "\n",
    "import pandas as pd\n",
    "logging.info(\"create input in the form of dict than pass to the DataFrame\")\n",
    "dict1 = {\"Name\":[\"Alice\",\"Bob\",\"claire\"] ,\n",
    "         \"Age\":[25,30,27],\n",
    "         \"Gender\":[\"Female\",\"Male\",\"Female\"]}\n",
    "\n",
    "dtf = pd.DataFrame(dict1, index= None)\n",
    "print(dtf)\n",
    "print(\"\\n\\n\")\n",
    "\n",
    "# Example of the Series \n",
    "\"\"\"\n",
    "It is one dimenional \"\"\"\n",
    "\n",
    "\n",
    "lst = [\"Web\",\"Series\",\"Raju\"]\n",
    "s= pd.Series(lst)\n",
    "print(s)\n",
    "\n",
    "\n"
   ]
  },
  {
   "cell_type": "code",
   "execution_count": 37,
   "id": "32863401-a075-4847-81cb-ec6baa560d44",
   "metadata": {},
   "outputs": [
    {
     "name": "stdout",
     "output_type": "stream",
     "text": [
      "  product     region  sales\n",
      "0       M  NorthEast   1005\n",
      "1     BAQ      North   2005\n",
      "2     APX  SouthEast   1150\n",
      "3     BTU      South   2520\n",
      "4     AMN       East    725\n",
      "5     SAB       East   1205\n",
      "\n",
      "\n",
      "\n",
      "  product     region  sales\n",
      "0       M  NorthEast   1005\n",
      "1     BAQ      North   2005\n",
      "\n",
      "\n",
      "\n",
      "  product region  sales\n",
      "4     AMN   East    725\n",
      "5     SAB   East   1205\n",
      "\n",
      "\n",
      "\n",
      "                  region\n",
      "product sales           \n",
      "AMN     725         East\n",
      "APX     1150   SouthEast\n",
      "BAQ     2005       North\n",
      "BTU     2520       South\n",
      "M       1005   NorthEast\n",
      "SAB     1205        East\n"
     ]
    }
   ],
   "source": [
    "# Answer5\n",
    "# There are some common functions to manipulate data in DataFrame are \n",
    "\n",
    "\"\"\"\n",
    "head(): Returns the first n rows of the DataFrame.\n",
    "tail(): Returns the last n rows of the DataFrame.\n",
    "drop(): Removes specified rows or columns from the DataFrame.\n",
    "groupby(): Groups the DataFrame by one or more columns and applies a function to each group.\n",
    "etc.\n",
    "\n",
    "\"\"\"\n",
    "\n",
    "# Example\n",
    "import pandas as pd\n",
    "data1 = {'product': ['M', 'BAQ', 'APX', 'BTU', 'AMN', 'SAB'],\n",
    "        'region': ['NorthEast', 'North', 'SouthEast', 'South', 'East', 'East'],\n",
    "        'sales': [1005, 2005, 1150, 2520, 725, 1205]}\n",
    "dtf = pd.DataFrame(data1)\n",
    "print(dtf)\n",
    "print(\"\\n\\n\")\n",
    "\n",
    "# 1 using the head()\n",
    "print(dtf.head(2))\n",
    "print(\"\\n\\n\")\n",
    "\n",
    "# 2 using the tail() \n",
    "print(dtf.tail(2))\n",
    "print(\"\\n\\n\")\n",
    "\n",
    "# 3 using the GroupyBy\n",
    "\"\"\"\n",
    "Goupby function group  the data \n",
    "\"\"\"\n",
    "logging.info(\"Groupby is used to gruop the prodcut and sales\")\n",
    "print(dtf.groupby(['product', 'sales']).sum())\n",
    "\n",
    "\n",
    "\n",
    "# 4 etc\n",
    "\n"
   ]
  },
  {
   "cell_type": "code",
   "execution_count": null,
   "id": "318d8a7c-7744-4700-acad-b9f170bdeb34",
   "metadata": {},
   "outputs": [],
   "source": [
    "# Answer6\n",
    "\"\"\"\n",
    "In Pandas, both Series and DataFrame are mutable in nature, \n",
    "which means that you can change the values of their elements after they have been created.\n",
    "However, Panel is deprecated in recent versions of Pandas and replaced by more efficient and useful data structures like MultiIndex or xarray.\n",
    "\"\"\"\n"
   ]
  },
  {
   "cell_type": "code",
   "execution_count": 39,
   "id": "04c20036-74a6-4d37-af92-6d5bb7ecebd0",
   "metadata": {},
   "outputs": [
    {
     "name": "stdout",
     "output_type": "stream",
     "text": [
      "     Name  Age  Gender\n",
      "0   Alice   25  Female\n",
      "1     Bob   30    Male\n",
      "2  Claire   27  Female\n"
     ]
    }
   ],
   "source": [
    "# Answer7\n",
    "# DataFrame using the series\n",
    "\"\"\"\n",
    "we can create a DataFrame using multiple Series by passing a dictionary where the keys are the column names and the values are the Series.\n",
    "\n",
    "\"\"\"\n",
    "# For Example\n",
    "\n",
    "import pandas as pd\n",
    "\n",
    "logging.info(\" create a Series for each column\")\n",
    "#series creating \n",
    "names = pd.Series(['Alice', 'Bob', 'Claire'])\n",
    "ages = pd.Series([25, 30, 27])\n",
    "genders = pd.Series(['Female', 'Male', 'Female'])\n",
    "\n",
    "# create a DataFrame using the Series\n",
    "logging.info(\"passsing the series in dict and then dict is used as parameter in DataFrame\")\n",
    "df = pd.DataFrame({'Name': names, 'Age': ages, 'Gender': genders})\n",
    "\n",
    "# print the DataFrame\n",
    "print(df)\n"
   ]
  },
  {
   "cell_type": "code",
   "execution_count": null,
   "id": "aa8ef04f-d7bd-4a32-84f4-c82c5038cf35",
   "metadata": {},
   "outputs": [],
   "source": []
  }
 ],
 "metadata": {
  "kernelspec": {
   "display_name": "Python 3 (ipykernel)",
   "language": "python",
   "name": "python3"
  },
  "language_info": {
   "codemirror_mode": {
    "name": "ipython",
    "version": 3
   },
   "file_extension": ".py",
   "mimetype": "text/x-python",
   "name": "python",
   "nbconvert_exporter": "python",
   "pygments_lexer": "ipython3",
   "version": "3.10.8"
  }
 },
 "nbformat": 4,
 "nbformat_minor": 5
}
