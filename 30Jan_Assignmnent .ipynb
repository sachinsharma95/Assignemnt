{
 "cells": [
  {
   "cell_type": "code",
   "execution_count": 1,
   "id": "998cb328-f425-4c3b-b4ab-347ea34b50c0",
   "metadata": {},
   "outputs": [
    {
     "name": "stdin",
     "output_type": "stream",
     "text": [
      "Enter the marks  85\n"
     ]
    },
    {
     "name": "stdout",
     "output_type": "stream",
     "text": [
      "Grade B\n"
     ]
    }
   ],
   "source": [
    " # Q1.  Program to Accept the percentage and dispaly the grade according to the percentage\n",
    "    \n",
    "# Answer 1 \n",
    "marks  = int(input(\"Enter the marks \"))\n",
    "if(marks >90):\n",
    "    print(\"Grade A\")\n",
    "elif(marks>80 and marks<=90):\n",
    "    print(\"Grade B\")\n",
    "elif(marks>=60 and marks<=80):\n",
    "    print(\"Grade C\")\n",
    "else:\n",
    "    print(\"Grade D\")\n",
    "    "
   ]
  },
  {
   "cell_type": "code",
   "execution_count": 2,
   "id": "7f1bb945-6575-446f-86cc-ba45a5e74a3e",
   "metadata": {},
   "outputs": [
    {
     "name": "stdin",
     "output_type": "stream",
     "text": [
      "Enter the cost Price of the Bike 45\n"
     ]
    },
    {
     "name": "stdout",
     "output_type": "stream",
     "text": [
      "5%  Tax\n"
     ]
    }
   ],
   "source": [
    " # Q2. Write a program to accept the cost price of the bike and the display  the road tax to be according to the following critearia .\n",
    "    \n",
    "    # Answer2 \n",
    "cost_price = int(input(\"Enter the cost Price of the Bike\"))\n",
    "\n",
    "#take cost price as input price \n",
    "\n",
    "if(cost_price >100000):\n",
    "     print(\" 15% Tax\")\n",
    "        \n",
    "#check conditions \n",
    "                      \n",
    "elif(cost_price >50000 and cost_price <= 100000):\n",
    "    print(\" 10% Tax\")\n",
    "else:\n",
    "    print(\"5%  Tax\")\n",
    "    \n",
    "    "
   ]
  },
  {
   "cell_type": "code",
   "execution_count": 4,
   "id": "3381fc24-5287-4c32-9713-2bb87be11048",
   "metadata": {},
   "outputs": [
    {
     "name": "stdin",
     "output_type": "stream",
     "text": [
      "Enter the name of city to check Monuments  Agra\n"
     ]
    },
    {
     "name": "stdout",
     "output_type": "stream",
     "text": [
      "Taj Mahal\n"
     ]
    }
   ],
   "source": [
    "# Q3.  Accept any city from user and display monumant of that city .\n",
    "# Amswer 3 \n",
    "\n",
    "city = str(input(\"Enter the name of city to check Monuments \"))\n",
    "\n",
    "if(city == \"Delhi\"):\n",
    "    print(\"Red Fort\")\n",
    "elif(city == \"Agra\"):\n",
    "    print(\"Taj Mahal\")\n",
    "elif(city == \"Jaipur\"):\n",
    "    print(\"Jal Mahal\")"
   ]
  },
  {
   "cell_type": "code",
   "execution_count": 7,
   "id": "bfd2cab3-ec24-4995-b7af-39ada6076fec",
   "metadata": {},
   "outputs": [
    {
     "data": {
      "text/plain": [
       "2"
      ]
     },
     "execution_count": 7,
     "metadata": {},
     "output_type": "execute_result"
    }
   ],
   "source": [
    "# Q4. Check how many times a given number can be divided by 3 before it is less than or equal to 10.\n",
    "\n",
    "# Answer4 \n",
    "def divide(original_number):\n",
    "    count = 0\n",
    "    num = original_number\n",
    "    while num > 10:\n",
    "        num = num / 3\n",
    "        count += 1\n",
    "    return count\n",
    "\n",
    "\n",
    "divide(45)\n"
   ]
  },
  {
   "cell_type": "code",
   "execution_count": 6,
   "id": "46b81349-bdb5-4a40-b20d-814dd0366495",
   "metadata": {
    "collapsed": true,
    "jupyter": {
     "outputs_hidden": true
    },
    "tags": []
   },
   "outputs": [
    {
     "ename": "SyntaxError",
     "evalue": "invalid syntax (1061327348.py, line 3)",
     "output_type": "error",
     "traceback": [
      "\u001b[0;36m  Cell \u001b[0;32mIn[6], line 3\u001b[0;36m\u001b[0m\n\u001b[0;31m    Ans5. The while loop in Python is used to repeatedly execute a block of code as long as a certain         condition is met. The general syntax for a while loop is:\u001b[0m\n\u001b[0m              ^\u001b[0m\n\u001b[0;31mSyntaxError\u001b[0m\u001b[0;31m:\u001b[0m invalid syntax\n"
     ]
    }
   ],
   "source": [
    "# Q5. Why and When to use While Loop in Python give a detailed description with example.\n",
    "\n",
    "Ans5.''' The while loop in Python is used to repeatedly execute a block of code as long as a certain         condition is met. The general syntax for a while loop is: \n",
    "\n",
    "<!--    syntax : -->\n",
    "while condition:\n",
    "    # code to be executed\n",
    "    \n",
    "    \n",
    "Here, \"condition\" is a \"boolean expression\" that evaluates to either True or False. \n",
    "  \n",
    "If the condition is True, the code inside the loop is executed. The loop continues to run until the condition becomes False\n",
    "\n",
    "\n",
    "# example of the while lopp'''\n",
    "count = 1\n",
    "while count <= 5:\n",
    "    print(count)\n",
    "    count += 1\n"
   ]
  },
  {
   "cell_type": "code",
   "execution_count": 9,
   "id": "27169be8-3386-41fd-9ad5-5763b89af904",
   "metadata": {},
   "outputs": [
    {
     "name": "stdin",
     "output_type": "stream",
     "text": [
      "Enter the number of rows:  5\n"
     ]
    },
    {
     "name": "stdout",
     "output_type": "stream",
     "text": [
      "* \n",
      "* * \n",
      "* * * \n",
      "* * * * \n",
      "* * * * * \n"
     ]
    },
    {
     "name": "stdin",
     "output_type": "stream",
     "text": [
      "Enter the number of rows:  5\n"
     ]
    },
    {
     "name": "stdout",
     "output_type": "stream",
     "text": [
      "    *     \n",
      "   * * *    \n",
      "  * * * * *   \n",
      " * * * * * * *  \n",
      "* * * * * * * * * \n",
      " * * * * * * *  \n",
      "  * * * * *   \n",
      "   * * *    \n",
      "    *     \n"
     ]
    },
    {
     "name": "stdin",
     "output_type": "stream",
     "text": [
      "Enter the number of rows: 5\n",
      "Enter the number of columns: 5\n"
     ]
    },
    {
     "name": "stdout",
     "output_type": "stream",
     "text": [
      "* * * * * \n",
      "* * * * * \n",
      "* * * * * \n",
      "* * * * * \n",
      "* * * * * \n"
     ]
    }
   ],
   "source": [
    "# Q6 Use nested While loop to print 3 different pattern\n",
    "\n",
    "\n",
    "# 1 is Triangle pattern: \n",
    "# * \n",
    "# * * \n",
    "# * * * \n",
    "# * * * * \n",
    "# * * * * * \n",
    "\n",
    "rows = int(input(\"Enter the number of rows: \"))\n",
    "i = 0\n",
    "while i < rows:\n",
    "    j = 0\n",
    "    while j <= i:\n",
    "        print(\"*\", end=' ')\n",
    "        j += 1\n",
    "    print(\"\\r\")\n",
    "    i += 1\n",
    "\n",
    "    \n",
    " # patter 2 \n",
    "\n",
    "#     *     \n",
    "#    * * *    \n",
    "#   * * * * *   \n",
    "#  * * * * * * *  \n",
    "# * * * * * * * * * \n",
    "#  * * * * * * *  \n",
    "#   * * * * *   \n",
    "#    * * *    \n",
    "#     * \n",
    "\n",
    "\n",
    "\n",
    "rows = int(input(\"Enter the number of rows: \"))\n",
    "i = -rows + 1\n",
    "\n",
    "while i < rows:\n",
    "    #one lop \n",
    "    j = -rows + 1\n",
    "    while j < rows:\n",
    "        #loop inside loop \n",
    "        if abs(j) + abs(i) <= rows - 1:\n",
    "            print(\"*\", end=' ')\n",
    "        else:\n",
    "            print(end=\" \")\n",
    "        j += 1\n",
    "    print()\n",
    "    i += 1\n",
    "\n",
    "\n",
    " # pattern 3 \n",
    "'''\n",
    "* * * * * \n",
    "* * * * * \n",
    "* * * * * \n",
    "* * * * * \n",
    "* * * * * \n",
    "'''\n",
    "\n",
    "\n",
    "rows = int(input(\"Enter the number of rows:\"))\n",
    "columns = int(input(\"Enter the number of columns:\"))\n",
    "\n",
    "i = 0\n",
    "while i < rows:\n",
    "    j = 0\n",
    "    while j < columns:\n",
    "        print(\"*\", end=' ')\n",
    "        j += 1\n",
    "    print()\n",
    "    i += 1\n",
    "\n"
   ]
  },
  {
   "cell_type": "code",
   "execution_count": 10,
   "id": "dde9f5f8-5e5e-43ad-887f-08b662a1b7dc",
   "metadata": {},
   "outputs": [
    {
     "name": "stdout",
     "output_type": "stream",
     "text": [
      "10\n",
      "9\n",
      "8\n",
      "7\n",
      "6\n",
      "5\n",
      "4\n",
      "3\n",
      "2\n",
      "1\n"
     ]
    }
   ],
   "source": [
    "# Q7 Reverse a while loop to display number from the 10 to 1 \n",
    "\n",
    "# Anser7\n",
    "\n",
    "i = 10\n",
    "# initialize i \n",
    "while i > 0:\n",
    "    \n",
    "    # condition to execute the while loop \n",
    "    print(i)\n",
    "    \n",
    "    i -= 1\n"
   ]
  },
  {
   "cell_type": "code",
   "execution_count": null,
   "id": "a1c936e2-114b-4ef6-b53b-a57ba4bcf4bd",
   "metadata": {},
   "outputs": [],
   "source": [
    "# Q8 Reverse a while loop to display number from the 10 to 1 \n",
    "\n",
    "# Anser8\n",
    "\n",
    "i = 10\n",
    "# initialize i \n",
    "while i > 0:\n",
    "    \n",
    "    # condition to execute the while loop \n",
    "    print(i)\n",
    "    \n",
    "    i -= 1\n"
   ]
  }
 ],
 "metadata": {
  "kernelspec": {
   "display_name": "Python 3 (ipykernel)",
   "language": "python",
   "name": "python3"
  },
  "language_info": {
   "codemirror_mode": {
    "name": "ipython",
    "version": 3
   },
   "file_extension": ".py",
   "mimetype": "text/x-python",
   "name": "python",
   "nbconvert_exporter": "python",
   "pygments_lexer": "ipython3",
   "version": "3.10.8"
  }
 },
 "nbformat": 4,
 "nbformat_minor": 5
}
