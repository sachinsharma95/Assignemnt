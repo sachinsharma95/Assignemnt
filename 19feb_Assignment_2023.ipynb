{
 "cells": [
  {
   "cell_type": "code",
   "execution_count": 2,
   "id": "6e972c9d-a617-4bc9-a5de-a1ed0a56faeb",
   "metadata": {},
   "outputs": [],
   "source": [
    "import logging\n",
    "logging.basicConfig(filename=\"19FebInfo.log\", level=logging.INFO, format=\"%(asctime)s %(name)s %(message)s\")"
   ]
  },
  {
   "cell_type": "code",
   "execution_count": 6,
   "id": "047a4eda-c0bb-43be-929a-e553a03d490f",
   "metadata": {},
   "outputs": [
    {
     "name": "stdout",
     "output_type": "stream",
     "text": [
      "Requirement already satisfied: flask in /opt/conda/lib/python3.10/site-packages (2.2.3)\n",
      "Requirement already satisfied: itsdangerous>=2.0 in /opt/conda/lib/python3.10/site-packages (from flask) (2.1.2)\n",
      "Requirement already satisfied: Jinja2>=3.0 in /opt/conda/lib/python3.10/site-packages (from flask) (3.1.2)\n",
      "Requirement already satisfied: click>=8.0 in /opt/conda/lib/python3.10/site-packages (from flask) (8.1.3)\n",
      "Requirement already satisfied: Werkzeug>=2.2.2 in /opt/conda/lib/python3.10/site-packages (from flask) (2.2.3)\n",
      "Requirement already satisfied: MarkupSafe>=2.0 in /opt/conda/lib/python3.10/site-packages (from Jinja2>=3.0->flask) (2.1.1)\n",
      "Note: you may need to restart the kernel to use updated packages.\n"
     ]
    }
   ],
   "source": [
    "\n",
    "pip install flask\n",
    "#installing the flask\n"
   ]
  },
  {
   "cell_type": "code",
   "execution_count": null,
   "id": "c8b326aa-e4ff-403b-87f4-43f383ca8035",
   "metadata": {},
   "outputs": [],
   "source": [
    "# Answer1\n",
    "\n",
    "# flask\n",
    "\"\"\"\n",
    "Flask is a popular web application framework for Python. \n",
    "Flask is a micro web framework written in Python that allows developers to build web applications quickly and easily.\n",
    "It is light weight and flexible .\n",
    "\"\"\"\n",
    "\n",
    "# Advantages of the flask\n",
    "\"\"\"\n",
    "Flexibility:\n",
    "       It allows developers to use any ORM or database of their choice, and provides a simple API \n",
    "       for handling requests and responses.\n",
    "\n",
    "Lightweight: \n",
    "    Flask is a lightweight framework with a small codebase, easy to deploy and scale web applications.\n",
    "\n",
    "Extensible:\n",
    "    Flask is highly extensible and provides a wide range of extensions to add additional \n",
    "features to our application. These extensions include Flask-RESTful for building RESTful APIs, \n",
    "Flask-Login for user authentication, and Flask-WTF for form validation.\n",
    "\n",
    "\n",
    "Easy to Learn: \n",
    "    Flask has a simple and intuitive syntax, making it easy to learn for beginners.\n",
    "    \n",
    "Large Community:\n",
    "    Flask has a large and active community of developers.\n",
    "\n",
    "Jinja2 templating engine: \n",
    "Flask comes with Jinja2, a popular templating engine, which makes it easy to separate application logic from presentation.\n",
    "\n",
    "RESTful request dispatching:\n",
    "Flask provides RESTful request dispatching which makes it easy to build RESTful APIs.\n",
    "\n",
    "\"\"\"\n",
    "\n"
   ]
  },
  {
   "cell_type": "code",
   "execution_count": null,
   "id": "5e70a594-9b1a-458a-bb6e-bef1cc483555",
   "metadata": {},
   "outputs": [],
   "source": [
    "# Answerr2\n",
    "\n",
    "from flask import Flask\n",
    "\n",
    "app = Flask(__name__)\n",
    "\n",
    "logging.info(\"routing the url\")\n",
    "\n",
    "@app.route('/')\n",
    "def hello_world():\n",
    "    return '<h1>Hello World!<h1>'\n",
    "\n",
    "if __name__ == '__main__':\n",
    "    app.run()\n",
    "\n"
   ]
  },
  {
   "cell_type": "markdown",
   "id": "ece9c854-daae-444e-9636-b1b601d83a00",
   "metadata": {},
   "source": [
    "<img src="hello.jpg" width="800" />"
   ]
  },
  {
   "cell_type": "code",
   "execution_count": null,
   "id": "b27483cf-a874-4574-9387-10c0403e830c",
   "metadata": {},
   "outputs": [],
   "source": [
    "# Answer3\n",
    "\n",
    "# App routing in Flask\n",
    "\"\"\"\n",
    "In Flask, app routing refers to the process of mapping URLs to functions in a Flask application.\n",
    "An app route is created using the @app.route() decorator.\n",
    "\n",
    "\"\"\"\n",
    "# Example of App routing \n",
    "\"\"\"\n",
    "This example will demonstrate how the app routing and decorator work\n",
    "\"\"\"\n",
    "\n",
    "from flask import Flask\n",
    "\n",
    "\n",
    "app = Flask(__name__)\n",
    "\n",
    "logging.info(\"routing the url\")  #logging \n",
    "\n",
    "@app.route('/')\n",
    "\n",
    "def home():\n",
    "    return '<h1>WELCOME! on THE HOME PAGE <h1>'\n",
    "\n",
    "@app.route('/about_page')\n",
    "def about_page():\n",
    "    return 'This is the about page.'\n",
    "\n",
    "if __name__ == '__main__':\n",
    "    \n",
    "    app.run()\n",
    "\n",
    "    \n",
    "    \n",
    "# Expalnation\n",
    "\n",
    "\"\"\"\n",
    "In this the first routing is for the home page . and then using the /with about_page we will rendered to the about_page\n",
    "\n",
    "It allows us to create a RESTful API and handle different types of HTTP requests\n",
    "(GET, POST, PUT, DELETE, etc.) by associating different functions with different URLs.\n",
    "\n",
    "App routing is used in Flask to create a structure and organize the URLs of the application,\n",
    "as well as to determine which function to execute in response to a particular URL. \n",
    "\n",
    "\n",
    "\"\"\"\n"
   ]
  },
  {
   "cell_type": "code",
   "execution_count": null,
   "id": "59dac479-46a4-493a-87b7-f4d99d87de5b",
   "metadata": {},
   "outputs": [],
   "source": [
    "# Answer4\n",
    "\n",
    "from flask import Flask\n",
    "import logging\n",
    "app = Flask(__name__)\n",
    "\n",
    "logging.info(\"routing the url /welcome\")\n",
    "\n",
    "@app.route('/welcome')\n",
    "def welcome():\n",
    "    return '<h2> Welcome to the ABC Corporation <h2>'\n",
    "\n",
    "logging.info(\"routing the url /\")\n",
    "@app.route('/')\n",
    "def home():\n",
    "    return '<h1>Company Name: ABC Corporation <br> Location : India <br> Conatct Detail:999-999-999 <h1>'\n",
    "\n",
    "\n",
    "\n",
    "if __name__ == '__main__':\n",
    "    \n",
    "    app.run(host=\"0.0.0.0\")"
   ]
  },
  {
   "cell_type": "markdown",
   "id": "5c2c273c-f329-43a6-bb26-bfcb7b289c5b",
   "metadata": {},
   "source": [
    "<img src = \"company_flask.jpg\">\n",
    "<img src = \"welcome2.jpg\">"
   ]
  },
  {
   "cell_type": "code",
   "execution_count": null,
   "id": "cec72d19-bfe4-4c8e-b58c-81bf93ad3797",
   "metadata": {},
   "outputs": [],
   "source": [
    "# Answer5\n",
    "\n",
    "\"\"\"\n",
    "The url_for() function is used to build URLs for a given function name. It accepts the name of the \n",
    "function as its first argument and additional keyword arguments representing the values to be appended \n",
    "to the URL.\n",
    "\"\"\"\n",
    "\n",
    "# Example for the url_for() function\n",
    "from flask import Flask,url_for\n",
    "from flask import request\n",
    "\n",
    "app = Flask(__name__)\n",
    "\n",
    "@app.route('/hello/<name>')\n",
    "def hello(name):\n",
    "    return f'Hello, {name}!'\n",
    "\n",
    "@app.route('/')\n",
    "def demo():\n",
    "    logging.info(\"generate a URL for the hello() function with the name parameter set to 'Sachin_sharma' \")\n",
    "    url = url_for('hello', name='Sachin_sharma')\n",
    "    return f'The URL is: {url}'\n",
    "\n",
    "if __name__==\"__main__\":\n",
    "    app.run(host=\"0.0.0.0\")\n",
    "\n",
    "\"\"\"\n",
    "In this example, we have defined three routes: show_user_profile(), show_post(), and login(). \n",
    "The index() function is associated with the root route (/) and uses the url_for() function to\n",
    "build URLs for the other functions.\n",
    "\"\"\""
   ]
  }
 ],
 "metadata": {
  "kernelspec": {
   "display_name": "Python 3 (ipykernel)",
   "language": "python",
   "name": "python3"
  },
  "language_info": {
   "codemirror_mode": {
    "name": "ipython",
    "version": 3
   },
   "file_extension": ".py",
   "mimetype": "text/x-python",
   "name": "python",
   "nbconvert_exporter": "python",
   "pygments_lexer": "ipython3",
   "version": "3.10.8"
  }
 },
 "nbformat": 4,
 "nbformat_minor": 5
}
