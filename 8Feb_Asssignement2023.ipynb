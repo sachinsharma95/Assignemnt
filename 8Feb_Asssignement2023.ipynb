{
 "cells": [
  {
   "cell_type": "code",
   "execution_count": null,
   "id": "2246ee12-eb70-43d8-b04c-3256266ba7aa",
   "metadata": {},
   "outputs": [],
   "source": [
    "# Q1. What is Abstraction in OOps? Explain with an example."
   ]
  },
  {
   "cell_type": "code",
   "execution_count": 9,
   "id": "d7f87edf-f859-43f0-90b4-6eae5085f567",
   "metadata": {},
   "outputs": [
    {
     "name": "stdout",
     "output_type": "stream",
     "text": [
      "Fortuner 2010 is being driven\n"
     ]
    }
   ],
   "source": [
    "# Ans1\n",
    "# Abstraction with Example \n",
    "\n",
    "\"\"\"Abstraction in object-oriented programming (OOP) is a mechanism to hide complexity from the user and show only essential features.\n",
    "It involves hiding the implementation details and showing only the functionality to the user. This helps in reducing the coupling between objects and increases the reusability of code.\"\"\"\n",
    "\n",
    "# for Example \n",
    "class Car:\n",
    "    def __init__(self, make, model, company):\n",
    "        self._make = make\n",
    "        self._model = model\n",
    "        self.company= company\n",
    "\n",
    "    def start(self):\n",
    "        print(f\"{self._make} {self._model} started\")\n",
    "\n",
    "    def stop(self):\n",
    "        print(f\"{self._make} {self._model} stopped\")\n",
    "\n",
    "    def drive(self):\n",
    "        print(f\"{self._make} {self._model} is being driven\")\n",
    "    def brand(self):\n",
    "        print(self.company)\n",
    "        \n",
    "\n",
    "        \n",
    "#instamce of the class car \n",
    "\n",
    "obj = Car(\"Fortuner\",\"2010\",\"Mahindra\")\n",
    "obj.drive()\n",
    "\n"
   ]
  },
  {
   "cell_type": "code",
   "execution_count": null,
   "id": "f10493c6-09a8-418e-a053-4a46fb79e4a0",
   "metadata": {},
   "outputs": [],
   "source": [
    "# Q2. Differentiate between Abstraction and Encapsulation. Explain with an example.\n"
   ]
  },
  {
   "cell_type": "code",
   "execution_count": 18,
   "id": "57aa038c-50ee-4672-860a-52c65c3ffe94",
   "metadata": {},
   "outputs": [
    {
     "name": "stdout",
     "output_type": "stream",
     "text": [
      "Fortuner 2010 is being driven\n"
     ]
    }
   ],
   "source": [
    "# Answer2\n",
    "\n",
    "# Abstraction\n",
    "\"\"\" \n",
    "Abstraction is the mechanism of hiding the complexity and only showing the essential features of an object to the user. It involves reducing the coupling between objects and increasing the reusability of code.\"\"\"\n",
    "\n",
    "\n",
    "# for example:\n",
    "\n",
    "class Car:\n",
    "    def __init__(self, make, model, company):\n",
    "        self._make = make\n",
    "        self._model = model\n",
    "        self.company= company\n",
    "        \n",
    "        # we are hiding the internal information and giving some  special permsion \n",
    "\n",
    "    def start(self):\n",
    "        print(f\"{self._make} {self._model} started\")\n",
    "\n",
    "    def stop(self):\n",
    "        print(f\"{self._make} {self._model} stopped\")\n",
    "\n",
    "    def drive(self):\n",
    "        print(f\"{self._make} {self._model} is being driven\")\n",
    "    def brand(self):\n",
    "        print(self.company)\n",
    "        \n",
    "\n",
    "        \n",
    "#instamce of the class car \n",
    "\n",
    "obj = Car(\"Fortuner\",\"2010\",\"Mahindra\")\n",
    "obj.drive()\n",
    "\n",
    "\n",
    "\n",
    "\n",
    "# Encapsulation: (wrapping of Data) \n",
    "#done by the help of __ \n",
    "\"\"\" \n",
    "Encapsulation is the mechanism of wrapping data and behavior within an object and hiding it from the outside world. \n",
    "It protects the object's internal state and behavior from being accessed and modified by external objects, and ensures that changes to the implementation of one object do not affect other objects.\n",
    "\"\"\"\n",
    "\n",
    "# for example: \n",
    "class car :\n",
    "    def __init__(self , year , make , model, speed ) : \n",
    "        \n",
    "        # by the help of __ we encapsulating the data \n",
    "        self.__year = year \n",
    "        self.__make = make\n",
    "        self.__model = model\n",
    "        self.__speed = 0\n",
    "        \n",
    "    def set_speed(self,speed) : \n",
    "        self.__speed = 0 if speed < 0 else speed\n",
    "        \n",
    "    def get_speed(self)  : \n",
    "        return self.__speed\n",
    "\n",
    "\n",
    "obj1 = car(2010,\"volga\",\"TATA\",120)\n",
    "obj1.set_speed(1200)"
   ]
  },
  {
   "cell_type": "code",
   "execution_count": null,
   "id": "bddb050e-fa02-4741-a1c3-5b167c36c79e",
   "metadata": {},
   "outputs": [],
   "source": [
    "# Q3. What is abc module in python? Why is it used?\n"
   ]
  },
  {
   "cell_type": "code",
   "execution_count": 19,
   "id": "e7a6635a-9975-4354-8976-bcf9bc8860d6",
   "metadata": {},
   "outputs": [],
   "source": [
    "# Ans3\n",
    "# abc class \n",
    "\n",
    "\"\"\" abc stand for (abstract base class) \n",
    "\n",
    "   from abc import ABC, abstractmethod \n",
    "\"\"\"\n",
    "# Detailed explanation\n",
    "\"\"\" \n",
    "he abc (abstract base class) module in Python is used to define abstract base classes.\n",
    "An abstract base class is a class that cannot be instantiated and is meant to be subclassed. \n",
    "It defines a common interface for its subclasses, but cannot be used on its own. \n",
    "The purpose of an abstract base class is to define a common interface for a group of related classes,\n",
    "allowing objects of different classes to be used interchangeably in certain contexts. \"\"\"\n",
    "\n",
    "\n",
    "# Example of abc class\n",
    "\n",
    "\n",
    "#impoerting the class and methods of abc class\n",
    "from abc import ABC, abstractmethod\n",
    "\n",
    "class Car(ABC):\n",
    "    \n",
    "    @abstractmethod\n",
    "    def start(self):\n",
    "        pass\n",
    "    \n",
    "    # using abstractmethod decorator \n",
    "    \n",
    "    @abstractmethod\n",
    "    def stop(self):\n",
    "        pass\n",
    "\n",
    "    @abstractmethod\n",
    "    def drive(self):\n",
    "        pass\n",
    "\n",
    "class SportsCar(Car):\n",
    "    def start(self):\n",
    "        print(\"Sports car started\")\n",
    "\n",
    "    def stop(self):\n",
    "        print(\"Sports car stopped\")\n",
    "\n",
    "    def drive(self):\n",
    "        print(\"Sports car is being driven\")\n",
    "    \n",
    "# inherit from car  and implemeting abstarct method\n",
    "\n",
    "class FamilyCar(Car):\n",
    "    def start(self):\n",
    "        print(\"Family car started\")\n",
    "\n",
    "    def stop(self):\n",
    "        print(\"Family car stopped\")\n",
    "\n",
    "    def drive(self):\n",
    "        print(\"Family car is being driven\")\n",
    "\n"
   ]
  },
  {
   "cell_type": "code",
   "execution_count": null,
   "id": "a27a7c45-1226-4597-9a4b-9ec71a86099b",
   "metadata": {},
   "outputs": [],
   "source": [
    "# Q4. How can we achieve data abstraction?"
   ]
  },
  {
   "cell_type": "code",
   "execution_count": null,
   "id": "73033101-c2d6-4d79-9002-d3a39ec425ec",
   "metadata": {},
   "outputs": [],
   "source": [
    "# Ans4\n",
    "\n",
    "# We can achieve Data abstraction by several ways \n",
    "\"\"\"1 By Encapsulation \n",
    "   2 By Abstarct Data type (ADTs)\n",
    "   3 By Interface and modules \"\"\"\n",
    "\n",
    "# Detailed Explanation\n",
    "\n",
    "\"\"\"\n",
    "1 Encapsulation: \n",
    "Encapsulation is a key feature of object-oriented programming (OOP) that involves wrapping data and behavior within an object and hiding it from the outside world. Objects can only access and modify their internal state through the methods provided by the class, abstracting the implementation details from the user.\n",
    "\"\"\"\n",
    "\n",
    "\"\"\" \n",
    "2 Abstarct Data Types (ADTs):\n",
    " An Abstract Data Type (ADT) is a data type that is defined in terms of its behavior (operations) rather than its implementation. ADTs provide a high-level, abstract interface for data structures, hiding the implementation details and allowing objects of different data types to be used interchangeably.\n",
    "\"\"\"\n",
    "\"\"\"\n",
    "3 Interfaces: \n",
    " An interface is a contract that defines a set of methods that a class must implement. Interfaces provide a way to define a common interface for a group of related classes, abstracting the implementation details and allowing objects of different classes to be used interchangeably.\n",
    " \"\"\"\"\n"
   ]
  },
  {
   "cell_type": "code",
   "execution_count": null,
   "id": "98c71c89-2747-4dc7-a919-4d9c0d31284d",
   "metadata": {},
   "outputs": [],
   "source": [
    "# Q5. Can we create an instance of an abstract class? Explain your answer."
   ]
  },
  {
   "cell_type": "code",
   "execution_count": null,
   "id": "4264e2ff-58d5-48d0-a624-99aad5137f1e",
   "metadata": {},
   "outputs": [],
   "source": [
    "# Answer5\n",
    "# Instance \n",
    "\n",
    "\"\"\"\n",
    "No, you cannot create an instance of an abstract class directly.\n",
    "An abstract class is a base class that defines a common interface for its derived classes but cannot be instantiated itself. \n",
    "The purpose of an abstract class is to provide a blueprint for its derived classes to follow and implement, but not to be used as a stand-alone object.\"\"\"\n",
    "\n",
    "\n",
    "# we shpuld use concrete class \n"
   ]
  }
 ],
 "metadata": {
  "kernelspec": {
   "display_name": "Python 3 (ipykernel)",
   "language": "python",
   "name": "python3"
  },
  "language_info": {
   "codemirror_mode": {
    "name": "ipython",
    "version": 3
   },
   "file_extension": ".py",
   "mimetype": "text/x-python",
   "name": "python",
   "nbconvert_exporter": "python",
   "pygments_lexer": "ipython3",
   "version": "3.10.8"
  }
 },
 "nbformat": 4,
 "nbformat_minor": 5
}
