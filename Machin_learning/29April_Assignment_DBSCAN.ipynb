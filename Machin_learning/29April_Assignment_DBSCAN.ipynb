{
 "cells": [
  {
   "attachments": {},
   "cell_type": "markdown",
   "metadata": {},
   "source": [
    "# <center> Assignment Based on DBSCAN ALGORITHMS"
   ]
  },
  {
   "attachments": {},
   "cell_type": "markdown",
   "metadata": {},
   "source": [
    "-------"
   ]
  },
  {
   "attachments": {},
   "cell_type": "markdown",
   "metadata": {},
   "source": [
    "\n",
    "Q1. Explain the basic concept of clustering and give examples of applications where clustering is useful."
   ]
  },
  {
   "attachments": {},
   "cell_type": "markdown",
   "metadata": {},
   "source": [
    "## Answer 1\n",
    "### Clustering :\n",
    "Clustering is a type of unsupervised machine learning that groups data points together based on their similarities. The goal of clustering is to find groups of data points that are more similar to each other than they are to data points in other groups.\n",
    "\n",
    "\n",
    "- There are many different clustering algorithms, but they all work by finding some way to measure the similarity between data points. Once the similarity between data points has been measured, the clustering algorithm can then group the data points together into clusters.\n",
    "\n",
    "### Application of Clustering :\n",
    "Clustering is a very versatile technique that can be used in a wide variety of applications. Some common applications of clustering include:\n",
    "\n",
    "Customer segmentation: Clustering can be used to segment customers into groups based on their demographics, interests, or purchasing behavior. This information can then be used to target customers with specific marketing campaigns.\n",
    "\n",
    "Image segmentation: Clustering can be used to segment images into different regions based on their color, texture, or other features. This information can then be used to identify objects in images or to extract features from images.\n",
    "\n",
    "Gene clustering: Clustering can be used to group genes together based on their similarity. This information can then be used to identify genes that are involved in the same biological process.\n",
    "\n",
    "Text clustering: Clustering can be used to group text documents together based on their similarity. This information can then be used to find documents that are related to a particular topic or to identify patterns in text data"
   ]
  },
  {
   "attachments": {},
   "cell_type": "markdown",
   "metadata": {},
   "source": [
    "-----"
   ]
  },
  {
   "attachments": {},
   "cell_type": "markdown",
   "metadata": {},
   "source": [
    "Q2. What is DBSCAN and how does it differ from other clustering algorithms such as k-means and\n",
    "hierarchical clustering?"
   ]
  },
  {
   "attachments": {},
   "cell_type": "markdown",
   "metadata": {},
   "source": [
    "## Answer 2\n",
    "\n",
    "DBSCAN stands for Density-Based Spatial Clustering of Applications with Noise. It is a density-based clustering algorithm, which means that it groups together data points that are densely packed together. DBSCAN is different from other clustering algorithms such as k-means and hierarchical clustering in a few ways:\n",
    "\n",
    "* **DBSCAN does not require the number of clusters to be known beforehand.** K-means and hierarchical clustering require the user to specify the number of clusters, but DBSCAN can automatically find clusters of any size.\n",
    "* **DBSCAN is robust to outliers.** K-means and hierarchical clustering can be sensitive to outliers, but DBSCAN is not. This is because DBSCAN only considers data points that are densely packed together, and outliers are typically sparsely packed.\n",
    "* **DBSCAN can find clusters of irregular shapes.** K-means and hierarchical clustering typically find clusters of spherical shapes, but DBSCAN can find clusters of any shape. This is because DBSCAN does not rely on distance to define clusters, but rather on density.\n",
    "\n",
    "Here is a table that summarizes the key differences between DBSCAN, k-means, and hierarchical clustering:\n",
    "\n",
    "| Algorithm | Requires number of clusters to be known? | Robust to outliers? | Can find clusters of irregular shapes? |\n",
    "|---|---|---|---|\n",
    "| DBSCAN | No | Yes | Yes |\n",
    "| K-means | Yes | No | No |\n",
    "| Hierarchical clustering | Yes | No | No |\n",
    "\n",
    "DBSCAN is a powerful clustering algorithm that can be used to solve a wide variety of problems. It is particularly useful for problems where the data is not well-suited to other clustering algorithms, such as when the data contains outliers or when the clusters are of irregular shapes.\n",
    "\n"
   ]
  },
  {
   "attachments": {},
   "cell_type": "markdown",
   "metadata": {},
   "source": [
    "-------"
   ]
  },
  {
   "attachments": {},
   "cell_type": "markdown",
   "metadata": {},
   "source": [
    "Q3. How do you determine the optimal values for the epsilon and minimum points parameters in DBSCAN\n",
    "clustering?"
   ]
  },
  {
   "attachments": {},
   "cell_type": "markdown",
   "metadata": {},
   "source": [
    "## Answer 3\n",
    "\n",
    "\n",
    "The optimal values for the epsilon and minimum points parameters in DBSCAN clustering can be determined by following these steps:\n",
    "\n",
    "1. **Visualize the data.** This can be done by plotting the data points on a scatter plot or by using a dimensionality reduction technique such as PCA. This will help you to get a better understanding of the data and to identify potential clusters.\n",
    "2. **Choose a value for epsilon.** Epsilon is the radius of the neighborhood that is used to define a core point. A core point is a point that has at least minPoints neighbors within its neighborhood. A good value for epsilon is typically the distance between the two closest points in a cluster.\n",
    "3. **Choose a value for minPoints.** MinPoints is the minimum number of neighbors that a point must have in order to be considered a core point. A good value for minPoints is typically the number of dimensions in the data.\n",
    "4. **Run DBSCAN with the chosen values for epsilon and minPoints.** This will create a clustering of the data points.\n",
    "5. **Evaluate the clustering.** This can be done by looking at the distribution of the data points within the clusters and by checking for any outliers.\n",
    "6. **Repeat steps 2-5 until you are satisfied with the results.**\n",
    "\n",
    "Here are some additional tips for determining the optimal values for epsilon and minPoints:\n",
    "\n",
    "* If epsilon is too small, then no points will be classified as core points. This will result in a clustering with no clusters.\n",
    "* If epsilon is too large, then all points will be classified as core points. This will result in a clustering with one cluster.\n",
    "* If minPoints is too small, then some clusters will be very small. This can lead to overfitting.\n",
    "* If minPoints is too large, then some clusters will be very large. This can lead to underfitting.\n",
    "\n",
    "It is important to note that there is no one-size-fits-all answer to this question. The optimal values for epsilon and minPoints will vary depending on the specific data set."
   ]
  },
  {
   "attachments": {},
   "cell_type": "markdown",
   "metadata": {},
   "source": [
    "------"
   ]
  },
  {
   "attachments": {},
   "cell_type": "markdown",
   "metadata": {},
   "source": [
    "Q4. How does DBSCAN clustering handle outliers in a dataset?"
   ]
  },
  {
   "attachments": {},
   "cell_type": "markdown",
   "metadata": {},
   "source": [
    "## Answer 4\n",
    "\n",
    "DBSCAN clustering handles outliers in a dataset by assigning them to a special cluster called the \"noise\" cluster. Outliers are points that are not densely packed together, and they are therefore not considered to be part of any of the other clusters.\n",
    "\n",
    "This makes DBSCAN a robust clustering algorithm that is not sensitive to outliers. Outliers are typically sparse points that are not well-represented in the data set. By assigning outliers to a special cluster, DBSCAN can still find clusters in the data set even if there are outliers present.\n",
    "\n",
    "Here are some additional details about how DBSCAN handles outliers:\n",
    "\n",
    "* Outliers are points that do not have at least minPoints neighbors within their neighborhood.\n",
    "* Outliers are assigned to the noise cluster.\n",
    "* The noise cluster is not considered to be a real cluster.\n",
    "* The number of outliers in a dataset can be used to assess the quality of the clustering.\n",
    "\n",
    "It is important to note that DBSCAN is not perfect at handling outliers. If there are too many outliers in a dataset, it may be difficult to find any clusters. In this case, it may be necessary to remove the outliers from the dataset before clustering."
   ]
  },
  {
   "attachments": {},
   "cell_type": "markdown",
   "metadata": {},
   "source": [
    "----"
   ]
  },
  {
   "attachments": {},
   "cell_type": "markdown",
   "metadata": {},
   "source": [
    "\n",
    "Q5. How does DBSCAN clustering differ from k-means clustering?"
   ]
  },
  {
   "attachments": {},
   "cell_type": "markdown",
   "metadata": {},
   "source": [
    "## Answer 5\n",
    "\n",
    "\n",
    "DBSCAN and k-means are both clustering algorithms that can be used to group data points together based on their similarities. However, they differ in a few key ways:\n",
    "\n",
    "* **DBSCAN does not require the number of clusters to be known beforehand.** K-means requires the user to specify the number of clusters, but DBSCAN can automatically find clusters of any size.\n",
    "* **DBSCAN is robust to outliers.** K-means can be sensitive to outliers, but DBSCAN is not. This is because DBSCAN only considers data points that are densely packed together, and outliers are typically sparsely packed.\n",
    "* **DBSCAN can find clusters of irregular shapes.** K-means typically finds clusters of spherical shapes, but DBSCAN can find clusters of any shape. This is because DBSCAN does not rely on distance to define clusters, but rather on density.\n",
    "\n",
    "Here is a table that summarizes the key differences between DBSCAN and k-means:\n",
    "\n",
    "| Algorithm | Requires number of clusters to be known? | Robust to outliers? | Can find clusters of irregular shapes? |\n",
    "|---|---|---|---|\n",
    "| DBSCAN | No | Yes | Yes |\n",
    "| K-means | Yes | No | No |\n",
    "\n",
    "DBSCAN is a powerful clustering algorithm that can be used to solve a wide variety of problems. It is particularly useful for problems where the data is not well-suited to other clustering algorithms, such as when the data contains outliers or when the clusters are of irregular shapes.\n",
    "\n",
    "K-means is a simpler clustering algorithm that is easier to understand and implement. It is typically faster than DBSCAN, and it can be used to find clusters of spherical shapes. However, k-means can be sensitive to outliers, and it requires the user to specify the number of clusters beforehand.\n",
    "\n",
    "The best clustering algorithm to use will depend on the specific data set and the desired results. If the data set is not well-suited to k-means, or if the user does not want to specify the number of clusters beforehand, then DBSCAN may be a better choice."
   ]
  },
  {
   "attachments": {},
   "cell_type": "markdown",
   "metadata": {},
   "source": [
    "-------"
   ]
  },
  {
   "attachments": {},
   "cell_type": "markdown",
   "metadata": {},
   "source": [
    "Q6. Can DBSCAN clustering be applied to datasets with high dimensional feature spaces? If so, what are\n",
    "some potential challenges?"
   ]
  },
  {
   "attachments": {},
   "cell_type": "markdown",
   "metadata": {},
   "source": [
    "## Answer 6 \n",
    "\n",
    "Yes, DBSCAN can be applied to datasets with high dimensional feature spaces. However, there are some potential challenges that need to be considered.\n",
    "\n",
    "One challenge is that the number of possible clusters can grow exponentially with the number of dimensions. This can make it difficult to find the optimal values for the epsilon and minPoints parameters.\n",
    "\n",
    "Another challenge is that the density of data points can vary significantly in high dimensional spaces. This can make it difficult to identify clusters, especially if the clusters are of different sizes.\n",
    "\n",
    "Finally, DBSCAN can be sensitive to noise in high dimensional spaces. This is because noise points can be scattered throughout the data, making it difficult to distinguish them from core points.\n",
    "\n",
    "Despite these challenges, DBSCAN can be a powerful clustering algorithm for high dimensional datasets. By carefully choosing the epsilon and minPoints parameters, and by using dimensionality reduction techniques to reduce the noise in the data, DBSCAN can be used to find clusters in high dimensional spaces.\n",
    "\n",
    "Here are some additional tips for applying DBSCAN to datasets with high dimensional feature spaces:\n",
    "\n",
    "* Use dimensionality reduction techniques to reduce the number of dimensions. This can help to improve the performance of DBSCAN and to make it easier to identify clusters.\n",
    "* Choose the epsilon and minPoints parameters carefully. These parameters can have a significant impact on the results of DBSCAN.\n",
    "* Use a validation set to evaluate the clustering results. This can help to ensure that the clusters are meaningful and that they are not simply noise.\n",
    "\n",
    "By following these tips, you can improve the chances of successfully applying DBSCAN to datasets with high dimensional feature spaces."
   ]
  },
  {
   "attachments": {},
   "cell_type": "markdown",
   "metadata": {},
   "source": [
    "-----"
   ]
  },
  {
   "attachments": {},
   "cell_type": "markdown",
   "metadata": {},
   "source": [
    "Q7. How does DBSCAN clustering handle clusters with varying densities?"
   ]
  },
  {
   "attachments": {},
   "cell_type": "markdown",
   "metadata": {},
   "source": [
    "## Answer 7\n",
    "\n",
    "\n",
    "DBSCAN is a density-based clustering algorithm that can handle clusters with varying densities. This is because DBSCAN does not rely on distance to define clusters, but rather on density.\n",
    "\n",
    "DBSCAN works by identifying points that are densely packed together. These points are called core points. Core points that are connected to each other by other core points are then grouped together into clusters. Points that are not core points are either noise or border points.\n",
    "\n",
    "The epsilon parameter controls the size of the neighborhood that is used to define a core point. The minPoints parameter controls the minimum number of neighbors that a point must have in order to be considered a core point.\n",
    "\n",
    "If the epsilon parameter is small, then only core points that are very densely packed together will be identified. This can lead to clusters with small sizes. If the epsilon parameter is large, then core points that are more sparsely packed together will be identified. This can lead to clusters with large sizes.\n",
    "\n",
    "The minPoints parameter controls the minimum number of neighbors that a point must have in order to be considered a core point. If the minPoints parameter is small, then core points that are only sparsely connected to other core points will be identified. This can lead to clusters with irregular shapes. If the minPoints parameter is large, then only core points that are very densely connected to other core points will be identified. This can lead to clusters with regular shapes.\n",
    "\n",
    "By carefully choosing the epsilon and minPoints parameters, DBSCAN can be used to handle clusters with varying densities."
   ]
  },
  {
   "attachments": {},
   "cell_type": "markdown",
   "metadata": {},
   "source": [
    "------"
   ]
  },
  {
   "attachments": {},
   "cell_type": "markdown",
   "metadata": {},
   "source": [
    "Q8. What are some common evaluation metrics used to assess the quality of DBSCAN clustering results?"
   ]
  },
  {
   "attachments": {},
   "cell_type": "markdown",
   "metadata": {},
   "source": [
    "## Answerr 8\n",
    "\n",
    "\n",
    "There are a number of common evaluation metrics used to assess the quality of DBSCAN clustering results. Some of the most common metrics include:\n",
    "\n",
    "* **Homogeneity:** This metric measures the extent to which points within a cluster are similar to each other. A high homogeneity score indicates that the points within a cluster are very similar, while a low homogeneity score indicates that the points within a cluster are not very similar.\n",
    "* **Completeness:** This metric measures the extent to which all points that belong to a cluster are actually assigned to that cluster. A high completeness score indicates that all points that belong to a cluster are assigned to that cluster, while a low completeness score indicates that some points that belong to a cluster are not assigned to that cluster.\n",
    "* **V-measure:** This metric is a harmonic mean of homogeneity and completeness. It is a more comprehensive measure of clustering quality than either homogeneity or completeness alone. A high V-measure score indicates that both homogeneity and completeness are high, while a low V-measure score indicates that either homogeneity or completeness is low.\n",
    "* **Silhouette coefficient:** This metric measures the average similarity of a point to other points in its own cluster compared to the average similarity of the point to points in other clusters. A high silhouette coefficient indicates that a point is well-matched to its own cluster and poorly matched to other clusters, while a low silhouette coefficient indicates that a point is poorly matched to its own cluster and well-matched to other clusters.\n",
    "\n",
    "These are just a few of the many evaluation metrics that can be used to assess the quality of DBSCAN clustering results. The best metric to use will depend on the specific application and the desired results."
   ]
  },
  {
   "attachments": {},
   "cell_type": "markdown",
   "metadata": {},
   "source": [
    "--------"
   ]
  },
  {
   "attachments": {},
   "cell_type": "markdown",
   "metadata": {},
   "source": [
    "Q9. Can DBSCAN clustering be used for semi-supervised learning tasks?"
   ]
  },
  {
   "attachments": {},
   "cell_type": "markdown",
   "metadata": {},
   "source": [
    "## Answer 9 \n",
    "\n",
    "\n",
    "Yes, DBSCAN clustering can be used for semi-supervised learning tasks. In semi-supervised learning, there is a small amount of labeled data and a large amount of unlabeled data. DBSCAN can be used to cluster the unlabeled data, and then the labels from the labeled data can be propagated to the unlabeled data. This can help to improve the performance of the semi-supervised learning algorithm.\n",
    "\n",
    "Here are the steps on how to use DBSCAN for semi-supervised learning:\n",
    "\n",
    "1. Label a small portion of the data.\n",
    "2. Use DBSCAN to cluster the unlabeled data.\n",
    "3. For each cluster, determine the most common label (if any) for members of the cluster.\n",
    "4. Re-label all members in the cluster to that label.\n",
    "5. Train a supervised classifier using the dataset from step 4.\n",
    "\n",
    "This approach has been shown to be effective for a variety of semi-supervised learning tasks. For example, it has been used to improve the performance of text classification, image classification, and fraud detection.\n",
    "\n",
    "Here are some additional details about how DBSCAN can be used for semi-supervised learning:\n",
    "\n",
    "* DBSCAN can be used to cluster the unlabeled data even if there are only a few labeled data points. This is because DBSCAN does not rely on labels to define clusters, but rather on density.\n",
    "* The labels from the labeled data can be propagated to the unlabeled data by assigning the unlabeled data points to the cluster with the most common label.\n",
    "* The performance of the semi-supervised learning algorithm can be improved by using a large number of unlabeled data points.\n",
    "\n",
    "It is important to note that DBSCAN is not a perfect algorithm for semi-supervised learning. It can be sensitive to the choice of parameters, and it can sometimes produce clusters that are not very meaningful. However, DBSCAN can be a useful tool for semi-supervised learning, and it can be used to improve the performance of a variety of semi-supervised learning algorithms."
   ]
  },
  {
   "attachments": {},
   "cell_type": "markdown",
   "metadata": {},
   "source": [
    "---------"
   ]
  },
  {
   "attachments": {},
   "cell_type": "markdown",
   "metadata": {},
   "source": [
    "Q10. How does DBSCAN clustering handle datasets with noise or missing values?"
   ]
  },
  {
   "attachments": {},
   "cell_type": "markdown",
   "metadata": {},
   "source": [
    "## Answer 10 \n",
    "\n",
    "DBSCAN clustering is a density-based clustering algorithm that can handle datasets with noise or missing values. It works by identifying clusters of data points that are densely connected to each other, and then labeling any data points that are not part of a cluster as noise. This makes DBSCAN a robust clustering algorithm that can be used on a variety of datasets, even those that are noisy or incomplete.\n",
    "\n",
    "To handle noise, DBSCAN uses a parameter called eps, which defines the minimum distance between two data points that must be considered neighbors. Any data points that are not within eps distance of any other data points are considered noise.\n",
    "\n",
    "To handle missing values, DBSCAN uses a parameter called minPts, which defines the minimum number of data points that must be present in a cluster in order for it to be considered valid. Any clusters that do not contain at least minPts data points are also considered noise.\n",
    "\n",
    "By using these two parameters, DBSCAN can effectively identify and remove noise from datasets, while still being able to identify clusters of data points even if some of the data is missing.\n",
    "\n",
    "Here are some additional details about how DBSCAN handles noise and missing values:\n",
    "\n",
    "* **Noise:** DBSCAN identifies noise by looking for data points that are not within eps distance of any other data points. These data points are then labeled as noise and are not included in any clusters.\n",
    "* **Missing values:** DBSCAN handles missing values by looking for clusters that do not contain at least minPts data points. These clusters are also labeled as noise and are not included in any clusters.\n",
    "\n",
    "By using these two methods, DBSCAN can effectively identify and remove noise from datasets, while still being able to identify clusters of data points even if some of the data is missing.\n",
    "\n",
    "Here are some advantages of using DBSCAN to handle noise and missing values:\n",
    "\n",
    "* **Robustness:** DBSCAN is a robust clustering algorithm that can be used on a variety of datasets, even those that are noisy or incomplete.\n",
    "* **Accuracy:** DBSCAN can identify clusters of data points with high accuracy, even if some of the data is missing.\n",
    "* **Efficiency:** DBSCAN is an efficient clustering algorithm that can be used to cluster large datasets quickly.\n",
    "\n",
    "Here are some disadvantages of using DBSCAN to handle noise and missing values:\n",
    "\n",
    "* **Parameter sensitivity:** DBSCAN is a parameter-sensitive clustering algorithm. The values of the eps and minPts parameters can have a significant impact on the results of the clustering.\n",
    "* **Computational complexity:** DBSCAN is a computationally complex clustering algorithm. The time and space complexity of DBSCAN increases exponentially with the number of data points.\n",
    "\n",
    "Overall, DBSCAN is a powerful and versatile clustering algorithm that can be used to handle a variety of datasets, including those that are noisy or incomplete. However, it is important to be aware of the limitations of DBSCAN, such as its parameter sensitivity and computational complexity.\n"
   ]
  },
  {
   "attachments": {},
   "cell_type": "markdown",
   "metadata": {},
   "source": [
    "-------"
   ]
  },
  {
   "attachments": {},
   "cell_type": "markdown",
   "metadata": {},
   "source": [
    "Q11. Implement the DBSCAN algorithm using a python programming language, and apply it to a sample\n",
    "dataset. Discuss the clustering results and interpret the meaning of the obtained clusters."
   ]
  },
  {
   "attachments": {},
   "cell_type": "markdown",
   "metadata": {},
   "source": [
    "## Answer 11\n",
    "\n"
   ]
  },
  {
   "cell_type": "code",
   "execution_count": 5,
   "metadata": {},
   "outputs": [
    {
     "data": {
      "image/png": "[encoded data removed]",
      "text/plain": [
       "<Figure size 640x480 with 1 Axes>"
      ]
     },
     "metadata": {},
     "output_type": "display_data"
    },
    {
     "name": "stdout",
     "output_type": "stream",
     "text": [
      "Number of clusters: 2\n",
      "Number of noise points: 0\n"
     ]
    }
   ],
   "source": [
    "import numpy as np\n",
    "import matplotlib.pyplot as plt\n",
    "from sklearn.datasets import make_moons\n",
    "from sklearn.cluster import DBSCAN\n",
    "\n",
    "# Generate a sample dataset\n",
    "X, y = make_moons(n_samples=200, noise=0.05, random_state=0)\n",
    "\n",
    "# Create the DBSCAN object and fit the data\n",
    "dbscan = DBSCAN(eps=0.3, min_samples=5)\n",
    "dbscan.fit(X)\n",
    "\n",
    "# Extract the cluster labels\n",
    "labels = dbscan.labels_\n",
    "\n",
    "# Number of clusters in labels, ignoring noise if present.\n",
    "n_clusters_ = len(set(labels)) - (1 if -1 in labels else 0)\n",
    "n_noise_ = list(labels).count(-1)\n",
    "\n",
    "# Plotting the results\n",
    "unique_labels = set(labels)\n",
    "colors = [plt.cm.Spectral(each)\n",
    "          for each in np.linspace(0, 1, len(unique_labels))]\n",
    "\n",
    "for k, col in zip(unique_labels, colors):\n",
    "    if k == -1:\n",
    "        # Black used for noise.\n",
    "        col = [0, 0, 0, 1]\n",
    "\n",
    "    class_member_mask = (labels == k)\n",
    "\n",
    "    xy = X[class_member_mask]\n",
    "    plt.plot(xy[:, 0], xy[:, 1], 'o', markerfacecolor=tuple(col),\n",
    "             markeredgecolor='k', markersize=6)\n",
    "\n",
    "plt.title('Estimated number of clusters: %d' % n_clusters_)\n",
    "plt.show()\n",
    "\n",
    "print(\"Number of clusters:\", n_clusters_)\n",
    "print(\"Number of noise points:\", n_noise_)\n"
   ]
  },
  {
   "attachments": {},
   "cell_type": "markdown",
   "metadata": {},
   "source": [
    "In this example, we generate a sample dataset with two moon-shaped clusters using the make_moons function from scikit-learn. We then create a DBSCAN object and fit the data. The eps parameter determines the maximum distance between two samples for them to be considered as part of the same neighborhood. The min_samples parameter sets the minimum number of samples required for a point to be considered as a core point. The algorithm assigns cluster labels to each data point, with -1 indicating noise points.\n",
    "\n",
    "We plot the clusters and noise points using different colors, and also print the number of clusters and noise points detected. The results will depend on the dataset and the parameters chosen."
   ]
  }
 ],
 "metadata": {
  "kernelspec": {
   "display_name": "Python 3",
   "language": "python",
   "name": "python3"
  },
  "language_info": {
   "codemirror_mode": {
    "name": "ipython",
    "version": 3
   },
   "file_extension": ".py",
   "mimetype": "text/x-python",
   "name": "python",
   "nbconvert_exporter": "python",
   "pygments_lexer": "ipython3",
   "version": "3.10.8"
  },
  "orig_nbformat": 4
 },
 "nbformat": 4,
 "nbformat_minor": 2
}
