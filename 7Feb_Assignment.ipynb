{
 "cells": [
  {
   "cell_type": "code",
   "execution_count": 32,
   "id": "f4da0ae9-4062-4b11-820f-ee4e87a7911f",
   "metadata": {},
   "outputs": [
    {
     "name": "stdin",
     "output_type": "stream",
     "text": [
      "Enter the passsword to check validity SSab5@&%dd\n"
     ]
    },
    {
     "name": "stdout",
     "output_type": "stream",
     "text": [
      "Valid Password\n"
     ]
    }
   ],
   "source": [
    "def check(password):\n",
    "    \n",
    "    upper =0\n",
    "    lower=0\n",
    "    digit=0\n",
    "    special_character =0\n",
    "    \n",
    "    for i in password:\n",
    "        \n",
    "        if(i.isalpha()):\n",
    "            if(i.islower()):                   \n",
    "                    lower+=1             \n",
    "            else:      \n",
    "                upper+=1\n",
    "        elif(i.isdigit()):\n",
    "            digit+=1      \n",
    "        else:\n",
    "            special_character+=1\n",
    "                      \n",
    " \n",
    "    if(len(password)>= 10 and lower>=2 and upper>=2 and digit>=1 and special_character>=3):\n",
    "        return \"Valid Password\"\n",
    "        \n",
    "    else:\n",
    "        return\"Invalid Password\"\n",
    "    \n",
    "\n",
    "    \n",
    " #driver function \n",
    "password1 = str(input(\"Enter the passsword to check validity\"))\n",
    "\n",
    "print(check(password1))"
   ]
  },
  {
   "cell_type": "code",
   "execution_count": 70,
   "id": "2e88c2b4-50c9-45e5-b9e0-1e56efeab9ff",
   "metadata": {},
   "outputs": [
    {
     "name": "stdin",
     "output_type": "stream",
     "text": [
      "Enter the String to check Sachin\n",
      "Enter the Character to check p\n"
     ]
    },
    {
     "name": "stdout",
     "output_type": "stream",
     "text": [
      "False\n"
     ]
    }
   ],
   "source": [
    "# Answer 2--> a  using lambda function\n",
    "\n",
    "\"\"\"B Check if the string starts with a particular letter \"\"\"\n",
    "\n",
    "is_string =  lambda x,y: x.startswith(y)\n",
    "\n",
    "input_str =str(input(\"Enter the String to check\"))\n",
    "start_char =str(input(\"Enter the Character to check\"))\n",
    "\n",
    "print(is_string(input_str,start_char))"
   ]
  },
  {
   "cell_type": "code",
   "execution_count": 59,
   "id": "050cfa18-3bd4-4e9a-86aa-5447ea0ccc47",
   "metadata": {},
   "outputs": [
    {
     "name": "stdin",
     "output_type": "stream",
     "text": [
      "Enter the String  5685\n"
     ]
    },
    {
     "name": "stdout",
     "output_type": "stream",
     "text": [
      "string is Numeric\n"
     ]
    }
   ],
   "source": [
    "# Answer2-->b using the  lambda function \n",
    "\n",
    "is_numeric = lambda x : x.isnumeric()\n",
    "\n",
    "string  = str(input(\"Enter the String \"))\n",
    "\n",
    "if(is_numeric(string)):\n",
    "    print(\"string is Numeric\")\n",
    "else:\n",
    "    print(\"String  is Not Numeric\")\n",
    "          \n"
   ]
  },
  {
   "cell_type": "code",
   "execution_count": 50,
   "id": "6ef2f1ca-0104-40b7-ab94-3762efe0b044",
   "metadata": {},
   "outputs": [
    {
     "name": "stdout",
     "output_type": "stream",
     "text": [
      "[('orange', 80), ('mango', 99), ('grapes', 1000)]\n"
     ]
    }
   ],
   "source": [
    "# Answer2-->c  using the lambda function\n",
    "\n",
    "\"\"\"Sort a list of tuples having fruit names and their quantity. [(\"mango\",99),(\"orange\",80), (\"grapes\", 1000)]\"\"\"\n",
    "\n",
    "\n",
    "tpl = [(\"mango\",99),(\"orange\",80), (\"grapes\", 1000)] \n",
    "       \n",
    "sort = sorted(tpl, key = lambda x:x[1])\n",
    "print(sort)\n"
   ]
  },
  {
   "cell_type": "code",
   "execution_count": 76,
   "id": "44c70bcd-2b57-4e32-a3a5-d6c4fefdd44b",
   "metadata": {},
   "outputs": [
    {
     "name": "stdout",
     "output_type": "stream",
     "text": [
      "[1, 4, 9, 16, 25, 36, 49, 64, 81, 100]\n"
     ]
    }
   ],
   "source": [
    "# Anser2 -->d\n",
    "# using the list Comprehension\n",
    "square = [i*i for i in range(1,11)]\n",
    "\n",
    "print(square)\n"
   ]
  },
  {
   "cell_type": "code",
   "execution_count": 80,
   "id": "439e9be3-39c5-47a1-b699-5bf768afac61",
   "metadata": {},
   "outputs": [
    {
     "name": "stdout",
     "output_type": "stream",
     "text": [
      "[1.0, 1.26, 1.44, 1.59, 1.71, 1.82, 1.91, 2.0, 2.08, 2.15]\n"
     ]
    }
   ],
   "source": [
    "# Answer2-->e\n",
    "# using the list Comprehension \n",
    "\n",
    "cube_root = [round(i**(1/3),2) for i in range(1,11)]\n",
    "print(cube_root)\n"
   ]
  },
  {
   "cell_type": "code",
   "execution_count": 81,
   "id": "4d827708-6c67-4be1-ba53-a5dd7797119e",
   "metadata": {},
   "outputs": [
    {
     "name": "stdin",
     "output_type": "stream",
     "text": [
      "Enter the number to check 56\n"
     ]
    },
    {
     "name": "stdout",
     "output_type": "stream",
     "text": [
      "True\n"
     ]
    }
   ],
   "source": [
    "# Answer 2--f\n",
    "\n",
    "is_even = lambda n :n%2==0\n",
    "inp_number = int(input(\"Enter the number to check\"))\n",
    "print(is_even(inp_number))"
   ]
  },
  {
   "cell_type": "code",
   "execution_count": 73,
   "id": "4d868c97-ed8f-456a-8193-4d84ae9731ba",
   "metadata": {},
   "outputs": [
    {
     "data": {
      "text/plain": [
       "[1, 3, 5, 7, 9]"
      ]
     },
     "execution_count": 73,
     "metadata": {},
     "output_type": "execute_result"
    }
   ],
   "source": [
    "# Answer2-->g\n",
    "# Filter odd numbers from the given list. using the filter \n",
    "\n",
    "\"\"\" Filter by filter function and lambda function \"\"\"\n",
    "\n",
    "l =[1,2,3,4,5,6,7,8,9,10]\n",
    "\n",
    "#using the filter with lambda funtion\n",
    "\n",
    "list(filter(lambda x :x%2!=0 ,l))\n"
   ]
  },
  {
   "cell_type": "code",
   "execution_count": 84,
   "id": "eac2cc0d-96f0-4371-9a80-e7c5562f674d",
   "metadata": {},
   "outputs": [
    {
     "name": "stdout",
     "output_type": "stream",
     "text": [
      "[-1, -2, -3, -4, -5]\n",
      "[1, 2, 3, 4, 5, 6, 0]\n"
     ]
    }
   ],
   "source": [
    "# Answer 2-->h\n",
    " # Sort a list of integers into positive and negative integers lists.\n",
    "# [1,2,3,4,5,6,-1,-2,-3,-4,-5,0]\n",
    "\n",
    "l = [1,2,3,4,5,6,-1,-2,-3,-4,-5,0] \n",
    "\n",
    "negative= list(filter(lambda x:  x< 0 ,l))\n",
    "positive= list(filter(lambda x:  x>=0 ,l))\n",
    "\n",
    "print(negative)\n",
    "print(positive)"
   ]
  }
 ],
 "metadata": {
  "kernelspec": {
   "display_name": "Python 3 (ipykernel)",
   "language": "python",
   "name": "python3"
  },
  "language_info": {
   "codemirror_mode": {
    "name": "ipython",
    "version": 3
   },
   "file_extension": ".py",
   "mimetype": "text/x-python",
   "name": "python",
   "nbconvert_exporter": "python",
   "pygments_lexer": "ipython3",
   "version": "3.10.8"
  }
 },
 "nbformat": 4,
 "nbformat_minor": 5
}
