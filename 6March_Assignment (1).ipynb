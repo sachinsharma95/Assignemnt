{
  "nbformat": 4,
  "nbformat_minor": 0,
  "metadata": {
    "colab": {
      "provenance": []
    },
    "kernelspec": {
      "name": "python3",
      "display_name": "Python 3"
    },
    "language_info": {
      "name": "python"
    }
  },
  "cells": [
    {
      "cell_type": "markdown",
      "source": [
        "# Statistics , Their Types  & Different type of the Data(SCALE OF MEASUREMENT) ."
      ],
      "metadata": {
        "id": "KVTDYueKotWm"
      }
    },
    {
      "cell_type": "code",
      "source": [
        "import logging\n",
        "logging.basicConfig(filename=\"6MarchInfo.log\", level=logging.INFO, format=\"%(asctime)s %(name)s %(message)s\")"
      ],
      "metadata": {
        "id": "3UcjKsfUUE80"
      },
      "execution_count": 17,
      "outputs": []
    },
    {
      "cell_type": "code",
      "source": [
        "# Answer1\n",
        "\"\"\"\n",
        "statistics is the science of learning from data.or In other words\n",
        "Statistics is a branch of mathematics that deals with the collection, analysis, interpretation, presentation, and organization of data.\n",
        "It involves the use of mathematical and computational tools to describe and analyze data in order to draw conclusions or make predictions about a particular population or phenomenon.\n",
        "Some common applications of statistics include hypothesis testing, regression analysis, sampling theory, and experimental design.\n",
        "\n",
        "\"\"\""
      ],
      "metadata": {
        "colab": {
          "base_uri": "https://localhost:8080/",
          "height": 72
        },
        "id": "tlxsjV_qSTKi",
        "outputId": "d49f744f-6dca-4836-9eef-f033bb70d736"
      },
      "execution_count": 18,
      "outputs": [
        {
          "output_type": "execute_result",
          "data": {
            "text/plain": [
              "'\\nstatistics is the science of learning from data.or In other words\\nStatistics is a branch of mathematics that deals with the collection, analysis, interpretation, presentation, and organization of data.\\nIt involves the use of mathematical and computational tools to describe and analyze data in order to draw conclusions or make predictions about a particular population or phenomenon.\\nSome common applications of statistics include hypothesis testing, regression analysis, sampling theory, and experimental design.\\n\\n'"
            ],
            "application/vnd.google.colaboratory.intrinsic+json": {
              "type": "string"
            }
          },
          "metadata": {},
          "execution_count": 18
        }
      ]
    },
    {
      "cell_type": "code",
      "source": [
        "# Answer2\n",
        "\n",
        "# There are two main types of statistics: descriptive statistics and inferential statistics.\n",
        "\n",
        "# 1 Descriptive Statistics:\n",
        "\"\"\"\n",
        "1  Descriptive statistics involves the collection, organization, analysis, and presentation of data to provide a summary of the main features of a dataset\n",
        "2  It includes measures of central tendency (mean, median, mode), measures of dispersion (variance, standard deviation), and graphical displays (histograms, scatter plots). \n",
        "3 Descriptive statistics are useful in giving a snapshot of the data and can be used to describe patterns or trends in a population.\n",
        "\n",
        "\"\"\"\n",
        "# Example of the descriptive statistics\n",
        "\"\"\"\n",
        "To calculate the average height of the students from the sample of 20 students in the class\n",
        "\"\"\"\n",
        "\n",
        "# 2 Inferential Statistics(draw conclusion)\n",
        "\"\"\"\n",
        "1 Inferential statistics involves using sample data to make inferences or draw conclusions about a larger population\n",
        "2 This type of statistics is used to test hypotheses, estimate parameters, and make predictions.\n",
        "3 . Inferential statistics includes techniques such as hypothesis testing, confidence intervals, and regression analysis.\n",
        "\n",
        "\"\"\"\n",
        "# Example of the Inferential statistics\n",
        "\"\"\"\n",
        "In the above example, lets the question arise .\n",
        "Are the height of the student in the class are similar that what you expect?\n",
        "\"\"\"\n",
        "\n"
      ],
      "metadata": {
        "colab": {
          "base_uri": "https://localhost:8080/",
          "height": 36
        },
        "id": "RQ5Q32cxSrG_",
        "outputId": "f3a5e419-6c85-4be9-d89a-0bed71650711"
      },
      "execution_count": 19,
      "outputs": [
        {
          "output_type": "execute_result",
          "data": {
            "text/plain": [
              "'\\nIn the above example, lets the question arise .\\nAre the height of the student in the class are similar that what you expect?\\n'"
            ],
            "application/vnd.google.colaboratory.intrinsic+json": {
              "type": "string"
            }
          },
          "metadata": {},
          "execution_count": 19
        }
      ]
    },
    {
      "cell_type": "code",
      "source": [
        "# Answer3\n",
        "# There are four main types of data: nominal, ordinal, interval, and ratio.\n",
        "\n",
        "# 1 Nominal Data:\n",
        "\"\"\"\n",
        "1 It is a categorical data type.\n",
        "2 That data type has no specified  order or ranking. \n",
        "\n",
        "For Examle :\n",
        "Gender, color, hobbies\n",
        "\n",
        "explanation: \n",
        "Gender ( male or Female) . In this iot has no specified ranking.\n",
        "\n",
        "\"\"\"\n",
        "# 2 Ordinal Data :\n",
        "\"\"\"\n",
        "1 Ordinal data is a type of the data that can be ranked .\n",
        "2 In this data type, ordered mattered.\n",
        "3 Differnce can't be measured.\n",
        "\n",
        "For example:\n",
        "Rating, feedback, ...etc.\n",
        "\n",
        "# explanation\n",
        "In the rating , rating play a crucial role in ranking the emoloyee's work.i;e from \"Very satisfied to \"very dissatisfied.\".\n",
        "\n",
        "\"\"\"\n",
        "\n",
        "# 3 Interval Data:\n",
        "\"\"\"\n",
        "1 Interval data is a type of data that has a fixed numerical scale with equal intervals between values. \n",
        "2 In this Data, order , difference can be mattered in decision making .\n",
        "3 Ratio can not be measured.\n",
        "\n",
        "# Example\n",
        " Examples of interval data include temperature (measured in Celsius or Fahrenheit), and dates (measured in years, months, days).\n",
        "\n",
        "#  exaplanation:\n",
        "In the temperature, difference  can be possible as well as temperature can be negative.\n",
        "\n",
        "\"\"\"\n",
        "\n",
        "# 4 Ratio Data \n",
        "\"\"\"\n",
        "1 Ratio data is a type of data that has a fixed numerical scale with equal intervals between values and a true zero point. \n",
        "2 order, differnce can be mattered in decision making.\n",
        "3 Ratio can be measured(including differnce)\n",
        "4 contain \"0\" starting point.\n",
        "\n",
        "# Example:\n",
        "Ratio data include weight, height, time, and distance.\n",
        "\n",
        "# exaplantion\n",
        "In distance, distance can never be negative, as well as ratio of two data set possible of distance.\n",
        "\n",
        "\"\"\"\n",
        "\n"
      ],
      "metadata": {
        "colab": {
          "base_uri": "https://localhost:8080/",
          "height": 72
        },
        "id": "-G2w8980WVyG",
        "outputId": "d6a78376-69c1-4453-d713-88f99170eb75"
      },
      "execution_count": 20,
      "outputs": [
        {
          "output_type": "execute_result",
          "data": {
            "text/plain": [
              "'\\n1 Ratio data is a type of data that has a fixed numerical scale with equal intervals between values and a true zero point. \\n2 order, differnce can be mattered in decision making.\\n3 Ratio can be measured(including differnce)\\n4 contain \"0\" starting point.\\n\\n# Example:\\nRatio data include weight, height, time, and distance.\\n\\n# exaplantion\\nIn distance, distance can never be negative, as well as ratio of two data set possible of distance.\\n\\n'"
            ],
            "application/vnd.google.colaboratory.intrinsic+json": {
              "type": "string"
            }
          },
          "metadata": {},
          "execution_count": 20
        }
      ]
    },
    {
      "cell_type": "code",
      "source": [
        "# ANswer4\n",
        "\n",
        " # Categorisation of the following datasets with respect to quantitative and qualitative data types:\n",
        "\n",
        "# (i) Grading in exam: A+, A, B+, B, C+, C, D, E\n",
        "\"\"\"\n",
        "ans (i) :\n",
        "It is an qualitative ordinal data type.\n",
        "(It is specified as on the basic of rank)\n",
        "\"\"\"\n",
        "# (ii) Colour of mangoes: yellow, green, orange, red\n",
        "\n",
        "\"\"\"\n",
        "ans(2):\n",
        "It is a qualitative Nominal Data type.\n",
        "(In the color there is no specified rank, order)\n",
        "\n",
        "\"\"\"\n",
        "# (iii) Height data of a class: [178.9, 179, 179.5, 176, 177.2, 178.3, 175.8,...]\n",
        "\n",
        "\"\"\"\n",
        "ans(3):\n",
        "quatitative : continuous\n",
        "It is a quatitative continuous data type.\n",
        "(can be measure on a continuous scale)\n",
        "\"\"\"\n",
        "# (iv) Number of mangoes exported by a farm: [500, 600, 478, 672, ...]\n",
        "\n",
        "\"\"\"\n",
        "Quatitive: Descret\n",
        "It is a  quatitative descret data type.\n",
        "(can be measured as whole  number)\n",
        "\"\"\"\n",
        "\n",
        "\n",
        "\n"
      ],
      "metadata": {
        "colab": {
          "base_uri": "https://localhost:8080/",
          "height": 36
        },
        "id": "zd1Bpi9jYwsK",
        "outputId": "0d6023be-0add-4956-d36e-be2301e92b0a"
      },
      "execution_count": 21,
      "outputs": [
        {
          "output_type": "execute_result",
          "data": {
            "text/plain": [
              "'\\nQuatitive: Descret\\nIt is a  quatitative descret data type.\\n(can be measured as whole  number)\\n'"
            ],
            "application/vnd.google.colaboratory.intrinsic+json": {
              "type": "string"
            }
          },
          "metadata": {},
          "execution_count": 21
        }
      ]
    },
    {
      "cell_type": "code",
      "source": [
        "# ANswer5\n",
        "# Concept of level of measurement of the data.\n",
        "\n",
        "# 1 Nominal Data:\n",
        "\"\"\"\n",
        "1 It is a categorical data type.\n",
        "2 That data type has no specified  order or ranking. \n",
        "\n",
        "For Examle :\n",
        "Gender, color, hobbies\n",
        "\n",
        "explanation: \n",
        "Gender ( male or Female) . In this iot has no specified ranking.\n",
        "\n",
        "\"\"\"\n",
        "# 2 Ordinal Data :\n",
        "\"\"\"\n",
        "1 Ordinal data is a type of the data that can be ranked .\n",
        "2 In this data type, ordered mattered.\n",
        "3 Differnce can't be measured.\n",
        "\n",
        "For example:\n",
        "Rating, feedback, ...etc.\n",
        "\n",
        "# explanation\n",
        "In the rating , rating play a crucial role in ranking the emoloyee's work.i;e from \"Very satisfied to \"very dissatisfied.\".\n",
        "\n",
        "\"\"\"\n",
        "\n",
        "# 3 Interval Data:\n",
        "\"\"\"\n",
        "1 Interval data is a type of data that has a fixed numerical scale with equal intervals between values. \n",
        "2 In this Data, order , difference can be mattered in decision making .\n",
        "3 Ratio can not be measured.\n",
        "\n",
        "# Example\n",
        " Examples of interval data include temperature (measured in Celsius or Fahrenheit), and dates (measured in years, months, days).\n",
        "\n",
        "#  exaplanation:\n",
        "In the temperature, difference  can be possible as well as temperature can be negative.\n",
        "\n",
        "\"\"\"\n",
        "\n",
        "# 4 Ratio Data \n",
        "\"\"\"\n",
        "1 Ratio data is a type of data that has a fixed numerical scale with equal intervals between values and a true zero point. \n",
        "2 order, differnce can be mattered in decision making.\n",
        "3 Ratio can be measured(including differnce)\n",
        "4 contain \"0\" starting point.\n",
        "\n",
        "# Example:\n",
        "Ratio data include weight, height, time, and distance.\n",
        "\n",
        "# exaplantion\n",
        "In distance, distance can never be negative, as well as ratio of two data set possible of distance.\n",
        "\n",
        "\"\"\"\n",
        "\n"
      ],
      "metadata": {
        "colab": {
          "base_uri": "https://localhost:8080/",
          "height": 72
        },
        "id": "GKMpENaWfiHZ",
        "outputId": "507f0249-fb07-4c89-e8af-029ef601adf3"
      },
      "execution_count": 22,
      "outputs": [
        {
          "output_type": "execute_result",
          "data": {
            "text/plain": [
              "'\\n1 Ratio data is a type of data that has a fixed numerical scale with equal intervals between values and a true zero point. \\n2 order, differnce can be mattered in decision making.\\n3 Ratio can be measured(including differnce)\\n4 contain \"0\" starting point.\\n\\n# Example:\\nRatio data include weight, height, time, and distance.\\n\\n# exaplantion\\nIn distance, distance can never be negative, as well as ratio of two data set possible of distance.\\n\\n'"
            ],
            "application/vnd.google.colaboratory.intrinsic+json": {
              "type": "string"
            }
          },
          "metadata": {},
          "execution_count": 22
        }
      ]
    },
    {
      "cell_type": "code",
      "source": [
        "# Answer6\n",
        "# Importance to understand the  level of the measurement:\n",
        "\n",
        "\"\"\"\n",
        "1 It is important to understand the level of measurement when analyzing data because it determines the types of statistical analyses that can be applied to the data.\n",
        "2 To recognize the conclusion from the data of the business world.\n",
        "3 Different levels of measurement require different types of statistical measures and techniques, and applying the wrong statistical analysis can lead to inaccurate or misleading conclusions.\n",
        "\n",
        "\"\"\"\n",
        "# For Example:\n",
        "\n",
        "# Analyzing customer satisfaction ratings for a product or service. \n",
        "\"\"\"\n",
        "If the data is measured at the nominal level (e.g., very satisfied, somewhat satisfied, not satisfied), the appropriate statistical analysis would be to calculate the percentage of respondents in each category.\n",
        "However, if the data is measured at the ordinal level (e.g., rating from 1-10), the appropriate statistical analysis would be to calculate the median or mode rating to determine the overall satisfaction level.\n",
        "\n",
        "\n",
        "Failing to understand the level of measurement in this example could lead to using the wrong statistical analysis, \n",
        "\n",
        "\"\"\"\n"
      ],
      "metadata": {
        "colab": {
          "base_uri": "https://localhost:8080/",
          "height": 72
        },
        "id": "TYxLzXGdf0OA",
        "outputId": "495158e5-3284-4148-e9dd-efe72e817045"
      },
      "execution_count": 23,
      "outputs": [
        {
          "output_type": "execute_result",
          "data": {
            "text/plain": [
              "'\\nIf the data is measured at the nominal level (e.g., very satisfied, somewhat satisfied, not satisfied), the appropriate statistical analysis would be to calculate the percentage of respondents in each category.\\nHowever, if the data is measured at the ordinal level (e.g., rating from 1-10), the appropriate statistical analysis would be to calculate the median or mode rating to determine the overall satisfaction level.\\n\\n\\nFailing to understand the level of measurement in this example could lead to using the wrong statistical analysis, \\n\\n'"
            ],
            "application/vnd.google.colaboratory.intrinsic+json": {
              "type": "string"
            }
          },
          "metadata": {},
          "execution_count": 23
        }
      ]
    },
    {
      "cell_type": "code",
      "source": [
        "# ANswer7\n",
        "# Nominal data type is different from ordinal data type.\n",
        "\n",
        "# 1 Nominal Data:\n",
        "\"\"\"\n",
        "1 Represents categorical variables with distinct categories or groups.\n",
        "2 That data type has no specified  order or ranking. \n",
        "3 The level of measurement for nominal data is at the nominal level, which is the lowest level of measurement.\n",
        "\n",
        "4 Example of the Nominal datset is : Gender .\n",
        "\n",
        "\"\"\"\n",
        "\n",
        "# 2 Ordinal Data:\n",
        "\"\"\"\n",
        "1 Represents categorical variables with distinct categories or groups( categorical data).\n",
        "2 In this data type, ordered mattered.\n",
        "3 Differnce can't be measured.\n",
        "4 The level of measurement for ordinal data is at the ordinal level, which is higher than the nominal level but lower than interval or ratio levels.\n",
        "\n",
        "Example of the ordinal dataset:\n",
        "customer satisfaction ratings (very satisfied, somewhat satisfied, not satisfied\n",
        "\"\"\"\n",
        "\n",
        "\n"
      ],
      "metadata": {
        "colab": {
          "base_uri": "https://localhost:8080/",
          "height": 72
        },
        "id": "meDL1oXYgrXA",
        "outputId": "63d14e8f-2209-485c-ad37-3bafebb3f482"
      },
      "execution_count": 24,
      "outputs": [
        {
          "output_type": "execute_result",
          "data": {
            "text/plain": [
              "\"\\n1 Represents categorical variables with distinct categories or groups( categorical data).\\n2 In this data type, ordered mattered.\\n3 Differnce can't be measured.\\n4 The level of measurement for ordinal data is at the ordinal level, which is higher than the nominal level but lower than interval or ratio levels.\\n\\nExample of the ordinal dataset:\\ncustomer satisfaction ratings (very satisfied, somewhat satisfied, not satisfied\\n\""
            ],
            "application/vnd.google.colaboratory.intrinsic+json": {
              "type": "string"
            }
          },
          "metadata": {},
          "execution_count": 24
        }
      ]
    },
    {
      "cell_type": "code",
      "source": [
        "# Answwer8\n",
        "\n",
        "# Box type of plot can be used to display data in terms of range\n",
        "\"\"\"\n",
        "A box plot (also known as a box-and-whisker plot) is a type of plot that can be used to display data in terms of range\n",
        "A box plot displays the distribution of a dataset by showing the median, quartiles, and the range of the data.\n",
        "\n",
        "The box in a box plot represents the middle 50% of the data, with the bottom of the box being the first quartile (25th percentile) and the top of the box being the third quartile (75th percentile). The line inside the box represents the median (50th percentile) of the data.\n",
        "The \"whiskers\" or lines extending from the box represent the range of the data, excluding outliers.\n",
        "\"\"\"\n",
        "# Example \n",
        "\n",
        "import matplotlib.pyplot as plt\n",
        "import numpy as np\n",
        "\n",
        "logging.info(\"create sample data\")\n",
        "data = np.random.normal(0, 1, 100)\n",
        "\n",
        "# create box plot\n",
        "\n",
        "fig, ax = plt.subplots()\n",
        "ax.boxplot(data)\n",
        "\n",
        "# add labels and title\n",
        "ax.set_title(\"Box plot of sample data\")\n",
        "ax.set_xlabel(\"Data\")\n",
        "ax.set_ylabel(\"Values\")\n",
        "\n",
        "# display the plot\n",
        "plt.show()\n",
        "\n",
        "\n",
        "\n"
      ],
      "metadata": {
        "colab": {
          "base_uri": "https://localhost:8080/",
          "height": 295
        },
        "id": "2XB2MAH1h50I",
        "outputId": "610d14ab-01d8-45c0-84a8-81dd7b3fff36"
      },
      "execution_count": 25,
      "outputs": [
        {
          "output_type": "display_data",
          "data": {
            "text/plain": [
              "<Figure size 432x288 with 1 Axes>"
            ],
            "image/png": "[encoded data removed]"
          },
          "metadata": {
            "needs_background": "light"
          }
        }
      ]
    },
    {
      "cell_type": "code",
      "source": [
        "# Answer9\n",
        "# 1 Descriptive statistics:\n",
        "\"\"\"\n",
        "Descriptive statistics summarize and describe the basic features of a dataset, such as the mean, median, mode, range, and standard deviation.\n",
        "These statistics provide a way to describe the characteristics of a dataset and can be used to identify patterns and trends in the data.\n",
        "\n",
        "\"\"\"\n",
        "# Inferential statistics:(draw conclusion)\n",
        "\"\"\"\n",
        "Inferential statistics use sample data to make inferences about a larger population. \n",
        "This involves analyzing the data to draw conclusions or make predictions about a population based on the sample data. Inferential statistics can be used to test hypotheses, estimate population parameters, and make predictions.\n",
        "\n",
        "\"\"\"\n",
        "# Here are some examples of each type of statistics and how they are used\n",
        "\"\"\"\"\n",
        "Descriptive statistics:\n",
        " Let's say a researcher wants to describe the distribution of ages in a sample of 100 people. They could calculate the mean, median, mode, and standard deviation of the ages in the sample, and create a histogram or box plot to visualize the distribution. These descriptive statistics would provide a summary of the ages in the sample and help identify any patterns or outliers.\n",
        "\n",
        "\"\"\"\n",
        "\"\"\"\"\n",
        "Inferential statistics: \n",
        "Continuing with the previous example, suppose the researcher wants to use the sample data to make inferences about the age distribution in the larger population from which the sample \n",
        "\n",
        "\"\"\""
      ],
      "metadata": {
        "colab": {
          "base_uri": "https://localhost:8080/",
          "height": 54
        },
        "id": "Zw2ewiZrjniR",
        "outputId": "d9cab686-e1e7-40dc-d7c1-3c658866c017"
      },
      "execution_count": 26,
      "outputs": [
        {
          "output_type": "execute_result",
          "data": {
            "text/plain": [
              "'\"\\nInferential statistics: \\nContinuing with the previous example, suppose the researcher wants to use the sample data to make inferences about the age distribution in the larger population from which the sample \\n\\n'"
            ],
            "application/vnd.google.colaboratory.intrinsic+json": {
              "type": "string"
            }
          },
          "metadata": {},
          "execution_count": 26
        }
      ]
    },
    {
      "cell_type": "code",
      "source": [
        "# ANswer10\n",
        "\n",
        "# Measures of central tendency and variability are statistical tools used to describe the characteristics of a dataset.\n",
        "\n",
        "# 1 Mean\n",
        "\"\"\"\n",
        "The mean is the average value of a dataset.\n",
        "It is calculated by summing all the values in the dataset and dividing by the number of values\n",
        "\n",
        "\"\"\"\n",
        "# 2 Median:\n",
        "\"\"\"\n",
        "The median is the middle value of a dataset when it is arranged in order.\n",
        "It is useful for describing the \"middle\" value in a dataset and is less sensitive to outliers than the mean.\n",
        "\"\"\"\n",
        "# 3 mode:(highets frequency element):\n",
        "\"\"\"\n",
        "The mode is the most common value in a dataset.\n",
        "t is useful for describing the most frequent value in a dataset and can be used for categorical or nominal data.\n",
        "\"\"\"\n",
        "\n",
        "# Measures of variability:\n",
        "\n",
        "# Range:\n",
        "\n",
        "\"\"\"\n",
        "The range is the difference between the highest and lowest values in a dataset\n",
        " It provides a measure of the spread of the data but can be sensitive to outliers.\n",
        " \"\"\"\n",
        "\n",
        "# Variance\n",
        "\"\"\"\n",
        "The variance measures how spread out the values in a dataset are from the mean. I\n",
        "It is calculated by averaging the squared differences between each value and the mean.\n",
        "The variance provides a measure of the variability of the data and can be used to calculate other statistics such as the standard deviation.\n",
        "\"\"\"\n",
        "#  Standard deviation:\n",
        "\"\"\"\n",
        "The standard deviation is the square root of the variance.\n",
        "Tt measures the spread of the data in the same units as the original data and is a useful measure of variability because it is less sensitive to outliers than the range.\n",
        "\n",
        "\n",
        "\"\"\"\n"
      ],
      "metadata": {
        "colab": {
          "base_uri": "https://localhost:8080/",
          "height": 54
        },
        "id": "faN4xnCglteD",
        "outputId": "710d9263-878d-4260-985c-dae0fceecef5"
      },
      "execution_count": 27,
      "outputs": [
        {
          "output_type": "execute_result",
          "data": {
            "text/plain": [
              "'\\nThe standard deviation is the square root of the variance.\\nTt measures the spread of the data in the same units as the original data and is a useful measure of variability because it is less sensitive to outliers than the range.\\n\\n\\n'"
            ],
            "application/vnd.google.colaboratory.intrinsic+json": {
              "type": "string"
            }
          },
          "metadata": {},
          "execution_count": 27
        }
      ]
    }
  ]
}