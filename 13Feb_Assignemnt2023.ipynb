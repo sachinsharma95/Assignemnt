{
 "cells": [
  {
   "cell_type": "code",
   "execution_count": null,
   "id": "e959a7d5-24b7-47b3-9480-f3f66e2351f6",
   "metadata": {},
   "outputs": [],
   "source": [
    "# Q1. Explain why we have to use the Exception class while creating a Custom Exception."
   ]
  },
  {
   "cell_type": "code",
   "execution_count": 29,
   "id": "e70760e8-751d-430a-bc7d-9e9dee4b9021",
   "metadata": {},
   "outputs": [
    {
     "name": "stdin",
     "output_type": "stream",
     "text": [
      "Enter your age:  -10\n"
     ]
    },
    {
     "name": "stdout",
     "output_type": "stream",
     "text": [
      "Age must be a positive integer\n"
     ]
    }
   ],
   "source": [
    "# Ans1\n",
    "# Exception class\n",
    "\"\"\"\n",
    "In python exceptions are used to handle errors or unexpected conditions in your code. By creating a custom exception, you can define specific error conditions for your application and write specific handling code for these conditions.\n",
    "the Exception class provides a standardized way to represent and handle exceptions in your code, and extending it when creating a custom exception makes your code more flexible, maintainable, and easier to understand.\n",
    "\"\"\"\n",
    "\n",
    "# Example of Exception class while creating a custom exception\n",
    "\n",
    "import logging\n",
    "logging.basicConfig(filename = \"error1.log\", level = logging.info ,format = '%(asctime)s %(message)s')\n",
    "\n",
    "#creating a  custom class and passing Exception \n",
    "\n",
    "class InvalidInputException(Exception):\n",
    "    \n",
    "    \n",
    "    def __init__(self, message):\n",
    "        self.message = message\n",
    "\n",
    "try:\n",
    "    logging.info(\"try block handle exacption\")\n",
    "    age = int(input(\"Enter your age: \"))\n",
    "    if age <= 0:\n",
    "        \n",
    "        raise InvalidInputException(\"Age must be a positive integer\")\n",
    "except InvalidInputException as e:\n",
    "    print(e.message)\n",
    "    \n",
    "except ValueError:\n",
    "    print(\"Invalid input. Age must be an integer.\")\n",
    "else:\n",
    "    print(\"Your age is\", age)\n"
   ]
  },
  {
   "cell_type": "code",
   "execution_count": null,
   "id": "dc28d3fc-3424-45bb-ae0c-7a8e4ff56426",
   "metadata": {},
   "outputs": [],
   "source": [
    "# Q2. Write a python program to print Python Exception Hierarchy.\n"
   ]
  },
  {
   "cell_type": "code",
   "execution_count": 30,
   "id": "2b322fee-751c-44f3-9e19-35a6e60b0993",
   "metadata": {},
   "outputs": [
    {
     "name": "stdout",
     "output_type": "stream",
     "text": [
      "ZeroDivisionError\n"
     ]
    }
   ],
   "source": [
    "# Ans2\n",
    "import sys\n",
    "\n",
    "def print_exception_hierarchy(exception, indent=\"\"):\n",
    "    print(indent + str(exception.__class__.__name__))\n",
    "    if exception.__cause__:\n",
    "        print_exception_hierarchy(exception.__cause__, indent + \"  \")\n",
    "    if exception.__context__:\n",
    "        print_exception_hierarchy(exception.__context__, indent + \"  \")\n",
    "\n",
    "try:\n",
    "    1/0\n",
    "except Exception as e:\n",
    "    print_exception_hierarchy(e)\n"
   ]
  },
  {
   "cell_type": "code",
   "execution_count": 36,
   "id": "91f2e900-178f-4559-a756-53a0f485b834",
   "metadata": {},
   "outputs": [],
   "source": [
    "# Ans3\n",
    "\n",
    "# ArithmeticError \n",
    "\"\"\"\n",
    "It is a built-in class in Python that represents an error that occurs during arithmetic operations. \n",
    "It is a subclass of the Exception class, and serves as a base class for more specific arithmetic errors.\n",
    "\"\"\"\n",
    "# The two main errors defined in ArthematicError class\n",
    "\"\"\"\n",
    "1 ZeroDivisionError \n",
    "2 OverflowError \n",
    "\"\"\"\n",
    "# 1 ZeroDivisionError\n",
    "\"\"\"\n",
    "This error occurs when an attempt is made to divide a number by zero. \n",
    "\"\"\"\n",
    "# Example of ZeroDivisionError\n",
    "\n",
    "try:\n",
    "    19 / 0\n",
    "except ZeroDivisionError as e:\n",
    "    logging.info(\"i am trying to handle a zerodivision error {} \".format(e) )\n",
    "\n",
    "\n",
    "    \n",
    "# 2 OverflowErro\n",
    "\"\"\"\n",
    "this error occurs when an arithmetic operation produces a result that is too large \n",
    "\"\"\"\n",
    "# Example of overflowError \n",
    "try:\n",
    "    9999999999999999999999999999999999999999 * 9999999999999999999999999999999999999999\n",
    "except OverflowError as e:\n",
    "    logging.info(\"i am trying to handle a overflowError {} \".format(e) )\n",
    "\n",
    "    \n",
    "\n"
   ]
  },
  {
   "cell_type": "code",
   "execution_count": 42,
   "id": "b467851d-f8d7-4cda-8900-fb10ac95cd9d",
   "metadata": {},
   "outputs": [
    {
     "name": "stdout",
     "output_type": "stream",
     "text": [
      "Key Error Exception Raised.\n",
      "Index Error Exception Raised, list index out of range\n"
     ]
    }
   ],
   "source": [
    "# Ans4\n",
    "\n",
    "# LookupError\n",
    "\"\"\"\n",
    "Lookup Error acts as a base class for the exceptions that occur when a key or index used on a mapping or sequence of a list/dictionary is invalid or does not exists.\n",
    "\"\"\"\n",
    "# The two types of exception raised are:\n",
    "\"\"\"\n",
    "IndexError\n",
    "KeyError\n",
    "\"\"\"\n",
    "\n",
    "# 1 keyError\n",
    "\"\"\"\n",
    "If a key you are trying to access is not found in the dictionary, a key error exception is raised.\"\"\"\n",
    "# Exampele of KeyError\n",
    "try:  \n",
    "    a = {1:'a', 2:'b', 3:'c'}  \n",
    "    print (a[4])  \n",
    "except LookupError:  \n",
    "    print (\"Key Error Exception Raised.\")\n",
    "else:  \n",
    "    loggin.info(\"we are trying to handle LookupError's KeyError \")\n",
    "    print (\"Success, no error!\")\n",
    "    \n",
    "# 2 IndexError \n",
    "\"\"\"\n",
    "When you are trying to access an index (sequence) of a list that does not exist in that list or is out of range of that list, an index error is raised.\n",
    "\"\"\"\n",
    "# Example of the IndexError\n",
    "try:  \n",
    "    a = ['a', 'b', 'c']  \n",
    "    logging.info(\" 4th position index not present but still we are trying to access so it giving the Index Error\")\n",
    "    print (a[4])  \n",
    "    \n",
    "except LookupError:  \n",
    "    logging.info(\"Index Error Exception Raised, list index out of range\")\n",
    "    print (\"Index Error Exception Raised, list index out of range\")\n",
    "else:  \n",
    "    print (\"Success, no error!\")\n",
    "\n",
    "\n"
   ]
  },
  {
   "cell_type": "code",
   "execution_count": null,
   "id": "9473b300-5fd5-4845-8bad-9ee6f316b753",
   "metadata": {},
   "outputs": [],
   "source": [
    "# Q5. Explain ImportError. What is ModuleNotFoundError?"
   ]
  },
  {
   "cell_type": "code",
   "execution_count": 51,
   "id": "43157671-5cf3-42d2-af04-d8647ea510c4",
   "metadata": {},
   "outputs": [
    {
     "name": "stdout",
     "output_type": "stream",
     "text": [
      "Error: Could not import module\n",
      "Error: Module not found\n"
     ]
    }
   ],
   "source": [
    "# Ans5\n",
    "# ImportError: (usually incorrect path while importing module)\n",
    "\"\"\"\n",
    "Raised when the import statement has troubles trying to load a module. Also raised when the “from list” in from ... import has a name that cannot be found.\n",
    "\n",
    "The name and path attributes can be set using keyword-only arguments to the constructor.\n",
    "When set they represent the name of the module that was attempted to be imported and the path to any file which triggered the exception, respectively.\n",
    "\n",
    "\"\"\"\n",
    "# example of the ImportError\n",
    "try:\n",
    "    import non_existent_module\n",
    "except ImportError as e:\n",
    "    logging.info(\"Import error handling\")\n",
    "    print(\"Error: Could not import module\")\n",
    "\n",
    "    \n",
    "\n",
    "\n",
    "# ModuleNotFoundError\n",
    "\"\"\"\n",
    "A subclass of ImportError which is raised by import when a module could not be located. It is also raised when None is found in sys.modules.\n",
    "\"\"\"\n",
    "# Example of ModuleNotFoundErro\n",
    "try:\n",
    "    import non_existent_module\n",
    "except ModuleNotFoundError as e:\n",
    "    logging.info( \" ModuleNotFoundError handling\")\n",
    "    print(\"Error: Module not found\")\n",
    "\n"
   ]
  },
  {
   "cell_type": "code",
   "execution_count": null,
   "id": "83fbcb5f-cf98-4eb6-b8c5-9859b21f0a80",
   "metadata": {},
   "outputs": [],
   "source": [
    "# Q6. List down some best practices for exception handling in python.\n"
   ]
  },
  {
   "cell_type": "code",
   "execution_count": 54,
   "id": "ce59745d-6175-4b41-9ce8-eba7b9917c72",
   "metadata": {},
   "outputs": [
    {
     "name": "stdout",
     "output_type": "stream",
     "text": [
      "division by zero\n",
      "i am trying to handle a zerodivision error division by zero\n"
     ]
    }
   ],
   "source": [
    "# Ans6\n",
    "# Some Example of best practices\n",
    "# 1 ZeroDivionError\n",
    "\"\"\"use always a specific exception \"\"\"\n",
    "try :\n",
    "    10/0\n",
    "except ZeroDivisionError as e :\n",
    "    print(e)\n",
    "\n",
    "    \n",
    "# 2 print always a proper message \n",
    "# for example:\n",
    "try :\n",
    "    15/0\n",
    "except ZeroDivisionError as e :\n",
    "    print(\"i am trying to handle a zerodivision error\"  , e)\n",
    "\n",
    "# 3 always try to log your error \n",
    "# For Example\n",
    "\n",
    "import logging\n",
    "logging.basicConfig(filename = \"error.log\" , level = logging.ERROR)\n",
    "try :\n",
    "    10/0\n",
    "except ZeroDivisionError as e :\n",
    "    logging.error(\"i am trying to handle a zerodivision error {} \".format(e) )\n",
    "    \n",
    "    \n",
    "# 4 Document all the error \n",
    "#cleanup all the resources\n",
    "\n",
    "# for example:\n",
    "\n",
    "try :\n",
    "    with open(\"pwtest1.txt\" , 'w') as f :\n",
    "        f.write(\"this is my data to file \" )\n",
    "except FileNotFoundError as e : \n",
    "    logging.error(\"i am handling file not found  {} \".format(e) )\n",
    "finally :\n",
    "    f.close()\n"
   ]
  },
  {
   "cell_type": "code",
   "execution_count": null,
   "id": "ae7518e6-9544-4c5f-a8b1-472530603571",
   "metadata": {},
   "outputs": [],
   "source": []
  }
 ],
 "metadata": {
  "kernelspec": {
   "display_name": "Python 3 (ipykernel)",
   "language": "python",
   "name": "python3"
  },
  "language_info": {
   "codemirror_mode": {
    "name": "ipython",
    "version": 3
   },
   "file_extension": ".py",
   "mimetype": "text/x-python",
   "name": "python",
   "nbconvert_exporter": "python",
   "pygments_lexer": "ipython3",
   "version": "3.10.8"
  }
 },
 "nbformat": 4,
 "nbformat_minor": 5
}
