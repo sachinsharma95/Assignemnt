{
 "cells": [
  {
   "cell_type": "code",
   "execution_count": null,
   "id": "413885ad-7ef8-4373-8ffd-ba33b84dedc6",
   "metadata": {},
   "outputs": [],
   "source": []
  },
  {
   "cell_type": "code",
   "execution_count": 5,
   "id": "a298cf77-fc7d-4dec-9a7b-4bc13222ca06",
   "metadata": {},
   "outputs": [],
   "source": [
    "#logging \n",
    "import logging\n",
    "logging.basicConfig(filename=\"25FebInfo.log\", level=logging.INFO, format=\"%(asctime)s %(name)s %(message)s\")\n",
    "logging.info(\"Pandas Working Started \") "
   ]
  },
  {
   "cell_type": "code",
   "execution_count": 6,
   "id": "6033d23c-96e0-44df-b508-dbc2479b922e",
   "metadata": {},
   "outputs": [
    {
     "data": {
      "text/plain": [
       "numpy.ndarray"
      ]
     },
     "execution_count": 6,
     "metadata": {},
     "output_type": "execute_result"
    }
   ],
   "source": [
    "import numpy as np\n",
    "list_ = [ '1' , '2' , '3' , '4' , \"5\" ]\n",
    "array_list = np.array(object = list_)\n",
    "\n",
    "\n",
    "type(list_)\n",
    "type(array_list)"
   ]
  },
  {
   "cell_type": "code",
   "execution_count": 7,
   "id": "255af4c9-5601-4ff3-a29e-805b125371a9",
   "metadata": {},
   "outputs": [
    {
     "name": "stdout",
     "output_type": "stream",
     "text": [
      "<class 'list'>\n",
      "<class 'numpy.ndarray'>\n"
     ]
    }
   ],
   "source": [
    "# Answer1\n",
    "\"\"\"\n",
    "There is difference in datatype of list_ and array_list . \n",
    "1 list_ is a list data type .\n",
    "2 while array_list is a numpy.ndarray\n",
    "\"\"\"\n",
    "\n",
    "# Now See the code \n",
    "logging.info(\" types is Explaning below with code\")\n",
    "print(type(list_))\n",
    "print(type(array_list))\n",
    "\n"
   ]
  },
  {
   "cell_type": "code",
   "execution_count": 8,
   "id": "e5f9cb51-bd83-46c0-ad0c-aeff760a23bf",
   "metadata": {},
   "outputs": [
    {
     "name": "stdout",
     "output_type": "stream",
     "text": [
      "<class 'str'>\n",
      "<class 'str'>\n",
      "<class 'str'>\n",
      "<class 'str'>\n",
      "<class 'str'>\n",
      "<class 'numpy.str_'>\n",
      "<class 'numpy.str_'>\n",
      "<class 'numpy.str_'>\n",
      "<class 'numpy.str_'>\n",
      "<class 'numpy.str_'>\n"
     ]
    },
    {
     "data": {
      "text/plain": [
       "'\\nThe type of the element of the array_list is numpy.str \\nthe type of the list_ is str.\\n'"
      ]
     },
     "execution_count": 8,
     "metadata": {},
     "output_type": "execute_result"
    }
   ],
   "source": [
    "# Answer2\n",
    "\n",
    "# The data type of the each and every element of list and arra_list\n",
    "# 1\n",
    "logging.info(\"Type of each elemtn of the list_ variable\")\n",
    "#code\n",
    "for element in list_:  \n",
    "     print(type(element))\n",
    "\n",
    "# exaplantion\n",
    "\"\"\"\n",
    "the type of element of list_ variable is string 'str' \n",
    "\"\"\"\n",
    "\n",
    "# 2\n",
    "logging.info(\"Type of each elemtn of the array_list variable\")\n",
    "\n",
    "# code\n",
    "for element in array_list:\n",
    "     print(type(element))\n",
    "\n",
    "\n",
    "# explantion\n",
    "\"\"\"\n",
    "The type of the element of the array_list is numpy.str \n",
    "the type of the list_ is str.\n",
    "\"\"\"\n"
   ]
  },
  {
   "cell_type": "code",
   "execution_count": 9,
   "id": "02cd057c-d514-47da-a1f1-13855bef5b31",
   "metadata": {},
   "outputs": [
    {
     "name": "stdout",
     "output_type": "stream",
     "text": [
      "<class 'str'>\n",
      "<class 'str'>\n",
      "<class 'str'>\n",
      "<class 'str'>\n",
      "<class 'str'>\n",
      "<class 'numpy.int64'>\n",
      "<class 'numpy.int64'>\n",
      "<class 'numpy.int64'>\n",
      "<class 'numpy.int64'>\n",
      "<class 'numpy.int64'>\n"
     ]
    },
    {
     "data": {
      "text/plain": [
       "'\\nyes There is difference in data tyype of list_ and array_list is.\\nlist_ dtype is str. while array_list is casted to int .\\n'"
      ]
     },
     "execution_count": 9,
     "metadata": {},
     "output_type": "execute_result"
    }
   ],
   "source": [
    "# ANswer3\n",
    "\n",
    "import numpy as np\n",
    "list_ = [ '1' , '2' , '3' , '4' , \"5\" ]\n",
    "\n",
    "array_list = np.array(object = list_, dtype = int)\n",
    "logging.info(\"Data Type of each element is in list_ is \")\n",
    "\n",
    "#for list_ \n",
    "for element in list_:\n",
    "    print(type(element))\n",
    "\n",
    "    \n",
    "# For array_list\n",
    "for element in array_list:\n",
    "    print(type(element))\n",
    "\n",
    "\n",
    "\n",
    "# Explnation\n",
    "\"\"\"\n",
    "yes There is difference in data tyype of list_ and array_list is.\n",
    "list_ dtype is str. while array_list is casted to int .\n",
    "\"\"\"\n"
   ]
  },
  {
   "cell_type": "code",
   "execution_count": 10,
   "id": "f52d6a0d-53da-4f50-b1f4-8b2d3d8eb84f",
   "metadata": {},
   "outputs": [
    {
     "data": {
      "text/plain": [
       "array([[1, 2, 3],\n",
       "       [4, 5, 6]])"
      ]
     },
     "execution_count": 10,
     "metadata": {},
     "output_type": "execute_result"
    }
   ],
   "source": [
    "# Q4\n",
    "import numpy as np\n",
    "num_list = [ [ 1 , 2 , 3 ] , [ 4 , 5 , 6 ] ]\n",
    "num_array = np.array(object = num_list)\n",
    "num_array\n"
   ]
  },
  {
   "cell_type": "code",
   "execution_count": 11,
   "id": "07f840f6-930a-4566-aed8-d803fbcc4cc8",
   "metadata": {},
   "outputs": [
    {
     "name": "stdout",
     "output_type": "stream",
     "text": [
      "The shape of the above array is : (2, 3)\n",
      "The size of the above array is : 6\n"
     ]
    }
   ],
   "source": [
    "# Answer4\n",
    "# 1 shape\n",
    "\n",
    "shap =num_array.shape\n",
    "print(\"The shape of the above array is :\", shap)\n",
    "\n",
    "# 2 size\n",
    "siz = num_array.size\n",
    "print(\"The size of the above array is :\", siz)\n"
   ]
  },
  {
   "cell_type": "code",
   "execution_count": 21,
   "id": "2fc19878-de3a-472a-814c-687a88cdf96c",
   "metadata": {},
   "outputs": [
    {
     "name": "stdout",
     "output_type": "stream",
     "text": [
      "[[0. 0. 0.]\n",
      " [0. 0. 0.]\n",
      " [0. 0. 0.]]\n",
      "\n",
      "The size of the zeros matriz is : 9\n"
     ]
    }
   ],
   "source": [
    "# Answer5\n",
    "\"\"\"\n",
    "Creating  numpy array of 3*3 matrix containing zeros only, using a numpy array\n",
    "creation function.\n",
    "\"\"\"\n",
    "logging.info(\"creating the 3*3 matrix with zeroes element \")\n",
    "logging.info(\"using the np.zeros to generate the matrix\")\n",
    "import numpy as np\n",
    "arr = np.zeros((3,3))\n",
    "print(arr)\n",
    "#size of the matriz is :\n",
    "print(\"\\nThe size of the zeros matriz is :\",arr.size)\n"
   ]
  },
  {
   "cell_type": "code",
   "execution_count": 25,
   "id": "b53e87e4-c38c-44a9-891c-efc66c0ef0d5",
   "metadata": {},
   "outputs": [
    {
     "data": {
      "text/plain": [
       "array([[1., 0., 0., 0., 0.],\n",
       "       [0., 1., 0., 0., 0.],\n",
       "       [0., 0., 1., 0., 0.],\n",
       "       [0., 0., 0., 1., 0.],\n",
       "       [0., 0., 0., 0., 1.]])"
      ]
     },
     "execution_count": 25,
     "metadata": {},
     "output_type": "execute_result"
    }
   ],
   "source": [
    "# Answer6\n",
    "# Identity matrix of shape (5,5) using numpy functions\n",
    "\n",
    "logging.info(\"using the numpy package to create the idenetiy matrix \")\n",
    "import  numpy as np\n",
    "logging.info(\"using the numpy.eye() to create the identity matrix\")\n",
    "identity_matrix = np.eye( N= 5,M=5 )\n",
    "# print \n",
    "identity_matrix "
   ]
  },
  {
   "cell_type": "code",
   "execution_count": null,
   "id": "3c38208e-09a5-4426-b932-55fcea232cf5",
   "metadata": {},
   "outputs": [],
   "source": []
  }
 ],
 "metadata": {
  "kernelspec": {
   "display_name": "Python 3 (ipykernel)",
   "language": "python",
   "name": "python3"
  },
  "language_info": {
   "codemirror_mode": {
    "name": "ipython",
    "version": 3
   },
   "file_extension": ".py",
   "mimetype": "text/x-python",
   "name": "python",
   "nbconvert_exporter": "python",
   "pygments_lexer": "ipython3",
   "version": "3.10.8"
  }
 },
 "nbformat": 4,
 "nbformat_minor": 5
}
