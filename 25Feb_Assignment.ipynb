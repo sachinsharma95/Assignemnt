{
 "cells": [
  {
   "cell_type": "code",
   "execution_count": null,
   "id": "b9006e78-2306-48fb-b6ed-3751ea224597",
   "metadata": {},
   "outputs": [],
   "source": []
  },
  {
   "cell_type": "code",
   "execution_count": 33,
   "id": "f9968bdb-9156-474f-af65-538250f2d11e",
   "metadata": {},
   "outputs": [],
   "source": [
    "#logging \n",
    "import logging\n",
    "logging.basicConfig(filename=\"25FebInfo.log\", level=logging.INFO, format=\"%(asctime)s %(name)s %(message)s\")\n",
    "logging.info(\"Pandas Working Started \") "
   ]
  },
  {
   "cell_type": "code",
   "execution_count": 34,
   "id": "7ed1f770-ee7a-44a9-a0d0-e55508c8fe20",
   "metadata": {},
   "outputs": [
    {
     "data": {
      "text/html": [
       "<div>\n",
       "<style scoped>\n",
       "    .dataframe tbody tr th:only-of-type {\n",
       "        vertical-align: middle;\n",
       "    }\n",
       "\n",
       "    .dataframe tbody tr th {\n",
       "        vertical-align: top;\n",
       "    }\n",
       "\n",
       "    .dataframe thead th {\n",
       "        text-align: right;\n",
       "    }\n",
       "</style>\n",
       "<table border=\"1\" class=\"dataframe\">\n",
       "  <thead>\n",
       "    <tr style=\"text-align: right;\">\n",
       "      <th></th>\n",
       "      <th>course_name</th>\n",
       "      <th>duration</th>\n",
       "    </tr>\n",
       "  </thead>\n",
       "  <tbody>\n",
       "    <tr>\n",
       "      <th>0</th>\n",
       "      <td>Data Science</td>\n",
       "      <td>2</td>\n",
       "    </tr>\n",
       "    <tr>\n",
       "      <th>1</th>\n",
       "      <td>Machine Learning</td>\n",
       "      <td>3</td>\n",
       "    </tr>\n",
       "    <tr>\n",
       "      <th>2</th>\n",
       "      <td>Big Data</td>\n",
       "      <td>6</td>\n",
       "    </tr>\n",
       "    <tr>\n",
       "      <th>3</th>\n",
       "      <td>Data Engineer</td>\n",
       "      <td>4</td>\n",
       "    </tr>\n",
       "  </tbody>\n",
       "</table>\n",
       "</div>"
      ],
      "text/plain": [
       "       course_name   duration\n",
       "0      Data Science         2\n",
       "1  Machine Learning         3\n",
       "2          Big Data         6\n",
       "3     Data Engineer         4"
      ]
     },
     "execution_count": 34,
     "metadata": {},
     "output_type": "execute_result"
    }
   ],
   "source": [
    "import pandas as pd\n",
    "logging.info(\"Given Data\")\n",
    "course_name = ['Data Science', 'Machine Learning', 'Big Data', 'Data Engineer']\n",
    "duration = [2,3,6,4]\n",
    "df = pd.DataFrame(data = {'course_name ': course_name, 'duration' : duration})\n",
    "df"
   ]
  },
  {
   "cell_type": "code",
   "execution_count": 35,
   "id": "f5232823-90f1-4c72-acbd-37a8b2c02ddc",
   "metadata": {},
   "outputs": [
    {
     "data": {
      "text/html": [
       "<div>\n",
       "<style scoped>\n",
       "    .dataframe tbody tr th:only-of-type {\n",
       "        vertical-align: middle;\n",
       "    }\n",
       "\n",
       "    .dataframe tbody tr th {\n",
       "        vertical-align: top;\n",
       "    }\n",
       "\n",
       "    .dataframe thead th {\n",
       "        text-align: right;\n",
       "    }\n",
       "</style>\n",
       "<table border=\"1\" class=\"dataframe\">\n",
       "  <thead>\n",
       "    <tr style=\"text-align: right;\">\n",
       "      <th></th>\n",
       "      <th>course_name</th>\n",
       "      <th>duration</th>\n",
       "    </tr>\n",
       "  </thead>\n",
       "  <tbody>\n",
       "    <tr>\n",
       "      <th>1</th>\n",
       "      <td>Machine Learning</td>\n",
       "      <td>3</td>\n",
       "    </tr>\n",
       "  </tbody>\n",
       "</table>\n",
       "</div>"
      ],
      "text/plain": [
       "       course_name   duration\n",
       "1  Machine Learning         3"
      ]
     },
     "execution_count": 35,
     "metadata": {},
     "output_type": "execute_result"
    }
   ],
   "source": [
    "# Answer1\n",
    "logging.info(\"Code to print the data present in second row of the DataFrame df\")\n",
    "df.loc[1:1]\n",
    "\n",
    "# we are using the loc \n",
    "\n",
    "# or \n",
    "# logging.info(\"or By using the iloc function we can also extract the 2nd row\")\n",
    "# By using the iloc function\n",
    "# df.iloc[1]"
   ]
  },
  {
   "cell_type": "code",
   "execution_count": 36,
   "id": "3f893ddc-707c-465e-9256-3e90d42e9625",
   "metadata": {},
   "outputs": [
    {
     "data": {
      "text/html": [
       "<div>\n",
       "<style scoped>\n",
       "    .dataframe tbody tr th:only-of-type {\n",
       "        vertical-align: middle;\n",
       "    }\n",
       "\n",
       "    .dataframe tbody tr th {\n",
       "        vertical-align: top;\n",
       "    }\n",
       "\n",
       "    .dataframe thead th {\n",
       "        text-align: right;\n",
       "    }\n",
       "</style>\n",
       "<table border=\"1\" class=\"dataframe\">\n",
       "  <thead>\n",
       "    <tr style=\"text-align: right;\">\n",
       "      <th></th>\n",
       "      <th>pass</th>\n",
       "    </tr>\n",
       "  </thead>\n",
       "  <tbody>\n",
       "    <tr>\n",
       "      <th>1</th>\n",
       "      <td>5</td>\n",
       "    </tr>\n",
       "    <tr>\n",
       "      <th>2</th>\n",
       "      <td>7</td>\n",
       "    </tr>\n",
       "  </tbody>\n",
       "</table>\n",
       "</div>"
      ],
      "text/plain": [
       "   pass\n",
       "1     5\n",
       "2     7"
      ]
     },
     "execution_count": 36,
     "metadata": {},
     "output_type": "execute_result"
    }
   ],
   "source": [
    "# ANswer2\n",
    "# loc\n",
    "\"\"\"\n",
    "loc is used to select data by label (i.e., by row and column names).\n",
    "The syntax for loc is df.loc[row_labels, column_labels].\n",
    "loc includes the endpoint of the slice when selecting ranges.\n",
    "\n",
    "\"\"\"\n",
    "# Example of the loc\n",
    "import pandas as pd\n",
    "data = {\"pass\":[2,5,7,4,89],\"travel\" : [4,8,7,77,85]}\n",
    "df = pd.DataFrame(data)\n",
    "\n",
    "logging.info(\"we are using the row loc function to extract the data\")\n",
    "df.loc[1:2,[\"pass\"]]"
   ]
  },
  {
   "cell_type": "code",
   "execution_count": 37,
   "id": "adda9481-63ad-4d62-8b43-a29c1b33da18",
   "metadata": {},
   "outputs": [
    {
     "data": {
      "text/html": [
       "<div>\n",
       "<style scoped>\n",
       "    .dataframe tbody tr th:only-of-type {\n",
       "        vertical-align: middle;\n",
       "    }\n",
       "\n",
       "    .dataframe tbody tr th {\n",
       "        vertical-align: top;\n",
       "    }\n",
       "\n",
       "    .dataframe thead th {\n",
       "        text-align: right;\n",
       "    }\n",
       "</style>\n",
       "<table border=\"1\" class=\"dataframe\">\n",
       "  <thead>\n",
       "    <tr style=\"text-align: right;\">\n",
       "      <th></th>\n",
       "      <th>pass</th>\n",
       "    </tr>\n",
       "  </thead>\n",
       "  <tbody>\n",
       "    <tr>\n",
       "      <th>1</th>\n",
       "      <td>5</td>\n",
       "    </tr>\n",
       "    <tr>\n",
       "      <th>2</th>\n",
       "      <td>7</td>\n",
       "    </tr>\n",
       "  </tbody>\n",
       "</table>\n",
       "</div>"
      ],
      "text/plain": [
       "   pass\n",
       "1     5\n",
       "2     7"
      ]
     },
     "execution_count": 37,
     "metadata": {},
     "output_type": "execute_result"
    }
   ],
   "source": [
    "# Answer2\n",
    "# iloc\n",
    "\"\"\"\n",
    "iloc is used to select data by integer location (i.e., by row and column index positions).\n",
    "The syntax for iloc is df.iloc[row_positions, column_positions], where row_positions and column_positions can be either a single integer or a list of integers.\n",
    " iloc only accepts integer-based inputs.\n",
    " \"\"\"\n",
    "# Example of iloc function\n",
    "logging.info(\"we are using the iloc funcition to extract the same data as in loc\")\n",
    "logging.info(\" iloc taking the integer as the input \")\n",
    "df.iloc[1:3,[0]]\n",
    "\n"
   ]
  },
  {
   "cell_type": "code",
   "execution_count": 38,
   "id": "bf66dd6f-a527-467c-a5cb-a64991f7b488",
   "metadata": {},
   "outputs": [
    {
     "data": {
      "text/html": [
       "<div>\n",
       "<style scoped>\n",
       "    .dataframe tbody tr th:only-of-type {\n",
       "        vertical-align: middle;\n",
       "    }\n",
       "\n",
       "    .dataframe tbody tr th {\n",
       "        vertical-align: top;\n",
       "    }\n",
       "\n",
       "    .dataframe thead th {\n",
       "        text-align: right;\n",
       "    }\n",
       "</style>\n",
       "<table border=\"1\" class=\"dataframe\">\n",
       "  <thead>\n",
       "    <tr style=\"text-align: right;\">\n",
       "      <th></th>\n",
       "      <th>course_name</th>\n",
       "      <th>duration</th>\n",
       "    </tr>\n",
       "  </thead>\n",
       "  <tbody>\n",
       "    <tr>\n",
       "      <th>3</th>\n",
       "      <td>Data Science</td>\n",
       "      <td>2</td>\n",
       "    </tr>\n",
       "    <tr>\n",
       "      <th>0</th>\n",
       "      <td>Machine Learning</td>\n",
       "      <td>3</td>\n",
       "    </tr>\n",
       "    <tr>\n",
       "      <th>1</th>\n",
       "      <td>Big Data</td>\n",
       "      <td>6</td>\n",
       "    </tr>\n",
       "    <tr>\n",
       "      <th>2</th>\n",
       "      <td>Data Engineer</td>\n",
       "      <td>4</td>\n",
       "    </tr>\n",
       "  </tbody>\n",
       "</table>\n",
       "</div>"
      ],
      "text/plain": [
       "       course_name   duration\n",
       "3      Data Science         2\n",
       "0  Machine Learning         3\n",
       "1          Big Data         6\n",
       "2     Data Engineer         4"
      ]
     },
     "execution_count": 38,
     "metadata": {},
     "output_type": "execute_result"
    }
   ],
   "source": [
    "# Answer3\n",
    "logging.info(\" we are using the above data for answer3 to reindex and to perform the operation\")\n",
    "reindex = [3,0,1,2]\n",
    "course_name = ['Data Science', 'Machine Learning', 'Big Data', 'Data Engineer']\n",
    "duration = [2,3,6,4]\n",
    "#reindexing the data \n",
    "new_df = pd.DataFrame(data = {'course_name ': course_name, 'duration' : duration},index= reindex)\n",
    "logging.info(\"new_DataFrame after reindexing the dataframe\")\n",
    "new_df \n"
   ]
  },
  {
   "cell_type": "code",
   "execution_count": 39,
   "id": "c6dc8217-12bd-474b-baa8-dd917e6d69d6",
   "metadata": {},
   "outputs": [
    {
     "name": "stdout",
     "output_type": "stream",
     "text": [
      "data after loc[2]\n",
      "course_name     Data Engineer\n",
      "duration                    4\n",
      "Name: 2, dtype: object \n",
      "\n",
      "Data After iloc[2]\n",
      "course_name     Big Data\n",
      "duration               6\n",
      "Name: 1, dtype: object\n"
     ]
    },
    {
     "data": {
      "text/plain": [
       "'\\nas per the evalaution of the loc and iloc . we observed,the difference of 1 row .\\n\\n'"
      ]
     },
     "execution_count": 39,
     "metadata": {},
     "output_type": "execute_result"
    }
   ],
   "source": [
    "# Answer3\n",
    "\n",
    "# loc[2] and iloc[2] \n",
    "\n",
    "print(\"data after loc[2]\")\n",
    "print(new_df.loc[2],\"\\n\")\n",
    "\n",
    "print(\"Data After iloc[2]\")\n",
    "print(new_df.iloc[2])\n",
    "\n",
    "# Exaplanation\n",
    "\"\"\"\n",
    "as per the evalaution of the loc and iloc . we observed,the difference of 1 row .\n",
    "\n",
    "\"\"\"\n"
   ]
  },
  {
   "cell_type": "code",
   "execution_count": null,
   "id": "dea53e3b-5fec-47b4-bf87-dd25834f75ea",
   "metadata": {},
   "outputs": [],
   "source": []
  },
  {
   "cell_type": "code",
   "execution_count": 41,
   "id": "99cb668d-a722-48fd-a505-68f814fbd26e",
   "metadata": {},
   "outputs": [
    {
     "data": {
      "text/html": [
       "<div>\n",
       "<style scoped>\n",
       "    .dataframe tbody tr th:only-of-type {\n",
       "        vertical-align: middle;\n",
       "    }\n",
       "\n",
       "    .dataframe tbody tr th {\n",
       "        vertical-align: top;\n",
       "    }\n",
       "\n",
       "    .dataframe thead th {\n",
       "        text-align: right;\n",
       "    }\n",
       "</style>\n",
       "<table border=\"1\" class=\"dataframe\">\n",
       "  <thead>\n",
       "    <tr style=\"text-align: right;\">\n",
       "      <th></th>\n",
       "      <th>column_1</th>\n",
       "      <th>column_2</th>\n",
       "      <th>column_3</th>\n",
       "      <th>column_4</th>\n",
       "      <th>column_5</th>\n",
       "      <th>column_6</th>\n",
       "    </tr>\n",
       "  </thead>\n",
       "  <tbody>\n",
       "    <tr>\n",
       "      <th>1</th>\n",
       "      <td>0.412356</td>\n",
       "      <td>0.417099</td>\n",
       "      <td>0.463966</td>\n",
       "      <td>0.010193</td>\n",
       "      <td>0.587579</td>\n",
       "      <td>0.001566</td>\n",
       "    </tr>\n",
       "    <tr>\n",
       "      <th>2</th>\n",
       "      <td>0.404083</td>\n",
       "      <td>0.677709</td>\n",
       "      <td>0.920368</td>\n",
       "      <td>0.776965</td>\n",
       "      <td>0.370430</td>\n",
       "      <td>0.363859</td>\n",
       "    </tr>\n",
       "    <tr>\n",
       "      <th>3</th>\n",
       "      <td>0.279763</td>\n",
       "      <td>0.635598</td>\n",
       "      <td>0.822403</td>\n",
       "      <td>0.117669</td>\n",
       "      <td>0.215384</td>\n",
       "      <td>0.836954</td>\n",
       "    </tr>\n",
       "    <tr>\n",
       "      <th>4</th>\n",
       "      <td>0.673951</td>\n",
       "      <td>0.893926</td>\n",
       "      <td>0.693639</td>\n",
       "      <td>0.990360</td>\n",
       "      <td>0.762642</td>\n",
       "      <td>0.940626</td>\n",
       "    </tr>\n",
       "    <tr>\n",
       "      <th>5</th>\n",
       "      <td>0.167902</td>\n",
       "      <td>0.563071</td>\n",
       "      <td>0.695714</td>\n",
       "      <td>0.552935</td>\n",
       "      <td>0.552451</td>\n",
       "      <td>0.837635</td>\n",
       "    </tr>\n",
       "    <tr>\n",
       "      <th>6</th>\n",
       "      <td>0.609723</td>\n",
       "      <td>0.429807</td>\n",
       "      <td>0.761117</td>\n",
       "      <td>0.959311</td>\n",
       "      <td>0.537366</td>\n",
       "      <td>0.945354</td>\n",
       "    </tr>\n",
       "  </tbody>\n",
       "</table>\n",
       "</div>"
      ],
      "text/plain": [
       "   column_1  column_2  column_3  column_4  column_5  column_6\n",
       "1  0.412356  0.417099  0.463966  0.010193  0.587579  0.001566\n",
       "2  0.404083  0.677709  0.920368  0.776965  0.370430  0.363859\n",
       "3  0.279763  0.635598  0.822403  0.117669  0.215384  0.836954\n",
       "4  0.673951  0.893926  0.693639  0.990360  0.762642  0.940626\n",
       "5  0.167902  0.563071  0.695714  0.552935  0.552451  0.837635\n",
       "6  0.609723  0.429807  0.761117  0.959311  0.537366  0.945354"
      ]
     },
     "execution_count": 41,
     "metadata": {},
     "output_type": "execute_result"
    }
   ],
   "source": [
    "# Q4 \n",
    "logging.info(\"DataFrame Given for performing the pandas operation\")\n",
    "\n",
    "import pandas as pd\n",
    "import numpy as np\n",
    "columns = ['column_1', 'column_2', 'column_3', 'column_4', 'column_5', 'column_6']\n",
    "indices = [1,2,3,4,5,6]\n",
    "#Creating a dataframe:\n",
    "df1 = pd.DataFrame(np.random.rand(6,6), columns = columns, index = indices)\n",
    "df1"
   ]
  },
  {
   "cell_type": "code",
   "execution_count": 42,
   "id": "3ee1684e-dd02-4f7a-bca0-db2fdf751e3e",
   "metadata": {},
   "outputs": [
    {
     "data": {
      "text/plain": [
       "column_1    0.424630\n",
       "column_2    0.602868\n",
       "column_3    0.726201\n",
       "column_4    0.567905\n",
       "column_5    0.504309\n",
       "column_6    0.654332\n",
       "dtype: float64"
      ]
     },
     "execution_count": 42,
     "metadata": {},
     "output_type": "execute_result"
    }
   ],
   "source": [
    "# Answer4\n",
    "# 1 mean of each and every column present in df1\n",
    "logging.info(\"df1.mean() will create a mean of the each and every column\")\n",
    "mean_col = df1.mean(axis =0)\n",
    "mean_col"
   ]
  },
  {
   "cell_type": "code",
   "execution_count": 43,
   "id": "5a08f746-567e-49bb-8b68-4aaa6db01d7c",
   "metadata": {},
   "outputs": [
    {
     "name": "stdout",
     "output_type": "stream",
     "text": [
      "The standard Deviation of the column_2\n",
      "\n"
     ]
    },
    {
     "data": {
      "text/plain": [
       "0.17744342049322975"
      ]
     },
     "execution_count": 43,
     "metadata": {},
     "output_type": "execute_result"
    }
   ],
   "source": [
    "# Answer4\n",
    "# 2 standard deviation of column, ‘column_2’\n",
    "logging.info(\"we will use the df1.std to calculate the standard deviation\")\n",
    "std_deviation = df1['column_2'].std()\n",
    "print(\"The standard Deviation of the column_2\\n\")\n",
    "std_deviation"
   ]
  },
  {
   "cell_type": "code",
   "execution_count": 56,
   "id": "40dbf808-9084-4f06-9013-fce2ae75e8ac",
   "metadata": {},
   "outputs": [
    {
     "name": "stdout",
     "output_type": "stream",
     "text": [
      " can not Evalute mean beacuse this error occurs when the values are not supporting differnet data types\n"
     ]
    }
   ],
   "source": [
    "# Answer5\n",
    "#can not be calculated means because the  int cant be evaluated with string\n",
    "\n",
    "df1.loc[2,['column_2']]=\"var_str\"\n",
    "df1.loc[2,['column_2']]\n",
    "\n",
    "#using the exceptional handling\n",
    "try:\n",
    "  df1['column_2'].mean()\n",
    "except:\n",
    "  print(\"can not Evalute mean beacuse this error occurs when the values are not supporting differnet data types\")"
   ]
  },
  {
   "cell_type": "code",
   "execution_count": 44,
   "id": "8a02f28f-6301-439d-9383-cb569a148198",
   "metadata": {},
   "outputs": [
    {
     "data": {
      "text/plain": [
       "'\\n1 Rolling functions:\\nThis type of window function applies a function to a rolling window of data, where the window size is specified using a fixed-length or time-based offset.\\nSome commonly used rolling functions include rolling.mean(), rolling.sum(), rolling.max(), rolling.min(), and rolling.std().\\n\\n2 Expanding functions: \\nThis type of window function applies a function to all values in the data up to the current point, i.e., the window size increases with each new data point.\\nome commonly used expanding functions include expanding.mean(), expanding.sum(), expanding.max(), expanding.min(), and expanding.std().\\n\\n3 Rolling apply functions: \\nThis type of window function applies a user-defined function to a rolling window of data, where the window size is specified using a fixed-length or time-based offset.\\nThe user-defined function can be any function that takes a pandas Series as input and returns a scalar value\\nSome commonly used rolling apply functions include rolling.apply(), rolling.agg(), and rolling.transform().\\n\\n4 Exponentially weighted functions: \\nThis type of window function applies a weighted moving average to the data, where the weights decay exponentially as we move further away from the current point.\\nSome commonly used exponentially weighted functions include ewm.mean(), ewm.std(), ewm.min(), and ewm.max().\\n\\n'"
      ]
     },
     "execution_count": 44,
     "metadata": {},
     "output_type": "execute_result"
    }
   ],
   "source": [
    "# Answer6\n",
    "\n",
    "# Window function\n",
    "\"\"\"\n",
    "In Pandas, a window function, also known as a rolling or moving function.\n",
    "is used to apply a statistical or mathematical operation on a defined window of data.\n",
    "\n",
    "A window is a fixed-sized subset of a DataFrame or Series, and it can move along the axis in a specified manner, such as a sliding or expanding window\n",
    "\n",
    "\"\"\"\n",
    "\n",
    "# There are several types of window functions available in Pandas are as \n",
    "# mainly 4 type of window function \n",
    "\"\"\"\n",
    "1 Rolling functions:\n",
    "This type of window function applies a function to a rolling window of data, where the window size is specified using a fixed-length or time-based offset.\n",
    "Some commonly used rolling functions include rolling.mean(), rolling.sum(), rolling.max(), rolling.min(), and rolling.std().\n",
    "\n",
    "2 Expanding functions: \n",
    "This type of window function applies a function to all values in the data up to the current point, i.e., the window size increases with each new data point.\n",
    "ome commonly used expanding functions include expanding.mean(), expanding.sum(), expanding.max(), expanding.min(), and expanding.std().\n",
    "\n",
    "3 Rolling apply functions: \n",
    "This type of window function applies a user-defined function to a rolling window of data, where the window size is specified using a fixed-length or time-based offset.\n",
    "The user-defined function can be any function that takes a pandas Series as input and returns a scalar value\n",
    "Some commonly used rolling apply functions include rolling.apply(), rolling.agg(), and rolling.transform().\n",
    "\n",
    "4 Exponentially weighted functions: \n",
    "This type of window function applies a weighted moving average to the data, where the weights decay exponentially as we move further away from the current point.\n",
    "Some commonly used exponentially weighted functions include ewm.mean(), ewm.std(), ewm.min(), and ewm.max().\n",
    "\n",
    "\"\"\"\n"
   ]
  },
  {
   "cell_type": "code",
   "execution_count": 45,
   "id": "6c291f77-fe88-4421-b43d-a551626c7c0a",
   "metadata": {},
   "outputs": [
    {
     "name": "stderr",
     "output_type": "stream",
     "text": [
      "/tmp/ipykernel_3336/1137368315.py:5: FutureWarning: The pandas.datetime class is deprecated and will be removed from pandas in a future version. Import from datetime module instead.\n",
      "  current = pd.datetime.now()\n"
     ]
    },
    {
     "data": {
      "text/plain": [
       "'February 2023'"
      ]
     },
     "execution_count": 45,
     "metadata": {},
     "output_type": "execute_result"
    }
   ],
   "source": [
    "# Answer7\n",
    "import pandas as pd\n",
    "\n",
    "logging.info(\"we are using the pandas.datetime.now as to print current month and year \")\n",
    "current = pd.datetime.now()\n",
    "# strftime() is a Python date method you can use to convert dates to strings.\n",
    "current.strftime(\"%B %Y\")"
   ]
  },
  {
   "cell_type": "code",
   "execution_count": 46,
   "id": "b03e9559-5af6-47c9-b542-f07c0d108930",
   "metadata": {},
   "outputs": [
    {
     "name": "stdin",
     "output_type": "stream",
     "text": [
      "Enter the date1 in YYYY-MM-DD formate : 2023-01-01\n",
      "Enter the date2 in YYYY-MM-DD formate : 2023-02-01\n"
     ]
    },
    {
     "data": {
      "text/plain": [
       "(31, 0, 0)"
      ]
     },
     "execution_count": 46,
     "metadata": {},
     "output_type": "execute_result"
    }
   ],
   "source": [
    "# Answer8\n",
    "import pandas as pd\n",
    "logging.info(\"creating the function to calcuate the diffrence \")\n",
    "def delta_time(date1,date2):\n",
    "    #converting the str to date object \n",
    "    try:\n",
    "        \n",
    "        date1 = pd.to_datetime(date1)\n",
    "        date2 = pd.to_datetime(date2)\n",
    "        #\n",
    "        time_diff = date2-date1\n",
    "        dy = time_diff.days\n",
    "        hr =time_diff.seconds//3600\n",
    "        minu = hr*60\n",
    "        result = (dy, hr,minu)\n",
    "        return result\n",
    "        \n",
    "    except exception as e:\n",
    "        return \" Rechceck the date format\"\n",
    "\n",
    "\n",
    "    \n",
    "#taking the input through  the user   \n",
    "    \n",
    "date1  = str(input(\"Enter the date1 in YYYY-MM-DD formate :\"))\n",
    "date2 =  str(input(\"Enter the date2 in YYYY-MM-DD formate :\"))\n",
    "delta_time(date1,date2)\n",
    "\n"
   ]
  },
  {
   "cell_type": "code",
   "execution_count": 47,
   "id": "204b35be-abe1-49c0-a519-b34a5c58ae71",
   "metadata": {},
   "outputs": [
    {
     "name": "stdin",
     "output_type": "stream",
     "text": [
      "Enter the CSV file path with .csv extenxion :  services.csv\n",
      "Enter the Column name : id\n",
      "Enter the order value as True or False: True\n"
     ]
    },
    {
     "data": {
      "text/plain": [
       "0      1\n",
       "1      2\n",
       "2      3\n",
       "3      4\n",
       "4      5\n",
       "5      6\n",
       "6      7\n",
       "7      8\n",
       "8      9\n",
       "9     10\n",
       "10    11\n",
       "11    12\n",
       "12    13\n",
       "13    14\n",
       "14    15\n",
       "15    16\n",
       "16    17\n",
       "17    18\n",
       "18    19\n",
       "19    20\n",
       "20    21\n",
       "21    22\n",
       "22    23\n",
       "Name: id, dtype: category\n",
       "Categories (23, int64): [1 < 2 < 3 < 4 ... 20 < 21 < 22 < 23]"
      ]
     },
     "execution_count": 47,
     "metadata": {},
     "output_type": "execute_result"
    }
   ],
   "source": [
    "# Answer9\n",
    "import pandas as pd\n",
    "\n",
    "def categorical_data(file,col_name, order_val):\n",
    "    df = pd.read_csv(file)\n",
    "    df[col_name] = pd.Categorical(df[col_name], ordered = order_val)\n",
    "    return  df[col_name]\n",
    "    \n",
    "    \n",
    "\n",
    "logging.info(\"taking the input through user\")\n",
    "\n",
    "file = input(\"Enter the CSV file path with .csv extenxion : \")\n",
    "col_name = input(\"Enter the Column name :\")\n",
    "order_val = bool(input(\"Enter the order value as True or False:\"))\n",
    "categorical_data(file,col_name,order_val)\n",
    "\n"
   ]
  },
  {
   "cell_type": "code",
   "execution_count": 48,
   "id": "988df244-e4aa-4451-a0b1-712512497d6c",
   "metadata": {},
   "outputs": [
    {
     "name": "stdin",
     "output_type": "stream",
     "text": [
      "Enter the csv file path of sale Data: company-sales.csv\n"
     ]
    },
    {
     "data": {
      "text/plain": [
       "<AxesSubplot: >"
      ]
     },
     "execution_count": 48,
     "metadata": {},
     "output_type": "execute_result"
    },
    {
     "data": {
      "image/png": "[encoded data removed]",
      "text/plain": [
       "<Figure size 640x480 with 1 Axes>"
      ]
     },
     "metadata": {},
     "output_type": "display_data"
    }
   ],
   "source": [
    "# Answer10\n",
    "\n",
    "import pandas as pd\n",
    "#prompt through user\n",
    "data = input(\"Enter the csv file path of sale Data:\")\n",
    "per1 = pd.date_range(start ='1-1-2018', end ='10-01-2018', freq ='D')\n",
    "df = pd.read_csv(data)\n",
    "\n",
    "df.plot.bar()\n"
   ]
  },
  {
   "cell_type": "code",
   "execution_count": 54,
   "id": "e763aea0-2641-4c5f-8916-4abd7a9bc788",
   "metadata": {},
   "outputs": [
    {
     "name": "stdin",
     "output_type": "stream",
     "text": [
      "Enter the file path of the CSV file:  company-sales.csv\n"
     ]
    },
    {
     "data": {
      "text/html": [
       "<div>\n",
       "<style scoped>\n",
       "    .dataframe tbody tr th:only-of-type {\n",
       "        vertical-align: middle;\n",
       "    }\n",
       "\n",
       "    .dataframe tbody tr th {\n",
       "        vertical-align: top;\n",
       "    }\n",
       "\n",
       "    .dataframe thead th {\n",
       "        text-align: right;\n",
       "    }\n",
       "</style>\n",
       "<table border=\"1\" class=\"dataframe\">\n",
       "  <thead>\n",
       "    <tr style=\"text-align: right;\">\n",
       "      <th></th>\n",
       "      <th>Statistic</th>\n",
       "      <th>Value</th>\n",
       "    </tr>\n",
       "  </thead>\n",
       "  <tbody>\n",
       "    <tr>\n",
       "      <th>0</th>\n",
       "      <td>Mean</td>\n",
       "      <td>83.5</td>\n",
       "    </tr>\n",
       "    <tr>\n",
       "      <th>1</th>\n",
       "      <td>Median</td>\n",
       "      <td>85.0</td>\n",
       "    </tr>\n",
       "    <tr>\n",
       "      <th>2</th>\n",
       "      <td>Mode</td>\n",
       "      <td>85.0</td>\n",
       "    </tr>\n",
       "  </tbody>\n",
       "</table>\n",
       "</div>"
      ],
      "text/plain": [
       "  Statistic  Value\n",
       "0      Mean   83.5\n",
       "1    Median   85.0\n",
       "2      Mode   85.0"
      ]
     },
     "execution_count": 54,
     "metadata": {},
     "output_type": "execute_result"
    }
   ],
   "source": [
    "# ANswer11\n",
    "\n",
    "logging.info(\"Prompt user to enter file path\")\n",
    "file_path = input(\"Enter the file path of the CSV file: \")\n",
    "\n",
    "logging.info(\"Read CSV file into a Pandas DataFrame\")\n",
    "df = pd.read_csv(file_path)\n",
    "\n",
    "# dummy data to check output that is given i  the question\n",
    "df=pd.DataFrame({\n",
    "'Student ID':[1,2,3,4,5,6,7,8,9,10],\n",
    "'Test Score':[85,90,80,75,85,82,78,85,90,85]\n",
    "})\n",
    "\n",
    "logging.info(\"Calculate mean, median, and mode of test scores\")\n",
    "mean_score = df['Test Score'].mean()\n",
    "median_score = df['Test Score'].median()\n",
    "mode_score = df['Test Score'].mode().values[0]\n",
    "\n",
    "logging.info(\"Create a DataFrame to display the results\")\n",
    "results = pd.DataFrame({\n",
    "    'Statistic': ['Mean', 'Median', 'Mode'],\n",
    "    'Value': [mean_score, median_score, mode_score]\n",
    "})\n",
    "\n",
    "# Display the results\n",
    "results\n"
   ]
  },
  {
   "cell_type": "code",
   "execution_count": null,
   "id": "04cb136c-4279-48e0-a85c-7e9f5bb8194a",
   "metadata": {},
   "outputs": [],
   "source": []
  }
 ],
 "metadata": {
  "kernelspec": {
   "display_name": "Python 3 (ipykernel)",
   "language": "python",
   "name": "python3"
  },
  "language_info": {
   "codemirror_mode": {
    "name": "ipython",
    "version": 3
   },
   "file_extension": ".py",
   "mimetype": "text/x-python",
   "name": "python",
   "nbconvert_exporter": "python",
   "pygments_lexer": "ipython3",
   "version": "3.10.8"
  }
 },
 "nbformat": 4,
 "nbformat_minor": 5
}
