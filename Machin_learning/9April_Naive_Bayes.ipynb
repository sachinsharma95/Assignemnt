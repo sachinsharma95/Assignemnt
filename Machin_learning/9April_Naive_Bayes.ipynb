{
 "cells": [
  {
   "attachments": {},
   "cell_type": "markdown",
   "metadata": {},
   "source": [
    "# <center> Baye's Theorem Assignment\n",
    "### <center>  April'9- 2023 \n",
    "\n",
    "\n",
    "--------"
   ]
  },
  {
   "attachments": {},
   "cell_type": "markdown",
   "metadata": {},
   "source": [
    "## Answer 1\n",
    "# Baye's Theorem\n",
    "- Bayes' theorem is a fundamental theorem in probability theory that describes the probability of an event based on prior knowledge or information. It is named after the English statistician Thomas Bayes, who first formulated it."
   ]
  },
  {
   "attachments": {},
   "cell_type": "markdown",
   "metadata": {},
   "source": [
    "-----"
   ]
  },
  {
   "attachments": {},
   "cell_type": "markdown",
   "metadata": {},
   "source": [
    "# Answer 2 \n",
    "### The formula for Bayes' theorem is as follows:\n",
    "\n",
    "## <center> P(A|B) = P(B|A) * P(A) / P(B)\n",
    "\n",
    "Where:\n",
    "\n",
    "- P(A|B) is the probability of event A occurring given that event B has occurred (known as the posterior probability).\n",
    "- P(B|A) is the probability of event B occurring given that event A has occurred (known as the likelihood).\n",
    "- P(A) is the prior probability of event A occurring.\n",
    "- P(B) is the prior probability of event B occurring."
   ]
  },
  {
   "attachments": {},
   "cell_type": "markdown",
   "metadata": {},
   "source": [
    "------"
   ]
  },
  {
   "attachments": {},
   "cell_type": "markdown",
   "metadata": {},
   "source": [
    "# Q3. How is Bayes' theorem used in practice?\n"
   ]
  },
  {
   "attachments": {},
   "cell_type": "markdown",
   "metadata": {},
   "source": [
    "# Answer 3 \n",
    "Bayes' theorem is used in practice in a variety of fields, including statistics, machine learning, data science, and artificial intelligence. It is particularly useful in situations where there is uncertainty or incomplete information, and it allows us to update our beliefs based on new evidence\n",
    "\n",
    "#### Some practical applications of Bayes' theorem include:\n",
    "\n",
    "- Spam filtering: determining the probability that an email is spam based on the words and phrases it contains.\n",
    "- Medical diagnosis: estimating the probability that a patient has a certain disease based on their symptoms and medical history.\n",
    "- Image recognition: classifying images based on their features and characteristics.\n",
    "- Fraud detection: identifying fraudulent transactions based on patterns and anomalies in financial data."
   ]
  },
  {
   "attachments": {},
   "cell_type": "markdown",
   "metadata": {},
   "source": [
    "-------"
   ]
  },
  {
   "attachments": {},
   "cell_type": "markdown",
   "metadata": {},
   "source": [
    "# Answer 4\n",
    "## <center>Relationship between Bayes' theorem &  conditional probability.\n",
    "\n",
    "\n",
    "- Bayes' theorem and conditional probability are closely related concepts in probability theory. Bayes' theorem is a formula that allows us to calculate conditional probabilities in reverse.\n",
    "\n",
    "- Conditional probability is the probability of an event A given that event B has occurred, and is denoted as P(A|B). \n",
    "\n",
    "-  Bayes' theorem provides a way to calculate this probability in terms of the reverse conditional probability P(B|A), along with the prior probabilities of A and B.\n",
    "\n",
    "\n",
    "### The formula for Baye's theorem is :\n",
    "\n",
    "#####  P(A|B) = P(B|A) * P(A) / P(B)\n",
    "\n",
    "Where:\n",
    "\n",
    "- P(A|B) is the probability of event A occurring given that event B has occurred (known as the posterior probability).\n",
    "- P(B|A) is the probability of event B occurring given that event A has occurred (known as the likelihood).\n",
    "- P(A) is the prior probability of event A occurring.\n",
    "- P(B) is the prior probability of event B occurring.\n",
    "\n",
    "Thus, Bayes' theorem allows us to update our prior beliefs about the probability of event A occurring, based on new evidence (event B)."
   ]
  },
  {
   "attachments": {},
   "cell_type": "markdown",
   "metadata": {},
   "source": [
    "-----"
   ]
  },
  {
   "attachments": {},
   "cell_type": "markdown",
   "metadata": {},
   "source": [
    "#### Q5. How do you choose which type of Naive Bayes classifier to use for any given problem?\n",
    "\n"
   ]
  },
  {
   "attachments": {},
   "cell_type": "markdown",
   "metadata": {},
   "source": [
    "# Answer 5\n",
    "Choosing the appropriate type of Naive Bayes classifier depends on the specific characteristics of the problem at hand. There are three main types of Naive Bayes classifiers:\n",
    "\n",
    "- Gaussian Naive Bayes: used for continuous data where the values are normally distributed.\n",
    "- Multinomial Naive Bayes: used for discrete data where the values represent counts or frequencies.\n",
    "- Bernoulli Naive Bayes: used for binary data where the values are either 0 or 1.\n",
    "\n",
    "### To choose the appropriate type of Naive Bayes classifier, consider the following factors:\n",
    "\n",
    "- The type of data: determine whether the data is continuous, discrete, or binary.\n",
    "- The distribution of the data: determine whether the data follows a normal (Gaussian) distribution or not.\n",
    "- The complexity of the problem: more complex problems may require more sophisticated models, such as the Multinomial or Bernoulli Naive Bayes classifiers.\n",
    "\n",
    " - For example, if the problem involves text classification with a large number of features, Multinomial Naive Bayes may be more appropriate than Gaussian Naive Bayes.\n",
    "\n"
   ]
  },
  {
   "attachments": {},
   "cell_type": "markdown",
   "metadata": {},
   "source": [
    "------"
   ]
  },
  {
   "attachments": {},
   "cell_type": "markdown",
   "metadata": {},
   "source": [
    "# Answer 6 <center> Assignement"
   ]
  },
  {
   "attachments": {},
   "cell_type": "markdown",
   "metadata": {},
   "source": [
    "- To predict the class of the new instance using Naive Bayes, we need to calculate the posterior probabilities of each class given the values of the two features. Since the prior probabilities of each class are equal, we can ignore them in the calculations.\n",
    "\n",
    "- Using the Naive Bayes assumption that the features are conditionally independent given the class, we can calculate the likelihood of each class by multiplying the conditional probabilities of each feature value given the class.\n",
    "\n",
    "- For class A:\n",
    "P(X1=3 | A) = 4/10 <br>\n",
    "P(X2=4 | A) = 3/10<br>\n",
    "Likelihood of A = P(X1=3 | A) * P(X2=4 | A) = (4/10) * (3/10) = 0.12\n",
    "\n",
    "- For class B:\n",
    "P(X1=3 | B) = 1/5<br>\n",
    "P(X2=4 | B) = 1/5<br>\n",
    "Likelihood of B = P(X1=3 | B) * P(X2=4 | B) = (1/5) * (1/5) = 0.04\n",
    "\n",
    "- Therefore, the Naive Bayes classifier would predict that the new instance with features X1=3 and X2=4 belongs to class A, since it has a higher posterior probability of 0.12 compared to 0.04 for class B.\n",
    "\n",
    "\n",
    "\n",
    "\n",
    "\n",
    "\n"
   ]
  },
  {
   "attachments": {},
   "cell_type": "markdown",
   "metadata": {},
   "source": []
  }
 ],
 "metadata": {
  "language_info": {
   "name": "python"
  },
  "orig_nbformat": 4
 },
 "nbformat": 4,
 "nbformat_minor": 2
}
