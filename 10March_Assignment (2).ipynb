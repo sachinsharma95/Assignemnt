{
  "nbformat": 4,
  "nbformat_minor": 0,
  "metadata": {
    "colab": {
      "provenance": []
    },
    "kernelspec": {
      "name": "python3",
      "display_name": "Python 3"
    },
    "language_info": {
      "name": "python"
    }
  },
  "cells": [
    {
      "cell_type": "code",
      "execution_count": 19,
      "metadata": {
        "id": "wCaT3460ZXUB"
      },
      "outputs": [],
      "source": [
        "import logging\n",
        "logging.basicConfig(filename=\"10MarchInfo.log\", level=logging.INFO, format=\"%(asctime)s %(name)s %(message)s\")"
      ]
    },
    {
      "cell_type": "code",
      "source": [
        "# Answer1\n",
        "# Estimation statistics\n",
        "\"\"\"\n",
        "Estimation statistics is a branch of statistics that deals with estimating the population parameters based on sample data. \n",
        "In other words, estimation statistics aims to determine the values of unknown parameters of a population from a sample of data.\n",
        "\n",
        "\"\"\"\n",
        "# Point estimation and Interval Estimation:\n",
        "\"\"\"\n",
        "Point estimation:\n",
        " Point estimation involves estimating a single value for the population parameter based on a sample. The estimated value is called a point estimate. The most common point estimate is the sample mean, which is used to estimate the population mean.\n",
        "\n",
        "\n",
        "Interval estimation\n",
        "Interval estimation involves estimating a range of values for the population parameter based on a sample. \n",
        "The estimated range is called a confidence interval, which provides a range of values within which the population parameter is likely to lie. \n",
        "The confidence interval is calculated using the sample data and a level of confidence, which is typically 90%, 95%, or 99%.\n",
        "\n",
        "\n",
        "\"\"\""
      ],
      "metadata": {
        "colab": {
          "base_uri": "https://localhost:8080/",
          "height": 127
        },
        "id": "ftnIP6VQZX5u",
        "outputId": "2b33d316-7832-4c80-b606-2bf1b191ec27"
      },
      "execution_count": null,
      "outputs": [
        {
          "output_type": "execute_result",
          "data": {
            "text/plain": [
              "'\\nPoint estimation:\\n Point estimation involves estimating a single value for the population parameter based on a sample. The estimated value is called a point estimate. The most common point estimate is the sample mean, which is used to estimate the population mean.\\n\\n\\nInterval estimation\\nInterval estimation involves estimating a range of values for the population parameter based on a sample. \\nThe estimated range is called a confidence interval, which provides a range of values within which the population parameter is likely to lie. \\nThe confidence interval is calculated using the sample data and a level of confidence, which is typically 90%, 95%, or 99%.\\n\\n\\n'"
            ],
            "application/vnd.google.colaboratory.intrinsic+json": {
              "type": "string"
            }
          },
          "metadata": {},
          "execution_count": 4
        }
      ]
    },
    {
      "cell_type": "code",
      "source": [
        "# ANswer2\n",
        "\n",
        "# python function to estimate the population mean using the sample mean and standard deviation:\n",
        "\n",
        "import math\n",
        "logging.info(\"function to estimate the population mean\")\n",
        "\n",
        "def estimate_population_mean(sample_mean, sample_std_dev, sample_size):\n",
        "    \"\"\"\n",
        "    Function to estimate the population mean using the sample mean and standard deviation.\n",
        "    Args:\n",
        "        sample_mean (float): The sample mean.\n",
        "        sample_std_dev (float): The sample standard deviation.\n",
        "        sample_size (int): The sample size.\n",
        "    Returns:\n",
        "        float: The estimated population mean.\n",
        "      \n",
        "    \"\"\"\n",
        "    standard_error = sample_std_dev / math.sqrt(sample_size)\n",
        "\n",
        "    z_score = 1.96 # For a 95% confidence interval\n",
        "    margin_of_error = z_score * standard_error\n",
        "    #interval lower\n",
        "    lower_bound = sample_mean - margin_of_error\n",
        "    #upper interval\n",
        "    upper_bound = sample_mean + margin_of_error\n",
        "\n",
        "    estimated_population_mean = (lower_bound + upper_bound) / 2\n",
        "    return estimated_population_mean\n",
        "\n",
        "sample_mean = 80\n",
        "sample_std_dev = 1.5\n",
        "sample_size = 100\n",
        "\n",
        "#estimate population mean print\n",
        "\n",
        "res =  estimate_population_mean(sample_mean, sample_std_dev, sample_size)\n",
        "print(\"The estimate population mean :\", res)\n"
      ],
      "metadata": {
        "colab": {
          "base_uri": "https://localhost:8080/"
        },
        "id": "QJ0p7VAyZX8e",
        "outputId": "6ffff57f-30ec-4237-b360-6f683e25e915"
      },
      "execution_count": null,
      "outputs": [
        {
          "output_type": "stream",
          "name": "stdout",
          "text": [
            "The estimate population mean : 80.0\n"
          ]
        }
      ]
    },
    {
      "cell_type": "code",
      "source": [
        "# ANswer3\n",
        "# Hypothesis Testing\n",
        "\"\"\"\n",
        "Hypothesis testing is a statistical method used to make inferences about a population based on a sample of data.\n",
        " It involves setting up two competing hypotheses, the null hypothesis and the alternative hypothesis, and testing which one is more likely to be true based on the available evidence.\n",
        " \"\"\"\n",
        "#  use of Hypothesis testing\n",
        "\"\"\"\n",
        "To make informed decision:\n",
        " Hypothesis testing provides a systematic and objective approach to decision-making based on evidence.\n",
        "\n",
        "\n",
        " To test research questions:\n",
        " Hypothesis testing allows researchers to test their research questions by formulating clear and testable hypotheses. \n",
        "\n",
        " To quantify evidence:\n",
        "  Hypothesis testing provides a way to quantify the evidence against the null hypothesis and provides a measure of the uncertainty in the conclusion. \n",
        "\n",
        "  \"\"\"\n",
        "# importance of hypothesis testing:\n",
        "\"\"\"\n",
        "The importance of hypothesis testing lies in its ability to provide a systematic and objective approach to decision-making based on evidence.\n",
        "It allows us to evaluate the strength of evidence for a hypothesis and make informed decisions based on that evidence. \n",
        "\n",
        "\n",
        " By specifying the null and alternative hypotheses, we can clearly define the research question and the hypothesis being tested. The statistical analysis involved in hypothesis testing helps to quantify the evidence against the null hypothesis and provides a measure of the uncertainty in the conclusion. \n",
        " This allows us to make decisions with a certain level of confidence, rather than relying on intuition or guesswork.\n",
        "\n",
        "\n",
        "\"\"\""
      ],
      "metadata": {
        "id": "ErJWJRX7ZYBm",
        "colab": {
          "base_uri": "https://localhost:8080/",
          "height": 144
        },
        "outputId": "f991bf5a-13a5-43fc-a8fc-ae66fc175c5d"
      },
      "execution_count": null,
      "outputs": [
        {
          "output_type": "execute_result",
          "data": {
            "text/plain": [
              "'\\nThe importance of hypothesis testing lies in its ability to provide a systematic and objective approach to decision-making based on evidence.\\nIt allows us to evaluate the strength of evidence for a hypothesis and make informed decisions based on that evidence. \\n\\n\\n By specifying the null and alternative hypotheses, we can clearly define the research question and the hypothesis being tested. The statistical analysis involved in hypothesis testing helps to quantify the evidence against the null hypothesis and provides a measure of the uncertainty in the conclusion. \\n This allows us to make decisions with a certain level of confidence, rather than relying on intuition or guesswork.\\n\\n\\n'"
            ],
            "application/vnd.google.colaboratory.intrinsic+json": {
              "type": "string"
            }
          },
          "metadata": {},
          "execution_count": 1
        }
      ]
    },
    {
      "cell_type": "code",
      "source": [
        "# Answer4\n",
        "# Hypothesis testing over the average weight of the male:\n",
        "\n",
        "# 1 Null hypothesis testing(H0):\n",
        "\"\"\"\n",
        " The average weight of male college students is equal to or less than the average weight of female college students.\n",
        " Symbolically: H0: μm ≤ μ\n",
        " \"\"\"\n",
        "\n",
        "\n",
        "# 2 Alternate hypothesis testing(Ha)\n",
        "\"\"\"\n",
        "The average weight of male college students is greater than the average weight of female college students.\n",
        "Ha: μm > μf\n",
        "\"\"\"\n"
      ],
      "metadata": {
        "id": "plzXqMHtZYEL"
      },
      "execution_count": null,
      "outputs": []
    },
    {
      "cell_type": "code",
      "source": [
        "# ANswer5\n",
        "\"\"\"\n",
        "Here  Python script to conduct a hypothesis test on the difference between two population means,\n",
        "given a sample from each population.\"\"\"\n",
        "\n",
        "logging.info(\"here is an python script for t -test\")\n",
        "import scipy.stats as stats\n",
        "\n",
        "\n",
        "#define the sample data\n",
        "x = [12,14,18,20]\n",
        "y = [25,28,30,33]\n",
        "\n",
        "\n",
        "#calculating the sample statistics\n",
        "len_x  = len(x)\n",
        "len_y = len(y)\n",
        "\n",
        "mean1 = sum(x)/len_x\n",
        "mean2 = sum(y)/len_y\n",
        "\n",
        "s1 = stats.tstd(x)\n",
        "s2  =stats.tstd(y)\n",
        "\n",
        "#calculate the test  and p- value\n",
        "t,p = stats.ttest_ind_from_stats(mean1, s1,len_x,mean2,s2,len_y)\n",
        "\n",
        "# ouput priinting\n",
        "print(\"Sample mean1 :\", mean1)\n",
        "print(\"Sample mean2:\", mean2)\n",
        "\n",
        "print(\"Sample 1 standard deviation: \", s1)\n",
        "print(\"Sample 2 standard deviation: \", s2)\n",
        "\n",
        "print(\"t-statistic: \", t)\n",
        "print(\"p-value: \", p)\n",
        "\n",
        "\n",
        "\n",
        "\n",
        "\n",
        "\n",
        "\n",
        "\n"
      ],
      "metadata": {
        "id": "0R6erE1xZYHH",
        "colab": {
          "base_uri": "https://localhost:8080/"
        },
        "outputId": "57ba41d7-47a6-41e7-b5ea-396c1d991df5"
      },
      "execution_count": null,
      "outputs": [
        {
          "output_type": "stream",
          "name": "stdout",
          "text": [
            "Sample mean1 : 16.0\n",
            "Sample mean2: 29.0\n",
            "Sample 1 standard deviation:  3.6514837167011076\n",
            "Sample 2 standard deviation:  3.366501646120693\n",
            "t-statistic:  -5.235017230669389\n",
            "p-value:  0.0019477299909670708\n"
          ]
        }
      ]
    },
    {
      "cell_type": "code",
      "source": [
        "# Answer6\n",
        "# null and alternate hypothesis testing with example\n",
        "\n",
        "# Null hypothesis\n",
        "\"\"\"\n",
        "The null hypothesis is the default or starting hypothesis. It is the assumption that there is no significant difference or relationship between two or more populations or variables.\n",
        "We assume that any difference or relationship observed in the sample data is due to chance or random variation\n",
        "The null hypothesis is denoted by H0.\n",
        "\n",
        "# Example:\n",
        "The average weight of male college students is equal to or less than the average weight of female college students.\n",
        "\n",
        "\n",
        "\n",
        "\"\"\"\n",
        "# Alternate hypothesis \n",
        "\"\"\"\n",
        "The alternative hypothesis is the hypothesis that we want to test. It is the opposite of the null hypothesis and represents the possibility of a significant difference or relationship between two or more populations or variables\n",
        "The alternative hypothesis is denoted by Ha or H1.\n",
        "\n",
        "# For example:\n",
        "\n",
        "The average weight of male college students is greater than the average weight of female college students.\n",
        "\n",
        "\"\"\"\n"
      ],
      "metadata": {
        "id": "3AQJfhdTZYMh"
      },
      "execution_count": null,
      "outputs": []
    },
    {
      "cell_type": "code",
      "source": [
        "# Answer7\n",
        "# The steps involved in hypothesis testing.\n",
        "\"\"\"\n",
        "1 State the null and alternative hypotheses:\n",
        "The first step in hypothesis testing is to define the null hypothesis (H0) and the alternative hypothesis (Ha). \n",
        "\n",
        "2 Determine the significance level:\n",
        "The significance level (alpha) is the probability of rejecting the null hypothesis when it is actually true. It is usually set to 0.05 or 0.01.\n",
        "\n",
        "3 Choose the appropriate test:\n",
        "The choice of the test depends on the type of data and the research question being investigated.\n",
        "\n",
        "4 Collect the sample data: \n",
        "The next step is to collect the sample data that will be used to test the hypothesis.\n",
        "\n",
        "5 Calculate the test statistic: \n",
        " The test statistic is a numerical value that measures how far the sample estimate is from the null hypothesis.\n",
        " The value of the test statistic is used to determine whether to reject or fail to reject the null hypothesis.\n",
        "\n",
        "6 Determine the p-value: \n",
        "The p-value is the probability of obtaining a test statistic as extreme or more extreme than the one observed in the sample, assuming the null hypothesis is true.\n",
        "\n",
        "7 Make a decision:\n",
        "Based on the calculated p-value and the significance level, a decision can be made to either reject or fail to reject the null hypothesis.\n",
        "\n",
        "8 Result interpretation:\n",
        "Finally interpret the conclusion/ result\n",
        "\"\"\"\n",
        "\n"
      ],
      "metadata": {
        "id": "64t9fd79ZYO1"
      },
      "execution_count": null,
      "outputs": []
    },
    {
      "cell_type": "code",
      "source": [
        "# Answer8\n",
        "#  p-value and explain its significance in hypothesis testing.\n",
        "\n",
        "# p -value:\n",
        "\"\"\"\n",
        "In hypothesis testing, the p-value is the probability of obtaining a test statistic as extreme or more extreme than the one observed in the sample, assuming the null hypothesis is true. \n",
        "It measures the strength of evidence against the null hypothesis and provides a way to determine the statistical significance of the results.\n",
        "\"\"\"\n",
        "\n",
        "\n",
        "# Significance level:\n",
        "\"\"\"\n",
        "The significance level, also known as alpha.\n",
        "The significance level, also known as alpha, is the threshold used to determine whether the null hypothesis should be rejected or not. \n",
        "\n",
        "Typically \n",
        "the p-value is less than the significance level, the null hypothesis can be rejected, and the alternative hypothesis is supported.\n",
        "\n",
        "\"\"\""
      ],
      "metadata": {
        "id": "d5gZyXCCZYVH"
      },
      "execution_count": null,
      "outputs": []
    },
    {
      "cell_type": "code",
      "source": [
        "# Answer9\n",
        "\"\"\"\n",
        "Here's the Python code to generate a Student's t-distribution plot using matplotlib library with degrees of freedom (df) set to 10:\n",
        "\"\"\"\n",
        "\n",
        "logging.info(\"Student's t-Distribution (df = 10)\")\n",
        "import matplotlib.pyplot as plt\n",
        "import numpy as np\n",
        "\n",
        "# generating the data \n",
        "x = np.linspace(-4,4,50)\n",
        "\n",
        "df =10 #degree of freedom\n",
        "\n",
        "#calculatig the y value using the t- distribution\n",
        "y = stats.t.pdf(x,df)\n",
        "\n",
        "plt.plot(x, y, 'r')\n",
        "\n",
        "plt.title(\"Student's t-Distribution (df = 10)\")\n",
        "plt.xlabel('x')\n",
        "plt.ylabel('PDF')\n",
        "plt.show()\n",
        "\n"
      ],
      "metadata": {
        "id": "CphCnJRLZYYA",
        "colab": {
          "base_uri": "https://localhost:8080/",
          "height": 295
        },
        "outputId": "e925a28d-50fe-44b1-b876-cab052fbb163"
      },
      "execution_count": null,
      "outputs": [
        {
          "output_type": "display_data",
          "data": {
            "text/plain": [
              "<Figure size 432x288 with 1 Axes>"
            ],
            "image/png": "[encoded data removed]"
          },
          "metadata": {
            "needs_background": "light"
          }
        }
      ]
    },
    {
      "cell_type": "code",
      "source": [
        "# Answer10 \n",
        "\"\"\"\n",
        "Python program to calculate the two-sample t-test for independent samples given two\n",
        "random samples of equal size and a null hypothesis that the population means are equal.\n",
        "\"\"\"\n",
        "#python code\n",
        "logging.info(\"we are calculatung the t-test of indendpent varibale with random sample of equal size\")\n",
        "\n",
        "import numpy as np\n",
        "from scipy.stats import ttest_ind\n",
        "\n",
        "# Generate two random samples of equal size\n",
        "sample1 = np.random.normal(loc=5, scale=2, size=50)\n",
        "sample2 = np.random.normal(loc=7, scale=2, size=50)\n",
        "\n",
        "# Calculate the t-statistic and p-value using the ttest_ind function\n",
        "t_stat, p_value = ttest_ind(sample1, sample2)\n",
        "\n",
        "# Define the significance level\n",
        "alpha = 0.05\n",
        "\n",
        "# Compare the p-value with the significance level to determine if the null hypothesis is rejected or not\n",
        "if p_value < alpha:\n",
        "    print(\"Null hypothesis rejected. The population means are not equal.\")\n",
        "else:\n",
        "    print(\"Null hypothesis not rejected. The population means are equal.\")\n",
        "\n",
        "# Print the t-statistic and p-value\n",
        "print(\"t-statistic: \", t_stat)\n",
        "print(\"p-value: \", p_value)\n",
        "\n",
        "\n",
        "\n",
        "\n"
      ],
      "metadata": {
        "id": "wiwKh67UZYa2",
        "colab": {
          "base_uri": "https://localhost:8080/"
        },
        "outputId": "46bb522d-7d2b-4b89-d717-29e032c09c16"
      },
      "execution_count": null,
      "outputs": [
        {
          "output_type": "stream",
          "name": "stdout",
          "text": [
            "Null hypothesis rejected. The population means are not equal.\n",
            "t-statistic:  -4.3625034567949115\n",
            "p-value:  3.182874010540462e-05\n"
          ]
        }
      ]
    },
    {
      "cell_type": "code",
      "source": [
        "# Answer11:\n",
        "#  Student’s t distribution \n",
        "\"\"\"\n",
        "Student's t-distribution is a probability distribution used in hypothesis testing when the sample size is small and the population variance is unknown\n",
        " It is similar to the standard normal distribution but with fatter tails, which means that there is more probability in the tails than in the normal distribution.\n",
        "\n",
        "\n",
        "\"\"\"\n",
        "# use of t-distribution:\n",
        "\"\"\"\n",
        "Testing the difference between two means when the sample size is small and the population variance is unknown\n",
        "Constructing confidence intervals for population means when the sample size is small and the population variance is unknown\n",
        "Testing the significance of regression coefficients in linear regression when the sample size is small and the population variance is unknown.\n",
        "\n",
        "\"\"\"\n"
      ],
      "metadata": {
        "colab": {
          "base_uri": "https://localhost:8080/",
          "height": 91
        },
        "id": "Xox_Dy0Ig5ym",
        "outputId": "ffeecdad-5791-4c79-8ea9-4da35e388e04"
      },
      "execution_count": null,
      "outputs": [
        {
          "output_type": "execute_result",
          "data": {
            "text/plain": [
              "'\\nTesting the difference between two means when the sample size is small and the population variance is unknown\\nConstructing confidence intervals for population means when the sample size is small and the population variance is unknown\\nTesting the significance of regression coefficients in linear regression when the sample size is small and the population variance is unknown.\\n\\n'"
            ],
            "application/vnd.google.colaboratory.intrinsic+json": {
              "type": "string"
            }
          },
          "metadata": {},
          "execution_count": 23
        }
      ]
    },
    {
      "cell_type": "code",
      "source": [
        "# Answer12:\n",
        "# t-statistic and their formula\n",
        "\"\"\"\n",
        "In statistics, the t-statistic (also known as the student's t-statistic) is a measure of the difference between two sample means.\n",
        "It is used in hypothesis testing to determine whether the difference between two sample means is significant or just due to chance.\n",
        "\n",
        "\n",
        "The formula for t-statistic is:\n",
        "\n",
        "t = (x1 - x2) / (s_pool * sqrt(1/n1 + 1/n2))\n",
        "\n",
        "where,\n",
        "x1 and x2 are the sample means\n",
        "s_pool is the pooled standard deviation\n",
        "n1 and n2 are the sample sizes\n",
        "\n",
        "\"\"\"\n"
      ],
      "metadata": {
        "id": "w61M7Ctvg506"
      },
      "execution_count": null,
      "outputs": []
    },
    {
      "cell_type": "code",
      "source": [],
      "metadata": {
        "id": "uvNEX92pg55i"
      },
      "execution_count": null,
      "outputs": []
    },
    {
      "cell_type": "markdown",
      "source": [
        "#Answer13\n",
        "#To estimate the population mean revenue with a 95% confidence interval\n",
        "\n",
        "we can use the following formula:\n",
        "\n",
        "###Confidence Interval = sample mean +/- margin of error**\n",
        "\n",
        "where the margin of error is given by:\n",
        "\n",
        "####Margin of Error = z* (standard deviation / sqrt(sample size))\n",
        "\n",
        "Here, the sample mean revenue is $500 ,the standard deviation is $50, and the sample size is 50.\n",
        "\n",
        "To find the appropriate z-score for a 95% confidence interval, we can use a standard normal distribution table or a calculator. For a 95% confidence interval, the z-score is 1.96 (approximately).\n",
        "\n",
        "Substituting the values into the formula, we get:\n",
        "\n",
        "Margin of Error = 1.96 * (50 / sqrt(50)) = 13.85 (rounded to two decimal places)\n",
        "\n",
        "Therefore, the confidence interval for the population mean revenue is:\n",
        "\n",
        "**$500 +/- $13.85, or ($486.15, $513.85)**\n",
        "The estimated population is approx 500\n",
        "\n",
        "**We can say with 95% confidence that the true population mean revenue lies within this interval.**\n",
        "\n",
        "\n",
        "\n"
      ],
      "metadata": {
        "id": "vNdhGP-f8gfw"
      }
    },
    {
      "cell_type": "code",
      "source": [
        "# python code of the above question's solution:\n",
        "\"\"\"\n",
        "Given:\n",
        "sample_mean = 500\n",
        "sample_std_dev = 50\n",
        "size(n)= 50\n",
        "\n",
        "find ?\n",
        "population mean? in 95% CI\n",
        "\n",
        "\n",
        "\"\"\"\n",
        "\n",
        "\n",
        "logging.info(\"solving question 13 using python script\")\n",
        "import math\n",
        "def estimate_population_mean(sample_mean, sample_std_dev, sample_size):\n",
        "    l =[]\n",
        "    standard_error = sample_std_dev / math.sqrt(sample_size)\n",
        "\n",
        "    z_score = 1.96 # For a 95% confidence interval\n",
        "    margin_of_error = z_score * standard_error\n",
        "    #interval lower\n",
        "    lower_bound = sample_mean - margin_of_error\n",
        "    #upper interval\n",
        "    upper_bound = sample_mean + margin_of_error\n",
        "    l.append(lower_bound)\n",
        "    l.append(upper_bound)\n",
        "    print(\"THe CI for population mean revenue is :\", l)\n",
        "    estimated_population_mean = (lower_bound + upper_bound) / 2\n",
        "    return estimated_population_mean\n",
        "\n",
        "\n",
        "sample_mean = 500\n",
        "sample_std_dev =50\n",
        "sample_size = 50\n",
        "\n",
        "#estimate population mean print\n",
        "\n",
        "res =  estimate_population_mean(sample_mean, sample_std_dev, sample_size)\n",
        "\n",
        "print(\"The estimate population mean :\", res)\n"
      ],
      "metadata": {
        "id": "k1avtwE1g58H",
        "colab": {
          "base_uri": "https://localhost:8080/"
        },
        "outputId": "ea59e788-86ad-482d-f0cf-4be9c4e734c6"
      },
      "execution_count": 8,
      "outputs": [
        {
          "output_type": "stream",
          "name": "stdout",
          "text": [
            "THe CI for population mean revenue is : [486.1407070887437, 513.8592929112564]\n",
            "The estimate population mean : 500.0\n"
          ]
        }
      ]
    },
    {
      "cell_type": "markdown",
      "source": [
        "# Answer14:\n",
        "# The Researcher  hypothesis test with a significance level of 0.05, we can use a one-sample t-test.\n",
        "\n",
        "**Given:**<br>\n",
        "sample_size = 100<br>\n",
        "sample_mean = 8 mmHg<br>\n",
        "population_mean = 10mmHg<br>\n",
        "std_deviation = 3<br>\n",
        "\n",
        "#Solution\n",
        "# we will perform t-test \n",
        "t = (sample mean - hypothesized mean) / (standard deviation / sqrt(sample size))\n",
        "\n",
        "Let we  first consider Null and Alternate hypothesis .\n",
        "#Null: \n",
        "The null hypothesis is that the mean decrease in blood pressure is not significantly different from 10 mmHg<br>\n",
        "H0: µ = 10\n",
        "\n",
        "#Alternate:\n",
        "The alternative hypothesis is that the mean decrease in blood pressure is significantly less than 10 mmHg.<br>\n",
        "H1: µ < 10\n",
        "\n",
        "\n",
        "#t-test =  (8 - 10) / (3 / sqrt(100)) = -6.6667\n",
        "\n",
        "#Degree of freedom = sample_size-1 \n",
        " = 99\n",
        "\n",
        "#Using  t-test distribution table:\n",
        "we find critical -value using dof and alpha\n",
        " = -1.66 <br><br>\n",
        "\n",
        "Since the calculated t-value (-3.33) is less than the critical t-value (-1.66).\n",
        "\n",
        "#we can reject the null hypothesis means\n",
        "\n",
        "#conclusion:\n",
        "The sample mean decrease in blood pressure of 8 mmHg is significantly less than the hypothesized decrease of 10 mmHg, and the new drug is effective in reducing blood pressure."
      ],
      "metadata": {
        "id": "r3emxhwXpBEu"
      }
    },
    {
      "cell_type": "code",
      "source": [
        "# Answer14 code:\n",
        "#python code for the above Researcher Problem\n",
        "\n",
        "#The Researcher  hypothesis test with a significance level of 0.05, we can use a one-sample t-test.\n",
        "\"\"\"\n",
        "Given:\n",
        "sample_size = 100\n",
        "sample_mean = 8 mmHg\n",
        "population_mean = 10mmHg\n",
        "std_deviation = 3\n",
        "\n",
        "\"\"\"\n",
        "# \n",
        "logging.info(\"use t- test\")\n",
        "import numpy as np\n",
        "import scipy.stats as stat\n",
        "import math\n",
        "\n",
        "#data\n",
        "sample_size = 100\n",
        "sample_mean = 8 \n",
        "population_mean = 10\n",
        "\n",
        "std_deviation = 3\n",
        "\n",
        "\n",
        "\n",
        "t_test  =  (sample_mean - population_mean)/(std_deviation/math.sqrt(sample_size))\n",
        "print(\"The t-test : \",t_test)\n",
        "\n",
        "#now we calculate the critical value\n",
        "critical_value = stat.t.ppf(q = 0.05, df = 99)\n",
        "print(\"The Critical point\", critical_value)\n",
        "\n",
        "if(t_test<critical_value):\n",
        "  print(\"We Reject the Null Hypothesis \\nThe sample mean decrease in blood pressure of 8 mmHg is significantly less than the hypothesized decrease of 10 mmHg\")\n",
        "else:\n",
        "  print(\"We Accept the Null Hypothesis\")\n"
      ],
      "metadata": {
        "colab": {
          "base_uri": "https://localhost:8080/"
        },
        "id": "dLrhkNFEpR-B",
        "outputId": "7e14b7b3-1099-425f-d221-1212104eb31d"
      },
      "execution_count": 17,
      "outputs": [
        {
          "output_type": "stream",
          "name": "stdout",
          "text": [
            "-6.666666666666667\n",
            "The Critical point -1.6603911559963902\n",
            "We Reject the Null Hypothesis \n",
            "The sample mean decrease in blood pressure of 8 mmHg is significantly less than the hypothesized decrease of 10 mmHg\n"
          ]
        }
      ]
    },
    {
      "cell_type": "code",
      "source": [],
      "metadata": {
        "id": "wCzCrPfog6BD"
      },
      "execution_count": null,
      "outputs": []
    },
    {
      "cell_type": "markdown",
      "source": [
        "#Answer15\n",
        "#To test the hypothesis that the mean weight of the products is less than 5 pounds with a significance level of 0.01\n",
        "\n",
        "Given:\n",
        "sample_size = 25<br>\n",
        "sample_mean = 4.8<br>\n",
        "population_mean = 5<br>\n",
        "std_deviation = 0.5<br>\n",
        "\n",
        "#Approach:\n",
        "##we will use T-test \n",
        "\n",
        "###T -test= (sample mean - hypothesized mean) / (standard deviation / sqrt(sample size))\n",
        "\n",
        "##Solution\n",
        "Lets we consider Null and Alternate hypothesis test<br>\n",
        "#Null \n",
        "The null hypothesis is that the true mean weight of the products is equal to 5 pounds.<br>\n",
        "H0: µ = 5\n",
        "\n",
        "#Alternate hypo:\n",
        "The alternative hypothesis is that the true mean weight of the products is less than 5 pounds.<br>\n",
        "\n",
        "H1: µ < 5\n",
        "####t-test \n",
        "t = (4.8 - 5) / (0.5 / sqrt(25)) = -2\n",
        "\n",
        "##Degree of freedom: = sample_size-1\n",
        "\n",
        "\n",
        "#Now we will find Critical_value \n",
        "significance level of 0.01 and 24 degrees of freedom, which is approximately -2.492.\n",
        "\n",
        "##Conclusion:\n",
        "###Since the calculated t-value (-2) is greater than the critical t-value (-2.492), we cannot reject the null hypothesis at the 0.01 level of significance.\n",
        "\n",
        "##Means\n",
        "\n",
        "####there is not enough evidence to suggest that the true mean weight of the products is less than 5 pounds.\n",
        "\n"
      ],
      "metadata": {
        "id": "jFenYzUZzRB2"
      }
    },
    {
      "cell_type": "code",
      "source": [
        "# Answer15\n",
        "# Python code \n",
        "\n",
        "logging.info(\"we are using the t-test\")\n",
        "\n",
        "import numpy as np\n",
        "import scipy.stats as stat\n",
        "\n",
        "#data \n",
        "\n",
        "sample_size = 25\n",
        "sample_mean = 4.8\n",
        "population_mean = 5\n",
        "std_deviation = 0.5\n",
        "dof = sample_size-1\n",
        "\n",
        "t_test  =  (sample_mean - population_mean)/(std_deviation/math.sqrt(sample_size))\n",
        "print(\"The t-test :\",t_test)\n",
        "\n",
        "critical_value = stat.t.ppf(q =0.01, df = 24)\n",
        "print(\"THe crical value :\", critical_value)\n",
        "\n",
        "\n",
        "#check the hypo  test\n",
        "\n",
        "if(t_test>critical_value):\n",
        "  print(\"we reject the null hypothesis \\n true mean weight of the products is less than 5 pounds \")\n",
        "else:\n",
        "  print(\"we fail to Reject the null Hypothesis \\n true mean weight of the products is equal to 5 pounds\")\n",
        "\n"
      ],
      "metadata": {
        "id": "CWNYkNKIg6Dt",
        "colab": {
          "base_uri": "https://localhost:8080/"
        },
        "outputId": "ccefc581-e732-4f72-9a0e-907004ea86fe"
      },
      "execution_count": 43,
      "outputs": [
        {
          "output_type": "stream",
          "name": "stdout",
          "text": [
            "The t-test : -2.0000000000000018\n",
            "THe crical value : -2.4921594731575762\n",
            "we reject the null hypothesis \n",
            " true mean weight of the products is less than 5 pounds \n"
          ]
        }
      ]
    },
    {
      "cell_type": "markdown",
      "source": [
        "#ANswer16\n",
        "#To test the hypothesis that the population means for the two groups are equal with a significance level of 0.01\n",
        "\n",
        "##Given:\n",
        "####GRp A\n",
        "size1 = 30\n",
        "mean1 = 80\n",
        "std_dev1 = 10\n",
        "\n",
        "####Grp B\n",
        "size2 = 40\n",
        "mean2 = 75\n",
        "std_dev2 = 8\n",
        "\n",
        "##Approach-------------------------------->\n",
        "###We will use two sample t-test\n",
        "\n",
        "#Solution \n",
        "\n",
        "###Let we consider first of all Null and alternate hypothesis\n",
        "\n",
        "##Null Hypothesis\n",
        "The null hypothesis is that the population means for the two groups are equal<br>\n",
        "H0: µ1 = µ2\n",
        "\n",
        "##Alternate hypothesis:\n",
        "The alternative hypothesis is that they are not equal.<br>\n",
        "H1: µ1 ≠ µ2\n",
        "\n",
        "\n",
        "#####To perform the two-sample t-test, we first need to calculate the pooled standard deviation, which is a weighted average of the two sample \n",
        "\n",
        "\n",
        "##Conclusion:\n"
      ],
      "metadata": {
        "id": "aTup1PFlDNFe"
      }
    },
    {
      "cell_type": "code",
      "source": [
        "# Answer16 python code \n",
        "\n",
        "logging.info(\"we are using the two sample t-test  \")\n",
        "\n",
        "import numpy as np\n",
        "import scipy.stats as stat\n",
        "\n",
        "#data \n",
        "#for A grp\n",
        "size1 = 30 \n",
        "mean1 = 80 \n",
        "std_dev1 = 10\n",
        "\n",
        "# For grp 2\n",
        "size2 = 40 \n",
        "mean2 = 75 \n",
        "std_dev2 = 8\n",
        "alpha = 0.01\n",
        "\n",
        "t_test , p_value =  stat.ttest_ind_from_stats(mean1=mean1, std1=std_dev1, nobs1=size1, mean2= mean2, std2 =std_dev2,  nobs2=size2)\n",
        "print(\"The t-test :\",t_test)\n",
        "print(\"The p-value:\",p_value)\n",
        "\n",
        "\n",
        "\n",
        "\n",
        "#check hypo test\n",
        "\n",
        "if(p_value<alpha):\n",
        "  print(\"we reject the null hypothesis \\n the population means for the two groups are not equal\")\n",
        "else:\n",
        "  print(\"we fail to Reject the Null Hypothesis \\n the population means for the two groups are equal\")\n"
      ],
      "metadata": {
        "id": "XFuFNBc3g6GN",
        "colab": {
          "base_uri": "https://localhost:8080/"
        },
        "outputId": "41de7aa2-d0cd-4b8c-a1a1-5d08abacd065"
      },
      "execution_count": 44,
      "outputs": [
        {
          "output_type": "stream",
          "name": "stdout",
          "text": [
            "The t-test : 2.323967729699292\n",
            "The p-value: 0.02312301341372599\n",
            "we fail to Reject the Null Hypothesis \n",
            " the population means for the two groups are equal\n"
          ]
        }
      ]
    },
    {
      "cell_type": "code",
      "source": [],
      "metadata": {
        "id": "QB5aX6Jag6I1"
      },
      "execution_count": null,
      "outputs": []
    },
    {
      "cell_type": "markdown",
      "source": [
        "#Answer17\n",
        "#Estimating the population mean with a 99% confidence interval.\n",
        "\n",
        "###Given:<br>\n",
        "\n",
        "X̄ = sample mean = 4 <br>\n",
        "σ = population standard deviation = 0.005<br>\n",
        "n = sample size 50\n",
        "\n",
        "##Approach:\n",
        "\n",
        "###Confidence Interval = sample mean +/- margin of error\n",
        "\n",
        "#####where the margin of error is given as <br>\n",
        "\n",
        "####Margin of Error = z* (standard deviation / sqrt(sample size))\n",
        "\n",
        "##Substitue the value:\n",
        "CI = 4 ± 2.576 * (1.5 / sqrt(50))\n",
        "##(3.37, 4.63)\n",
        "\n",
        "##Conclusion:\n",
        "To estimate the population mean with a 99% confidence interval, we can use the following formula:\n",
        "\n",
        "CI = X̄ ± Zα/2 * (σ / sqrt(n))\n",
        "\n",
        "where:\n",
        "X̄ = sample mean\n",
        "Zα/2 = the critical value of the standard normal distribution corresponding to the level of significance α/2 (alpha divided by two-sided)\n",
        "σ = population standard deviation\n",
        "n = sample size\n",
        "\n",
        "Substituting the values given in the problem, we get:\n",
        "\n",
        "CI = 4 ± Z0.005 * (1.5 / sqrt(50))\n",
        "\n",
        "##Z-Score\n",
        "The critical value of the standard normal distribution Z0.005 can be found using a standard normal distribution table or calculator. For a 99% confidence level, α/2 = 0.005 and\n",
        "<br>\n",
        "The corresponding Z-value is approximately 2.576.\n",
        "\n",
        "Substituting the value of Z0.005, we get:\n",
        "\n",
        "CI = 4 ± 2.576 * (1.5 / sqrt(50))\n",
        "\n",
        "Simplifying the expression, we get:\n",
        "\n",
        "CI = 4 ± 0.63\n",
        "\n",
        "Therefore, the 99% confidence interval for the true population mean of the number of ads watched by viewers during a TV program is:\n",
        "\n",
        "(4 - 0.63, 4 + 0.63) or (3.37, 4.63)\n",
        "\n",
        "###We can be 99% confident that the true population mean lies between 3.37 and 4.63.\n",
        "\n"
      ],
      "metadata": {
        "id": "FNd07AgAN45M"
      }
    },
    {
      "cell_type": "code",
      "source": [
        "# Answer17 \n",
        "# python_code\n",
        "\n",
        "import math\n",
        "def estimate_population_mean(sample_mean, sample_std_dev, sample_size):\n",
        "    l =[]\n",
        "    standard_error = sample_std_dev / math.sqrt(sample_size)\n",
        "\n",
        "    z_score =  2.576 # For a 99% confidence interval\n",
        "    margin_of_error = z_score * standard_error\n",
        "    #interval lower\n",
        "    lower_bound = sample_mean - margin_of_error\n",
        "    #upper interval\n",
        "    upper_bound = sample_mean + margin_of_error\n",
        "    l.append(lower_bound)\n",
        "    l.append(upper_bound)\n",
        "    print(\"THe CI for population mean revenue is :\", l)\n",
        "    estimated_population_mean = (lower_bound + upper_bound) / 2\n",
        "    return estimated_population_mean\n",
        "\n",
        "\n",
        "sample_mean = 4\n",
        "sample_std_dev =1.5\n",
        "sample_size = 50\n",
        "\n",
        "#estimate population mean print\n",
        "\n",
        "res =  estimate_population_mean(sample_mean, sample_std_dev, sample_size)\n",
        "\n",
        "print(\"The estimate population mean :\", res)\n"
      ],
      "metadata": {
        "id": "_M5kesgsg6MK",
        "colab": {
          "base_uri": "https://localhost:8080/"
        },
        "outputId": "ec13a981-a0d9-4182-f0c7-3d576b66a00d"
      },
      "execution_count": 45,
      "outputs": [
        {
          "output_type": "stream",
          "name": "stdout",
          "text": [
            "THe CI for population mean revenue is : [3.453547879499036, 4.546452120500964]\n",
            "The estimate population mean : 4.0\n"
          ]
        }
      ]
    },
    {
      "cell_type": "code",
      "source": [],
      "metadata": {
        "id": "NlWk_1q3ZYdw"
      },
      "execution_count": null,
      "outputs": []
    },
    {
      "cell_type": "code",
      "source": [],
      "metadata": {
        "id": "zQF9bToeZYf8"
      },
      "execution_count": null,
      "outputs": []
    }
  ]
}