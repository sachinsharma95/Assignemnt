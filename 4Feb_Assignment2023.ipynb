{
 "cells": [
  {
   "cell_type": "code",
   "execution_count": null,
   "id": "00ebd62e-8cd1-4304-a180-d37bfdd99a68",
   "metadata": {},
   "outputs": [],
   "source": [
    "# Q1. Create a python program to sort the given list of tuples based on integer value using a\n",
    "# lambda function.\n",
    "# [('Sachin Tendulkar', 34357), ('Ricky Ponting', 27483), ('Jack Kallis', 25534), ('Virat Kohli', 24936)]"
   ]
  },
  {
   "cell_type": "code",
   "execution_count": 17,
   "id": "b1532fe5-3a2d-4373-83c4-b0fdf1d72cc6",
   "metadata": {},
   "outputs": [
    {
     "name": "stdout",
     "output_type": "stream",
     "text": [
      "[('Virat Kohli', 24936), ('Jack Kallis', 25534), ('Ricky Ponting', 27483), ('Sachin Tendulkar', 34357)]\n"
     ]
    }
   ],
   "source": [
    "# Answer1 \n",
    "\n",
    "tpl = [('Sachin Tendulkar', 34357), ('Ricky Ponting', 27483), ('Jack Kallis', 25534), ('Virat Kohli', 24936)]\n",
    "#sorted function uses\n",
    "sort = sorted(tpl, key = lambda x:x[1])\n",
    "print(sort)\n"
   ]
  },
  {
   "cell_type": "code",
   "execution_count": null,
   "id": "077596f3-1269-4d19-93eb-f127c9f4747b",
   "metadata": {},
   "outputs": [],
   "source": [
    "# Q2. Write a Python Program to find the squares of all the numbers in the given list of integers using\n",
    "# lambda and map functions.\n",
    "# [1, 2, 3, 4, 5, 6, 7, 8, 9, 10]"
   ]
  },
  {
   "cell_type": "code",
   "execution_count": 19,
   "id": "6d90d73a-320b-4314-abbc-a6fe3999303a",
   "metadata": {},
   "outputs": [
    {
     "data": {
      "text/plain": [
       "[1, 4, 9, 16, 25, 36, 49, 64, 81, 100]"
      ]
     },
     "execution_count": 19,
     "metadata": {},
     "output_type": "execute_result"
    }
   ],
   "source": [
    "# Answer2\n",
    "\n",
    "l =[1, 2, 3, 4, 5, 6, 7, 8, 9, 10]\n",
    "\"\"\"using the lambda function \"\"\"\n",
    "\n",
    "list(map(lambda x : x**2 ,l))"
   ]
  },
  {
   "cell_type": "code",
   "execution_count": 20,
   "id": "afd4d140-1013-487f-954a-5de1d473b541",
   "metadata": {},
   "outputs": [],
   "source": [
    "# Q3. Write a python program to convert the given list of integers into a tuple of strings. Use map and\n",
    "# lambda functions\n",
    "# Given String: [1, 2, 3, 4, 5, 6, 7, 8, 9, 10]\n",
    "# Expected output: ('1', '2', '3', '4', '5', '6', '7', '8', '9', '10')"
   ]
  },
  {
   "cell_type": "code",
   "execution_count": 21,
   "id": "e7b87c96-6a5b-4416-8cd9-76098a8099f0",
   "metadata": {},
   "outputs": [
    {
     "data": {
      "text/plain": [
       "('1', '2', '3', '4', '5', '6', '7', '8', '9', '10')"
      ]
     },
     "execution_count": 21,
     "metadata": {},
     "output_type": "execute_result"
    }
   ],
   "source": [
    "# Ans3\n",
    "\n",
    "string  = [1, 2, 3, 4, 5, 6, 7, 8, 9, 10]\n",
    "\n",
    "# for tuple we use tuple function \n",
    "\n",
    "tuple(map(lambda x : str(x),string))"
   ]
  },
  {
   "cell_type": "code",
   "execution_count": 22,
   "id": "9e2b5a3d-fb2d-426f-8ce8-cd388deea87a",
   "metadata": {},
   "outputs": [],
   "source": [
    "# Q4. Write a python program using reduce function to compute the product of a list containing numbers\n",
    "# from 1 to 25."
   ]
  },
  {
   "cell_type": "code",
   "execution_count": 27,
   "id": "937a3ac4-28a1-4074-bbe0-a926f67a5c0e",
   "metadata": {},
   "outputs": [
    {
     "data": {
      "text/plain": [
       "300"
      ]
     },
     "execution_count": 27,
     "metadata": {},
     "output_type": "execute_result"
    }
   ],
   "source": [
    "# Ans4\n",
    "\n",
    "#import reduce\n",
    "from functools import  reduce\n",
    "\n",
    "# first we generate the numbers between the given range\n",
    "l =list(range(1,25))\n",
    "\n",
    "#now we use reduce function  \n",
    "\n",
    "reduce(lambda x,y :x+y ,l)\n",
    "\n",
    "\n",
    "\n",
    "\n"
   ]
  },
  {
   "cell_type": "code",
   "execution_count": 29,
   "id": "3b265ae3-5a69-4c06-a8b1-12705601ffdd",
   "metadata": {},
   "outputs": [
    {
     "data": {
      "text/plain": [
       "[6, 60, 90, 120]"
      ]
     },
     "execution_count": 29,
     "metadata": {},
     "output_type": "execute_result"
    }
   ],
   "source": [
    "# Q5. Write a python program to filter the numbers in a given list that are divisible by 2 and 3 using the\n",
    "# filter function.\n",
    "# lst = [2, 3, 6, 9, 27, 60, 90, 120, 55, 46]\n",
    "\n",
    "\n",
    "# Ans5\n",
    "lst = [2, 3, 6, 9, 27, 60, 90, 120, 55, 46]\n",
    "\n",
    "# using filter dunction along with lambda\n",
    "\n",
    "list(filter(lambda x :  x%2==0 and x%3==0 ,lst))\n"
   ]
  },
  {
   "cell_type": "code",
   "execution_count": null,
   "id": "3e269c77-c6c1-4ede-8273-c427c6c742dc",
   "metadata": {},
   "outputs": [],
   "source": [
    "# Q6. Write a python program to find palindromes in the given list of strings using lambda and filter\n",
    "# function.\n",
    "# ['python', 'php', 'aba', 'radar', 'level']\n"
   ]
  },
  {
   "cell_type": "code",
   "execution_count": 30,
   "id": "94e6c3d2-2069-4384-b8b0-9e12f03ccc4f",
   "metadata": {},
   "outputs": [
    {
     "data": {
      "text/plain": [
       "['php', 'aba', 'radar', 'level']"
      ]
     },
     "execution_count": 30,
     "metadata": {},
     "output_type": "execute_result"
    }
   ],
   "source": [
    "# Ans6\n",
    "s_list =['python', 'php', 'aba', 'radar', 'level']\n",
    "# first use filter inside it we use two argumets that is lambda function and the input strings \n",
    "\n",
    "list(filter(lambda x : x==x[::-1],s_list))\n"
   ]
  },
  {
   "cell_type": "code",
   "execution_count": null,
   "id": "929a3850-ccf0-487f-bac3-397915970d94",
   "metadata": {},
   "outputs": [],
   "source": []
  }
 ],
 "metadata": {
  "kernelspec": {
   "display_name": "Python 3 (ipykernel)",
   "language": "python",
   "name": "python3"
  },
  "language_info": {
   "codemirror_mode": {
    "name": "ipython",
    "version": 3
   },
   "file_extension": ".py",
   "mimetype": "text/x-python",
   "name": "python",
   "nbconvert_exporter": "python",
   "pygments_lexer": "ipython3",
   "version": "3.10.8"
  }
 },
 "nbformat": 4,
 "nbformat_minor": 5
}
