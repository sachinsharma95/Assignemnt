{
 "cells": [
  {
   "cell_type": "code",
   "execution_count": null,
   "id": "f905e698-7964-4d6f-9a34-c4859ac3ec1f",
   "metadata": {},
   "outputs": [],
   "source": [
    "# Q1. Explain Class and Object with respect to Object-Oriented Programming. Give a suitable example."
   ]
  },
  {
   "cell_type": "code",
   "execution_count": 6,
   "id": "77575b71-a778-4bc9-aa81-53a8b4836022",
   "metadata": {},
   "outputs": [
    {
     "name": "stdout",
     "output_type": "stream",
     "text": [
      "<class '__main__.test'>\n",
      "Hello we are creating the class\n"
     ]
    }
   ],
   "source": [
    "# Answer1 \n",
    "# class\n",
    "\"\"\" Class is a blueprint or a template for creating objects, which can have properties and methods.\"\"\"\n",
    "# syntax  of  class \n",
    "''' \n",
    "class <class_Name>:\n",
    "    #constructor or method/function '''\n",
    "\n",
    "# example of the  class \n",
    "class test:\n",
    "    def message(self):\n",
    "        print(\"Hello we are creating the class\")\n",
    "        \n",
    "\n",
    "print(type(test()))\n",
    "\n",
    "\n",
    "# Object \n",
    "\n",
    "\"\"\"An object is an instance of a class and  \n",
    "it contains the data and behavior defined by its class. \"\"\"\n",
    "\n",
    "# example \n",
    " \n",
    "obj = test()\n",
    "\n",
    "#accesing the objects's properties \n",
    "obj.message()\n"
   ]
  },
  {
   "cell_type": "code",
   "execution_count": null,
   "id": "34e95d34-8837-40e4-a1c9-ce55fb41304a",
   "metadata": {},
   "outputs": [],
   "source": [
    "# Q2. Name the four pillars of OOPs."
   ]
  },
  {
   "cell_type": "code",
   "execution_count": null,
   "id": "bccf6393-84ac-4868-808b-0469e0d1d832",
   "metadata": {},
   "outputs": [],
   "source": [
    "# Answer2\n",
    "\n",
    "'''The four pillars of Object-Oriented Programming (OOP) are: '''\n",
    "\n",
    "# Abstraction \n",
    "\n",
    "'''Hiding the internal details and exposing only the essential features of an object to the outside world.'''\n",
    "\n",
    "#Encapsulation\n",
    "''' \n",
    "Wrapping the data and functions that operate on the data within a single unit, or object.\n",
    "\n",
    "'''\n",
    "# Inheritance\n",
    "'''\n",
    "Acquiring properties and behaviors of a parent class by a child class.\n",
    "\n",
    "'''\n",
    "# Polymorphism:\n",
    "'''  Allowing objects of different classes to be used interchangeably, by defining methods with the same name in multiple classes. '''\n"
   ]
  },
  {
   "cell_type": "code",
   "execution_count": 13,
   "id": "363e0cdb-68c1-4182-a6dc-e5f7fd0d54ff",
   "metadata": {},
   "outputs": [
    {
     "name": "stdout",
     "output_type": "stream",
     "text": [
      "(10, 'Python', '12th')\n"
     ]
    }
   ],
   "source": [
    "# Q3. Explain why the __init__() function is used. Give a suitable example.\n",
    "\n",
    "# Answer3 \n",
    "\n",
    "''' __init__() : is a \"default constructor \"/method in python which is used to take  the data from the user''' \n",
    "    \n",
    "    \n",
    "# for example \n",
    "class student:\n",
    "    # __init__() constuctor \n",
    "    \n",
    "    def __init__(self,name,Class,Roll_no):\n",
    "        self.name = name\n",
    "        self.Class = Class\n",
    "        self.Roll_no = Roll_no\n",
    "        \n",
    "    def result(self):\n",
    "        return self.Roll_no, self.name,self.Class\n",
    "\n",
    "#creating the object \n",
    "\n",
    "obj = student(\"Python\",\"12th\",10)\n",
    "\n",
    "#Accesing the value \n",
    "print(obj.result())\n",
    "        \n",
    "# In this Example my main focus in on __init__()  constructor, how it works\n"
   ]
  },
  {
   "cell_type": "code",
   "execution_count": null,
   "id": "84b19d1d-95a9-4f87-b553-8acfa1f5fd83",
   "metadata": {},
   "outputs": [],
   "source": [
    "# Q4. Why self is used in OOPs?\n",
    "# Answer4\n",
    "\n",
    "\"\"\" self  is used in object-oriented programming as a reference to the instance of an object. It refers to the object on which a method is called, and allows the method to access and modify the attributes and behaviors of that specific object. Using self in method definitions helps in encapsulating data and methods within an object, making the code more organized and easier to maintain. \"\"\"\n",
    "\n",
    "# means \n",
    "\"\"\" self is used to bind the data with class \"\"\""
   ]
  },
  {
   "cell_type": "code",
   "execution_count": null,
   "id": "906d0615-51da-4cc4-9ad1-cbeb7c93d385",
   "metadata": {},
   "outputs": [],
   "source": [
    "# Q5. What is inheritance? Give an example for each type of inheritance.\n",
    "# Ans5 \n",
    "# Inheritance\n",
    "\"\"\" \n",
    "Inheritance is a mechanism in object-oriented programming that allows one class to inherit properties and behaviors from a parent class. This enables the creation of new classes that are built upon existing ones, reducing the amount of code that needs to be written and promoting code reuse.\"\"\"\n",
    "\n",
    "# The main motive of inheritence is to inherit the property of object  for the resuablity of code \n",
    "\n",
    "# Types of inheritence are : \n",
    "\n",
    "    "
   ]
  },
  {
   "cell_type": "code",
   "execution_count": 14,
   "id": "b92f800d-0697-44b5-9c5b-5e55d642c84f",
   "metadata": {},
   "outputs": [],
   "source": [
    "# 1 Single Inheritence\n",
    "\n",
    "''' When a derived class inherits from a single base class, it is called single inheritance. '''\n",
    "\n",
    "# for example \n",
    "\n",
    "class Animal:\n",
    "    def __init__(self, name, species):\n",
    "        self.name = name\n",
    "        self.species = species\n",
    "\n",
    "class Dog(Animal):\n",
    "    \n",
    "    def __init__(self, name, breed):\n",
    "        Animal.__init__(self, name, species=\"Dog\")\n",
    "        self.breed = breed\n",
    "\n"
   ]
  },
  {
   "cell_type": "code",
   "execution_count": null,
   "id": "34ff4745-f30a-4075-b965-581a61da10cd",
   "metadata": {},
   "outputs": [],
   "source": [
    "# 2 Multiple inheritence\n",
    "'''When a derived class inherits from multiple base classes, it is called multiple inheritance.'''\n",
    "\n",
    "# for example\n",
    "class Mammal:\n",
    "    def __init__(self, name, animal_type):\n",
    "        self.name = name\n",
    "        self.animal_type = animal_type\n",
    "\n",
    "class Bird:\n",
    "    def __init__(self, name, species):\n",
    "        self.name = name\n",
    "        self.species = species\n",
    "\n",
    "class Bat(Mammal, Bird):\n",
    "    def __init__(self, name):\n",
    "        Mammal.__init__(self, name, animal_type=\"Mammal\")\n",
    "        Bird.__init__(self, name, species=\"Bat\")\n",
    "\n"
   ]
  },
  {
   "cell_type": "code",
   "execution_count": null,
   "id": "64a27755-1a55-4bfe-8007-22a0972356ab",
   "metadata": {},
   "outputs": [],
   "source": [
    "# 3 Multi-level inheritance:\n",
    "\"\"\"When a derived class inherits from a base class, which itself inherits from another base class, it is called multi-level inheritance\"\"\"\n",
    "# for example \n",
    "class Shape:\n",
    "    def __init__(self, num_of_sides):\n",
    "        self.num_of_sides = num_of_sides\n",
    "\n",
    "class Polygon(Shape):\n",
    "    def __init__(self, num_of_sides, num_of_angles):\n",
    "        Shape.__init__(self, num_of_sides)\n",
    "        self.num_of_angles = num_of_angles\n",
    "\n",
    "class Triangle(Polygon):\n",
    "    def __init__(self, num_of_angles):\n",
    "        Polygon.__init__(self, 3, num_of_angles)\n"
   ]
  },
  {
   "cell_type": "code",
   "execution_count": null,
   "id": "07c6195c-bcdc-404e-bd7b-52b70bb1fbc2",
   "metadata": {},
   "outputs": [],
   "source": [
    "# 4 Hierarchical inheritance\n",
    "\"\"\"When multiple derived classes inherit from a single base class, it is called hierarchical inheritance\"\"\"\n",
    "\n",
    "# for example \n",
    "class Animal:\n",
    "    def __init__(self, name, species):\n",
    "        self.name = name\n",
    "        self.species = species\n",
    "\n",
    "class Dog(Animal):\n",
    "    def __init__(self, name, breed):\n",
    "        Animal.__init__(self, name, species=\"Dog\")\n",
    "        self.breed = breed\n",
    "\n",
    "class Cat(Animal):\n",
    "    def __init__(self, name, breed):\n",
    "        Animal.__init__(self, name, species=\"Cat\")\n",
    "        self.breed = breed\n",
    "\n"
   ]
  }
 ],
 "metadata": {
  "kernelspec": {
   "display_name": "Python 3 (ipykernel)",
   "language": "python",
   "name": "python3"
  },
  "language_info": {
   "codemirror_mode": {
    "name": "ipython",
    "version": 3
   },
   "file_extension": ".py",
   "mimetype": "text/x-python",
   "name": "python",
   "nbconvert_exporter": "python",
   "pygments_lexer": "ipython3",
   "version": "3.10.8"
  }
 },
 "nbformat": 4,
 "nbformat_minor": 5
}
