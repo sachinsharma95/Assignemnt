{
 "cells": [
  {
   "cell_type": "code",
   "execution_count": 2,
   "id": "a42b629b-3a0d-4be9-b026-6e957a0b465d",
   "metadata": {},
   "outputs": [],
   "source": [
    "Q1. Who developed python programming language ?"
   ]
  },
  {
   "cell_type": "code",
   "execution_count": null,
   "id": "b48750f7-6401-48a1-9f2d-40b83cacae0e",
   "metadata": {},
   "outputs": [],
   "source": [
    "Ans 1 . python programming language was developed by Guido van Rossum in 1991"
   ]
  },
  {
   "cell_type": "code",
   "execution_count": 4,
   "id": "6d5d616b-418e-4d5a-b65d-59d326321459",
   "metadata": {},
   "outputs": [],
   "source": [
    "Q2 . Which type of programming does python Support ?"
   ]
  },
  {
   "cell_type": "code",
   "execution_count": null,
   "id": "cae78f3a-a860-48e9-88e0-574329b561a3",
   "metadata": {},
   "outputs": [],
   "source": [
    "Ans2 Python supports the obejct oriented , structured and functional programming concepts ."
   ]
  },
  {
   "cell_type": "code",
   "execution_count": null,
   "id": "0cd904b9-aa46-43ad-9230-34090e410e54",
   "metadata": {},
   "outputs": [],
   "source": [
    "Q3. is Python case sensitive when dealing with identifier?"
   ]
  },
  {
   "cell_type": "code",
   "execution_count": null,
   "id": "4db81853-42ae-4933-9261-c6882bfebe06",
   "metadata": {},
   "outputs": [],
   "source": [
    "Ans3. Yes Python is case - sensitive programming language . "
   ]
  },
  {
   "cell_type": "code",
   "execution_count": null,
   "id": "55274540-5388-4375-8c63-d6ec1b788340",
   "metadata": {},
   "outputs": [],
   "source": [
    "Q4. What is Correct extension of python file ?"
   ]
  },
  {
   "cell_type": "code",
   "execution_count": null,
   "id": "1af195bb-6644-4c67-b4c6-209e30f66fff",
   "metadata": {},
   "outputs": [],
   "source": [
    "Ans4. The correct extension of python is .py "
   ]
  },
  {
   "cell_type": "code",
   "execution_count": null,
   "id": "cb5b668d-6c59-45a8-92f3-4b0ed246cbd6",
   "metadata": {},
   "outputs": [],
   "source": [
    "Q5. is Python code compiled or interpreted?"
   ]
  },
  {
   "cell_type": "code",
   "execution_count": null,
   "id": "5d1872e7-dd68-429c-97c9-297988de457e",
   "metadata": {},
   "outputs": [],
   "source": [
    "Ans5.  Python is Interpreted based programming language .that is it interpreted line by line."
   ]
  },
  {
   "cell_type": "code",
   "execution_count": null,
   "id": "82f0b0ea-98ba-431e-9c9a-7210f3aac899",
   "metadata": {},
   "outputs": [],
   "source": [
    "Q6. Name a few block of code used to define in python language?"
   ]
  },
  {
   "cell_type": "code",
   "execution_count": 11,
   "id": "2484bee4-cec4-49d7-9a4e-851df8bc1277",
   "metadata": {},
   "outputs": [
    {
     "name": "stdout",
     "output_type": "stream",
     "text": [
      "9\n"
     ]
    }
   ],
   "source": [
    "Ans6.  There are folllowing blocks are :\n",
    "        module \n",
    "       function\n",
    "       class .\n",
    "        \n",
    "for example : \n",
    "    \n",
    "    \n",
    "a=  4\n",
    "b= 5\n",
    "def myfun(a,b):\n",
    "    print(a+b)\n",
    "       \n",
    "        \n",
    "        \n",
    "myfun( a,b)\n",
    "       "
   ]
  },
  {
   "cell_type": "code",
   "execution_count": null,
   "id": "fcfa62d5-ec4b-4837-8c90-be667435651f",
   "metadata": {},
   "outputs": [],
   "source": [
    "Q7. state a character used to give single-line  comment in python "
   ]
  },
  {
   "cell_type": "code",
   "execution_count": null,
   "id": "dcaaf543-dcb5-49e3-81d0-2e524567636f",
   "metadata": {},
   "outputs": [],
   "source": [
    "Ans7. #  (Hasgtag) character used to  for single line comment in python\n",
    "      "
   ]
  },
  {
   "cell_type": "code",
   "execution_count": null,
   "id": "924b3c5d-6284-4402-b53b-db1aaa711a93",
   "metadata": {},
   "outputs": [],
   "source": [
    "Q8. Mention Function which can help us to find the version of the python that we are cuurrently working on it ?"
   ]
  },
  {
   "cell_type": "code",
   "execution_count": null,
   "id": "3436d9e3-044d-4dde-968a-a55eb42fd8a0",
   "metadata": {},
   "outputs": [],
   "source": [
    "Ans8 . The functions used to check the verion of python :\n",
    "    \n",
    "       Using Python --version \n",
    "       Using python_version() function\n",
    "       Using sys.version method\n",
    "      \n",
    "\n",
    "\n",
    "       "
   ]
  },
  {
   "cell_type": "code",
   "execution_count": null,
   "id": "fa506524-34b4-49f0-851c-4eca04158829",
   "metadata": {},
   "outputs": [],
   "source": [
    "Q9.  Python support the creation of anoynmous function at runtime , using construct called "
   ]
  },
  {
   "cell_type": "code",
   "execution_count": null,
   "id": "03571c29-a0b4-4cab-878a-c757aa94ac54",
   "metadata": {},
   "outputs": [],
   "source": [
    "Ans9. Python supports the creation of anonymous functions  at runtime, using a construct called lambda.\n",
    "     lambda() function "
   ]
  },
  {
   "cell_type": "code",
   "execution_count": null,
   "id": "d5b21a55-8555-4b63-b87e-3bb1132f2763",
   "metadata": {},
   "outputs": [],
   "source": [
    "Q10. What does pip stand for python  ?"
   ]
  },
  {
   "cell_type": "code",
   "execution_count": null,
   "id": "19c0061e-20bf-4378-b074-042d00812162",
   "metadata": {},
   "outputs": [],
   "source": [
    "Asn10. PIP is a recursive acronym for “Preferred Installer Program” or PIP Installs Packages .pip is geranlly used to install a package in python .  "
   ]
  },
  {
   "cell_type": "code",
   "execution_count": null,
   "id": "55940015-5566-4398-ac16-e8e43b4ffcc9",
   "metadata": {},
   "outputs": [],
   "source": [
    "Q11. Mention a few built in function in python ."
   ]
  },
  {
   "cell_type": "code",
   "execution_count": null,
   "id": "e0f71fbc-ba4c-4c6b-bbb5-a666c0c09cb7",
   "metadata": {},
   "outputs": [],
   "source": [
    "Ans11. There are many pre-defined(built-in) functions are :\n",
    "       Function                      Description \n",
    "        \n",
    "  1    ascii()                       Returns a readable version of an object. Replaces none-ascii characters with escape character\n",
    "  2    bool()                        Return the boolean value .\n",
    "  3    chr()                         Returns a character from the specified Unicode code.\n",
    "  4    type()                        Return the type of object (list , variables )etc \n",
    "  5   input()                        which takes input .\n",
    "  6   len()                          Returns the length of an object\n",
    "  7   list()                         Return list ...\n",
    "\n",
    "like the above functions there are so many functions in python "
   ]
  },
  {
   "cell_type": "markdown",
   "id": "ff813940-87bd-4a80-adba-0fd2fdcab57a",
   "metadata": {},
   "source": [
    "Q12. What is Maximum possible length of identifier in python  ?\n"
   ]
  },
  {
   "cell_type": "markdown",
   "id": "8c2e5631-cc5e-48ef-a7bc-b757ce1af05d",
   "metadata": {},
   "source": [
    "Ans12. Maximum possible length of identifier in python is 79 ."
   ]
  },
  {
   "cell_type": "code",
   "execution_count": null,
   "id": "064ca0f9-1d17-40f0-b1bb-b4089769cddb",
   "metadata": {},
   "outputs": [],
   "source": [
    "Q13. What are the benifits of using Python ?"
   ]
  },
  {
   "cell_type": "code",
   "execution_count": null,
   "id": "d9b7ea5f-19e8-4ce6-b52a-edbc65a360c9",
   "metadata": {},
   "outputs": [],
   "source": [
    "Ans13.  There are so many benifits to learn python :\n",
    "    1. used in Data Science.\n",
    "    2  used in Web Developemnt .\n",
    "    3  Used in AI as well as Machine learning .\n",
    "    4  Used in   Computer graphics   \n",
    "    5 Scienctifc as well as Mathematical Computations \n",
    "    6 etc .\n",
    "    Like the  above points there so many reasons to learn python in today era ."
   ]
  },
  {
   "cell_type": "code",
   "execution_count": null,
   "id": "cb1eb430-6ebb-4ee6-bf13-80853fca270f",
   "metadata": {},
   "outputs": [],
   "source": [
    "Q14. How is Memory Managed in python ?"
   ]
  },
  {
   "cell_type": "code",
   "execution_count": null,
   "id": "1448f14b-85be-47e9-99dc-a1cd8a00e067",
   "metadata": {},
   "outputs": [],
   "source": [
    "Ans14.  In Python, memory management is done automatically by the Python memory manager through a process called reference counting, and is also facilitated by a cycle-detecting garbage collector that periodically frees memory occupied by objects that are no longer in use. Additionally, Python has built-in support for dynamic allocation of memory using data structures such as lists, dictionaries, and sets.\n",
    "    1 using the  \" reference counting \"\n",
    "    2 using the  \"garbage collector \"\n",
    "    \n",
    "There are two typef of memory allocation in python --:\n",
    "    1. Static Memory Allocation \n",
    "    2  Dynamic Memory Allocation \n",
    "    \n",
    "    "
   ]
  },
  {
   "cell_type": "code",
   "execution_count": null,
   "id": "6ff58147-0f20-436c-a24a-7296d39fd96b",
   "metadata": {},
   "outputs": [],
   "source": [
    "Q15.  How to install python on windows and set path variables ?\n"
   ]
  },
  {
   "cell_type": "markdown",
   "id": "a5f6f658-2266-444e-8bc1-0a74eccc8f18",
   "metadata": {},
   "source": [
    "Ans15.   Here is a step-by-step guide to install Python on Windows and set the path variables:\n",
    "\n",
    "\n",
    "     1 Download the latest version of Python from the official   website: https://www.python.org/downloads/\n",
    "    2 Run the installation file and follow the instructions to complete the installation process.\n",
    "    3 Open the Start menu and search for \"Environment Variables\". Click on \"Edit the system environment variables\".\n",
    "    4 In the System Properties window, click on the \"Environment Variables\" button.\n",
    "    5 Under System Variables, scroll down and find the \"Path\" variable, then click on \"Edit\".\n",
    "    6 Click on \"New\" and add the path to the Python installation directory, typically \"C:\\PythonXX\", where XX is the version number.\n",
    "    7 Click \"OK\" to save the changes and close all windows.\n",
    "    8 Restart your computer to ensure the changes take effect.\n",
    "    \n",
    "  Now, you should be able to run Python from the command line by typing \"python\" or \"python3\". To check if the installation was successful, open a Command Prompt window and type \"python\" or \"python3\". The Python REPL should start and you can start executing Python commands."
   ]
  },
  {
   "cell_type": "code",
   "execution_count": null,
   "id": "991d14ad-9b92-4226-8de8-9f18625d3bdc",
   "metadata": {},
   "outputs": [],
   "source": [
    "Q16. is indentation required in python ?"
   ]
  },
  {
   "cell_type": "code",
   "execution_count": null,
   "id": "e338eaf5-0e0b-4da2-b60f-24dec9323333",
   "metadata": {},
   "outputs": [],
   "source": [
    "Ans16. Yes, indentation is required in Python. \n",
    "  \n",
    "For Example : \n",
    "for i in range(10):\n",
    "    \n",
    "    print(i)\n",
    "    if i == 5:\n",
    "        \n",
    "        break\n",
    "else:\n",
    "    print(\"The loop completed without interruption\")\n",
    "    \n",
    "Explanations --:\n",
    "    \n",
    "    In this example, the code inside the for loop is indented by 4 spaces. \n",
    "    The if statement and the print statement inside the for loop are also indented by 4 spaces, indicating that they are part of the same code block. \n",
    "    The else clause is also indented to indicate that it is part of the for loop.\n",
    "    Proper indentation makes the code more readable and helps to avoid syntax errors.\n"
   ]
  }
 ],
 "metadata": {
  "kernelspec": {
   "display_name": "Python 3 (ipykernel)",
   "language": "python",
   "name": "python3"
  },
  "language_info": {
   "codemirror_mode": {
    "name": "ipython",
    "version": 3
   },
   "file_extension": ".py",
   "mimetype": "text/x-python",
   "name": "python",
   "nbconvert_exporter": "python",
   "pygments_lexer": "ipython3",
   "version": "3.10.8"
  }
 },
 "nbformat": 4,
 "nbformat_minor": 5
}
